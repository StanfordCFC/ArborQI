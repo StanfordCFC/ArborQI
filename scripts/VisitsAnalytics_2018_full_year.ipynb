{
 "cells": [
  {
   "cell_type": "markdown",
   "metadata": {},
   "source": [
    "# Playing with the visits table "
   ]
  },
  {
   "cell_type": "markdown",
   "metadata": {},
   "source": [
    "### Alex Lu | Full Year 2018  \n",
    "---\n",
    "\n",
    "December 17, 2018"
   ]
  },
  {
   "cell_type": "markdown",
   "metadata": {},
   "source": [
    "**OBJECTIVE**\n",
    "\n",
    "---\n",
    "\n",
    "I have been tasked with getting distributions of age, sex, for Arbor and PFC patients over the last year. This notebook examines the age and sex distributions from a visits paradigm (and not a unique'd patients paradigm). "
   ]
  },
  {
   "cell_type": "markdown",
   "metadata": {},
   "source": [
    "First, let's import all of the stuff that we'll need"
   ]
  },
  {
   "cell_type": "code",
   "execution_count": 4,
   "metadata": {},
   "outputs": [],
   "source": [
    "import numpy as np\n",
    "import pandas as pd\n",
    "import matplotlib.pyplot as plt\n",
    "import csv\n",
    "import seaborn as sns\n",
    "from utils.indicator import *\n",
    "from utils.file_ops import *\n",
    "from datetime import datetime\n",
    "%matplotlib inline"
   ]
  },
  {
   "cell_type": "markdown",
   "metadata": {},
   "source": [
    "We want to filter on the time of visit for longitudinal visualization. First, we should do a conversion on the format of the time string to make it more workable. Then, we're going to make this new 'ts' column the index, and drop the string form VisitDate series. "
   ]
  },
  {
   "cell_type": "code",
   "execution_count": 5,
   "metadata": {},
   "outputs": [],
   "source": [
    "def time_filter(t1, t2, df):\n",
    "    # accepts numerical tuples of form (year, mon, day)\n",
    "    bound1 = datetime(*t1)\n",
    "    bound2 = datetime(*t2)\n",
    "    print datetime(*t1), datetime(*t2)\n",
    "    return df[bound1:bound2]"
   ]
  },
  {
   "cell_type": "code",
   "execution_count": 6,
   "metadata": {
    "scrolled": true
   },
   "outputs": [
    {
     "data": {
      "text/plain": [
       "count    858.000000\n",
       "mean       2.604895\n",
       "std        1.919944\n",
       "min        1.000000\n",
       "25%        1.000000\n",
       "50%        2.000000\n",
       "75%        3.000000\n",
       "max       20.000000\n",
       "dtype: float64"
      ]
     },
     "execution_count": 6,
     "metadata": {},
     "output_type": "execute_result"
    }
   ],
   "source": [
    "path_visits = \"visits_data/both_clinics_2018_full_year.csv\"\n",
    "df_visits = pd.read_csv(path_visits, error_bad_lines=False, header=0)\n",
    "df_visits.groupby(df_visits['PatientNumber']).size().describe()"
   ]
  },
  {
   "cell_type": "code",
   "execution_count": 7,
   "metadata": {},
   "outputs": [
    {
     "data": {
      "text/plain": [
       "count         2235\n",
       "unique         858\n",
       "top       N0067052\n",
       "freq            20\n",
       "Name: PatientNumber, dtype: object"
      ]
     },
     "execution_count": 7,
     "metadata": {},
     "output_type": "execute_result"
    }
   ],
   "source": [
    "df_visits['PatientNumber'].describe()"
   ]
  },
  {
   "cell_type": "code",
   "execution_count": 8,
   "metadata": {},
   "outputs": [
    {
     "name": "stdout",
     "output_type": "stream",
     "text": [
      "        Age(Year)\n",
      "count  499.000000\n",
      "mean    48.721443\n",
      "std     17.161662\n",
      "min     18.000000\n",
      "25%     33.000000\n",
      "50%     50.000000\n",
      "75%     64.000000\n",
      "max     83.000000\n",
      "        Age(Year)\n",
      "count  343.000000\n",
      "mean    49.976676\n",
      "std     17.631860\n",
      "min      4.000000\n",
      "25%     34.000000\n",
      "50%     54.000000\n",
      "75%     63.000000\n",
      "max     89.000000\n"
     ]
    }
   ],
   "source": [
    "df_visits['VisitDateTimeTS'] = pd.to_datetime((df_visits['VisitDateTime']))\n",
    "df_visits['DateFirstKnownTS'] = pd.to_datetime((df_visits['DateFirstKnown']))\n",
    "df_visits.index = df_visits['VisitDateTimeTS']\n",
    "#df_visits = df_visits.iloc[::-1]\n",
    "del df_visits['DateFirstKnown']\n",
    "del df_visits['VisitDateTime']\n",
    "\n",
    "df_visits = df_visits[df_visits['LocationAbbreviation'] != 'TEST']\n",
    "arbor_general_visits = df_visits[df_visits['VisitType'] == 'ARBOR GENERAL VISIT']\n",
    "pfc_general_visits = df_visits[df_visits['VisitType'] == 'PFC NEW PATIENT VISIT']\n",
    "\n",
    "print arbor_general_visits.describe()\n",
    "print pfc_general_visits.describe()"
   ]
  },
  {
   "cell_type": "code",
   "execution_count": 9,
   "metadata": {},
   "outputs": [
    {
     "data": {
      "text/html": [
       "<div>\n",
       "<style scoped>\n",
       "    .dataframe tbody tr th:only-of-type {\n",
       "        vertical-align: middle;\n",
       "    }\n",
       "\n",
       "    .dataframe tbody tr th {\n",
       "        vertical-align: top;\n",
       "    }\n",
       "\n",
       "    .dataframe thead th {\n",
       "        text-align: right;\n",
       "    }\n",
       "</style>\n",
       "<table border=\"1\" class=\"dataframe\">\n",
       "  <thead>\n",
       "    <tr style=\"text-align: right;\">\n",
       "      <th></th>\n",
       "      <th>LocationAbbreviation</th>\n",
       "      <th>PatientNumber</th>\n",
       "      <th>Age(Year)</th>\n",
       "      <th>VisitType</th>\n",
       "      <th>Sex</th>\n",
       "      <th>VisitDateTimeTS</th>\n",
       "      <th>DateFirstKnownTS</th>\n",
       "    </tr>\n",
       "    <tr>\n",
       "      <th>VisitDateTimeTS</th>\n",
       "      <th></th>\n",
       "      <th></th>\n",
       "      <th></th>\n",
       "      <th></th>\n",
       "      <th></th>\n",
       "      <th></th>\n",
       "      <th></th>\n",
       "    </tr>\n",
       "  </thead>\n",
       "  <tbody>\n",
       "    <tr>\n",
       "      <th>2018-01-21 09:15:00</th>\n",
       "      <td>AFC</td>\n",
       "      <td>N0064750</td>\n",
       "      <td>66</td>\n",
       "      <td>ARBOR GENERAL VISIT</td>\n",
       "      <td>F</td>\n",
       "      <td>2018-01-21 09:15:00</td>\n",
       "      <td>2018-01-21 09:00:45</td>\n",
       "    </tr>\n",
       "    <tr>\n",
       "      <th>2018-01-21 09:30:00</th>\n",
       "      <td>AFC</td>\n",
       "      <td>N0058384</td>\n",
       "      <td>52</td>\n",
       "      <td>ARBOR GENERAL VISIT</td>\n",
       "      <td>M</td>\n",
       "      <td>2018-01-21 09:30:00</td>\n",
       "      <td>2016-11-06 09:14:12</td>\n",
       "    </tr>\n",
       "    <tr>\n",
       "      <th>2018-01-21 10:00:00</th>\n",
       "      <td>AFC</td>\n",
       "      <td>N0064743</td>\n",
       "      <td>19</td>\n",
       "      <td>ARBOR GENERAL VISIT</td>\n",
       "      <td>F</td>\n",
       "      <td>2018-01-21 10:00:00</td>\n",
       "      <td>2018-01-21 08:59:30</td>\n",
       "    </tr>\n",
       "    <tr>\n",
       "      <th>2018-01-21 10:30:00</th>\n",
       "      <td>AFC</td>\n",
       "      <td>N0014256</td>\n",
       "      <td>67</td>\n",
       "      <td>ARBOR GENERAL VISIT</td>\n",
       "      <td>F</td>\n",
       "      <td>2018-01-21 10:30:00</td>\n",
       "      <td>2012-05-27 09:42:32</td>\n",
       "    </tr>\n",
       "    <tr>\n",
       "      <th>2018-01-21 10:45:00</th>\n",
       "      <td>AFC</td>\n",
       "      <td>N0064775</td>\n",
       "      <td>64</td>\n",
       "      <td>ARBOR GENERAL VISIT</td>\n",
       "      <td>F</td>\n",
       "      <td>2018-01-21 10:45:00</td>\n",
       "      <td>2018-01-21 09:25:35</td>\n",
       "    </tr>\n",
       "  </tbody>\n",
       "</table>\n",
       "</div>"
      ],
      "text/plain": [
       "                    LocationAbbreviation PatientNumber  Age(Year)  \\\n",
       "VisitDateTimeTS                                                     \n",
       "2018-01-21 09:15:00                  AFC      N0064750         66   \n",
       "2018-01-21 09:30:00                  AFC      N0058384         52   \n",
       "2018-01-21 10:00:00                  AFC      N0064743         19   \n",
       "2018-01-21 10:30:00                  AFC      N0014256         67   \n",
       "2018-01-21 10:45:00                  AFC      N0064775         64   \n",
       "\n",
       "                               VisitType Sex     VisitDateTimeTS  \\\n",
       "VisitDateTimeTS                                                    \n",
       "2018-01-21 09:15:00  ARBOR GENERAL VISIT   F 2018-01-21 09:15:00   \n",
       "2018-01-21 09:30:00  ARBOR GENERAL VISIT   M 2018-01-21 09:30:00   \n",
       "2018-01-21 10:00:00  ARBOR GENERAL VISIT   F 2018-01-21 10:00:00   \n",
       "2018-01-21 10:30:00  ARBOR GENERAL VISIT   F 2018-01-21 10:30:00   \n",
       "2018-01-21 10:45:00  ARBOR GENERAL VISIT   F 2018-01-21 10:45:00   \n",
       "\n",
       "                       DateFirstKnownTS  \n",
       "VisitDateTimeTS                          \n",
       "2018-01-21 09:15:00 2018-01-21 09:00:45  \n",
       "2018-01-21 09:30:00 2016-11-06 09:14:12  \n",
       "2018-01-21 10:00:00 2018-01-21 08:59:30  \n",
       "2018-01-21 10:30:00 2012-05-27 09:42:32  \n",
       "2018-01-21 10:45:00 2018-01-21 09:25:35  "
      ]
     },
     "execution_count": 9,
     "metadata": {},
     "output_type": "execute_result"
    }
   ],
   "source": [
    "arbor_general_visits.head(5)"
   ]
  },
  {
   "cell_type": "markdown",
   "metadata": {},
   "source": [
    "Let's take a look and make sure we're looking at the right stuff"
   ]
  },
  {
   "cell_type": "code",
   "execution_count": 10,
   "metadata": {},
   "outputs": [],
   "source": [
    "def temporal_distribution(df, ts_name = 'ts'):\n",
    "    '''\n",
    "\n",
    "    '''\n",
    "    time_gb = df.groupby(df[ts_name].dt.month)\n",
    "    plt.figure()\n",
    "    time_gb.plot()\n",
    "    plt.show()\n"
   ]
  },
  {
   "cell_type": "code",
   "execution_count": 11,
   "metadata": {},
   "outputs": [
    {
     "data": {
      "text/plain": [
       "F    0.460922\n",
       "M    0.408818\n",
       "U    0.130261\n",
       "Name: Sex, dtype: float64"
      ]
     },
     "execution_count": 11,
     "metadata": {},
     "output_type": "execute_result"
    }
   ],
   "source": [
    "arbor_general_visits['Sex'].value_counts(normalize=True)"
   ]
  },
  {
   "cell_type": "code",
   "execution_count": 12,
   "metadata": {},
   "outputs": [
    {
     "data": {
      "text/plain": [
       "F    0.548105\n",
       "M    0.393586\n",
       "U    0.058309\n",
       "Name: Sex, dtype: float64"
      ]
     },
     "execution_count": 12,
     "metadata": {},
     "output_type": "execute_result"
    }
   ],
   "source": [
    "pfc_general_visits['Sex'].value_counts(normalize=True)"
   ]
  },
  {
   "cell_type": "code",
   "execution_count": 13,
   "metadata": {},
   "outputs": [
    {
     "data": {
      "text/plain": [
       "(63.5, 70.0]                  78\n",
       "(57.0, 63.5]                  65\n",
       "(24.5, 31.0]                  61\n",
       "(50.5, 57.0]                  54\n",
       "(37.5, 44.0]                  53\n",
       "(17.933999999999997, 24.5]    52\n",
       "(44.0, 50.5]                  47\n",
       "(31.0, 37.5]                  41\n",
       "(70.0, 76.5]                  38\n",
       "(76.5, 83.0]                  10\n",
       "Name: Age(Year), dtype: int64"
      ]
     },
     "execution_count": 13,
     "metadata": {},
     "output_type": "execute_result"
    }
   ],
   "source": [
    "arbor_general_visits['Age(Year)'].value_counts(bins=10)"
   ]
  },
  {
   "cell_type": "code",
   "execution_count": 14,
   "metadata": {},
   "outputs": [
    {
     "data": {
      "text/plain": [
       "(55.0, 63.5]     69\n",
       "(46.5, 55.0]     58\n",
       "(21.0, 29.5]     58\n",
       "(63.5, 72.0]     52\n",
       "(29.5, 38.0]     39\n",
       "(38.0, 46.5]     25\n",
       "(72.0, 80.5]     23\n",
       "(12.5, 21.0]      9\n",
       "(80.5, 89.0]      8\n",
       "(3.914, 12.5]     2\n",
       "Name: Age(Year), dtype: int64"
      ]
     },
     "execution_count": 14,
     "metadata": {},
     "output_type": "execute_result"
    }
   ],
   "source": [
    "pfc_general_visits['Age(Year)'].value_counts(bins=10)"
   ]
  },
  {
   "cell_type": "code",
   "execution_count": 15,
   "metadata": {},
   "outputs": [
    {
     "data": {
      "text/html": [
       "<div>\n",
       "<style scoped>\n",
       "    .dataframe tbody tr th:only-of-type {\n",
       "        vertical-align: middle;\n",
       "    }\n",
       "\n",
       "    .dataframe tbody tr th {\n",
       "        vertical-align: top;\n",
       "    }\n",
       "\n",
       "    .dataframe thead th {\n",
       "        text-align: right;\n",
       "    }\n",
       "</style>\n",
       "<table border=\"1\" class=\"dataframe\">\n",
       "  <thead>\n",
       "    <tr style=\"text-align: right;\">\n",
       "      <th></th>\n",
       "      <th>LocationAbbreviation</th>\n",
       "      <th>PatientNumber</th>\n",
       "      <th>Age(Year)</th>\n",
       "      <th>VisitType</th>\n",
       "      <th>Sex</th>\n",
       "      <th>VisitDateTimeTS</th>\n",
       "      <th>DateFirstKnownTS</th>\n",
       "    </tr>\n",
       "    <tr>\n",
       "      <th>VisitDateTimeTS</th>\n",
       "      <th></th>\n",
       "      <th></th>\n",
       "      <th></th>\n",
       "      <th></th>\n",
       "      <th></th>\n",
       "      <th></th>\n",
       "      <th></th>\n",
       "    </tr>\n",
       "  </thead>\n",
       "  <tbody>\n",
       "    <tr>\n",
       "      <th>2018-05-23 09:30:00</th>\n",
       "      <td>PFC</td>\n",
       "      <td>N0039583</td>\n",
       "      <td>4</td>\n",
       "      <td>PFC NEW PATIENT VISIT</td>\n",
       "      <td>U</td>\n",
       "      <td>2018-05-23 09:30:00</td>\n",
       "      <td>2014-06-29 11:51:57</td>\n",
       "    </tr>\n",
       "    <tr>\n",
       "      <th>2018-07-05 10:00:00</th>\n",
       "      <td>PFC</td>\n",
       "      <td>N0041335</td>\n",
       "      <td>4</td>\n",
       "      <td>PFC NEW PATIENT VISIT</td>\n",
       "      <td>F</td>\n",
       "      <td>2018-07-05 10:00:00</td>\n",
       "      <td>2014-08-24 19:51:32</td>\n",
       "    </tr>\n",
       "  </tbody>\n",
       "</table>\n",
       "</div>"
      ],
      "text/plain": [
       "                    LocationAbbreviation PatientNumber  Age(Year)  \\\n",
       "VisitDateTimeTS                                                     \n",
       "2018-05-23 09:30:00                  PFC      N0039583          4   \n",
       "2018-07-05 10:00:00                  PFC      N0041335          4   \n",
       "\n",
       "                                 VisitType Sex     VisitDateTimeTS  \\\n",
       "VisitDateTimeTS                                                      \n",
       "2018-05-23 09:30:00  PFC NEW PATIENT VISIT   U 2018-05-23 09:30:00   \n",
       "2018-07-05 10:00:00  PFC NEW PATIENT VISIT   F 2018-07-05 10:00:00   \n",
       "\n",
       "                       DateFirstKnownTS  \n",
       "VisitDateTimeTS                          \n",
       "2018-05-23 09:30:00 2014-06-29 11:51:57  \n",
       "2018-07-05 10:00:00 2014-08-24 19:51:32  "
      ]
     },
     "execution_count": 15,
     "metadata": {},
     "output_type": "execute_result"
    }
   ],
   "source": [
    "pfc_general_visits[pfc_general_visits['Age(Year)'] < 18]"
   ]
  },
  {
   "cell_type": "code",
   "execution_count": 16,
   "metadata": {},
   "outputs": [],
   "source": [
    "arbor_visits_clean = arbor_general_visits[arbor_general_visits['Age(Year)'] > 18]\n",
    "pfc_visits_clean = pfc_general_visits[pfc_general_visits['Age(Year)'] > 18]"
   ]
  },
  {
   "cell_type": "code",
   "execution_count": 17,
   "metadata": {},
   "outputs": [
    {
     "data": {
      "text/plain": [
       "F    229\n",
       "M    203\n",
       "U     65\n",
       "Name: Sex, dtype: int64"
      ]
     },
     "execution_count": 17,
     "metadata": {},
     "output_type": "execute_result"
    }
   ],
   "source": [
    "arbor_visits_clean['Sex'].value_counts()"
   ]
  },
  {
   "cell_type": "code",
   "execution_count": 18,
   "metadata": {},
   "outputs": [
    {
     "data": {
      "text/plain": [
       "F    187\n",
       "M    134\n",
       "U     19\n",
       "Name: Sex, dtype: int64"
      ]
     },
     "execution_count": 18,
     "metadata": {},
     "output_type": "execute_result"
    }
   ],
   "source": [
    "pfc_visits_clean['Sex'].value_counts()"
   ]
  },
  {
   "cell_type": "code",
   "execution_count": 19,
   "metadata": {},
   "outputs": [
    {
     "data": {
      "text/plain": [
       "(18.935, 25.4]    61\n",
       "(25.4, 31.8]      50\n",
       "(31.8, 38.2]      48\n",
       "(38.2, 44.6]      46\n",
       "(44.6, 51.0]      57\n",
       "(51.0, 57.4]      44\n",
       "(57.4, 63.8]      65\n",
       "(63.8, 70.2]      78\n",
       "(70.2, 76.6]      38\n",
       "(76.6, 83.0]      10\n",
       "Name: Age(Year), dtype: int64"
      ]
     },
     "execution_count": 19,
     "metadata": {},
     "output_type": "execute_result"
    }
   ],
   "source": [
    "arbor_visits_clean['Age(Year)'].value_counts(sort=False,bins=10)"
   ]
  },
  {
   "cell_type": "code",
   "execution_count": 20,
   "metadata": {},
   "outputs": [
    {
     "data": {
      "text/plain": [
       "<matplotlib.axes._subplots.AxesSubplot at 0x1a22458890>"
      ]
     },
     "execution_count": 20,
     "metadata": {},
     "output_type": "execute_result"
    },
    {
     "data": {
      "image/png": "[encoded data removed]",
      "text/plain": [
       "<Figure size 432x288 with 1 Axes>"
      ]
     },
     "metadata": {},
     "output_type": "display_data"
    }
   ],
   "source": [
    "arbor_visits_clean['Age(Year)'].value_counts(sort=False,bins=10).plot(kind='bar', title='Arbor Patient Age')"
   ]
  },
  {
   "cell_type": "code",
   "execution_count": 21,
   "metadata": {},
   "outputs": [
    {
     "data": {
      "text/plain": [
       "(18.929, 26.0]    46\n",
       "(26.0, 33.0]      35\n",
       "(33.0, 40.0]      29\n",
       "(40.0, 47.0]      27\n",
       "(47.0, 54.0]      42\n",
       "(54.0, 61.0]      52\n",
       "(61.0, 68.0]      65\n",
       "(68.0, 75.0]      25\n",
       "(75.0, 82.0]      12\n",
       "(82.0, 89.0]       7\n",
       "Name: Age(Year), dtype: int64"
      ]
     },
     "execution_count": 21,
     "metadata": {},
     "output_type": "execute_result"
    }
   ],
   "source": [
    "pfc_visits_clean['Age(Year)'].value_counts(sort=False,bins=10)"
   ]
  },
  {
   "cell_type": "code",
   "execution_count": 22,
   "metadata": {},
   "outputs": [
    {
     "data": {
      "text/plain": [
       "<matplotlib.axes._subplots.AxesSubplot at 0x1a22793690>"
      ]
     },
     "execution_count": 22,
     "metadata": {},
     "output_type": "execute_result"
    },
    {
     "data": {
      "image/png": "[encoded data removed]",
      "text/plain": [
       "<Figure size 432x288 with 1 Axes>"
      ]
     },
     "metadata": {},
     "output_type": "display_data"
    }
   ],
   "source": [
    "pfc_visits_clean['Age(Year)'].value_counts(sort=False,bins=10).plot(kind='bar', title='PFC Patient Age')"
   ]
  },
  {
   "cell_type": "code",
   "execution_count": 23,
   "metadata": {},
   "outputs": [
    {
     "data": {
      "text/plain": [
       "count    497.000000\n",
       "mean      48.845070\n",
       "std       17.084767\n",
       "min       19.000000\n",
       "25%       33.000000\n",
       "50%       50.000000\n",
       "75%       64.000000\n",
       "max       83.000000\n",
       "Name: Age(Year), dtype: float64"
      ]
     },
     "execution_count": 23,
     "metadata": {},
     "output_type": "execute_result"
    }
   ],
   "source": [
    "arbor_visits_clean['Age(Year)'].describe()"
   ]
  },
  {
   "cell_type": "code",
   "execution_count": 24,
   "metadata": {},
   "outputs": [
    {
     "data": {
      "text/plain": [
       "count    340.000000\n",
       "mean      50.341176\n",
       "std       17.263054\n",
       "min       19.000000\n",
       "25%       34.750000\n",
       "50%       54.000000\n",
       "75%       63.000000\n",
       "max       89.000000\n",
       "Name: Age(Year), dtype: float64"
      ]
     },
     "execution_count": 24,
     "metadata": {},
     "output_type": "execute_result"
    }
   ],
   "source": [
    "pfc_visits_clean['Age(Year)'].describe()"
   ]
  },
  {
   "cell_type": "code",
   "execution_count": 25,
   "metadata": {},
   "outputs": [
    {
     "data": {
      "text/plain": [
       "count          497\n",
       "unique         422\n",
       "top       N0059372\n",
       "freq             5\n",
       "Name: PatientNumber, dtype: object"
      ]
     },
     "execution_count": 25,
     "metadata": {},
     "output_type": "execute_result"
    }
   ],
   "source": [
    "arbor_visits_clean['PatientNumber'].describe()"
   ]
  },
  {
   "cell_type": "code",
   "execution_count": 26,
   "metadata": {},
   "outputs": [
    {
     "data": {
      "text/plain": [
       "count          340\n",
       "unique         332\n",
       "top       N0071136\n",
       "freq             2\n",
       "Name: PatientNumber, dtype: object"
      ]
     },
     "execution_count": 26,
     "metadata": {},
     "output_type": "execute_result"
    }
   ],
   "source": [
    "pfc_visits_clean['PatientNumber'].describe()"
   ]
  },
  {
   "cell_type": "code",
   "execution_count": 27,
   "metadata": {},
   "outputs": [
    {
     "data": {
      "text/plain": [
       "count    422.000000\n",
       "mean       1.177725\n",
       "std        0.500998\n",
       "min        1.000000\n",
       "25%        1.000000\n",
       "50%        1.000000\n",
       "75%        1.000000\n",
       "max        5.000000\n",
       "dtype: float64"
      ]
     },
     "execution_count": 27,
     "metadata": {},
     "output_type": "execute_result"
    }
   ],
   "source": [
    "arbor_visits_clean.groupby(arbor_visits_clean['PatientNumber']).size().describe()"
   ]
  },
  {
   "cell_type": "code",
   "execution_count": 28,
   "metadata": {},
   "outputs": [
    {
     "data": {
      "text/plain": [
       "count    332.000000\n",
       "mean       1.024096\n",
       "std        0.153580\n",
       "min        1.000000\n",
       "25%        1.000000\n",
       "50%        1.000000\n",
       "75%        1.000000\n",
       "max        2.000000\n",
       "dtype: float64"
      ]
     },
     "execution_count": 28,
     "metadata": {},
     "output_type": "execute_result"
    }
   ],
   "source": [
    "pfc_visits_clean.groupby(pfc_visits_clean['PatientNumber']).size().describe()"
   ]
  },
  {
   "cell_type": "code",
   "execution_count": 29,
   "metadata": {},
   "outputs": [],
   "source": [
    "def get_grouped_data(df, column, group_keys=None, summed=True):\n",
    "    grouped = df.groupby(df[column])\n",
    "    visits_per_group = [] if group_keys is None else np.zeros(len(group_keys))\n",
    "    if group_keys is not None:\n",
    "        for c, group in enumerate(group_keys):\n",
    "            if group in grouped.groups:\n",
    "                visits_per_group[c] = len(grouped.groups[group])\n",
    "    else:\n",
    "        for group in grouped.groups:\n",
    "            visits_per_group.append(len(grouped.groups[group]))\n",
    "        \n",
    "    if summed:\n",
    "        return np.sum(visits_per_group)\n",
    "    else:\n",
    "        return visits_per_group"
   ]
  },
  {
   "cell_type": "code",
   "execution_count": 30,
   "metadata": {},
   "outputs": [],
   "source": [
    "def visits_periodic(df, period='mom', group_keys=None):\n",
    "    \n",
    "    periodic_visits = []\n",
    "    time_points = []\n",
    "    spec_usage_mom = []\n",
    "    \n",
    "    if period == 'mom':\n",
    "        months = [val for val in range(7, 13)]\n",
    "        years = [2018]\n",
    "        for year in years:\n",
    "            for begin_month in months:\n",
    "                tp1 = (year, begin_month, 1)\n",
    "                tp2 = ()\n",
    "                if begin_month == 12:\n",
    "                    tp2 = (year+1, 1, 1)\n",
    "                else:\n",
    "                    tp2 = (year, begin_month+1, 1)\n",
    "                    \n",
    "                print tp1, tp2\n",
    "                filtered = time_filter(tp1,tp2, df)\n",
    "                \n",
    "                if filtered.values.shape[0] == 0:\n",
    "                    continue\n",
    "                else:\n",
    "                    periodic_visits.append(get_grouped_data(filtered, 'PatientNumber'))\n",
    "                    spec_usage_mom.append(get_grouped_data(filtered, 'VisitType', group_keys = group_keys, summed=False))\n",
    "                    time_points.append(str(begin_month) + '/' + str(year))\n",
    "                    \n",
    "\n",
    "    return (periodic_visits, np.array(spec_usage_mom), time_points)"
   ]
  },
  {
   "cell_type": "code",
   "execution_count": 31,
   "metadata": {},
   "outputs": [
    {
     "name": "stdout",
     "output_type": "stream",
     "text": [
      "DatetimeIndex(['2018-01-21 09:15:00', '2018-01-21 09:30:00',\n",
      "               '2018-01-21 10:00:00', '2018-01-21 10:30:00',\n",
      "               '2018-01-21 10:45:00', '2018-01-21 11:00:00',\n",
      "               '2018-01-21 11:30:00', '2018-01-21 11:45:00',\n",
      "               '2018-01-21 12:00:00', '2018-01-21 12:30:00',\n",
      "               ...\n",
      "               '2018-07-08 10:30:00', '2018-07-08 10:45:00',\n",
      "               '2018-07-08 11:00:00', '2018-07-08 11:15:00',\n",
      "               '2018-07-08 11:45:00', '2018-07-08 12:00:00',\n",
      "               '2018-07-08 13:00:00', '2018-07-22 08:45:00',\n",
      "               '2018-09-09 10:00:00', '2018-09-09 12:45:00'],\n",
      "              dtype='datetime64[ns]', name=u'VisitDateTimeTS', length=497, freq=None)\n"
     ]
    }
   ],
   "source": [
    "print arbor_visits_clean.index\n"
   ]
  },
  {
   "cell_type": "code",
   "execution_count": 32,
   "metadata": {},
   "outputs": [
    {
     "name": "stdout",
     "output_type": "stream",
     "text": [
      "(2018, 7, 1) (2018, 8, 1)\n",
      "2018-07-01 00:00:00 2018-08-01 00:00:00\n"
     ]
    },
    {
     "ename": "KeyError",
     "evalue": "1530403200000000000",
     "output_type": "error",
     "traceback": [
      "\u001b[0;31m---------------------------------------------------------------------------\u001b[0m",
      "\u001b[0;31mKeyError\u001b[0m                                  Traceback (most recent call last)",
      "\u001b[0;32m<ipython-input-32-bd5469b04464>\u001b[0m in \u001b[0;36m<module>\u001b[0;34m()\u001b[0m\n\u001b[1;32m     14\u001b[0m \u001b[0;34m\u001b[0m\u001b[0m\n\u001b[1;32m     15\u001b[0m periodic_visits, spec_usage_mom, time_points = visits_periodic(arbor_visits_clean, \n\u001b[0;32m---> 16\u001b[0;31m                                                                group_keys=arbor_spec_clinics)\n\u001b[0m\u001b[1;32m     17\u001b[0m \u001b[0;32mprint\u001b[0m \u001b[0mnp\u001b[0m\u001b[0;34m.\u001b[0m\u001b[0msum\u001b[0m\u001b[0;34m(\u001b[0m\u001b[0mperiodic_visits\u001b[0m\u001b[0;34m)\u001b[0m\u001b[0;34m\u001b[0m\u001b[0m\n\u001b[1;32m     18\u001b[0m \u001b[0;32mprint\u001b[0m \u001b[0mspec_usage_mom\u001b[0m\u001b[0;34m\u001b[0m\u001b[0m\n",
      "\u001b[0;32m<ipython-input-30-64140d11913c>\u001b[0m in \u001b[0;36mvisits_periodic\u001b[0;34m(df, period, group_keys)\u001b[0m\n\u001b[1;32m     18\u001b[0m \u001b[0;34m\u001b[0m\u001b[0m\n\u001b[1;32m     19\u001b[0m                 \u001b[0;32mprint\u001b[0m \u001b[0mtp1\u001b[0m\u001b[0;34m,\u001b[0m \u001b[0mtp2\u001b[0m\u001b[0;34m\u001b[0m\u001b[0m\n\u001b[0;32m---> 20\u001b[0;31m                 \u001b[0mfiltered\u001b[0m \u001b[0;34m=\u001b[0m \u001b[0mtime_filter\u001b[0m\u001b[0;34m(\u001b[0m\u001b[0mtp1\u001b[0m\u001b[0;34m,\u001b[0m\u001b[0mtp2\u001b[0m\u001b[0;34m,\u001b[0m \u001b[0mdf\u001b[0m\u001b[0;34m)\u001b[0m\u001b[0;34m\u001b[0m\u001b[0m\n\u001b[0m\u001b[1;32m     21\u001b[0m \u001b[0;34m\u001b[0m\u001b[0m\n\u001b[1;32m     22\u001b[0m                 \u001b[0;32mif\u001b[0m \u001b[0mfiltered\u001b[0m\u001b[0;34m.\u001b[0m\u001b[0mvalues\u001b[0m\u001b[0;34m.\u001b[0m\u001b[0mshape\u001b[0m\u001b[0;34m[\u001b[0m\u001b[0;36m0\u001b[0m\u001b[0;34m]\u001b[0m \u001b[0;34m==\u001b[0m \u001b[0;36m0\u001b[0m\u001b[0;34m:\u001b[0m\u001b[0;34m\u001b[0m\u001b[0m\n",
      "\u001b[0;32m<ipython-input-5-977203b7d2d6>\u001b[0m in \u001b[0;36mtime_filter\u001b[0;34m(t1, t2, df)\u001b[0m\n\u001b[1;32m      4\u001b[0m     \u001b[0mbound2\u001b[0m \u001b[0;34m=\u001b[0m \u001b[0mdatetime\u001b[0m\u001b[0;34m(\u001b[0m\u001b[0;34m*\u001b[0m\u001b[0mt2\u001b[0m\u001b[0;34m)\u001b[0m\u001b[0;34m\u001b[0m\u001b[0m\n\u001b[1;32m      5\u001b[0m     \u001b[0;32mprint\u001b[0m \u001b[0mdatetime\u001b[0m\u001b[0;34m(\u001b[0m\u001b[0;34m*\u001b[0m\u001b[0mt1\u001b[0m\u001b[0;34m)\u001b[0m\u001b[0;34m,\u001b[0m \u001b[0mdatetime\u001b[0m\u001b[0;34m(\u001b[0m\u001b[0;34m*\u001b[0m\u001b[0mt2\u001b[0m\u001b[0;34m)\u001b[0m\u001b[0;34m\u001b[0m\u001b[0m\n\u001b[0;32m----> 6\u001b[0;31m     \u001b[0;32mreturn\u001b[0m \u001b[0mdf\u001b[0m\u001b[0;34m[\u001b[0m\u001b[0mbound1\u001b[0m\u001b[0;34m:\u001b[0m\u001b[0mbound2\u001b[0m\u001b[0;34m]\u001b[0m\u001b[0;34m\u001b[0m\u001b[0m\n\u001b[0m",
      "\u001b[0;32m/Users/alex/miniconda2/lib/python2.7/site-packages/pandas/core/frame.pyc\u001b[0m in \u001b[0;36m__getitem__\u001b[0;34m(self, key)\u001b[0m\n\u001b[1;32m   2125\u001b[0m \u001b[0;34m\u001b[0m\u001b[0m\n\u001b[1;32m   2126\u001b[0m         \u001b[0;31m# see if we can slice the rows\u001b[0m\u001b[0;34m\u001b[0m\u001b[0;34m\u001b[0m\u001b[0m\n\u001b[0;32m-> 2127\u001b[0;31m         \u001b[0mindexer\u001b[0m \u001b[0;34m=\u001b[0m \u001b[0mconvert_to_index_sliceable\u001b[0m\u001b[0;34m(\u001b[0m\u001b[0mself\u001b[0m\u001b[0;34m,\u001b[0m \u001b[0mkey\u001b[0m\u001b[0;34m)\u001b[0m\u001b[0;34m\u001b[0m\u001b[0m\n\u001b[0m\u001b[1;32m   2128\u001b[0m         \u001b[0;32mif\u001b[0m \u001b[0mindexer\u001b[0m \u001b[0;32mis\u001b[0m \u001b[0;32mnot\u001b[0m \u001b[0mNone\u001b[0m\u001b[0;34m:\u001b[0m\u001b[0;34m\u001b[0m\u001b[0m\n\u001b[1;32m   2129\u001b[0m             \u001b[0;32mreturn\u001b[0m \u001b[0mself\u001b[0m\u001b[0;34m.\u001b[0m\u001b[0m_getitem_slice\u001b[0m\u001b[0;34m(\u001b[0m\u001b[0mindexer\u001b[0m\u001b[0;34m)\u001b[0m\u001b[0;34m\u001b[0m\u001b[0m\n",
      "\u001b[0;32m/Users/alex/miniconda2/lib/python2.7/site-packages/pandas/core/indexing.pyc\u001b[0m in \u001b[0;36mconvert_to_index_sliceable\u001b[0;34m(obj, key)\u001b[0m\n\u001b[1;32m   1978\u001b[0m     \u001b[0midx\u001b[0m \u001b[0;34m=\u001b[0m \u001b[0mobj\u001b[0m\u001b[0;34m.\u001b[0m\u001b[0mindex\u001b[0m\u001b[0;34m\u001b[0m\u001b[0m\n\u001b[1;32m   1979\u001b[0m     \u001b[0;32mif\u001b[0m \u001b[0misinstance\u001b[0m\u001b[0;34m(\u001b[0m\u001b[0mkey\u001b[0m\u001b[0;34m,\u001b[0m \u001b[0mslice\u001b[0m\u001b[0;34m)\u001b[0m\u001b[0;34m:\u001b[0m\u001b[0;34m\u001b[0m\u001b[0m\n\u001b[0;32m-> 1980\u001b[0;31m         \u001b[0;32mreturn\u001b[0m \u001b[0midx\u001b[0m\u001b[0;34m.\u001b[0m\u001b[0m_convert_slice_indexer\u001b[0m\u001b[0;34m(\u001b[0m\u001b[0mkey\u001b[0m\u001b[0;34m,\u001b[0m \u001b[0mkind\u001b[0m\u001b[0;34m=\u001b[0m\u001b[0;34m'getitem'\u001b[0m\u001b[0;34m)\u001b[0m\u001b[0;34m\u001b[0m\u001b[0m\n\u001b[0m\u001b[1;32m   1981\u001b[0m \u001b[0;34m\u001b[0m\u001b[0m\n\u001b[1;32m   1982\u001b[0m     \u001b[0;32melif\u001b[0m \u001b[0misinstance\u001b[0m\u001b[0;34m(\u001b[0m\u001b[0mkey\u001b[0m\u001b[0;34m,\u001b[0m \u001b[0mcompat\u001b[0m\u001b[0;34m.\u001b[0m\u001b[0mstring_types\u001b[0m\u001b[0;34m)\u001b[0m\u001b[0;34m:\u001b[0m\u001b[0;34m\u001b[0m\u001b[0m\n",
      "\u001b[0;32m/Users/alex/miniconda2/lib/python2.7/site-packages/pandas/core/indexes/base.pyc\u001b[0m in \u001b[0;36m_convert_slice_indexer\u001b[0;34m(self, key, kind)\u001b[0m\n\u001b[1;32m   1462\u001b[0m         \u001b[0;32melse\u001b[0m\u001b[0;34m:\u001b[0m\u001b[0;34m\u001b[0m\u001b[0m\n\u001b[1;32m   1463\u001b[0m             \u001b[0;32mtry\u001b[0m\u001b[0;34m:\u001b[0m\u001b[0;34m\u001b[0m\u001b[0m\n\u001b[0;32m-> 1464\u001b[0;31m                 \u001b[0mindexer\u001b[0m \u001b[0;34m=\u001b[0m \u001b[0mself\u001b[0m\u001b[0;34m.\u001b[0m\u001b[0mslice_indexer\u001b[0m\u001b[0;34m(\u001b[0m\u001b[0mstart\u001b[0m\u001b[0;34m,\u001b[0m \u001b[0mstop\u001b[0m\u001b[0;34m,\u001b[0m \u001b[0mstep\u001b[0m\u001b[0;34m,\u001b[0m \u001b[0mkind\u001b[0m\u001b[0;34m=\u001b[0m\u001b[0mkind\u001b[0m\u001b[0;34m)\u001b[0m\u001b[0;34m\u001b[0m\u001b[0m\n\u001b[0m\u001b[1;32m   1465\u001b[0m             \u001b[0;32mexcept\u001b[0m \u001b[0mException\u001b[0m\u001b[0;34m:\u001b[0m\u001b[0;34m\u001b[0m\u001b[0m\n\u001b[1;32m   1466\u001b[0m                 \u001b[0;32mif\u001b[0m \u001b[0mis_index_slice\u001b[0m\u001b[0;34m:\u001b[0m\u001b[0;34m\u001b[0m\u001b[0m\n",
      "\u001b[0;32m/Users/alex/miniconda2/lib/python2.7/site-packages/pandas/core/indexes/datetimes.pyc\u001b[0m in \u001b[0;36mslice_indexer\u001b[0;34m(self, start, end, step, kind)\u001b[0m\n\u001b[1;32m   1526\u001b[0m \u001b[0;34m\u001b[0m\u001b[0m\n\u001b[1;32m   1527\u001b[0m         \u001b[0;32mtry\u001b[0m\u001b[0;34m:\u001b[0m\u001b[0;34m\u001b[0m\u001b[0m\n\u001b[0;32m-> 1528\u001b[0;31m             \u001b[0;32mreturn\u001b[0m \u001b[0mIndex\u001b[0m\u001b[0;34m.\u001b[0m\u001b[0mslice_indexer\u001b[0m\u001b[0;34m(\u001b[0m\u001b[0mself\u001b[0m\u001b[0;34m,\u001b[0m \u001b[0mstart\u001b[0m\u001b[0;34m,\u001b[0m \u001b[0mend\u001b[0m\u001b[0;34m,\u001b[0m \u001b[0mstep\u001b[0m\u001b[0;34m,\u001b[0m \u001b[0mkind\u001b[0m\u001b[0;34m=\u001b[0m\u001b[0mkind\u001b[0m\u001b[0;34m)\u001b[0m\u001b[0;34m\u001b[0m\u001b[0m\n\u001b[0m\u001b[1;32m   1529\u001b[0m         \u001b[0;32mexcept\u001b[0m \u001b[0mKeyError\u001b[0m\u001b[0;34m:\u001b[0m\u001b[0;34m\u001b[0m\u001b[0m\n\u001b[1;32m   1530\u001b[0m             \u001b[0;31m# For historical reasons DatetimeIndex by default supports\u001b[0m\u001b[0;34m\u001b[0m\u001b[0;34m\u001b[0m\u001b[0m\n",
      "\u001b[0;32m/Users/alex/miniconda2/lib/python2.7/site-packages/pandas/core/indexes/base.pyc\u001b[0m in \u001b[0;36mslice_indexer\u001b[0;34m(self, start, end, step, kind)\u001b[0m\n\u001b[1;32m   3455\u001b[0m         \"\"\"\n\u001b[1;32m   3456\u001b[0m         start_slice, end_slice = self.slice_locs(start, end, step=step,\n\u001b[0;32m-> 3457\u001b[0;31m                                                  kind=kind)\n\u001b[0m\u001b[1;32m   3458\u001b[0m \u001b[0;34m\u001b[0m\u001b[0m\n\u001b[1;32m   3459\u001b[0m         \u001b[0;31m# return a slice\u001b[0m\u001b[0;34m\u001b[0m\u001b[0;34m\u001b[0m\u001b[0m\n",
      "\u001b[0;32m/Users/alex/miniconda2/lib/python2.7/site-packages/pandas/core/indexes/base.pyc\u001b[0m in \u001b[0;36mslice_locs\u001b[0;34m(self, start, end, step, kind)\u001b[0m\n\u001b[1;32m   3656\u001b[0m         \u001b[0mstart_slice\u001b[0m \u001b[0;34m=\u001b[0m \u001b[0mNone\u001b[0m\u001b[0;34m\u001b[0m\u001b[0m\n\u001b[1;32m   3657\u001b[0m         \u001b[0;32mif\u001b[0m \u001b[0mstart\u001b[0m \u001b[0;32mis\u001b[0m \u001b[0;32mnot\u001b[0m \u001b[0mNone\u001b[0m\u001b[0;34m:\u001b[0m\u001b[0;34m\u001b[0m\u001b[0m\n\u001b[0;32m-> 3658\u001b[0;31m             \u001b[0mstart_slice\u001b[0m \u001b[0;34m=\u001b[0m \u001b[0mself\u001b[0m\u001b[0;34m.\u001b[0m\u001b[0mget_slice_bound\u001b[0m\u001b[0;34m(\u001b[0m\u001b[0mstart\u001b[0m\u001b[0;34m,\u001b[0m \u001b[0;34m'left'\u001b[0m\u001b[0;34m,\u001b[0m \u001b[0mkind\u001b[0m\u001b[0;34m)\u001b[0m\u001b[0;34m\u001b[0m\u001b[0m\n\u001b[0m\u001b[1;32m   3659\u001b[0m         \u001b[0;32mif\u001b[0m \u001b[0mstart_slice\u001b[0m \u001b[0;32mis\u001b[0m \u001b[0mNone\u001b[0m\u001b[0;34m:\u001b[0m\u001b[0;34m\u001b[0m\u001b[0m\n\u001b[1;32m   3660\u001b[0m             \u001b[0mstart_slice\u001b[0m \u001b[0;34m=\u001b[0m \u001b[0;36m0\u001b[0m\u001b[0;34m\u001b[0m\u001b[0m\n",
      "\u001b[0;32m/Users/alex/miniconda2/lib/python2.7/site-packages/pandas/core/indexes/base.pyc\u001b[0m in \u001b[0;36mget_slice_bound\u001b[0;34m(self, label, side, kind)\u001b[0m\n\u001b[1;32m   3592\u001b[0m             \u001b[0;32mexcept\u001b[0m \u001b[0mValueError\u001b[0m\u001b[0;34m:\u001b[0m\u001b[0;34m\u001b[0m\u001b[0m\n\u001b[1;32m   3593\u001b[0m                 \u001b[0;31m# raise the original KeyError\u001b[0m\u001b[0;34m\u001b[0m\u001b[0;34m\u001b[0m\u001b[0m\n\u001b[0;32m-> 3594\u001b[0;31m                 \u001b[0;32mraise\u001b[0m \u001b[0merr\u001b[0m\u001b[0;34m\u001b[0m\u001b[0m\n\u001b[0m\u001b[1;32m   3595\u001b[0m \u001b[0;34m\u001b[0m\u001b[0m\n\u001b[1;32m   3596\u001b[0m         \u001b[0;32mif\u001b[0m \u001b[0misinstance\u001b[0m\u001b[0;34m(\u001b[0m\u001b[0mslc\u001b[0m\u001b[0;34m,\u001b[0m \u001b[0mnp\u001b[0m\u001b[0;34m.\u001b[0m\u001b[0mndarray\u001b[0m\u001b[0;34m)\u001b[0m\u001b[0;34m:\u001b[0m\u001b[0;34m\u001b[0m\u001b[0m\n",
      "\u001b[0;31mKeyError\u001b[0m: 1530403200000000000"
     ]
    }
   ],
   "source": [
    "arbor_spec_clinics = [\n",
    "    'ARBOR CARDIOLOGY',\n",
    "    'ARBOR DERMATOLOGY',\n",
    "    'ARBOR FOLLOW-UP VISIT',\n",
    "    'ARBOR GENERAL VISIT',\n",
    "    'ARBOR MENTAL HEALTH',\n",
    "    'ARBOR MSK',\n",
    "    'ARBOR NEUROLOGY',\n",
    "    'ARBOR OPHTHALMOLOGY',\n",
    "    \"ARBOR WOMEN'S HEALTH\",\n",
    "    'LAB FOLLOW-UP NOTE'\n",
    "    ]\n",
    "\n",
    "\n",
    "periodic_visits, spec_usage_mom, time_points = visits_periodic(arbor_visits_clean, \n",
    "                                                               group_keys=arbor_spec_clinics)\n",
    "print np.sum(periodic_visits)\n",
    "print spec_usage_mom\n",
    "print time_points\n",
    "\n",
    "arbor_specialty_clinics_df = pd.DataFrame({clinic:spec_usage_mom[:,col_idx] \n",
    "                                     for clinic, col_idx in zip(arbor_spec_clinics, range(spec_usage_mom.shape[1]))\n",
    "                                    }, \n",
    "                                    index = time_points)\n",
    "\n",
    "arbor_specialty_clinics_df.head(12)\n"
   ]
  },
  {
   "cell_type": "code",
   "execution_count": 45,
   "metadata": {},
   "outputs": [
    {
     "data": {
      "text/html": [
       "<div>\n",
       "<style scoped>\n",
       "    .dataframe tbody tr th:only-of-type {\n",
       "        vertical-align: middle;\n",
       "    }\n",
       "\n",
       "    .dataframe tbody tr th {\n",
       "        vertical-align: top;\n",
       "    }\n",
       "\n",
       "    .dataframe thead th {\n",
       "        text-align: right;\n",
       "    }\n",
       "</style>\n",
       "<table border=\"1\" class=\"dataframe\">\n",
       "  <thead>\n",
       "    <tr style=\"text-align: right;\">\n",
       "      <th></th>\n",
       "      <th>LocationAbbreviation</th>\n",
       "      <th>PatientNumber</th>\n",
       "      <th>Age(Year)</th>\n",
       "      <th>VisitType</th>\n",
       "      <th>Sex</th>\n",
       "      <th>VisitDateTimeTS</th>\n",
       "      <th>DateFirstKnownTS</th>\n",
       "    </tr>\n",
       "    <tr>\n",
       "      <th>VisitDateTimeTS</th>\n",
       "      <th></th>\n",
       "      <th></th>\n",
       "      <th></th>\n",
       "      <th></th>\n",
       "      <th></th>\n",
       "      <th></th>\n",
       "      <th></th>\n",
       "    </tr>\n",
       "  </thead>\n",
       "  <tbody>\n",
       "    <tr>\n",
       "      <th>2018-07-01 09:45:00</th>\n",
       "      <td>PFC</td>\n",
       "      <td>N0008011</td>\n",
       "      <td>29</td>\n",
       "      <td>ARBOR GENERAL VISIT</td>\n",
       "      <td>F</td>\n",
       "      <td>2018-07-01 09:45:00</td>\n",
       "      <td>2011-11-13 09:37:01</td>\n",
       "    </tr>\n",
       "    <tr>\n",
       "      <th>2018-07-01 10:00:00</th>\n",
       "      <td>PFC</td>\n",
       "      <td>N0065934</td>\n",
       "      <td>22</td>\n",
       "      <td>ARBOR GENERAL VISIT</td>\n",
       "      <td>U</td>\n",
       "      <td>2018-07-01 10:00:00</td>\n",
       "      <td>2018-03-25 09:22:34</td>\n",
       "    </tr>\n",
       "    <tr>\n",
       "      <th>2018-07-01 10:15:00</th>\n",
       "      <td>PFC</td>\n",
       "      <td>N0068019</td>\n",
       "      <td>36</td>\n",
       "      <td>ARBOR GENERAL VISIT</td>\n",
       "      <td>M</td>\n",
       "      <td>2018-07-01 10:15:00</td>\n",
       "      <td>2018-07-01 09:32:55</td>\n",
       "    </tr>\n",
       "    <tr>\n",
       "      <th>2018-07-01 10:30:00</th>\n",
       "      <td>PFC</td>\n",
       "      <td>N0067796</td>\n",
       "      <td>27</td>\n",
       "      <td>ARBOR GENERAL VISIT</td>\n",
       "      <td>F</td>\n",
       "      <td>2018-07-01 10:30:00</td>\n",
       "      <td>2018-06-17 10:11:07</td>\n",
       "    </tr>\n",
       "    <tr>\n",
       "      <th>2018-07-01 10:45:00</th>\n",
       "      <td>PFC</td>\n",
       "      <td>N0068026</td>\n",
       "      <td>67</td>\n",
       "      <td>ARBOR GENERAL VISIT</td>\n",
       "      <td>M</td>\n",
       "      <td>2018-07-01 10:45:00</td>\n",
       "      <td>2018-07-01 10:22:50</td>\n",
       "    </tr>\n",
       "    <tr>\n",
       "      <th>2018-07-01 11:00:00</th>\n",
       "      <td>PFC</td>\n",
       "      <td>N0068040</td>\n",
       "      <td>21</td>\n",
       "      <td>ARBOR GENERAL VISIT</td>\n",
       "      <td>M</td>\n",
       "      <td>2018-07-01 11:00:00</td>\n",
       "      <td>2018-07-01 10:54:24</td>\n",
       "    </tr>\n",
       "    <tr>\n",
       "      <th>2018-07-08 09:30:00</th>\n",
       "      <td>PFC</td>\n",
       "      <td>N0068115</td>\n",
       "      <td>35</td>\n",
       "      <td>ARBOR GENERAL VISIT</td>\n",
       "      <td>M</td>\n",
       "      <td>2018-07-08 09:30:00</td>\n",
       "      <td>2018-07-08 08:41:13</td>\n",
       "    </tr>\n",
       "    <tr>\n",
       "      <th>2018-07-08 09:45:00</th>\n",
       "      <td>PFC</td>\n",
       "      <td>N0068161</td>\n",
       "      <td>32</td>\n",
       "      <td>ARBOR GENERAL VISIT</td>\n",
       "      <td>F</td>\n",
       "      <td>2018-07-08 09:45:00</td>\n",
       "      <td>2018-07-08 08:57:21</td>\n",
       "    </tr>\n",
       "    <tr>\n",
       "      <th>2018-07-08 10:00:00</th>\n",
       "      <td>PFC</td>\n",
       "      <td>N0049150</td>\n",
       "      <td>70</td>\n",
       "      <td>ARBOR GENERAL VISIT</td>\n",
       "      <td>F</td>\n",
       "      <td>2018-07-08 10:00:00</td>\n",
       "      <td>2015-07-12 09:20:45</td>\n",
       "    </tr>\n",
       "    <tr>\n",
       "      <th>2018-07-08 10:15:00</th>\n",
       "      <td>PFC</td>\n",
       "      <td>N0067789</td>\n",
       "      <td>21</td>\n",
       "      <td>ARBOR GENERAL VISIT</td>\n",
       "      <td>F</td>\n",
       "      <td>2018-07-08 10:15:00</td>\n",
       "      <td>2018-06-17 08:43:44</td>\n",
       "    </tr>\n",
       "    <tr>\n",
       "      <th>2018-07-08 10:30:00</th>\n",
       "      <td>PFC</td>\n",
       "      <td>N0068179</td>\n",
       "      <td>46</td>\n",
       "      <td>ARBOR GENERAL VISIT</td>\n",
       "      <td>F</td>\n",
       "      <td>2018-07-08 10:30:00</td>\n",
       "      <td>2018-07-08 08:58:41</td>\n",
       "    </tr>\n",
       "    <tr>\n",
       "      <th>2018-07-08 10:45:00</th>\n",
       "      <td>PFC</td>\n",
       "      <td>N0068193</td>\n",
       "      <td>23</td>\n",
       "      <td>ARBOR GENERAL VISIT</td>\n",
       "      <td>F</td>\n",
       "      <td>2018-07-08 10:45:00</td>\n",
       "      <td>2018-07-08 09:19:41</td>\n",
       "    </tr>\n",
       "    <tr>\n",
       "      <th>2018-07-08 11:00:00</th>\n",
       "      <td>PFC</td>\n",
       "      <td>N0068186</td>\n",
       "      <td>70</td>\n",
       "      <td>ARBOR GENERAL VISIT</td>\n",
       "      <td>M</td>\n",
       "      <td>2018-07-08 11:00:00</td>\n",
       "      <td>2018-07-08 09:19:32</td>\n",
       "    </tr>\n",
       "    <tr>\n",
       "      <th>2018-07-08 11:15:00</th>\n",
       "      <td>PFC</td>\n",
       "      <td>N0067690</td>\n",
       "      <td>59</td>\n",
       "      <td>ARBOR GENERAL VISIT</td>\n",
       "      <td>F</td>\n",
       "      <td>2018-07-08 11:15:00</td>\n",
       "      <td>2018-06-10 11:32:57</td>\n",
       "    </tr>\n",
       "    <tr>\n",
       "      <th>2018-07-08 11:45:00</th>\n",
       "      <td>PFC</td>\n",
       "      <td>N0068204</td>\n",
       "      <td>60</td>\n",
       "      <td>ARBOR GENERAL VISIT</td>\n",
       "      <td>F</td>\n",
       "      <td>2018-07-08 11:45:00</td>\n",
       "      <td>2018-07-08 09:47:26</td>\n",
       "    </tr>\n",
       "    <tr>\n",
       "      <th>2018-07-08 12:00:00</th>\n",
       "      <td>PFC</td>\n",
       "      <td>N0068211</td>\n",
       "      <td>64</td>\n",
       "      <td>ARBOR GENERAL VISIT</td>\n",
       "      <td>F</td>\n",
       "      <td>2018-07-08 12:00:00</td>\n",
       "      <td>2018-07-08 11:58:47</td>\n",
       "    </tr>\n",
       "    <tr>\n",
       "      <th>2018-07-08 13:00:00</th>\n",
       "      <td>PFC</td>\n",
       "      <td>N0068229</td>\n",
       "      <td>60</td>\n",
       "      <td>ARBOR GENERAL VISIT</td>\n",
       "      <td>M</td>\n",
       "      <td>2018-07-08 13:00:00</td>\n",
       "      <td>2018-07-08 12:08:21</td>\n",
       "    </tr>\n",
       "    <tr>\n",
       "      <th>2018-07-22 08:45:00</th>\n",
       "      <td>PFC</td>\n",
       "      <td>N0053939</td>\n",
       "      <td>55</td>\n",
       "      <td>ARBOR GENERAL VISIT</td>\n",
       "      <td>U</td>\n",
       "      <td>2018-07-22 08:45:00</td>\n",
       "      <td>2016-03-20 11:44:39</td>\n",
       "    </tr>\n",
       "    <tr>\n",
       "      <th>2018-09-09 10:00:00</th>\n",
       "      <td>PFC</td>\n",
       "      <td>N0069555</td>\n",
       "      <td>60</td>\n",
       "      <td>ARBOR GENERAL VISIT</td>\n",
       "      <td>F</td>\n",
       "      <td>2018-09-09 10:00:00</td>\n",
       "      <td>2018-09-09 08:51:23</td>\n",
       "    </tr>\n",
       "    <tr>\n",
       "      <th>2018-09-09 12:45:00</th>\n",
       "      <td>PFC</td>\n",
       "      <td>N0069377</td>\n",
       "      <td>79</td>\n",
       "      <td>ARBOR GENERAL VISIT</td>\n",
       "      <td>F</td>\n",
       "      <td>2018-09-09 12:45:00</td>\n",
       "      <td>2018-09-02 10:36:48</td>\n",
       "    </tr>\n",
       "  </tbody>\n",
       "</table>\n",
       "</div>"
      ],
      "text/plain": [
       "                    LocationAbbreviation PatientNumber  Age(Year)  \\\n",
       "VisitDateTimeTS                                                     \n",
       "2018-07-01 09:45:00                  PFC      N0008011         29   \n",
       "2018-07-01 10:00:00                  PFC      N0065934         22   \n",
       "2018-07-01 10:15:00                  PFC      N0068019         36   \n",
       "2018-07-01 10:30:00                  PFC      N0067796         27   \n",
       "2018-07-01 10:45:00                  PFC      N0068026         67   \n",
       "2018-07-01 11:00:00                  PFC      N0068040         21   \n",
       "2018-07-08 09:30:00                  PFC      N0068115         35   \n",
       "2018-07-08 09:45:00                  PFC      N0068161         32   \n",
       "2018-07-08 10:00:00                  PFC      N0049150         70   \n",
       "2018-07-08 10:15:00                  PFC      N0067789         21   \n",
       "2018-07-08 10:30:00                  PFC      N0068179         46   \n",
       "2018-07-08 10:45:00                  PFC      N0068193         23   \n",
       "2018-07-08 11:00:00                  PFC      N0068186         70   \n",
       "2018-07-08 11:15:00                  PFC      N0067690         59   \n",
       "2018-07-08 11:45:00                  PFC      N0068204         60   \n",
       "2018-07-08 12:00:00                  PFC      N0068211         64   \n",
       "2018-07-08 13:00:00                  PFC      N0068229         60   \n",
       "2018-07-22 08:45:00                  PFC      N0053939         55   \n",
       "2018-09-09 10:00:00                  PFC      N0069555         60   \n",
       "2018-09-09 12:45:00                  PFC      N0069377         79   \n",
       "\n",
       "                               VisitType Sex     VisitDateTimeTS  \\\n",
       "VisitDateTimeTS                                                    \n",
       "2018-07-01 09:45:00  ARBOR GENERAL VISIT   F 2018-07-01 09:45:00   \n",
       "2018-07-01 10:00:00  ARBOR GENERAL VISIT   U 2018-07-01 10:00:00   \n",
       "2018-07-01 10:15:00  ARBOR GENERAL VISIT   M 2018-07-01 10:15:00   \n",
       "2018-07-01 10:30:00  ARBOR GENERAL VISIT   F 2018-07-01 10:30:00   \n",
       "2018-07-01 10:45:00  ARBOR GENERAL VISIT   M 2018-07-01 10:45:00   \n",
       "2018-07-01 11:00:00  ARBOR GENERAL VISIT   M 2018-07-01 11:00:00   \n",
       "2018-07-08 09:30:00  ARBOR GENERAL VISIT   M 2018-07-08 09:30:00   \n",
       "2018-07-08 09:45:00  ARBOR GENERAL VISIT   F 2018-07-08 09:45:00   \n",
       "2018-07-08 10:00:00  ARBOR GENERAL VISIT   F 2018-07-08 10:00:00   \n",
       "2018-07-08 10:15:00  ARBOR GENERAL VISIT   F 2018-07-08 10:15:00   \n",
       "2018-07-08 10:30:00  ARBOR GENERAL VISIT   F 2018-07-08 10:30:00   \n",
       "2018-07-08 10:45:00  ARBOR GENERAL VISIT   F 2018-07-08 10:45:00   \n",
       "2018-07-08 11:00:00  ARBOR GENERAL VISIT   M 2018-07-08 11:00:00   \n",
       "2018-07-08 11:15:00  ARBOR GENERAL VISIT   F 2018-07-08 11:15:00   \n",
       "2018-07-08 11:45:00  ARBOR GENERAL VISIT   F 2018-07-08 11:45:00   \n",
       "2018-07-08 12:00:00  ARBOR GENERAL VISIT   F 2018-07-08 12:00:00   \n",
       "2018-07-08 13:00:00  ARBOR GENERAL VISIT   M 2018-07-08 13:00:00   \n",
       "2018-07-22 08:45:00  ARBOR GENERAL VISIT   U 2018-07-22 08:45:00   \n",
       "2018-09-09 10:00:00  ARBOR GENERAL VISIT   F 2018-09-09 10:00:00   \n",
       "2018-09-09 12:45:00  ARBOR GENERAL VISIT   F 2018-09-09 12:45:00   \n",
       "\n",
       "                       DateFirstKnownTS  \n",
       "VisitDateTimeTS                          \n",
       "2018-07-01 09:45:00 2011-11-13 09:37:01  \n",
       "2018-07-01 10:00:00 2018-03-25 09:22:34  \n",
       "2018-07-01 10:15:00 2018-07-01 09:32:55  \n",
       "2018-07-01 10:30:00 2018-06-17 10:11:07  \n",
       "2018-07-01 10:45:00 2018-07-01 10:22:50  \n",
       "2018-07-01 11:00:00 2018-07-01 10:54:24  \n",
       "2018-07-08 09:30:00 2018-07-08 08:41:13  \n",
       "2018-07-08 09:45:00 2018-07-08 08:57:21  \n",
       "2018-07-08 10:00:00 2015-07-12 09:20:45  \n",
       "2018-07-08 10:15:00 2018-06-17 08:43:44  \n",
       "2018-07-08 10:30:00 2018-07-08 08:58:41  \n",
       "2018-07-08 10:45:00 2018-07-08 09:19:41  \n",
       "2018-07-08 11:00:00 2018-07-08 09:19:32  \n",
       "2018-07-08 11:15:00 2018-06-10 11:32:57  \n",
       "2018-07-08 11:45:00 2018-07-08 09:47:26  \n",
       "2018-07-08 12:00:00 2018-07-08 11:58:47  \n",
       "2018-07-08 13:00:00 2018-07-08 12:08:21  \n",
       "2018-07-22 08:45:00 2016-03-20 11:44:39  \n",
       "2018-09-09 10:00:00 2018-09-09 08:51:23  \n",
       "2018-09-09 12:45:00 2018-09-02 10:36:48  "
      ]
     },
     "execution_count": 45,
     "metadata": {},
     "output_type": "execute_result"
    }
   ],
   "source": [
    "arbor_visits_clean.tail(20)\n"
   ]
  },
  {
   "cell_type": "code",
   "execution_count": 33,
   "metadata": {},
   "outputs": [
    {
     "data": {
      "text/plain": [
       "(0, 18)"
      ]
     },
     "execution_count": 33,
     "metadata": {},
     "output_type": "execute_result"
    },
    {
     "data": {
      "image/png": "[encoded data removed]",
      "text/plain": [
       "<Figure size 1440x720 with 1 Axes>"
      ]
     },
     "metadata": {},
     "output_type": "display_data"
    }
   ],
   "source": [
    "arbor_date_grouped = arbor_visits_clean.groupby(pd.Grouper(key='VisitDateTimeTS', freq='W-SUN'))\n",
    "fig, ax = plt.subplots(figsize=(20,10))\n",
    "plt.plot(arbor_date_grouped['PatientNumber'].count().index.strftime('%Y-%m-%d'), arbor_date_grouped['PatientNumber'].count().values)\n",
    "plt.xticks(rotation=90)\n",
    "ax.grid(True)\n",
    "plt.title('Number of Arbor General Visits, Week over Week')\n",
    "plt.xlabel('Clinic Date')\n",
    "plt.ylabel('Number of Patients')\n",
    "plt.ylim([0, 18])"
   ]
  },
  {
   "cell_type": "code",
   "execution_count": 46,
   "metadata": {},
   "outputs": [
    {
     "data": {
      "text/plain": [
       "(0, 30)"
      ]
     },
     "execution_count": 46,
     "metadata": {},
     "output_type": "execute_result"
    },
    {
     "data": {
      "image/png": "[encoded data removed]",
      "text/plain": [
       "<Figure size 1440x720 with 1 Axes>"
      ]
     },
     "metadata": {},
     "output_type": "display_data"
    }
   ],
   "source": [
    "pfc_date_grouped = pfc_visits_clean.groupby(pd.Grouper(key='VisitDateTimeTS', freq='W-SUN'))\n",
    "fig, ax = plt.subplots(figsize=(20,10))\n",
    "plt.plot(pfc_date_grouped['PatientNumber'].count().index.strftime('%Y-%m-%d'), pfc_date_grouped['PatientNumber'].count().values)\n",
    "plt.xticks(rotation=90)\n",
    "ax.grid(True)\n",
    "plt.title('Number of PFC New Patient Visits, Week over Week')\n",
    "plt.xlabel('Clinic Date')\n",
    "plt.ylabel('Number of Patients')\n",
    "plt.ylim([0, 30])"
   ]
  },
  {
   "cell_type": "code",
   "execution_count": 35,
   "metadata": {},
   "outputs": [
    {
     "data": {
      "text/plain": [
       "[<matplotlib.axis.XTick at 0x1a238d6910>,\n",
       " <matplotlib.axis.XTick at 0x1a230cafd0>,\n",
       " <matplotlib.axis.XTick at 0x1a22daf3d0>,\n",
       " <matplotlib.axis.XTick at 0x1a2306f0d0>,\n",
       " <matplotlib.axis.XTick at 0x1a2306f790>,\n",
       " <matplotlib.axis.XTick at 0x1a230bb850>,\n",
       " <matplotlib.axis.XTick at 0x1a230bb190>,\n",
       " <matplotlib.axis.XTick at 0x1a230bb790>,\n",
       " <matplotlib.axis.XTick at 0x1a230ca950>,\n",
       " <matplotlib.axis.XTick at 0x1a2304ef50>,\n",
       " <matplotlib.axis.XTick at 0x1a2304e250>,\n",
       " <matplotlib.axis.XTick at 0x1a2304e710>,\n",
       " <matplotlib.axis.XTick at 0x1a2301e790>,\n",
       " <matplotlib.axis.XTick at 0x1a2301e950>,\n",
       " <matplotlib.axis.XTick at 0x1a2301e490>,\n",
       " <matplotlib.axis.XTick at 0x1a23078950>,\n",
       " <matplotlib.axis.XTick at 0x1a23078090>,\n",
       " <matplotlib.axis.XTick at 0x1a2301ead0>,\n",
       " <matplotlib.axis.XTick at 0x1a2304ee90>,\n",
       " <matplotlib.axis.XTick at 0x1a23078b10>,\n",
       " <matplotlib.axis.XTick at 0x1a2300b950>,\n",
       " <matplotlib.axis.XTick at 0x1a2300b350>,\n",
       " <matplotlib.axis.XTick at 0x1a2300b910>,\n",
       " <matplotlib.axis.XTick at 0x1a22fe7890>,\n",
       " <matplotlib.axis.XTick at 0x1a22fe78d0>,\n",
       " <matplotlib.axis.XTick at 0x1a22fe7d10>,\n",
       " <matplotlib.axis.XTick at 0x1a22fd5190>,\n",
       " <matplotlib.axis.XTick at 0x1a2300bdd0>,\n",
       " <matplotlib.axis.XTick at 0x1a23078bd0>,\n",
       " <matplotlib.axis.XTick at 0x1a22fd5c50>,\n",
       " <matplotlib.axis.XTick at 0x1a22fd5650>,\n",
       " <matplotlib.axis.XTick at 0x1a22fd5450>,\n",
       " <matplotlib.axis.XTick at 0x1a230821d0>,\n",
       " <matplotlib.axis.XTick at 0x1a23082190>,\n",
       " <matplotlib.axis.XTick at 0x1a22f97f90>,\n",
       " <matplotlib.axis.XTick at 0x1a23869210>,\n",
       " <matplotlib.axis.XTick at 0x1a23082550>,\n",
       " <matplotlib.axis.XTick at 0x1a22fd5890>,\n",
       " <matplotlib.axis.XTick at 0x1a22fe7d90>,\n",
       " <matplotlib.axis.XTick at 0x1a22e5c550>,\n",
       " <matplotlib.axis.XTick at 0x1a22e5ca90>,\n",
       " <matplotlib.axis.XTick at 0x1a22e5cfd0>,\n",
       " <matplotlib.axis.XTick at 0x1a22e52550>,\n",
       " <matplotlib.axis.XTick at 0x1a22e52a90>,\n",
       " <matplotlib.axis.XTick at 0x1a22e52fd0>,\n",
       " <matplotlib.axis.XTick at 0x1a22e44550>,\n",
       " <matplotlib.axis.XTick at 0x1a22e52110>,\n",
       " <matplotlib.axis.XTick at 0x1a2304ef10>]"
      ]
     },
     "execution_count": 35,
     "metadata": {},
     "output_type": "execute_result"
    },
    {
     "data": {
      "image/png": "[encoded data removed]",
      "text/plain": [
       "<Figure size 720x720 with 1 Axes>"
      ]
     },
     "metadata": {},
     "output_type": "display_data"
    }
   ],
   "source": [
    "sns.set_style(\"white\")\n",
    "fig, ax = plt.subplots(figsize=(10,10))\n",
    "sns.lineplot(data=arbor_date_grouped['PatientNumber'].count(), ax=ax)\n",
    "ax.set_xticks(arbor_date_grouped['PatientNumber'].count().index.strftime('%Y-%m-%d'))"
   ]
  },
  {
   "cell_type": "code",
   "execution_count": 36,
   "metadata": {
    "scrolled": true
   },
   "outputs": [
    {
     "data": {
      "text/plain": [
       "(2018-01-21 01:20:55.499999999, 2018-02-23 07:22:30]    49\n",
       "(2018-02-23 07:22:30, 2018-03-28 05:30:00]              38\n",
       "(2018-03-28 05:30:00, 2018-04-30 03:37:30]              42\n",
       "(2018-04-30 03:37:30, 2018-06-02 01:45:00]              51\n",
       "(2018-06-02 01:45:00, 2018-07-04 23:52:30]              43\n",
       "(2018-07-04 23:52:30, 2018-08-06 22:00:00]              58\n",
       "(2018-08-06 22:00:00, 2018-09-08 20:07:30]              35\n",
       "(2018-09-08 20:07:30, 2018-10-11 18:15:00]              59\n",
       "(2018-10-11 18:15:00, 2018-11-13 16:22:30]              67\n",
       "(2018-11-13 16:22:30, 2018-12-16 14:30:00]              55\n",
       "Name: VisitDateTimeTS, dtype: int64"
      ]
     },
     "execution_count": 36,
     "metadata": {},
     "output_type": "execute_result"
    }
   ],
   "source": [
    "arbor_visits_clean['VisitDateTimeTS'].value_counts(sort=False,bins=10)"
   ]
  },
  {
   "cell_type": "code",
   "execution_count": 37,
   "metadata": {},
   "outputs": [
    {
     "data": {
      "text/plain": [
       "(2018-01-06 00:35:58.799999999, 2018-02-09 16:12:00]    42\n",
       "(2018-02-09 16:12:00, 2018-03-15 23:34:00]              29\n",
       "(2018-03-15 23:34:00, 2018-04-19 06:56:00]              36\n",
       "(2018-04-19 06:56:00, 2018-05-23 14:18:00]              35\n",
       "(2018-05-23 14:18:00, 2018-06-26 21:40:00]              30\n",
       "(2018-06-26 21:40:00, 2018-07-31 05:02:00]              21\n",
       "(2018-07-31 05:02:00, 2018-09-03 12:24:00]              33\n",
       "(2018-09-03 12:24:00, 2018-10-07 19:46:00]              53\n",
       "(2018-10-07 19:46:00, 2018-11-11 03:08:00]              33\n",
       "(2018-11-11 03:08:00, 2018-12-15 10:30:00]              28\n",
       "Name: VisitDateTimeTS, dtype: int64"
      ]
     },
     "execution_count": 37,
     "metadata": {},
     "output_type": "execute_result"
    }
   ],
   "source": [
    "pfc_visits_clean['VisitDateTimeTS'].value_counts(sort=False,bins=10)"
   ]
  },
  {
   "cell_type": "code",
   "execution_count": 38,
   "metadata": {
    "scrolled": true
   },
   "outputs": [
    {
     "name": "stdout",
     "output_type": "stream",
     "text": [
      "PFC NEW PATIENT VISIT\n",
      "340\n"
     ]
    }
   ],
   "source": [
    "grouped = pfc_visits_clean.groupby('VisitType')\n",
    "for g in grouped.groups:\n",
    "    print g\n",
    "    print len(grouped.groups[g])"
   ]
  },
  {
   "cell_type": "code",
   "execution_count": 39,
   "metadata": {},
   "outputs": [
    {
     "data": {
      "text/plain": [
       "VisitType\n",
       "ARBOR GENERAL VISIT    497\n",
       "dtype: int64"
      ]
     },
     "execution_count": 39,
     "metadata": {},
     "output_type": "execute_result"
    }
   ],
   "source": [
    "arbor_visits_clean.groupby('VisitType').size()"
   ]
  },
  {
   "cell_type": "code",
   "execution_count": 40,
   "metadata": {},
   "outputs": [
    {
     "name": "stderr",
     "output_type": "stream",
     "text": [
      "/Users/alex/miniconda2/lib/python2.7/site-packages/ipykernel_launcher.py:11: SettingWithCopyWarning: \n",
      "A value is trying to be set on a copy of a slice from a DataFrame\n",
      "\n",
      "See the caveats in the documentation: http://pandas.pydata.org/pandas-docs/stable/indexing.html#indexing-view-versus-copy\n",
      "  # This is added back by InteractiveShellApp.init_path()\n"
     ]
    }
   ],
   "source": [
    "df_visits = pd.read_csv(path_visits, error_bad_lines=False, header=0)\n",
    "df_visits['VisitDateTimeTS'] = pd.to_datetime((df_visits['VisitDateTime']))\n",
    "df_visits['DateFirstKnownTS'] = pd.to_datetime((df_visits['DateFirstKnown']))\n",
    "df_visits.index = df_visits['VisitDateTimeTS']\n",
    "#df_visits = df_visits.iloc[::-1]\n",
    "del df_visits['DateFirstKnown']\n",
    "del df_visits['VisitDateTime']\n",
    "\n",
    "df_visits = df_visits[df_visits['LocationAbbreviation'] != 'TEST']\n",
    "df_visits_clean = df_visits[df_visits['Age(Year)']> 18]\n",
    "df_visits_clean.sort_values('VisitDateTimeTS', inplace=True)"
   ]
  },
  {
   "cell_type": "code",
   "execution_count": 41,
   "metadata": {},
   "outputs": [
    {
     "data": {
      "text/plain": [
       "VisitType\n",
       "ADMIN CHART REVIEW NOTE             14\n",
       "ARBOR CARDIOLOGY                     7\n",
       "ARBOR DERMATOLOGY                   18\n",
       "ARBOR FAST TRACK TB                  2\n",
       "ARBOR FAST TRACK VACCINE             2\n",
       "ARBOR FOLLOW-UP VISIT               21\n",
       "ARBOR GENERAL VISIT                497\n",
       "ARBOR MENTAL HEALTH                 22\n",
       "ARBOR MSK                           16\n",
       "ARBOR NEUROLOGY                      5\n",
       "ARBOR OPHTHALMOLOGY                 20\n",
       "ARBOR WOMEN'S HEALTH                 9\n",
       "BRIDGE TO CARE NOTE                  6\n",
       "HEALTH EDUCATOR NOTE               143\n",
       "LAB FOLLOW-UP NOTE                 263\n",
       "MISC NOTE                          233\n",
       "PATIENT NAVIGATOR NOTE              90\n",
       "PFC DERMATOLOGY VISIT               25\n",
       "PFC FAST TRACK                      24\n",
       "PFC FAST TRACK VACCINE              13\n",
       "PFC FOLLOW UP VISIT                325\n",
       "PFC HEP CLINIC VISIT                23\n",
       "PFC HEPATITIS VACCINE SCREENING      1\n",
       "PFC MENTAL HEALTH VISIT             10\n",
       "PFC NEW PATIENT VISIT              340\n",
       "PFC OPHTHALMOLOGY VISIT             41\n",
       "PFC WOMEN'S CLINIC VISIT            44\n",
       "PHONE                                5\n",
       "dtype: int64"
      ]
     },
     "execution_count": 41,
     "metadata": {},
     "output_type": "execute_result"
    }
   ],
   "source": [
    "df_visits_clean.groupby('VisitType').size()"
   ]
  },
  {
   "cell_type": "code",
   "execution_count": 42,
   "metadata": {},
   "outputs": [
    {
     "name": "stdout",
     "output_type": "stream",
     "text": [
      "(2018, 7, 1) (2018, 8, 1)\n",
      "2018-07-01 00:00:00 2018-08-01 00:00:00\n",
      "(2018, 8, 1) (2018, 9, 1)\n",
      "2018-08-01 00:00:00 2018-09-01 00:00:00\n",
      "(2018, 9, 1) (2018, 10, 1)\n",
      "2018-09-01 00:00:00 2018-10-01 00:00:00\n",
      "(2018, 10, 1) (2018, 11, 1)\n",
      "2018-10-01 00:00:00 2018-11-01 00:00:00\n",
      "(2018, 11, 1) (2018, 12, 1)\n",
      "2018-11-01 00:00:00 2018-12-01 00:00:00\n",
      "(2018, 12, 1) (2019, 1, 1)\n",
      "2018-12-01 00:00:00 2019-01-01 00:00:00\n",
      "1151\n",
      "[[ 0.  5.  0. 56.  0.  3.  1.  0.  1.  0. 36.  0.  0. 17.  9.  6.  4.]\n",
      " [ 0.  0.  0. 41.  3.  0.  0.  5.  0.  3. 26.  0.  0. 23.  2.  1.  0.]\n",
      " [ 0.  7.  3. 55.  4.  4.  1.  0.  0.  0. 21.  0.  2. 55.  0.  6.  0.]\n",
      " [ 0.  0.  0. 49.  1.  0.  0.  5.  0.  5. 27.  6.  0. 28.  5.  6.  4.]\n",
      " [ 0.  3.  3. 40.  0.  0.  1.  0.  3.  0. 23.  5.  2. 16.  4.  2.  1.]\n",
      " [ 0.  0.  5. 42.  4.  3.  0.  5.  0.  2. 23.  0.  0. 25.  0.  3.  0.]]\n",
      "['7/2018', '8/2018', '9/2018', '10/2018', '11/2018', '12/2018']\n"
     ]
    },
    {
     "data": {
      "text/html": [
       "<div>\n",
       "<style scoped>\n",
       "    .dataframe tbody tr th:only-of-type {\n",
       "        vertical-align: middle;\n",
       "    }\n",
       "\n",
       "    .dataframe tbody tr th {\n",
       "        vertical-align: top;\n",
       "    }\n",
       "\n",
       "    .dataframe thead th {\n",
       "        text-align: right;\n",
       "    }\n",
       "</style>\n",
       "<table border=\"1\" class=\"dataframe\">\n",
       "  <thead>\n",
       "    <tr style=\"text-align: right;\">\n",
       "      <th></th>\n",
       "      <th>ARBOR CARDIOLOGY</th>\n",
       "      <th>ARBOR DERMATOLOGY</th>\n",
       "      <th>ARBOR FOLLOW-UP VISIT</th>\n",
       "      <th>ARBOR GENERAL VISIT</th>\n",
       "      <th>ARBOR MENTAL HEALTH</th>\n",
       "      <th>ARBOR MSK</th>\n",
       "      <th>ARBOR NEUROLOGY</th>\n",
       "      <th>ARBOR OPHTHALMOLOGY</th>\n",
       "      <th>ARBOR WOMEN'S HEALTH</th>\n",
       "      <th>PFC DERMATOLOGY VISIT</th>\n",
       "      <th>PFC FAST TRACK VACCINE</th>\n",
       "      <th>PFC FOLLOW UP VISIT</th>\n",
       "      <th>PFC HEP CLINIC VISIT</th>\n",
       "      <th>PFC MENTAL HEALTH VISIT</th>\n",
       "      <th>PFC NEW PATIENT VISIT</th>\n",
       "      <th>PFC OPHTHALMOLOGY VISIT</th>\n",
       "      <th>PFC WOMEN'S CLINIC VISIT</th>\n",
       "    </tr>\n",
       "  </thead>\n",
       "  <tbody>\n",
       "    <tr>\n",
       "      <th>7/2018</th>\n",
       "      <td>0.0</td>\n",
       "      <td>5.0</td>\n",
       "      <td>0.0</td>\n",
       "      <td>56.0</td>\n",
       "      <td>0.0</td>\n",
       "      <td>3.0</td>\n",
       "      <td>1.0</td>\n",
       "      <td>0.0</td>\n",
       "      <td>1.0</td>\n",
       "      <td>0.0</td>\n",
       "      <td>4.0</td>\n",
       "      <td>36.0</td>\n",
       "      <td>0.0</td>\n",
       "      <td>0.0</td>\n",
       "      <td>17.0</td>\n",
       "      <td>9.0</td>\n",
       "      <td>6.0</td>\n",
       "    </tr>\n",
       "    <tr>\n",
       "      <th>8/2018</th>\n",
       "      <td>0.0</td>\n",
       "      <td>0.0</td>\n",
       "      <td>0.0</td>\n",
       "      <td>41.0</td>\n",
       "      <td>3.0</td>\n",
       "      <td>0.0</td>\n",
       "      <td>0.0</td>\n",
       "      <td>5.0</td>\n",
       "      <td>0.0</td>\n",
       "      <td>3.0</td>\n",
       "      <td>0.0</td>\n",
       "      <td>26.0</td>\n",
       "      <td>0.0</td>\n",
       "      <td>0.0</td>\n",
       "      <td>23.0</td>\n",
       "      <td>2.0</td>\n",
       "      <td>1.0</td>\n",
       "    </tr>\n",
       "    <tr>\n",
       "      <th>9/2018</th>\n",
       "      <td>0.0</td>\n",
       "      <td>7.0</td>\n",
       "      <td>3.0</td>\n",
       "      <td>55.0</td>\n",
       "      <td>4.0</td>\n",
       "      <td>4.0</td>\n",
       "      <td>1.0</td>\n",
       "      <td>0.0</td>\n",
       "      <td>0.0</td>\n",
       "      <td>0.0</td>\n",
       "      <td>0.0</td>\n",
       "      <td>21.0</td>\n",
       "      <td>0.0</td>\n",
       "      <td>2.0</td>\n",
       "      <td>55.0</td>\n",
       "      <td>0.0</td>\n",
       "      <td>6.0</td>\n",
       "    </tr>\n",
       "    <tr>\n",
       "      <th>10/2018</th>\n",
       "      <td>0.0</td>\n",
       "      <td>0.0</td>\n",
       "      <td>0.0</td>\n",
       "      <td>49.0</td>\n",
       "      <td>1.0</td>\n",
       "      <td>0.0</td>\n",
       "      <td>0.0</td>\n",
       "      <td>5.0</td>\n",
       "      <td>0.0</td>\n",
       "      <td>5.0</td>\n",
       "      <td>4.0</td>\n",
       "      <td>27.0</td>\n",
       "      <td>6.0</td>\n",
       "      <td>0.0</td>\n",
       "      <td>28.0</td>\n",
       "      <td>5.0</td>\n",
       "      <td>6.0</td>\n",
       "    </tr>\n",
       "    <tr>\n",
       "      <th>11/2018</th>\n",
       "      <td>0.0</td>\n",
       "      <td>3.0</td>\n",
       "      <td>3.0</td>\n",
       "      <td>40.0</td>\n",
       "      <td>0.0</td>\n",
       "      <td>0.0</td>\n",
       "      <td>1.0</td>\n",
       "      <td>0.0</td>\n",
       "      <td>3.0</td>\n",
       "      <td>0.0</td>\n",
       "      <td>1.0</td>\n",
       "      <td>23.0</td>\n",
       "      <td>5.0</td>\n",
       "      <td>2.0</td>\n",
       "      <td>16.0</td>\n",
       "      <td>4.0</td>\n",
       "      <td>2.0</td>\n",
       "    </tr>\n",
       "    <tr>\n",
       "      <th>12/2018</th>\n",
       "      <td>0.0</td>\n",
       "      <td>0.0</td>\n",
       "      <td>5.0</td>\n",
       "      <td>42.0</td>\n",
       "      <td>4.0</td>\n",
       "      <td>3.0</td>\n",
       "      <td>0.0</td>\n",
       "      <td>5.0</td>\n",
       "      <td>0.0</td>\n",
       "      <td>2.0</td>\n",
       "      <td>0.0</td>\n",
       "      <td>23.0</td>\n",
       "      <td>0.0</td>\n",
       "      <td>0.0</td>\n",
       "      <td>25.0</td>\n",
       "      <td>0.0</td>\n",
       "      <td>3.0</td>\n",
       "    </tr>\n",
       "  </tbody>\n",
       "</table>\n",
       "</div>"
      ],
      "text/plain": [
       "         ARBOR CARDIOLOGY  ARBOR DERMATOLOGY  ARBOR FOLLOW-UP VISIT  \\\n",
       "7/2018                0.0                5.0                    0.0   \n",
       "8/2018                0.0                0.0                    0.0   \n",
       "9/2018                0.0                7.0                    3.0   \n",
       "10/2018               0.0                0.0                    0.0   \n",
       "11/2018               0.0                3.0                    3.0   \n",
       "12/2018               0.0                0.0                    5.0   \n",
       "\n",
       "         ARBOR GENERAL VISIT  ARBOR MENTAL HEALTH  ARBOR MSK  ARBOR NEUROLOGY  \\\n",
       "7/2018                  56.0                  0.0        3.0              1.0   \n",
       "8/2018                  41.0                  3.0        0.0              0.0   \n",
       "9/2018                  55.0                  4.0        4.0              1.0   \n",
       "10/2018                 49.0                  1.0        0.0              0.0   \n",
       "11/2018                 40.0                  0.0        0.0              1.0   \n",
       "12/2018                 42.0                  4.0        3.0              0.0   \n",
       "\n",
       "         ARBOR OPHTHALMOLOGY  ARBOR WOMEN'S HEALTH  PFC DERMATOLOGY VISIT  \\\n",
       "7/2018                   0.0                   1.0                    0.0   \n",
       "8/2018                   5.0                   0.0                    3.0   \n",
       "9/2018                   0.0                   0.0                    0.0   \n",
       "10/2018                  5.0                   0.0                    5.0   \n",
       "11/2018                  0.0                   3.0                    0.0   \n",
       "12/2018                  5.0                   0.0                    2.0   \n",
       "\n",
       "         PFC FAST TRACK VACCINE  PFC FOLLOW UP VISIT  PFC HEP CLINIC VISIT  \\\n",
       "7/2018                      4.0                 36.0                   0.0   \n",
       "8/2018                      0.0                 26.0                   0.0   \n",
       "9/2018                      0.0                 21.0                   0.0   \n",
       "10/2018                     4.0                 27.0                   6.0   \n",
       "11/2018                     1.0                 23.0                   5.0   \n",
       "12/2018                     0.0                 23.0                   0.0   \n",
       "\n",
       "         PFC MENTAL HEALTH VISIT  PFC NEW PATIENT VISIT  \\\n",
       "7/2018                       0.0                   17.0   \n",
       "8/2018                       0.0                   23.0   \n",
       "9/2018                       2.0                   55.0   \n",
       "10/2018                      0.0                   28.0   \n",
       "11/2018                      2.0                   16.0   \n",
       "12/2018                      0.0                   25.0   \n",
       "\n",
       "         PFC OPHTHALMOLOGY VISIT  PFC WOMEN'S CLINIC VISIT  \n",
       "7/2018                       9.0                       6.0  \n",
       "8/2018                       2.0                       1.0  \n",
       "9/2018                       0.0                       6.0  \n",
       "10/2018                      5.0                       6.0  \n",
       "11/2018                      4.0                       2.0  \n",
       "12/2018                      0.0                       3.0  "
      ]
     },
     "execution_count": 42,
     "metadata": {},
     "output_type": "execute_result"
    }
   ],
   "source": [
    "ALL_SPEC_KEYS = [\n",
    "    'ARBOR CARDIOLOGY',\n",
    "    'ARBOR DERMATOLOGY',\n",
    "    'ARBOR FOLLOW-UP VISIT',\n",
    "    'ARBOR GENERAL VISIT',\n",
    "    'ARBOR MENTAL HEALTH',\n",
    "    'ARBOR MSK',\n",
    "    'ARBOR NEUROLOGY',\n",
    "    'ARBOR OPHTHALMOLOGY',\n",
    "    \"ARBOR WOMEN'S HEALTH\",\n",
    "    'PFC DERMATOLOGY VISIT',\n",
    "    'PFC FOLLOW UP VISIT',\n",
    "    'PFC HEP CLINIC VISIT',\n",
    "    'PFC MENTAL HEALTH VISIT',\n",
    "    'PFC NEW PATIENT VISIT',\n",
    "    'PFC OPHTHALMOLOGY VISIT',\n",
    "    \"PFC WOMEN'S CLINIC VISIT\",\n",
    "    'PFC FAST TRACK VACCINE'\n",
    "]\n",
    "\n",
    "\n",
    "periodic_visits, spec_usage_mom, time_points = visits_periodic(df_visits_clean, \n",
    "                                                               group_keys=ALL_SPEC_KEYS)\n",
    "print np.sum(periodic_visits)\n",
    "print spec_usage_mom\n",
    "print time_points\n",
    "\n",
    "joint_spec_df = pd.DataFrame({clinic:spec_usage_mom[:,col_idx] \n",
    "                                     for clinic, col_idx in zip(ALL_SPEC_KEYS, range(spec_usage_mom.shape[1]))\n",
    "                                    }, \n",
    "                                    index = time_points)\n",
    "\n",
    "joint_spec_df.head(20)\n"
   ]
  },
  {
   "cell_type": "code",
   "execution_count": 43,
   "metadata": {},
   "outputs": [],
   "source": [
    "joint_spec_df.to_csv('joint_spec_clinics_12_17.csv')"
   ]
  },
  {
   "cell_type": "code",
   "execution_count": null,
   "metadata": {},
   "outputs": [],
   "source": []
  }
 ],
 "metadata": {
  "kernelspec": {
   "display_name": "Python 2",
   "language": "python",
   "name": "python2"
  },
  "language_info": {
   "codemirror_mode": {
    "name": "ipython",
    "version": 2
   },
   "file_extension": ".py",
   "mimetype": "text/x-python",
   "name": "python",
   "nbconvert_exporter": "python",
   "pygments_lexer": "ipython2",
   "version": "2.7.14"
  }
 },
 "nbformat": 4,
 "nbformat_minor": 2
}
