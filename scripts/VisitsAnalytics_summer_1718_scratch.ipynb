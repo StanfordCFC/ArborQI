{
 "cells": [
  {
   "cell_type": "markdown",
   "metadata": {},
   "source": [
    "# Playing with the visits table "
   ]
  },
  {
   "cell_type": "markdown",
   "metadata": {},
   "source": [
    "### Alex Lu | Summer Q 17-18  \n",
    "---\n",
    "\n",
    "September 2018"
   ]
  },
  {
   "cell_type": "markdown",
   "metadata": {},
   "source": [
    "**OBJECTIVE**\n",
    "\n",
    "---\n",
    "\n",
    "I have been tasked with getting distributions of age, sex, for Arbor and PFC patients over the last year. This notebook examines the age and sex distributions from a visits paradigm (and not a unique'd patients paradigm). "
   ]
  },
  {
   "cell_type": "markdown",
   "metadata": {},
   "source": [
    "First, let's import all of the stuff that we'll need"
   ]
  },
  {
   "cell_type": "code",
   "execution_count": 1,
   "metadata": {},
   "outputs": [],
   "source": [
    "import numpy as np\n",
    "import pandas as pd\n",
    "import matplotlib.pyplot as plt\n",
    "import csv\n",
    "import seaborn as sns\n",
    "from utils.indicator import *\n",
    "from utils.file_ops import *\n",
    "from datetime import datetime\n",
    "%matplotlib inline"
   ]
  },
  {
   "cell_type": "markdown",
   "metadata": {},
   "source": [
    "We want to filter on the time of visit for longitudinal visualization. First, we should do a conversion on the format of the time string to make it more workable. Then, we're going to make this new 'ts' column the index, and drop the string form VisitDate series. "
   ]
  },
  {
   "cell_type": "code",
   "execution_count": 2,
   "metadata": {},
   "outputs": [],
   "source": [
    "def time_filter(t1, t2, df):\n",
    "    # accepts numerical tuples of form (year, mon, day)\n",
    "    bound1 = datetime(*t1)\n",
    "    bound2 = datetime(*t2)\n",
    "    return df[bound1:bound2]"
   ]
  },
  {
   "cell_type": "code",
   "execution_count": 3,
   "metadata": {
    "scrolled": true
   },
   "outputs": [
    {
     "data": {
      "text/html": [
       "<div>\n",
       "<style scoped>\n",
       "    .dataframe tbody tr th:only-of-type {\n",
       "        vertical-align: middle;\n",
       "    }\n",
       "\n",
       "    .dataframe tbody tr th {\n",
       "        vertical-align: top;\n",
       "    }\n",
       "\n",
       "    .dataframe thead th {\n",
       "        text-align: right;\n",
       "    }\n",
       "</style>\n",
       "<table border=\"1\" class=\"dataframe\">\n",
       "  <thead>\n",
       "    <tr style=\"text-align: right;\">\n",
       "      <th></th>\n",
       "      <th>LocationAbbreviation</th>\n",
       "      <th>PatientNumber</th>\n",
       "      <th>Age(Year)</th>\n",
       "      <th>VisitType</th>\n",
       "      <th>DateFirstKnown</th>\n",
       "      <th>VisitDateTime</th>\n",
       "      <th>Sex</th>\n",
       "    </tr>\n",
       "  </thead>\n",
       "  <tbody>\n",
       "    <tr>\n",
       "      <th>0</th>\n",
       "      <td>PFC</td>\n",
       "      <td>N0053729</td>\n",
       "      <td>52</td>\n",
       "      <td>PFC FAST TRACK</td>\n",
       "      <td>3/12/2016 10:53:40 AM</td>\n",
       "      <td>6/3/2017 9:00:00 AM</td>\n",
       "      <td>U</td>\n",
       "    </tr>\n",
       "    <tr>\n",
       "      <th>1</th>\n",
       "      <td>PFC</td>\n",
       "      <td>N0057510</td>\n",
       "      <td>37</td>\n",
       "      <td>PFC MENTAL HEALTH VISIT</td>\n",
       "      <td>9/10/2016 11:31:38 AM</td>\n",
       "      <td>6/3/2017 9:30:00 AM</td>\n",
       "      <td>F</td>\n",
       "    </tr>\n",
       "    <tr>\n",
       "      <th>2</th>\n",
       "      <td>PFC</td>\n",
       "      <td>N0061163</td>\n",
       "      <td>55</td>\n",
       "      <td>PFC NEW PATIENT VISIT</td>\n",
       "      <td>6/3/2017 8:08:00 AM</td>\n",
       "      <td>6/3/2017 9:30:00 AM</td>\n",
       "      <td>F</td>\n",
       "    </tr>\n",
       "    <tr>\n",
       "      <th>3</th>\n",
       "      <td>PFC</td>\n",
       "      <td>N0061170</td>\n",
       "      <td>66</td>\n",
       "      <td>PFC NEW PATIENT VISIT</td>\n",
       "      <td>6/3/2017 8:10:03 AM</td>\n",
       "      <td>6/3/2017 9:50:00 AM</td>\n",
       "      <td>F</td>\n",
       "    </tr>\n",
       "    <tr>\n",
       "      <th>4</th>\n",
       "      <td>PFC</td>\n",
       "      <td>N0061188</td>\n",
       "      <td>48</td>\n",
       "      <td>PFC NEW PATIENT VISIT</td>\n",
       "      <td>6/3/2017 8:10:46 AM</td>\n",
       "      <td>6/3/2017 10:10:00 AM</td>\n",
       "      <td>F</td>\n",
       "    </tr>\n",
       "  </tbody>\n",
       "</table>\n",
       "</div>"
      ],
      "text/plain": [
       "  LocationAbbreviation PatientNumber  Age(Year)                VisitType  \\\n",
       "0                  PFC      N0053729         52           PFC FAST TRACK   \n",
       "1                  PFC      N0057510         37  PFC MENTAL HEALTH VISIT   \n",
       "2                  PFC      N0061163         55    PFC NEW PATIENT VISIT   \n",
       "3                  PFC      N0061170         66    PFC NEW PATIENT VISIT   \n",
       "4                  PFC      N0061188         48    PFC NEW PATIENT VISIT   \n",
       "\n",
       "          DateFirstKnown         VisitDateTime Sex  \n",
       "0  3/12/2016 10:53:40 AM   6/3/2017 9:00:00 AM   U  \n",
       "1  9/10/2016 11:31:38 AM   6/3/2017 9:30:00 AM   F  \n",
       "2    6/3/2017 8:08:00 AM   6/3/2017 9:30:00 AM   F  \n",
       "3    6/3/2017 8:10:03 AM   6/3/2017 9:50:00 AM   F  \n",
       "4    6/3/2017 8:10:46 AM  6/3/2017 10:10:00 AM   F  "
      ]
     },
     "execution_count": 3,
     "metadata": {},
     "output_type": "execute_result"
    }
   ],
   "source": [
    "path_visits = \"visits_data/both_clinics_all_past.csv\"\n",
    "df_visits = pd.read_csv(path_visits, error_bad_lines=False, header=0)\n",
    "df_visits.head()"
   ]
  },
  {
   "cell_type": "code",
   "execution_count": 4,
   "metadata": {},
   "outputs": [
    {
     "name": "stdout",
     "output_type": "stream",
     "text": [
      "        Age(Year)\n",
      "count  507.000000\n",
      "mean    48.830375\n",
      "std     17.821990\n",
      "min      0.000000\n",
      "25%     33.000000\n",
      "50%     51.000000\n",
      "75%     64.000000\n",
      "max     87.000000\n",
      "        Age(Year)\n",
      "count  380.000000\n",
      "mean    51.660526\n",
      "std     17.312677\n",
      "min      4.000000\n",
      "25%     37.000000\n",
      "50%     54.000000\n",
      "75%     64.000000\n",
      "max     88.000000\n"
     ]
    }
   ],
   "source": [
    "df_visits['VisitDateTimeTS'] = pd.to_datetime((df_visits['VisitDateTime']))\n",
    "df_visits['DateFirstKnownTS'] = pd.to_datetime((df_visits['DateFirstKnown']))\n",
    "df_visits.index = df_visits['VisitDateTimeTS']\n",
    "#df_visits = df_visits.iloc[::-1]\n",
    "del df_visits['DateFirstKnown']\n",
    "del df_visits['VisitDateTime']\n",
    "\n",
    "df_visits = df_visits[df_visits['LocationAbbreviation'] != 'TEST']\n",
    "arbor_general_visits = df_visits[df_visits['VisitType'] == 'ARBOR GENERAL VISIT']\n",
    "pfc_general_visits = df_visits[df_visits['VisitType'] == 'PFC NEW PATIENT VISIT']\n",
    "\n",
    "print arbor_general_visits.describe()\n",
    "print pfc_general_visits.describe()"
   ]
  },
  {
   "cell_type": "code",
   "execution_count": 5,
   "metadata": {},
   "outputs": [
    {
     "data": {
      "text/html": [
       "<div>\n",
       "<style scoped>\n",
       "    .dataframe tbody tr th:only-of-type {\n",
       "        vertical-align: middle;\n",
       "    }\n",
       "\n",
       "    .dataframe tbody tr th {\n",
       "        vertical-align: top;\n",
       "    }\n",
       "\n",
       "    .dataframe thead th {\n",
       "        text-align: right;\n",
       "    }\n",
       "</style>\n",
       "<table border=\"1\" class=\"dataframe\">\n",
       "  <thead>\n",
       "    <tr style=\"text-align: right;\">\n",
       "      <th></th>\n",
       "      <th>LocationAbbreviation</th>\n",
       "      <th>PatientNumber</th>\n",
       "      <th>Age(Year)</th>\n",
       "      <th>VisitType</th>\n",
       "      <th>Sex</th>\n",
       "      <th>VisitDateTimeTS</th>\n",
       "      <th>DateFirstKnownTS</th>\n",
       "    </tr>\n",
       "    <tr>\n",
       "      <th>VisitDateTimeTS</th>\n",
       "      <th></th>\n",
       "      <th></th>\n",
       "      <th></th>\n",
       "      <th></th>\n",
       "      <th></th>\n",
       "      <th></th>\n",
       "      <th></th>\n",
       "    </tr>\n",
       "  </thead>\n",
       "  <tbody>\n",
       "    <tr>\n",
       "      <th>2017-06-04 09:30:00</th>\n",
       "      <td>AFC</td>\n",
       "      <td>N0061220</td>\n",
       "      <td>78</td>\n",
       "      <td>ARBOR GENERAL VISIT</td>\n",
       "      <td>M</td>\n",
       "      <td>2017-06-04 09:30:00</td>\n",
       "      <td>2017-06-04 08:33:26</td>\n",
       "    </tr>\n",
       "    <tr>\n",
       "      <th>2017-06-04 09:45:00</th>\n",
       "      <td>AFC</td>\n",
       "      <td>N0061238</td>\n",
       "      <td>76</td>\n",
       "      <td>ARBOR GENERAL VISIT</td>\n",
       "      <td>M</td>\n",
       "      <td>2017-06-04 09:45:00</td>\n",
       "      <td>2017-06-04 08:46:12</td>\n",
       "    </tr>\n",
       "    <tr>\n",
       "      <th>2017-06-04 10:00:00</th>\n",
       "      <td>AFC</td>\n",
       "      <td>N0061245</td>\n",
       "      <td>31</td>\n",
       "      <td>ARBOR GENERAL VISIT</td>\n",
       "      <td>F</td>\n",
       "      <td>2017-06-04 10:00:00</td>\n",
       "      <td>2017-06-04 09:44:53</td>\n",
       "    </tr>\n",
       "    <tr>\n",
       "      <th>2017-06-04 10:15:00</th>\n",
       "      <td>AFC</td>\n",
       "      <td>N0061260</td>\n",
       "      <td>41</td>\n",
       "      <td>ARBOR GENERAL VISIT</td>\n",
       "      <td>F</td>\n",
       "      <td>2017-06-04 10:15:00</td>\n",
       "      <td>2017-06-04 11:10:08</td>\n",
       "    </tr>\n",
       "    <tr>\n",
       "      <th>2017-06-04 10:30:00</th>\n",
       "      <td>AFC</td>\n",
       "      <td>N0061277</td>\n",
       "      <td>73</td>\n",
       "      <td>ARBOR GENERAL VISIT</td>\n",
       "      <td>M</td>\n",
       "      <td>2017-06-04 10:30:00</td>\n",
       "      <td>2017-06-04 11:12:36</td>\n",
       "    </tr>\n",
       "  </tbody>\n",
       "</table>\n",
       "</div>"
      ],
      "text/plain": [
       "                    LocationAbbreviation PatientNumber  Age(Year)  \\\n",
       "VisitDateTimeTS                                                     \n",
       "2017-06-04 09:30:00                  AFC      N0061220         78   \n",
       "2017-06-04 09:45:00                  AFC      N0061238         76   \n",
       "2017-06-04 10:00:00                  AFC      N0061245         31   \n",
       "2017-06-04 10:15:00                  AFC      N0061260         41   \n",
       "2017-06-04 10:30:00                  AFC      N0061277         73   \n",
       "\n",
       "                               VisitType Sex     VisitDateTimeTS  \\\n",
       "VisitDateTimeTS                                                    \n",
       "2017-06-04 09:30:00  ARBOR GENERAL VISIT   M 2017-06-04 09:30:00   \n",
       "2017-06-04 09:45:00  ARBOR GENERAL VISIT   M 2017-06-04 09:45:00   \n",
       "2017-06-04 10:00:00  ARBOR GENERAL VISIT   F 2017-06-04 10:00:00   \n",
       "2017-06-04 10:15:00  ARBOR GENERAL VISIT   F 2017-06-04 10:15:00   \n",
       "2017-06-04 10:30:00  ARBOR GENERAL VISIT   M 2017-06-04 10:30:00   \n",
       "\n",
       "                       DateFirstKnownTS  \n",
       "VisitDateTimeTS                          \n",
       "2017-06-04 09:30:00 2017-06-04 08:33:26  \n",
       "2017-06-04 09:45:00 2017-06-04 08:46:12  \n",
       "2017-06-04 10:00:00 2017-06-04 09:44:53  \n",
       "2017-06-04 10:15:00 2017-06-04 11:10:08  \n",
       "2017-06-04 10:30:00 2017-06-04 11:12:36  "
      ]
     },
     "execution_count": 5,
     "metadata": {},
     "output_type": "execute_result"
    }
   ],
   "source": [
    "arbor_general_visits.head(5)"
   ]
  },
  {
   "cell_type": "markdown",
   "metadata": {},
   "source": [
    "Let's take a look and make sure we're looking at the right stuff"
   ]
  },
  {
   "cell_type": "code",
   "execution_count": 6,
   "metadata": {},
   "outputs": [],
   "source": [
    "def temporal_distribution(df, ts_name = 'ts'):\n",
    "    '''\n",
    "\n",
    "    '''\n",
    "    time_gb = df.groupby(df[ts_name].dt.month)\n",
    "    plt.figure()\n",
    "    time_gb.plot()\n",
    "    plt.show()\n"
   ]
  },
  {
   "cell_type": "code",
   "execution_count": 7,
   "metadata": {},
   "outputs": [
    {
     "data": {
      "text/plain": [
       "F    0.477318\n",
       "M    0.408284\n",
       "U    0.114398\n",
       "Name: Sex, dtype: float64"
      ]
     },
     "execution_count": 7,
     "metadata": {},
     "output_type": "execute_result"
    }
   ],
   "source": [
    "arbor_general_visits['Sex'].value_counts(normalize=True)"
   ]
  },
  {
   "cell_type": "code",
   "execution_count": 8,
   "metadata": {},
   "outputs": [
    {
     "data": {
      "text/plain": [
       "F    0.521053\n",
       "M    0.418421\n",
       "U    0.060526\n",
       "Name: Sex, dtype: float64"
      ]
     },
     "execution_count": 8,
     "metadata": {},
     "output_type": "execute_result"
    }
   ],
   "source": [
    "pfc_general_visits['Sex'].value_counts(normalize=True)"
   ]
  },
  {
   "cell_type": "code",
   "execution_count": 9,
   "metadata": {},
   "outputs": [
    {
     "data": {
      "text/plain": [
       "(60.9, 69.6]     119\n",
       "(17.4, 26.1]      77\n",
       "(43.5, 52.2]      65\n",
       "(26.1, 34.8]      65\n",
       "(34.8, 43.5]      61\n",
       "(52.2, 60.9]      60\n",
       "(69.6, 78.3]      48\n",
       "(78.3, 87.0]      11\n",
       "(-0.088, 8.7]      1\n",
       "(8.7, 17.4]        0\n",
       "Name: Age(Year), dtype: int64"
      ]
     },
     "execution_count": 9,
     "metadata": {},
     "output_type": "execute_result"
    }
   ],
   "source": [
    "arbor_general_visits['Age(Year)'].value_counts(bins=10)"
   ]
  },
  {
   "cell_type": "code",
   "execution_count": 10,
   "metadata": {},
   "outputs": [
    {
     "data": {
      "text/plain": [
       "(62.8, 71.2]     76\n",
       "(54.4, 62.8]     69\n",
       "(46.0, 54.4]     64\n",
       "(20.8, 29.2]     51\n",
       "(29.2, 37.6]     39\n",
       "(37.6, 46.0]     32\n",
       "(71.2, 79.6]     29\n",
       "(79.6, 88.0]     13\n",
       "(12.4, 20.8]      5\n",
       "(3.915, 12.4]     2\n",
       "Name: Age(Year), dtype: int64"
      ]
     },
     "execution_count": 10,
     "metadata": {},
     "output_type": "execute_result"
    }
   ],
   "source": [
    "pfc_general_visits['Age(Year)'].value_counts(bins=10)"
   ]
  },
  {
   "cell_type": "code",
   "execution_count": 11,
   "metadata": {},
   "outputs": [
    {
     "data": {
      "text/html": [
       "<div>\n",
       "<style scoped>\n",
       "    .dataframe tbody tr th:only-of-type {\n",
       "        vertical-align: middle;\n",
       "    }\n",
       "\n",
       "    .dataframe tbody tr th {\n",
       "        vertical-align: top;\n",
       "    }\n",
       "\n",
       "    .dataframe thead th {\n",
       "        text-align: right;\n",
       "    }\n",
       "</style>\n",
       "<table border=\"1\" class=\"dataframe\">\n",
       "  <thead>\n",
       "    <tr style=\"text-align: right;\">\n",
       "      <th></th>\n",
       "      <th>LocationAbbreviation</th>\n",
       "      <th>PatientNumber</th>\n",
       "      <th>Age(Year)</th>\n",
       "      <th>VisitType</th>\n",
       "      <th>Sex</th>\n",
       "      <th>VisitDateTimeTS</th>\n",
       "      <th>DateFirstKnownTS</th>\n",
       "    </tr>\n",
       "    <tr>\n",
       "      <th>VisitDateTimeTS</th>\n",
       "      <th></th>\n",
       "      <th></th>\n",
       "      <th></th>\n",
       "      <th></th>\n",
       "      <th></th>\n",
       "      <th></th>\n",
       "      <th></th>\n",
       "    </tr>\n",
       "  </thead>\n",
       "  <tbody>\n",
       "    <tr>\n",
       "      <th>2018-05-23 09:30:00</th>\n",
       "      <td>PFC</td>\n",
       "      <td>N0039583</td>\n",
       "      <td>4</td>\n",
       "      <td>PFC NEW PATIENT VISIT</td>\n",
       "      <td>U</td>\n",
       "      <td>2018-05-23 09:30:00</td>\n",
       "      <td>2014-06-29 11:51:57</td>\n",
       "    </tr>\n",
       "    <tr>\n",
       "      <th>2018-07-05 10:00:00</th>\n",
       "      <td>PFC</td>\n",
       "      <td>N0041335</td>\n",
       "      <td>4</td>\n",
       "      <td>PFC NEW PATIENT VISIT</td>\n",
       "      <td>F</td>\n",
       "      <td>2018-07-05 10:00:00</td>\n",
       "      <td>2014-08-24 19:51:32</td>\n",
       "    </tr>\n",
       "  </tbody>\n",
       "</table>\n",
       "</div>"
      ],
      "text/plain": [
       "                    LocationAbbreviation PatientNumber  Age(Year)  \\\n",
       "VisitDateTimeTS                                                     \n",
       "2018-05-23 09:30:00                  PFC      N0039583          4   \n",
       "2018-07-05 10:00:00                  PFC      N0041335          4   \n",
       "\n",
       "                                 VisitType Sex     VisitDateTimeTS  \\\n",
       "VisitDateTimeTS                                                      \n",
       "2018-05-23 09:30:00  PFC NEW PATIENT VISIT   U 2018-05-23 09:30:00   \n",
       "2018-07-05 10:00:00  PFC NEW PATIENT VISIT   F 2018-07-05 10:00:00   \n",
       "\n",
       "                       DateFirstKnownTS  \n",
       "VisitDateTimeTS                          \n",
       "2018-05-23 09:30:00 2014-06-29 11:51:57  \n",
       "2018-07-05 10:00:00 2014-08-24 19:51:32  "
      ]
     },
     "execution_count": 11,
     "metadata": {},
     "output_type": "execute_result"
    }
   ],
   "source": [
    "pfc_general_visits[pfc_general_visits['Age(Year)'] < 18]"
   ]
  },
  {
   "cell_type": "code",
   "execution_count": 12,
   "metadata": {},
   "outputs": [],
   "source": [
    "arbor_visits_clean = arbor_general_visits[arbor_general_visits['Age(Year)'] > 18]\n",
    "pfc_visits_clean = pfc_general_visits[pfc_general_visits['Age(Year)'] > 18]"
   ]
  },
  {
   "cell_type": "code",
   "execution_count": 13,
   "metadata": {},
   "outputs": [
    {
     "data": {
      "text/plain": [
       "F    241\n",
       "M    207\n",
       "U     58\n",
       "Name: Sex, dtype: int64"
      ]
     },
     "execution_count": 13,
     "metadata": {},
     "output_type": "execute_result"
    }
   ],
   "source": [
    "arbor_visits_clean['Sex'].value_counts()"
   ]
  },
  {
   "cell_type": "code",
   "execution_count": 14,
   "metadata": {},
   "outputs": [
    {
     "data": {
      "text/plain": [
       "F    197\n",
       "M    159\n",
       "U     22\n",
       "Name: Sex, dtype: int64"
      ]
     },
     "execution_count": 14,
     "metadata": {},
     "output_type": "execute_result"
    }
   ],
   "source": [
    "pfc_visits_clean['Sex'].value_counts()"
   ]
  },
  {
   "cell_type": "code",
   "execution_count": 15,
   "metadata": {},
   "outputs": [
    {
     "data": {
      "text/plain": [
       "(18.930999999999997, 25.8]    66\n",
       "(25.8, 32.6]                  59\n",
       "(32.6, 39.4]                  50\n",
       "(39.4, 46.2]                  49\n",
       "(46.2, 53.0]                  50\n",
       "(53.0, 59.8]                  46\n",
       "(59.8, 66.6]                  97\n",
       "(66.6, 73.4]                  56\n",
       "(73.4, 80.2]                  28\n",
       "(80.2, 87.0]                   5\n",
       "Name: Age(Year), dtype: int64"
      ]
     },
     "execution_count": 15,
     "metadata": {},
     "output_type": "execute_result"
    }
   ],
   "source": [
    "arbor_visits_clean['Age(Year)'].value_counts(sort=False,bins=10)"
   ]
  },
  {
   "cell_type": "code",
   "execution_count": 16,
   "metadata": {},
   "outputs": [
    {
     "data": {
      "text/plain": [
       "<matplotlib.axes._subplots.AxesSubplot at 0x1a19696110>"
      ]
     },
     "execution_count": 16,
     "metadata": {},
     "output_type": "execute_result"
    },
    {
     "data": {
      "image/png": "[encoded data removed]",
      "text/plain": [
       "<Figure size 432x288 with 1 Axes>"
      ]
     },
     "metadata": {},
     "output_type": "display_data"
    }
   ],
   "source": [
    "arbor_visits_clean['Age(Year)'].value_counts(sort=False,bins=10).plot(kind='bar', title='Arbor Patient Age')"
   ]
  },
  {
   "cell_type": "code",
   "execution_count": 17,
   "metadata": {},
   "outputs": [
    {
     "data": {
      "text/plain": [
       "(18.93, 25.9]    32\n",
       "(25.9, 32.8]     41\n",
       "(32.8, 39.7]     28\n",
       "(39.7, 46.6]     26\n",
       "(46.6, 53.5]     48\n",
       "(53.5, 60.4]     65\n",
       "(60.4, 67.3]     73\n",
       "(67.3, 74.2]     32\n",
       "(74.2, 81.1]     22\n",
       "(81.1, 88.0]     11\n",
       "Name: Age(Year), dtype: int64"
      ]
     },
     "execution_count": 17,
     "metadata": {},
     "output_type": "execute_result"
    }
   ],
   "source": [
    "pfc_visits_clean['Age(Year)'].value_counts(sort=False,bins=10)"
   ]
  },
  {
   "cell_type": "code",
   "execution_count": 18,
   "metadata": {},
   "outputs": [
    {
     "data": {
      "text/plain": [
       "<matplotlib.axes._subplots.AxesSubplot at 0x1a19a56c50>"
      ]
     },
     "execution_count": 18,
     "metadata": {},
     "output_type": "execute_result"
    },
    {
     "data": {
      "image/png": "[encoded data removed]",
      "text/plain": [
       "<Figure size 432x288 with 1 Axes>"
      ]
     },
     "metadata": {},
     "output_type": "display_data"
    }
   ],
   "source": [
    "pfc_visits_clean['Age(Year)'].value_counts(sort=False,bins=10).plot(kind='bar', title='PFC Patient Age')"
   ]
  },
  {
   "cell_type": "code",
   "execution_count": 19,
   "metadata": {},
   "outputs": [
    {
     "data": {
      "text/plain": [
       "count    506.000000\n",
       "mean      48.926877\n",
       "std       17.706535\n",
       "min       19.000000\n",
       "25%       33.000000\n",
       "50%       51.000000\n",
       "75%       64.000000\n",
       "max       87.000000\n",
       "Name: Age(Year), dtype: float64"
      ]
     },
     "execution_count": 19,
     "metadata": {},
     "output_type": "execute_result"
    }
   ],
   "source": [
    "arbor_visits_clean['Age(Year)'].describe()"
   ]
  },
  {
   "cell_type": "code",
   "execution_count": 20,
   "metadata": {},
   "outputs": [
    {
     "data": {
      "text/plain": [
       "count    378.000000\n",
       "mean      51.912698\n",
       "std       17.006015\n",
       "min       19.000000\n",
       "25%       37.250000\n",
       "50%       54.000000\n",
       "75%       64.000000\n",
       "max       88.000000\n",
       "Name: Age(Year), dtype: float64"
      ]
     },
     "execution_count": 20,
     "metadata": {},
     "output_type": "execute_result"
    }
   ],
   "source": [
    "pfc_visits_clean['Age(Year)'].describe()"
   ]
  },
  {
   "cell_type": "code",
   "execution_count": 21,
   "metadata": {},
   "outputs": [
    {
     "data": {
      "text/plain": [
       "count          506\n",
       "unique         424\n",
       "top       N0059372\n",
       "freq             5\n",
       "Name: PatientNumber, dtype: object"
      ]
     },
     "execution_count": 21,
     "metadata": {},
     "output_type": "execute_result"
    }
   ],
   "source": [
    "arbor_visits_clean['PatientNumber'].describe()"
   ]
  },
  {
   "cell_type": "code",
   "execution_count": 22,
   "metadata": {},
   "outputs": [
    {
     "data": {
      "text/plain": [
       "count          378\n",
       "unique         370\n",
       "top       N0013706\n",
       "freq             2\n",
       "Name: PatientNumber, dtype: object"
      ]
     },
     "execution_count": 22,
     "metadata": {},
     "output_type": "execute_result"
    }
   ],
   "source": [
    "pfc_visits_clean['PatientNumber'].describe()"
   ]
  },
  {
   "cell_type": "code",
   "execution_count": 23,
   "metadata": {},
   "outputs": [
    {
     "data": {
      "text/plain": [
       "count    424.000000\n",
       "mean       1.193396\n",
       "std        0.523991\n",
       "min        1.000000\n",
       "25%        1.000000\n",
       "50%        1.000000\n",
       "75%        1.000000\n",
       "max        5.000000\n",
       "dtype: float64"
      ]
     },
     "execution_count": 23,
     "metadata": {},
     "output_type": "execute_result"
    }
   ],
   "source": [
    "arbor_visits_clean.groupby(arbor_visits_clean['PatientNumber']).size().describe()"
   ]
  },
  {
   "cell_type": "code",
   "execution_count": 24,
   "metadata": {},
   "outputs": [
    {
     "data": {
      "text/plain": [
       "count    370.000000\n",
       "mean       1.021622\n",
       "std        0.145642\n",
       "min        1.000000\n",
       "25%        1.000000\n",
       "50%        1.000000\n",
       "75%        1.000000\n",
       "max        2.000000\n",
       "dtype: float64"
      ]
     },
     "execution_count": 24,
     "metadata": {},
     "output_type": "execute_result"
    }
   ],
   "source": [
    "pfc_visits_clean.groupby(pfc_visits_clean['PatientNumber']).size().describe()"
   ]
  },
  {
   "cell_type": "code",
   "execution_count": 25,
   "metadata": {},
   "outputs": [],
   "source": [
    "def get_grouped_data(df, column, group_keys=None, summed=True):\n",
    "    grouped = df.groupby(df[column])\n",
    "    visits_per_group = [] if group_keys is None else np.zeros(len(group_keys))\n",
    "    if group_keys is not None:\n",
    "        for c, group in enumerate(group_keys):\n",
    "            if group in grouped.groups:\n",
    "                visits_per_group[c] = len(grouped.groups[group])\n",
    "    else:\n",
    "        for group in grouped.groups:\n",
    "            visits_per_group.append(len(grouped.groups[group]))\n",
    "        \n",
    "    if summed:\n",
    "        return np.sum(visits_per_group)\n",
    "    else:\n",
    "        return visits_per_group"
   ]
  },
  {
   "cell_type": "code",
   "execution_count": 26,
   "metadata": {},
   "outputs": [],
   "source": [
    "def visits_periodic(df, period='mom', group_keys=None):\n",
    "    \n",
    "    periodic_visits = []\n",
    "    time_points = []\n",
    "    spec_usage_mom = []\n",
    "    \n",
    "    if period == 'mom':\n",
    "        months = [val for val in range(1, 13)]\n",
    "        years = [2017, 2018]\n",
    "        for year in years:\n",
    "            for begin_month in months:\n",
    "                tp1 = (year, begin_month, 1)\n",
    "                tp2 = ()\n",
    "                if begin_month == 12:\n",
    "                    tp2 = (year+1, 1, 1)\n",
    "                else:\n",
    "                    tp2 = (year, begin_month+1, 1)\n",
    "                    \n",
    "                filtered = time_filter(tp1,tp2, df)\n",
    "                \n",
    "                if filtered.values.shape[0] == 0:\n",
    "                    continue\n",
    "                else:\n",
    "                    periodic_visits.append(get_grouped_data(filtered, 'PatientNumber'))\n",
    "                    spec_usage_mom.append(get_grouped_data(filtered, 'VisitType', group_keys = group_keys, summed=False))\n",
    "                    time_points.append(str(begin_month) + '/' + str(year))\n",
    "                    \n",
    "\n",
    "    return (periodic_visits, np.array(spec_usage_mom), time_points)"
   ]
  },
  {
   "cell_type": "code",
   "execution_count": 27,
   "metadata": {},
   "outputs": [
    {
     "name": "stdout",
     "output_type": "stream",
     "text": [
      "506\n",
      "[[ 0.  0.  0. 19.  0.  0.  0.  0.  0.  0.]\n",
      " [ 0.  0.  0. 44.  0.  0.  0.  0.  0.  0.]\n",
      " [ 0.  0.  0. 31.  0.  0.  0.  0.  0.  0.]\n",
      " [ 0.  0.  0. 11.  0.  0.  0.  0.  0.  0.]\n",
      " [ 0.  0.  0. 42.  0.  0.  0.  0.  0.  0.]\n",
      " [ 0.  0.  0. 25.  0.  0.  0.  0.  0.  0.]\n",
      " [ 0.  0.  0. 23.  0.  0.  0.  0.  0.  0.]\n",
      " [ 0.  0.  0. 22.  0.  0.  0.  0.  0.  0.]\n",
      " [ 0.  0.  0. 36.  0.  0.  0.  0.  0.  0.]\n",
      " [ 0.  0.  0. 29.  0.  0.  0.  0.  0.  0.]\n",
      " [ 0.  0.  0. 42.  0.  0.  0.  0.  0.  0.]\n",
      " [ 0.  0.  0. 51.  0.  0.  0.  0.  0.  0.]\n",
      " [ 0.  0.  0. 34.  0.  0.  0.  0.  0.  0.]\n",
      " [ 0.  0.  0. 56.  0.  0.  0.  0.  0.  0.]\n",
      " [ 0.  0.  0. 41.  0.  0.  0.  0.  0.  0.]]\n",
      "['6/2017', '7/2017', '8/2017', '9/2017', '10/2017', '11/2017', '12/2017', '1/2018', '2/2018', '3/2018', '4/2018', '5/2018', '6/2018', '7/2018', '8/2018']\n"
     ]
    },
    {
     "data": {
      "text/html": [
       "<div>\n",
       "<style scoped>\n",
       "    .dataframe tbody tr th:only-of-type {\n",
       "        vertical-align: middle;\n",
       "    }\n",
       "\n",
       "    .dataframe tbody tr th {\n",
       "        vertical-align: top;\n",
       "    }\n",
       "\n",
       "    .dataframe thead th {\n",
       "        text-align: right;\n",
       "    }\n",
       "</style>\n",
       "<table border=\"1\" class=\"dataframe\">\n",
       "  <thead>\n",
       "    <tr style=\"text-align: right;\">\n",
       "      <th></th>\n",
       "      <th>ARBOR CARDIOLOGY</th>\n",
       "      <th>ARBOR DERMATOLOGY</th>\n",
       "      <th>ARBOR FOLLOW-UP VISIT</th>\n",
       "      <th>ARBOR GENERAL VISIT</th>\n",
       "      <th>ARBOR MENTAL HEALTH</th>\n",
       "      <th>ARBOR MSK</th>\n",
       "      <th>ARBOR NEUROLOGY</th>\n",
       "      <th>ARBOR OPHTHALMOLOGY</th>\n",
       "      <th>ARBOR WOMEN'S HEALTH</th>\n",
       "      <th>LAB FOLLOW-UP NOTE</th>\n",
       "    </tr>\n",
       "  </thead>\n",
       "  <tbody>\n",
       "    <tr>\n",
       "      <th>6/2017</th>\n",
       "      <td>0.0</td>\n",
       "      <td>0.0</td>\n",
       "      <td>0.0</td>\n",
       "      <td>19.0</td>\n",
       "      <td>0.0</td>\n",
       "      <td>0.0</td>\n",
       "      <td>0.0</td>\n",
       "      <td>0.0</td>\n",
       "      <td>0.0</td>\n",
       "      <td>0.0</td>\n",
       "    </tr>\n",
       "    <tr>\n",
       "      <th>7/2017</th>\n",
       "      <td>0.0</td>\n",
       "      <td>0.0</td>\n",
       "      <td>0.0</td>\n",
       "      <td>44.0</td>\n",
       "      <td>0.0</td>\n",
       "      <td>0.0</td>\n",
       "      <td>0.0</td>\n",
       "      <td>0.0</td>\n",
       "      <td>0.0</td>\n",
       "      <td>0.0</td>\n",
       "    </tr>\n",
       "    <tr>\n",
       "      <th>8/2017</th>\n",
       "      <td>0.0</td>\n",
       "      <td>0.0</td>\n",
       "      <td>0.0</td>\n",
       "      <td>31.0</td>\n",
       "      <td>0.0</td>\n",
       "      <td>0.0</td>\n",
       "      <td>0.0</td>\n",
       "      <td>0.0</td>\n",
       "      <td>0.0</td>\n",
       "      <td>0.0</td>\n",
       "    </tr>\n",
       "    <tr>\n",
       "      <th>9/2017</th>\n",
       "      <td>0.0</td>\n",
       "      <td>0.0</td>\n",
       "      <td>0.0</td>\n",
       "      <td>11.0</td>\n",
       "      <td>0.0</td>\n",
       "      <td>0.0</td>\n",
       "      <td>0.0</td>\n",
       "      <td>0.0</td>\n",
       "      <td>0.0</td>\n",
       "      <td>0.0</td>\n",
       "    </tr>\n",
       "    <tr>\n",
       "      <th>10/2017</th>\n",
       "      <td>0.0</td>\n",
       "      <td>0.0</td>\n",
       "      <td>0.0</td>\n",
       "      <td>42.0</td>\n",
       "      <td>0.0</td>\n",
       "      <td>0.0</td>\n",
       "      <td>0.0</td>\n",
       "      <td>0.0</td>\n",
       "      <td>0.0</td>\n",
       "      <td>0.0</td>\n",
       "    </tr>\n",
       "    <tr>\n",
       "      <th>11/2017</th>\n",
       "      <td>0.0</td>\n",
       "      <td>0.0</td>\n",
       "      <td>0.0</td>\n",
       "      <td>25.0</td>\n",
       "      <td>0.0</td>\n",
       "      <td>0.0</td>\n",
       "      <td>0.0</td>\n",
       "      <td>0.0</td>\n",
       "      <td>0.0</td>\n",
       "      <td>0.0</td>\n",
       "    </tr>\n",
       "    <tr>\n",
       "      <th>12/2017</th>\n",
       "      <td>0.0</td>\n",
       "      <td>0.0</td>\n",
       "      <td>0.0</td>\n",
       "      <td>23.0</td>\n",
       "      <td>0.0</td>\n",
       "      <td>0.0</td>\n",
       "      <td>0.0</td>\n",
       "      <td>0.0</td>\n",
       "      <td>0.0</td>\n",
       "      <td>0.0</td>\n",
       "    </tr>\n",
       "    <tr>\n",
       "      <th>1/2018</th>\n",
       "      <td>0.0</td>\n",
       "      <td>0.0</td>\n",
       "      <td>0.0</td>\n",
       "      <td>22.0</td>\n",
       "      <td>0.0</td>\n",
       "      <td>0.0</td>\n",
       "      <td>0.0</td>\n",
       "      <td>0.0</td>\n",
       "      <td>0.0</td>\n",
       "      <td>0.0</td>\n",
       "    </tr>\n",
       "    <tr>\n",
       "      <th>2/2018</th>\n",
       "      <td>0.0</td>\n",
       "      <td>0.0</td>\n",
       "      <td>0.0</td>\n",
       "      <td>36.0</td>\n",
       "      <td>0.0</td>\n",
       "      <td>0.0</td>\n",
       "      <td>0.0</td>\n",
       "      <td>0.0</td>\n",
       "      <td>0.0</td>\n",
       "      <td>0.0</td>\n",
       "    </tr>\n",
       "    <tr>\n",
       "      <th>3/2018</th>\n",
       "      <td>0.0</td>\n",
       "      <td>0.0</td>\n",
       "      <td>0.0</td>\n",
       "      <td>29.0</td>\n",
       "      <td>0.0</td>\n",
       "      <td>0.0</td>\n",
       "      <td>0.0</td>\n",
       "      <td>0.0</td>\n",
       "      <td>0.0</td>\n",
       "      <td>0.0</td>\n",
       "    </tr>\n",
       "    <tr>\n",
       "      <th>4/2018</th>\n",
       "      <td>0.0</td>\n",
       "      <td>0.0</td>\n",
       "      <td>0.0</td>\n",
       "      <td>42.0</td>\n",
       "      <td>0.0</td>\n",
       "      <td>0.0</td>\n",
       "      <td>0.0</td>\n",
       "      <td>0.0</td>\n",
       "      <td>0.0</td>\n",
       "      <td>0.0</td>\n",
       "    </tr>\n",
       "    <tr>\n",
       "      <th>5/2018</th>\n",
       "      <td>0.0</td>\n",
       "      <td>0.0</td>\n",
       "      <td>0.0</td>\n",
       "      <td>51.0</td>\n",
       "      <td>0.0</td>\n",
       "      <td>0.0</td>\n",
       "      <td>0.0</td>\n",
       "      <td>0.0</td>\n",
       "      <td>0.0</td>\n",
       "      <td>0.0</td>\n",
       "    </tr>\n",
       "  </tbody>\n",
       "</table>\n",
       "</div>"
      ],
      "text/plain": [
       "         ARBOR CARDIOLOGY  ARBOR DERMATOLOGY  ARBOR FOLLOW-UP VISIT  \\\n",
       "6/2017                0.0                0.0                    0.0   \n",
       "7/2017                0.0                0.0                    0.0   \n",
       "8/2017                0.0                0.0                    0.0   \n",
       "9/2017                0.0                0.0                    0.0   \n",
       "10/2017               0.0                0.0                    0.0   \n",
       "11/2017               0.0                0.0                    0.0   \n",
       "12/2017               0.0                0.0                    0.0   \n",
       "1/2018                0.0                0.0                    0.0   \n",
       "2/2018                0.0                0.0                    0.0   \n",
       "3/2018                0.0                0.0                    0.0   \n",
       "4/2018                0.0                0.0                    0.0   \n",
       "5/2018                0.0                0.0                    0.0   \n",
       "\n",
       "         ARBOR GENERAL VISIT  ARBOR MENTAL HEALTH  ARBOR MSK  ARBOR NEUROLOGY  \\\n",
       "6/2017                  19.0                  0.0        0.0              0.0   \n",
       "7/2017                  44.0                  0.0        0.0              0.0   \n",
       "8/2017                  31.0                  0.0        0.0              0.0   \n",
       "9/2017                  11.0                  0.0        0.0              0.0   \n",
       "10/2017                 42.0                  0.0        0.0              0.0   \n",
       "11/2017                 25.0                  0.0        0.0              0.0   \n",
       "12/2017                 23.0                  0.0        0.0              0.0   \n",
       "1/2018                  22.0                  0.0        0.0              0.0   \n",
       "2/2018                  36.0                  0.0        0.0              0.0   \n",
       "3/2018                  29.0                  0.0        0.0              0.0   \n",
       "4/2018                  42.0                  0.0        0.0              0.0   \n",
       "5/2018                  51.0                  0.0        0.0              0.0   \n",
       "\n",
       "         ARBOR OPHTHALMOLOGY  ARBOR WOMEN'S HEALTH  LAB FOLLOW-UP NOTE  \n",
       "6/2017                   0.0                   0.0                 0.0  \n",
       "7/2017                   0.0                   0.0                 0.0  \n",
       "8/2017                   0.0                   0.0                 0.0  \n",
       "9/2017                   0.0                   0.0                 0.0  \n",
       "10/2017                  0.0                   0.0                 0.0  \n",
       "11/2017                  0.0                   0.0                 0.0  \n",
       "12/2017                  0.0                   0.0                 0.0  \n",
       "1/2018                   0.0                   0.0                 0.0  \n",
       "2/2018                   0.0                   0.0                 0.0  \n",
       "3/2018                   0.0                   0.0                 0.0  \n",
       "4/2018                   0.0                   0.0                 0.0  \n",
       "5/2018                   0.0                   0.0                 0.0  "
      ]
     },
     "execution_count": 27,
     "metadata": {},
     "output_type": "execute_result"
    }
   ],
   "source": [
    "arbor_spec_clinics = [\n",
    "    'ARBOR CARDIOLOGY',\n",
    "    'ARBOR DERMATOLOGY',\n",
    "    'ARBOR FOLLOW-UP VISIT',\n",
    "    'ARBOR GENERAL VISIT',\n",
    "    'ARBOR MENTAL HEALTH',\n",
    "    'ARBOR MSK',\n",
    "    'ARBOR NEUROLOGY',\n",
    "    'ARBOR OPHTHALMOLOGY',\n",
    "    \"ARBOR WOMEN'S HEALTH\",\n",
    "    'LAB FOLLOW-UP NOTE'\n",
    "    ]\n",
    "\n",
    "\n",
    "periodic_visits, spec_usage_mom, time_points = visits_periodic(arbor_visits_clean, \n",
    "                                                               group_keys=arbor_spec_clinics)\n",
    "print np.sum(periodic_visits)\n",
    "print spec_usage_mom\n",
    "print time_points\n",
    "\n",
    "arbor_specialty_clinics_df = pd.DataFrame({clinic:spec_usage_mom[:,col_idx] \n",
    "                                     for clinic, col_idx in zip(arbor_spec_clinics, range(spec_usage_mom.shape[1]))\n",
    "                                    }, \n",
    "                                    index = time_points)\n",
    "\n",
    "arbor_specialty_clinics_df.head(12)\n"
   ]
  },
  {
   "cell_type": "code",
   "execution_count": null,
   "metadata": {},
   "outputs": [],
   "source": []
  },
  {
   "cell_type": "code",
   "execution_count": 39,
   "metadata": {},
   "outputs": [
    {
     "data": {
      "text/plain": [
       "(0, 18)"
      ]
     },
     "execution_count": 39,
     "metadata": {},
     "output_type": "execute_result"
    },
    {
     "data": {
      "image/png": "[encoded data removed]",
      "text/plain": [
       "<Figure size 1440x720 with 1 Axes>"
      ]
     },
     "metadata": {},
     "output_type": "display_data"
    }
   ],
   "source": [
    "arbor_date_grouped = arbor_visits_clean.groupby(pd.Grouper(key='VisitDateTimeTS', freq='W-SUN'))\n",
    "fig, ax = plt.subplots(figsize=(20,10))\n",
    "plt.plot(arbor_date_grouped['PatientNumber'].count().index.strftime('%Y-%m-%d'), arbor_date_grouped['PatientNumber'].count().values)\n",
    "plt.xticks(rotation=90)\n",
    "ax.grid(True)\n",
    "plt.title('Number of Arbor General Visits, Week over Week')\n",
    "plt.xlabel('Clinic Date')\n",
    "plt.ylabel('Number of Patients')\n",
    "plt.ylim([0, 18])"
   ]
  },
  {
   "cell_type": "code",
   "execution_count": 40,
   "metadata": {},
   "outputs": [
    {
     "data": {
      "text/plain": [
       "(0, 18)"
      ]
     },
     "execution_count": 40,
     "metadata": {},
     "output_type": "execute_result"
    },
    {
     "data": {
      "image/png": "[encoded data removed]",
      "text/plain": [
       "<Figure size 1440x720 with 1 Axes>"
      ]
     },
     "metadata": {},
     "output_type": "display_data"
    }
   ],
   "source": [
    "pfc_date_grouped = pfc_visits_clean.groupby(pd.Grouper(key='VisitDateTimeTS', freq='W-SUN'))\n",
    "fig, ax = plt.subplots(figsize=(20,10))\n",
    "plt.plot(pfc_date_grouped['PatientNumber'].count().index.strftime('%Y-%m-%d'), pfc_date_grouped['PatientNumber'].count().values)\n",
    "plt.xticks(rotation=90)\n",
    "ax.grid(True)\n",
    "plt.title('Number of PFC New Patient Visits, Week over Week')\n",
    "plt.xlabel('Clinic Date')\n",
    "plt.ylabel('Number of Patients')\n",
    "plt.ylim([0, 18])"
   ]
  },
  {
   "cell_type": "code",
   "execution_count": 30,
   "metadata": {},
   "outputs": [
    {
     "data": {
      "text/plain": [
       "[<matplotlib.axis.XTick at 0x1a1a396a10>,\n",
       " <matplotlib.axis.XTick at 0x1a19d03a10>,\n",
       " <matplotlib.axis.XTick at 0x1a1a3d4590>,\n",
       " <matplotlib.axis.XTick at 0x1a1a3d4f10>,\n",
       " <matplotlib.axis.XTick at 0x1a1a56e450>,\n",
       " <matplotlib.axis.XTick at 0x1a1a3d44d0>,\n",
       " <matplotlib.axis.XTick at 0x1a1a3c0150>,\n",
       " <matplotlib.axis.XTick at 0x1a1a56ea50>,\n",
       " <matplotlib.axis.XTick at 0x1a1a56ef90>,\n",
       " <matplotlib.axis.XTick at 0x1a1a574510>,\n",
       " <matplotlib.axis.XTick at 0x1a1a574a50>,\n",
       " <matplotlib.axis.XTick at 0x1a1a574f90>,\n",
       " <matplotlib.axis.XTick at 0x1a1a57e510>,\n",
       " <matplotlib.axis.XTick at 0x1a1a57ea50>,\n",
       " <matplotlib.axis.XTick at 0x1a1a57ef90>,\n",
       " <matplotlib.axis.XTick at 0x1a1a57e590>,\n",
       " <matplotlib.axis.XTick at 0x1a1a574210>,\n",
       " <matplotlib.axis.XTick at 0x1a1a3c0590>,\n",
       " <matplotlib.axis.XTick at 0x1a1a587750>,\n",
       " <matplotlib.axis.XTick at 0x1a1a587c90>,\n",
       " <matplotlib.axis.XTick at 0x1a1a592210>,\n",
       " <matplotlib.axis.XTick at 0x1a1a592750>,\n",
       " <matplotlib.axis.XTick at 0x1a1a592c90>,\n",
       " <matplotlib.axis.XTick at 0x1a1a59e210>,\n",
       " <matplotlib.axis.XTick at 0x1a1a59e750>,\n",
       " <matplotlib.axis.XTick at 0x1a1a592310>,\n",
       " <matplotlib.axis.XTick at 0x1a1a56ec10>,\n",
       " <matplotlib.axis.XTick at 0x1a1a59e990>,\n",
       " <matplotlib.axis.XTick at 0x1a1a59eed0>,\n",
       " <matplotlib.axis.XTick at 0x1a1a5b7450>,\n",
       " <matplotlib.axis.XTick at 0x1a1a5b7990>,\n",
       " <matplotlib.axis.XTick at 0x1a1a5b7ed0>,\n",
       " <matplotlib.axis.XTick at 0x1a1a5c1450>,\n",
       " <matplotlib.axis.XTick at 0x1a1a5c1990>,\n",
       " <matplotlib.axis.XTick at 0x1a1a5b7b90>,\n",
       " <matplotlib.axis.XTick at 0x1a1a59eb50>,\n",
       " <matplotlib.axis.XTick at 0x1a1a5c1a90>,\n",
       " <matplotlib.axis.XTick at 0x1a1a5cd150>,\n",
       " <matplotlib.axis.XTick at 0x1a1a5cd690>,\n",
       " <matplotlib.axis.XTick at 0x1a1a5cdbd0>,\n",
       " <matplotlib.axis.XTick at 0x1a1a5d8150>,\n",
       " <matplotlib.axis.XTick at 0x1a1a5d8690>,\n",
       " <matplotlib.axis.XTick at 0x1a1a5d8bd0>,\n",
       " <matplotlib.axis.XTick at 0x1a1a5e1150>,\n",
       " <matplotlib.axis.XTick at 0x1a1a5d8710>,\n",
       " <matplotlib.axis.XTick at 0x1a1a5cd390>,\n",
       " <matplotlib.axis.XTick at 0x1a1a5b7ad0>,\n",
       " <matplotlib.axis.XTick at 0x1a1a5e18d0>,\n",
       " <matplotlib.axis.XTick at 0x1a1a5e1e10>,\n",
       " <matplotlib.axis.XTick at 0x1a1a5ee390>,\n",
       " <matplotlib.axis.XTick at 0x1a1a5ee8d0>,\n",
       " <matplotlib.axis.XTick at 0x1a1a5eee10>,\n",
       " <matplotlib.axis.XTick at 0x1a1a5f8390>,\n",
       " <matplotlib.axis.XTick at 0x1a1a5f88d0>,\n",
       " <matplotlib.axis.XTick at 0x1a1a5ee090>,\n",
       " <matplotlib.axis.XTick at 0x1a1a5cd310>,\n",
       " <matplotlib.axis.XTick at 0x1a1a5f8b10>,\n",
       " <matplotlib.axis.XTick at 0x1a1a605090>,\n",
       " <matplotlib.axis.XTick at 0x1a1a6055d0>,\n",
       " <matplotlib.axis.XTick at 0x1a1a605b10>,\n",
       " <matplotlib.axis.XTick at 0x1a1a60e090>,\n",
       " <matplotlib.axis.XTick at 0x1a1a60e5d0>,\n",
       " <matplotlib.axis.XTick at 0x1a1a60eb10>,\n",
       " <matplotlib.axis.XTick at 0x1a1a60ec10>,\n",
       " <matplotlib.axis.XTick at 0x1a1a605710>]"
      ]
     },
     "execution_count": 30,
     "metadata": {},
     "output_type": "execute_result"
    },
    {
     "data": {
      "image/png": "[encoded data removed]",
      "text/plain": [
       "<Figure size 720x720 with 1 Axes>"
      ]
     },
     "metadata": {},
     "output_type": "display_data"
    }
   ],
   "source": [
    "sns.set_style(\"white\")\n",
    "fig, ax = plt.subplots(figsize=(10,10))\n",
    "sns.lineplot(data=arbor_date_grouped['PatientNumber'].count(), ax=ax)\n",
    "ax.set_xticks(arbor_date_grouped['PatientNumber'].count().index.strftime('%Y-%m-%d'))"
   ]
  },
  {
   "cell_type": "code",
   "execution_count": 31,
   "metadata": {
    "scrolled": true
   },
   "outputs": [
    {
     "data": {
      "text/plain": [
       "(2017-06-03 22:44:41.999999999, 2017-07-11 17:45:00]    33\n",
       "(2017-07-11 17:45:00, 2017-08-18 02:00:00]              42\n",
       "(2017-08-18 02:00:00, 2017-09-24 10:15:00]              26\n",
       "(2017-09-24 10:15:00, 2017-10-31 18:30:00]              46\n",
       "(2017-10-31 18:30:00, 2017-12-08 02:45:00]              31\n",
       "(2017-12-08 02:45:00, 2018-01-14 11:00:00]              17\n",
       "(2018-01-14 11:00:00, 2018-02-20 19:15:00]              49\n",
       "(2018-02-20 19:15:00, 2018-03-30 03:30:00]              38\n",
       "(2018-03-30 03:30:00, 2018-05-06 11:45:00]              49\n",
       "(2018-05-06 11:45:00, 2018-06-12 20:00:00]              65\n",
       "(2018-06-12 20:00:00, 2018-07-20 04:15:00]              42\n",
       "(2018-07-20 04:15:00, 2018-08-26 12:30:00]              68\n",
       "Name: VisitDateTimeTS, dtype: int64"
      ]
     },
     "execution_count": 31,
     "metadata": {},
     "output_type": "execute_result"
    }
   ],
   "source": [
    "arbor_visits_clean['VisitDateTimeTS'].value_counts(sort=False,bins=12)"
   ]
  },
  {
   "cell_type": "code",
   "execution_count": 32,
   "metadata": {},
   "outputs": [
    {
     "data": {
      "text/plain": [
       "(2017-06-02 22:54:53.999999999, 2017-07-10 03:35:00]    29\n",
       "(2017-07-10 03:35:00, 2017-08-15 21:40:00]              43\n",
       "(2017-08-15 21:40:00, 2017-09-21 15:45:00]              20\n",
       "(2017-09-21 15:45:00, 2017-10-28 09:50:00]              36\n",
       "(2017-10-28 09:50:00, 2017-12-04 03:55:00]              22\n",
       "(2017-12-04 03:55:00, 2018-01-09 22:00:00]              19\n",
       "(2018-01-09 22:00:00, 2018-02-15 16:05:00]              41\n",
       "(2018-02-15 16:05:00, 2018-03-24 10:10:00]              31\n",
       "(2018-03-24 10:10:00, 2018-04-30 04:15:00]              39\n",
       "(2018-04-30 04:15:00, 2018-06-05 22:20:00]              39\n",
       "(2018-06-05 22:20:00, 2018-07-12 16:25:00]              25\n",
       "(2018-07-12 16:25:00, 2018-08-18 10:30:00]              34\n",
       "Name: VisitDateTimeTS, dtype: int64"
      ]
     },
     "execution_count": 32,
     "metadata": {},
     "output_type": "execute_result"
    }
   ],
   "source": [
    "pfc_visits_clean['VisitDateTimeTS'].value_counts(sort=False,bins=12)"
   ]
  },
  {
   "cell_type": "code",
   "execution_count": 33,
   "metadata": {
    "scrolled": true
   },
   "outputs": [
    {
     "name": "stdout",
     "output_type": "stream",
     "text": [
      "PFC NEW PATIENT VISIT\n",
      "378\n"
     ]
    }
   ],
   "source": [
    "grouped = pfc_visits_clean.groupby('VisitType')\n",
    "for g in grouped.groups:\n",
    "    print g\n",
    "    print len(grouped.groups[g])"
   ]
  },
  {
   "cell_type": "code",
   "execution_count": 34,
   "metadata": {},
   "outputs": [
    {
     "data": {
      "text/plain": [
       "VisitType\n",
       "ARBOR GENERAL VISIT    506\n",
       "dtype: int64"
      ]
     },
     "execution_count": 34,
     "metadata": {},
     "output_type": "execute_result"
    }
   ],
   "source": [
    "arbor_visits_clean.groupby('VisitType').size()"
   ]
  },
  {
   "cell_type": "code",
   "execution_count": 35,
   "metadata": {},
   "outputs": [
    {
     "name": "stderr",
     "output_type": "stream",
     "text": [
      "/Users/alex/miniconda2/lib/python2.7/site-packages/ipykernel_launcher.py:11: SettingWithCopyWarning: \n",
      "A value is trying to be set on a copy of a slice from a DataFrame\n",
      "\n",
      "See the caveats in the documentation: http://pandas.pydata.org/pandas-docs/stable/indexing.html#indexing-view-versus-copy\n",
      "  # This is added back by InteractiveShellApp.init_path()\n"
     ]
    }
   ],
   "source": [
    "df_visits = pd.read_csv(path_visits, error_bad_lines=False, header=0)\n",
    "df_visits['VisitDateTimeTS'] = pd.to_datetime((df_visits['VisitDateTime']))\n",
    "df_visits['DateFirstKnownTS'] = pd.to_datetime((df_visits['DateFirstKnown']))\n",
    "df_visits.index = df_visits['VisitDateTimeTS']\n",
    "#df_visits = df_visits.iloc[::-1]\n",
    "del df_visits['DateFirstKnown']\n",
    "del df_visits['VisitDateTime']\n",
    "\n",
    "df_visits = df_visits[df_visits['LocationAbbreviation'] != 'TEST']\n",
    "df_visits_clean = df_visits[df_visits['Age(Year)']> 18]\n",
    "df_visits_clean.sort_values('VisitDateTimeTS', inplace=True)"
   ]
  },
  {
   "cell_type": "code",
   "execution_count": 36,
   "metadata": {},
   "outputs": [
    {
     "data": {
      "text/plain": [
       "VisitType\n",
       "ADMIN CHART REVIEW NOTE             18\n",
       "ARBOR CARDIOLOGY                    12\n",
       "ARBOR DERMATOLOGY                    9\n",
       "ARBOR FAST TRACK TB                  2\n",
       "ARBOR FAST TRACK VACCINE             1\n",
       "ARBOR FOLLOW-UP VISIT               10\n",
       "ARBOR GENERAL VISIT                506\n",
       "ARBOR MENTAL HEALTH                 19\n",
       "ARBOR MSK                           20\n",
       "ARBOR NEUROLOGY                      4\n",
       "ARBOR OPHTHALMOLOGY                 16\n",
       "ARBOR WOMEN'S HEALTH                 8\n",
       "BRIDGE TO CARE NOTE                  7\n",
       "HEALTH EDUCATOR NOTE               127\n",
       "LAB FOLLOW-UP NOTE                 340\n",
       "MISC NOTE                          345\n",
       "PATIENT NAVIGATOR NOTE             170\n",
       "PFC DERMATOLOGY VISIT               38\n",
       "PFC FAST TRACK                      31\n",
       "PFC FAST TRACK VACCINE              31\n",
       "PFC FOLLOW UP VISIT                404\n",
       "PFC HEP CLINIC VISIT                33\n",
       "PFC HEPATITIS VACCINE SCREENING      3\n",
       "PFC MENTAL HEALTH VISIT             10\n",
       "PFC NEW PATIENT VISIT              378\n",
       "PFC OPHTHALMOLOGY VISIT             49\n",
       "PFC WOMEN'S CLINIC VISIT            46\n",
       "PHONE                                5\n",
       "dtype: int64"
      ]
     },
     "execution_count": 36,
     "metadata": {},
     "output_type": "execute_result"
    }
   ],
   "source": [
    "df_visits_clean.groupby('VisitType').size()"
   ]
  },
  {
   "cell_type": "code",
   "execution_count": 41,
   "metadata": {},
   "outputs": [
    {
     "name": "stdout",
     "output_type": "stream",
     "text": [
      "2642\n",
      "[[ 0.  0.  0. 19.  0.  0.  0.  0.  0.  4. 27.  6.  1. 23.  0.  3.  2.]\n",
      " [ 4.  0.  0. 44.  0.  5.  0.  4.  0.  0. 33.  0.  0. 40.  7.  3.  2.]\n",
      " [ 0.  0.  0. 31.  0.  0.  1.  2.  1.  7. 34.  0.  0. 18.  0.  5. 14.]\n",
      " [ 0.  1.  0. 11.  2.  0.  0.  0.  0.  0. 30.  0.  1. 25.  6.  2.  1.]\n",
      " [ 1.  0.  0. 42.  1.  0.  0.  0.  1.  3. 21.  9.  0. 29.  2.  3.  1.]\n",
      " [ 0.  0.  0. 25.  0.  0.  0.  0.  0.  0. 16.  0.  2. 13.  0.  3.  1.]\n",
      " [ 0.  0.  0. 23.  3.  6.  0.  0.  0.  6. 12.  6.  0. 14.  2.  0.  2.]\n",
      " [ 0.  0.  0. 22.  5.  0.  0.  0.  0.  0. 22.  5.  0. 36.  7.  5.  0.]\n",
      " [ 3.  0.  0. 36.  0.  0.  0.  0.  0.  6. 28.  0.  3. 16.  0.  5.  2.]\n",
      " [ 0.  2.  0. 29.  2.  0.  0.  0.  3.  0. 25.  4.  0. 37.  5.  0.  1.]\n",
      " [ 0.  0.  1. 42.  3.  3.  2.  0.  2.  5. 25.  0.  0. 29.  6.  1.  0.]\n",
      " [ 4.  1.  2. 51.  0.  3.  0.  5.  0.  0. 35.  3.  3. 33.  0.  4.  1.]\n",
      " [ 0.  0.  7. 34.  0.  0.  0.  0.  0.  4. 34.  0.  0. 25.  3.  5.  0.]\n",
      " [ 0.  5.  0. 56.  0.  3.  1.  0.  1.  0. 36.  0.  0. 17.  9.  6.  4.]\n",
      " [ 0.  0.  0. 41.  3.  0.  0.  5.  0.  3. 26.  0.  0. 23.  2.  1.  0.]]\n",
      "['6/2017', '7/2017', '8/2017', '9/2017', '10/2017', '11/2017', '12/2017', '1/2018', '2/2018', '3/2018', '4/2018', '5/2018', '6/2018', '7/2018', '8/2018']\n"
     ]
    },
    {
     "data": {
      "text/html": [
       "<div>\n",
       "<style scoped>\n",
       "    .dataframe tbody tr th:only-of-type {\n",
       "        vertical-align: middle;\n",
       "    }\n",
       "\n",
       "    .dataframe tbody tr th {\n",
       "        vertical-align: top;\n",
       "    }\n",
       "\n",
       "    .dataframe thead th {\n",
       "        text-align: right;\n",
       "    }\n",
       "</style>\n",
       "<table border=\"1\" class=\"dataframe\">\n",
       "  <thead>\n",
       "    <tr style=\"text-align: right;\">\n",
       "      <th></th>\n",
       "      <th>ARBOR CARDIOLOGY</th>\n",
       "      <th>ARBOR DERMATOLOGY</th>\n",
       "      <th>ARBOR FOLLOW-UP VISIT</th>\n",
       "      <th>ARBOR GENERAL VISIT</th>\n",
       "      <th>ARBOR MENTAL HEALTH</th>\n",
       "      <th>ARBOR MSK</th>\n",
       "      <th>ARBOR NEUROLOGY</th>\n",
       "      <th>ARBOR OPHTHALMOLOGY</th>\n",
       "      <th>ARBOR WOMEN'S HEALTH</th>\n",
       "      <th>PFC DERMATOLOGY VISIT</th>\n",
       "      <th>PFC FAST TRACK VACCINE</th>\n",
       "      <th>PFC FOLLOW UP VISIT</th>\n",
       "      <th>PFC HEP CLINIC VISIT</th>\n",
       "      <th>PFC MENTAL HEALTH VISIT</th>\n",
       "      <th>PFC NEW PATIENT VISIT</th>\n",
       "      <th>PFC OPHTHALMOLOGY VISIT</th>\n",
       "      <th>PFC WOMEN'S CLINIC VISIT</th>\n",
       "    </tr>\n",
       "  </thead>\n",
       "  <tbody>\n",
       "    <tr>\n",
       "      <th>6/2017</th>\n",
       "      <td>0.0</td>\n",
       "      <td>0.0</td>\n",
       "      <td>0.0</td>\n",
       "      <td>19.0</td>\n",
       "      <td>0.0</td>\n",
       "      <td>0.0</td>\n",
       "      <td>0.0</td>\n",
       "      <td>0.0</td>\n",
       "      <td>0.0</td>\n",
       "      <td>4.0</td>\n",
       "      <td>2.0</td>\n",
       "      <td>27.0</td>\n",
       "      <td>6.0</td>\n",
       "      <td>1.0</td>\n",
       "      <td>23.0</td>\n",
       "      <td>0.0</td>\n",
       "      <td>3.0</td>\n",
       "    </tr>\n",
       "    <tr>\n",
       "      <th>7/2017</th>\n",
       "      <td>4.0</td>\n",
       "      <td>0.0</td>\n",
       "      <td>0.0</td>\n",
       "      <td>44.0</td>\n",
       "      <td>0.0</td>\n",
       "      <td>5.0</td>\n",
       "      <td>0.0</td>\n",
       "      <td>4.0</td>\n",
       "      <td>0.0</td>\n",
       "      <td>0.0</td>\n",
       "      <td>2.0</td>\n",
       "      <td>33.0</td>\n",
       "      <td>0.0</td>\n",
       "      <td>0.0</td>\n",
       "      <td>40.0</td>\n",
       "      <td>7.0</td>\n",
       "      <td>3.0</td>\n",
       "    </tr>\n",
       "    <tr>\n",
       "      <th>8/2017</th>\n",
       "      <td>0.0</td>\n",
       "      <td>0.0</td>\n",
       "      <td>0.0</td>\n",
       "      <td>31.0</td>\n",
       "      <td>0.0</td>\n",
       "      <td>0.0</td>\n",
       "      <td>1.0</td>\n",
       "      <td>2.0</td>\n",
       "      <td>1.0</td>\n",
       "      <td>7.0</td>\n",
       "      <td>14.0</td>\n",
       "      <td>34.0</td>\n",
       "      <td>0.0</td>\n",
       "      <td>0.0</td>\n",
       "      <td>18.0</td>\n",
       "      <td>0.0</td>\n",
       "      <td>5.0</td>\n",
       "    </tr>\n",
       "    <tr>\n",
       "      <th>9/2017</th>\n",
       "      <td>0.0</td>\n",
       "      <td>1.0</td>\n",
       "      <td>0.0</td>\n",
       "      <td>11.0</td>\n",
       "      <td>2.0</td>\n",
       "      <td>0.0</td>\n",
       "      <td>0.0</td>\n",
       "      <td>0.0</td>\n",
       "      <td>0.0</td>\n",
       "      <td>0.0</td>\n",
       "      <td>1.0</td>\n",
       "      <td>30.0</td>\n",
       "      <td>0.0</td>\n",
       "      <td>1.0</td>\n",
       "      <td>25.0</td>\n",
       "      <td>6.0</td>\n",
       "      <td>2.0</td>\n",
       "    </tr>\n",
       "    <tr>\n",
       "      <th>10/2017</th>\n",
       "      <td>1.0</td>\n",
       "      <td>0.0</td>\n",
       "      <td>0.0</td>\n",
       "      <td>42.0</td>\n",
       "      <td>1.0</td>\n",
       "      <td>0.0</td>\n",
       "      <td>0.0</td>\n",
       "      <td>0.0</td>\n",
       "      <td>1.0</td>\n",
       "      <td>3.0</td>\n",
       "      <td>1.0</td>\n",
       "      <td>21.0</td>\n",
       "      <td>9.0</td>\n",
       "      <td>0.0</td>\n",
       "      <td>29.0</td>\n",
       "      <td>2.0</td>\n",
       "      <td>3.0</td>\n",
       "    </tr>\n",
       "    <tr>\n",
       "      <th>11/2017</th>\n",
       "      <td>0.0</td>\n",
       "      <td>0.0</td>\n",
       "      <td>0.0</td>\n",
       "      <td>25.0</td>\n",
       "      <td>0.0</td>\n",
       "      <td>0.0</td>\n",
       "      <td>0.0</td>\n",
       "      <td>0.0</td>\n",
       "      <td>0.0</td>\n",
       "      <td>0.0</td>\n",
       "      <td>1.0</td>\n",
       "      <td>16.0</td>\n",
       "      <td>0.0</td>\n",
       "      <td>2.0</td>\n",
       "      <td>13.0</td>\n",
       "      <td>0.0</td>\n",
       "      <td>3.0</td>\n",
       "    </tr>\n",
       "    <tr>\n",
       "      <th>12/2017</th>\n",
       "      <td>0.0</td>\n",
       "      <td>0.0</td>\n",
       "      <td>0.0</td>\n",
       "      <td>23.0</td>\n",
       "      <td>3.0</td>\n",
       "      <td>6.0</td>\n",
       "      <td>0.0</td>\n",
       "      <td>0.0</td>\n",
       "      <td>0.0</td>\n",
       "      <td>6.0</td>\n",
       "      <td>2.0</td>\n",
       "      <td>12.0</td>\n",
       "      <td>6.0</td>\n",
       "      <td>0.0</td>\n",
       "      <td>14.0</td>\n",
       "      <td>2.0</td>\n",
       "      <td>0.0</td>\n",
       "    </tr>\n",
       "    <tr>\n",
       "      <th>1/2018</th>\n",
       "      <td>0.0</td>\n",
       "      <td>0.0</td>\n",
       "      <td>0.0</td>\n",
       "      <td>22.0</td>\n",
       "      <td>5.0</td>\n",
       "      <td>0.0</td>\n",
       "      <td>0.0</td>\n",
       "      <td>0.0</td>\n",
       "      <td>0.0</td>\n",
       "      <td>0.0</td>\n",
       "      <td>0.0</td>\n",
       "      <td>22.0</td>\n",
       "      <td>5.0</td>\n",
       "      <td>0.0</td>\n",
       "      <td>36.0</td>\n",
       "      <td>7.0</td>\n",
       "      <td>5.0</td>\n",
       "    </tr>\n",
       "    <tr>\n",
       "      <th>2/2018</th>\n",
       "      <td>3.0</td>\n",
       "      <td>0.0</td>\n",
       "      <td>0.0</td>\n",
       "      <td>36.0</td>\n",
       "      <td>0.0</td>\n",
       "      <td>0.0</td>\n",
       "      <td>0.0</td>\n",
       "      <td>0.0</td>\n",
       "      <td>0.0</td>\n",
       "      <td>6.0</td>\n",
       "      <td>2.0</td>\n",
       "      <td>28.0</td>\n",
       "      <td>0.0</td>\n",
       "      <td>3.0</td>\n",
       "      <td>16.0</td>\n",
       "      <td>0.0</td>\n",
       "      <td>5.0</td>\n",
       "    </tr>\n",
       "    <tr>\n",
       "      <th>3/2018</th>\n",
       "      <td>0.0</td>\n",
       "      <td>2.0</td>\n",
       "      <td>0.0</td>\n",
       "      <td>29.0</td>\n",
       "      <td>2.0</td>\n",
       "      <td>0.0</td>\n",
       "      <td>0.0</td>\n",
       "      <td>0.0</td>\n",
       "      <td>3.0</td>\n",
       "      <td>0.0</td>\n",
       "      <td>1.0</td>\n",
       "      <td>25.0</td>\n",
       "      <td>4.0</td>\n",
       "      <td>0.0</td>\n",
       "      <td>37.0</td>\n",
       "      <td>5.0</td>\n",
       "      <td>0.0</td>\n",
       "    </tr>\n",
       "    <tr>\n",
       "      <th>4/2018</th>\n",
       "      <td>0.0</td>\n",
       "      <td>0.0</td>\n",
       "      <td>1.0</td>\n",
       "      <td>42.0</td>\n",
       "      <td>3.0</td>\n",
       "      <td>3.0</td>\n",
       "      <td>2.0</td>\n",
       "      <td>0.0</td>\n",
       "      <td>2.0</td>\n",
       "      <td>5.0</td>\n",
       "      <td>0.0</td>\n",
       "      <td>25.0</td>\n",
       "      <td>0.0</td>\n",
       "      <td>0.0</td>\n",
       "      <td>29.0</td>\n",
       "      <td>6.0</td>\n",
       "      <td>1.0</td>\n",
       "    </tr>\n",
       "    <tr>\n",
       "      <th>5/2018</th>\n",
       "      <td>4.0</td>\n",
       "      <td>1.0</td>\n",
       "      <td>2.0</td>\n",
       "      <td>51.0</td>\n",
       "      <td>0.0</td>\n",
       "      <td>3.0</td>\n",
       "      <td>0.0</td>\n",
       "      <td>5.0</td>\n",
       "      <td>0.0</td>\n",
       "      <td>0.0</td>\n",
       "      <td>1.0</td>\n",
       "      <td>35.0</td>\n",
       "      <td>3.0</td>\n",
       "      <td>3.0</td>\n",
       "      <td>33.0</td>\n",
       "      <td>0.0</td>\n",
       "      <td>4.0</td>\n",
       "    </tr>\n",
       "    <tr>\n",
       "      <th>6/2018</th>\n",
       "      <td>0.0</td>\n",
       "      <td>0.0</td>\n",
       "      <td>7.0</td>\n",
       "      <td>34.0</td>\n",
       "      <td>0.0</td>\n",
       "      <td>0.0</td>\n",
       "      <td>0.0</td>\n",
       "      <td>0.0</td>\n",
       "      <td>0.0</td>\n",
       "      <td>4.0</td>\n",
       "      <td>0.0</td>\n",
       "      <td>34.0</td>\n",
       "      <td>0.0</td>\n",
       "      <td>0.0</td>\n",
       "      <td>25.0</td>\n",
       "      <td>3.0</td>\n",
       "      <td>5.0</td>\n",
       "    </tr>\n",
       "    <tr>\n",
       "      <th>7/2018</th>\n",
       "      <td>0.0</td>\n",
       "      <td>5.0</td>\n",
       "      <td>0.0</td>\n",
       "      <td>56.0</td>\n",
       "      <td>0.0</td>\n",
       "      <td>3.0</td>\n",
       "      <td>1.0</td>\n",
       "      <td>0.0</td>\n",
       "      <td>1.0</td>\n",
       "      <td>0.0</td>\n",
       "      <td>4.0</td>\n",
       "      <td>36.0</td>\n",
       "      <td>0.0</td>\n",
       "      <td>0.0</td>\n",
       "      <td>17.0</td>\n",
       "      <td>9.0</td>\n",
       "      <td>6.0</td>\n",
       "    </tr>\n",
       "    <tr>\n",
       "      <th>8/2018</th>\n",
       "      <td>0.0</td>\n",
       "      <td>0.0</td>\n",
       "      <td>0.0</td>\n",
       "      <td>41.0</td>\n",
       "      <td>3.0</td>\n",
       "      <td>0.0</td>\n",
       "      <td>0.0</td>\n",
       "      <td>5.0</td>\n",
       "      <td>0.0</td>\n",
       "      <td>3.0</td>\n",
       "      <td>0.0</td>\n",
       "      <td>26.0</td>\n",
       "      <td>0.0</td>\n",
       "      <td>0.0</td>\n",
       "      <td>23.0</td>\n",
       "      <td>2.0</td>\n",
       "      <td>1.0</td>\n",
       "    </tr>\n",
       "  </tbody>\n",
       "</table>\n",
       "</div>"
      ],
      "text/plain": [
       "         ARBOR CARDIOLOGY  ARBOR DERMATOLOGY  ARBOR FOLLOW-UP VISIT  \\\n",
       "6/2017                0.0                0.0                    0.0   \n",
       "7/2017                4.0                0.0                    0.0   \n",
       "8/2017                0.0                0.0                    0.0   \n",
       "9/2017                0.0                1.0                    0.0   \n",
       "10/2017               1.0                0.0                    0.0   \n",
       "11/2017               0.0                0.0                    0.0   \n",
       "12/2017               0.0                0.0                    0.0   \n",
       "1/2018                0.0                0.0                    0.0   \n",
       "2/2018                3.0                0.0                    0.0   \n",
       "3/2018                0.0                2.0                    0.0   \n",
       "4/2018                0.0                0.0                    1.0   \n",
       "5/2018                4.0                1.0                    2.0   \n",
       "6/2018                0.0                0.0                    7.0   \n",
       "7/2018                0.0                5.0                    0.0   \n",
       "8/2018                0.0                0.0                    0.0   \n",
       "\n",
       "         ARBOR GENERAL VISIT  ARBOR MENTAL HEALTH  ARBOR MSK  ARBOR NEUROLOGY  \\\n",
       "6/2017                  19.0                  0.0        0.0              0.0   \n",
       "7/2017                  44.0                  0.0        5.0              0.0   \n",
       "8/2017                  31.0                  0.0        0.0              1.0   \n",
       "9/2017                  11.0                  2.0        0.0              0.0   \n",
       "10/2017                 42.0                  1.0        0.0              0.0   \n",
       "11/2017                 25.0                  0.0        0.0              0.0   \n",
       "12/2017                 23.0                  3.0        6.0              0.0   \n",
       "1/2018                  22.0                  5.0        0.0              0.0   \n",
       "2/2018                  36.0                  0.0        0.0              0.0   \n",
       "3/2018                  29.0                  2.0        0.0              0.0   \n",
       "4/2018                  42.0                  3.0        3.0              2.0   \n",
       "5/2018                  51.0                  0.0        3.0              0.0   \n",
       "6/2018                  34.0                  0.0        0.0              0.0   \n",
       "7/2018                  56.0                  0.0        3.0              1.0   \n",
       "8/2018                  41.0                  3.0        0.0              0.0   \n",
       "\n",
       "         ARBOR OPHTHALMOLOGY  ARBOR WOMEN'S HEALTH  PFC DERMATOLOGY VISIT  \\\n",
       "6/2017                   0.0                   0.0                    4.0   \n",
       "7/2017                   4.0                   0.0                    0.0   \n",
       "8/2017                   2.0                   1.0                    7.0   \n",
       "9/2017                   0.0                   0.0                    0.0   \n",
       "10/2017                  0.0                   1.0                    3.0   \n",
       "11/2017                  0.0                   0.0                    0.0   \n",
       "12/2017                  0.0                   0.0                    6.0   \n",
       "1/2018                   0.0                   0.0                    0.0   \n",
       "2/2018                   0.0                   0.0                    6.0   \n",
       "3/2018                   0.0                   3.0                    0.0   \n",
       "4/2018                   0.0                   2.0                    5.0   \n",
       "5/2018                   5.0                   0.0                    0.0   \n",
       "6/2018                   0.0                   0.0                    4.0   \n",
       "7/2018                   0.0                   1.0                    0.0   \n",
       "8/2018                   5.0                   0.0                    3.0   \n",
       "\n",
       "         PFC FAST TRACK VACCINE  PFC FOLLOW UP VISIT  PFC HEP CLINIC VISIT  \\\n",
       "6/2017                      2.0                 27.0                   6.0   \n",
       "7/2017                      2.0                 33.0                   0.0   \n",
       "8/2017                     14.0                 34.0                   0.0   \n",
       "9/2017                      1.0                 30.0                   0.0   \n",
       "10/2017                     1.0                 21.0                   9.0   \n",
       "11/2017                     1.0                 16.0                   0.0   \n",
       "12/2017                     2.0                 12.0                   6.0   \n",
       "1/2018                      0.0                 22.0                   5.0   \n",
       "2/2018                      2.0                 28.0                   0.0   \n",
       "3/2018                      1.0                 25.0                   4.0   \n",
       "4/2018                      0.0                 25.0                   0.0   \n",
       "5/2018                      1.0                 35.0                   3.0   \n",
       "6/2018                      0.0                 34.0                   0.0   \n",
       "7/2018                      4.0                 36.0                   0.0   \n",
       "8/2018                      0.0                 26.0                   0.0   \n",
       "\n",
       "         PFC MENTAL HEALTH VISIT  PFC NEW PATIENT VISIT  \\\n",
       "6/2017                       1.0                   23.0   \n",
       "7/2017                       0.0                   40.0   \n",
       "8/2017                       0.0                   18.0   \n",
       "9/2017                       1.0                   25.0   \n",
       "10/2017                      0.0                   29.0   \n",
       "11/2017                      2.0                   13.0   \n",
       "12/2017                      0.0                   14.0   \n",
       "1/2018                       0.0                   36.0   \n",
       "2/2018                       3.0                   16.0   \n",
       "3/2018                       0.0                   37.0   \n",
       "4/2018                       0.0                   29.0   \n",
       "5/2018                       3.0                   33.0   \n",
       "6/2018                       0.0                   25.0   \n",
       "7/2018                       0.0                   17.0   \n",
       "8/2018                       0.0                   23.0   \n",
       "\n",
       "         PFC OPHTHALMOLOGY VISIT  PFC WOMEN'S CLINIC VISIT  \n",
       "6/2017                       0.0                       3.0  \n",
       "7/2017                       7.0                       3.0  \n",
       "8/2017                       0.0                       5.0  \n",
       "9/2017                       6.0                       2.0  \n",
       "10/2017                      2.0                       3.0  \n",
       "11/2017                      0.0                       3.0  \n",
       "12/2017                      2.0                       0.0  \n",
       "1/2018                       7.0                       5.0  \n",
       "2/2018                       0.0                       5.0  \n",
       "3/2018                       5.0                       0.0  \n",
       "4/2018                       6.0                       1.0  \n",
       "5/2018                       0.0                       4.0  \n",
       "6/2018                       3.0                       5.0  \n",
       "7/2018                       9.0                       6.0  \n",
       "8/2018                       2.0                       1.0  "
      ]
     },
     "execution_count": 41,
     "metadata": {},
     "output_type": "execute_result"
    }
   ],
   "source": [
    "ALL_SPEC_KEYS = [\n",
    "    'ARBOR CARDIOLOGY',\n",
    "    'ARBOR DERMATOLOGY',\n",
    "    'ARBOR FOLLOW-UP VISIT',\n",
    "    'ARBOR GENERAL VISIT',\n",
    "    'ARBOR MENTAL HEALTH',\n",
    "    'ARBOR MSK',\n",
    "    'ARBOR NEUROLOGY',\n",
    "    'ARBOR OPHTHALMOLOGY',\n",
    "    \"ARBOR WOMEN'S HEALTH\",\n",
    "    'PFC DERMATOLOGY VISIT',\n",
    "    'PFC FOLLOW UP VISIT',\n",
    "    'PFC HEP CLINIC VISIT',\n",
    "    'PFC MENTAL HEALTH VISIT',\n",
    "    'PFC NEW PATIENT VISIT',\n",
    "    'PFC OPHTHALMOLOGY VISIT',\n",
    "    \"PFC WOMEN'S CLINIC VISIT\",\n",
    "    'PFC FAST TRACK VACCINE'\n",
    "]\n",
    "\n",
    "\n",
    "periodic_visits, spec_usage_mom, time_points = visits_periodic(df_visits_clean, \n",
    "                                                               group_keys=ALL_SPEC_KEYS)\n",
    "print np.sum(periodic_visits)\n",
    "print spec_usage_mom\n",
    "print time_points\n",
    "\n",
    "joint_spec_df = pd.DataFrame({clinic:spec_usage_mom[:,col_idx] \n",
    "                                     for clinic, col_idx in zip(ALL_SPEC_KEYS, range(spec_usage_mom.shape[1]))\n",
    "                                    }, \n",
    "                                    index = time_points)\n",
    "\n",
    "joint_spec_df.head(20)\n"
   ]
  },
  {
   "cell_type": "code",
   "execution_count": 38,
   "metadata": {},
   "outputs": [],
   "source": [
    "joint_spec_df.to_csv('joint_spec_clinics.csv')"
   ]
  },
  {
   "cell_type": "code",
   "execution_count": null,
   "metadata": {},
   "outputs": [],
   "source": []
  }
 ],
 "metadata": {
  "kernelspec": {
   "display_name": "Python 2",
   "language": "python",
   "name": "python2"
  },
  "language_info": {
   "codemirror_mode": {
    "name": "ipython",
    "version": 2
   },
   "file_extension": ".py",
   "mimetype": "text/x-python",
   "name": "python",
   "nbconvert_exporter": "python",
   "pygments_lexer": "ipython2",
   "version": "2.7.14"
  }
 },
 "nbformat": 4,
 "nbformat_minor": 2
}
