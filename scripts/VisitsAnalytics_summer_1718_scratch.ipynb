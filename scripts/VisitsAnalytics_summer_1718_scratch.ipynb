{
 "cells": [
  {
   "cell_type": "markdown",
   "metadata": {},
   "source": [
    "# Playing with the visits table "
   ]
  },
  {
   "cell_type": "markdown",
   "metadata": {},
   "source": [
    "### Alex Lu | Summer Q 17-18  \n",
    "---\n",
    "\n",
    "September 2018"
   ]
  },
  {
   "cell_type": "markdown",
   "metadata": {},
   "source": [
    "**OBJECTIVE**\n",
    "\n",
    "---\n",
    "\n",
    "I have been tasked with getting distributions of age, sex, for Arbor and PFC patients over the last year. This notebook examines the age and sex distributions from a visits paradigm (and not a unique'd patients paradigm). "
   ]
  },
  {
   "cell_type": "markdown",
   "metadata": {},
   "source": [
    "First, let's import all of the stuff that we'll need"
   ]
  },
  {
   "cell_type": "code",
   "execution_count": 90,
   "metadata": {},
   "outputs": [],
   "source": [
    "import numpy as np\n",
    "import pandas as pd\n",
    "import matplotlib.pyplot as plt\n",
    "import csv\n",
    "import seaborn as sns\n",
    "from utils.indicator import *\n",
    "from utils.file_ops import *\n",
    "from datetime import datetime\n",
    "%matplotlib inline"
   ]
  },
  {
   "cell_type": "markdown",
   "metadata": {},
   "source": [
    "We want to filter on the time of visit for longitudinal visualization. First, we should do a conversion on the format of the time string to make it more workable. Then, we're going to make this new 'ts' column the index, and drop the string form VisitDate series. "
   ]
  },
  {
   "cell_type": "code",
   "execution_count": 91,
   "metadata": {},
   "outputs": [],
   "source": [
    "def time_filter(t1, t2, df):\n",
    "    # accepts numerical tuples of form (year, mon, day)\n",
    "    bound1 = datetime(*t1)\n",
    "    bound2 = datetime(*t2)\n",
    "    return df[bound1:bound2]"
   ]
  },
  {
   "cell_type": "code",
   "execution_count": 92,
   "metadata": {
    "scrolled": true
   },
   "outputs": [
    {
     "data": {
      "text/html": [
       "<div>\n",
       "<style scoped>\n",
       "    .dataframe tbody tr th:only-of-type {\n",
       "        vertical-align: middle;\n",
       "    }\n",
       "\n",
       "    .dataframe tbody tr th {\n",
       "        vertical-align: top;\n",
       "    }\n",
       "\n",
       "    .dataframe thead th {\n",
       "        text-align: right;\n",
       "    }\n",
       "</style>\n",
       "<table border=\"1\" class=\"dataframe\">\n",
       "  <thead>\n",
       "    <tr style=\"text-align: right;\">\n",
       "      <th></th>\n",
       "      <th>LocationAbbreviation</th>\n",
       "      <th>PatientNumber</th>\n",
       "      <th>Age(Year)</th>\n",
       "      <th>VisitType</th>\n",
       "      <th>DateFirstKnown</th>\n",
       "      <th>VisitDateTime</th>\n",
       "      <th>Sex</th>\n",
       "    </tr>\n",
       "  </thead>\n",
       "  <tbody>\n",
       "    <tr>\n",
       "      <th>0</th>\n",
       "      <td>AFC</td>\n",
       "      <td>N0067530</td>\n",
       "      <td>38</td>\n",
       "      <td>ADMIN CHART REVIEW NOTE</td>\n",
       "      <td>6/3/2018 9:55:38 AM</td>\n",
       "      <td>6/3/2018 10:40:19 AM</td>\n",
       "      <td>F</td>\n",
       "    </tr>\n",
       "    <tr>\n",
       "      <th>1</th>\n",
       "      <td>AFC</td>\n",
       "      <td>N0066705</td>\n",
       "      <td>20</td>\n",
       "      <td>ADMIN CHART REVIEW NOTE</td>\n",
       "      <td>4/29/2018 11:32:06 AM</td>\n",
       "      <td>6/3/2018 12:10:22 PM</td>\n",
       "      <td>F</td>\n",
       "    </tr>\n",
       "    <tr>\n",
       "      <th>2</th>\n",
       "      <td>REMOTE-PFC</td>\n",
       "      <td>N0067950</td>\n",
       "      <td>61</td>\n",
       "      <td>ADMIN CHART REVIEW NOTE</td>\n",
       "      <td>6/30/2018 8:36:58 AM</td>\n",
       "      <td>6/30/2018 10:26:46 AM</td>\n",
       "      <td>F</td>\n",
       "    </tr>\n",
       "    <tr>\n",
       "      <th>3</th>\n",
       "      <td>AFC</td>\n",
       "      <td>N0067305</td>\n",
       "      <td>83</td>\n",
       "      <td>ADMIN CHART REVIEW NOTE</td>\n",
       "      <td>5/26/2018 10:25:55 AM</td>\n",
       "      <td>7/1/2018 10:43:02 AM</td>\n",
       "      <td>U</td>\n",
       "    </tr>\n",
       "    <tr>\n",
       "      <th>4</th>\n",
       "      <td>REMOTE-PFC</td>\n",
       "      <td>N0051735</td>\n",
       "      <td>52</td>\n",
       "      <td>ADMIN CHART REVIEW NOTE</td>\n",
       "      <td>10/31/2015 9:48:19 AM</td>\n",
       "      <td>7/28/2018 9:54:06 AM</td>\n",
       "      <td>F</td>\n",
       "    </tr>\n",
       "  </tbody>\n",
       "</table>\n",
       "</div>"
      ],
      "text/plain": [
       "  LocationAbbreviation PatientNumber  Age(Year)                VisitType  \\\n",
       "0                  AFC      N0067530         38  ADMIN CHART REVIEW NOTE   \n",
       "1                  AFC      N0066705         20  ADMIN CHART REVIEW NOTE   \n",
       "2           REMOTE-PFC      N0067950         61  ADMIN CHART REVIEW NOTE   \n",
       "3                  AFC      N0067305         83  ADMIN CHART REVIEW NOTE   \n",
       "4           REMOTE-PFC      N0051735         52  ADMIN CHART REVIEW NOTE   \n",
       "\n",
       "          DateFirstKnown          VisitDateTime Sex  \n",
       "0    6/3/2018 9:55:38 AM   6/3/2018 10:40:19 AM   F  \n",
       "1  4/29/2018 11:32:06 AM   6/3/2018 12:10:22 PM   F  \n",
       "2   6/30/2018 8:36:58 AM  6/30/2018 10:26:46 AM   F  \n",
       "3  5/26/2018 10:25:55 AM   7/1/2018 10:43:02 AM   U  \n",
       "4  10/31/2015 9:48:19 AM   7/28/2018 9:54:06 AM   F  "
      ]
     },
     "execution_count": 92,
     "metadata": {},
     "output_type": "execute_result"
    }
   ],
   "source": [
    "path_visits = \"visits_data/both_clinics_all_summer18.csv\"\n",
    "df_visits = pd.read_csv(path_visits, error_bad_lines=False, header=0)\n",
    "df_visits.head()"
   ]
  },
  {
   "cell_type": "code",
   "execution_count": 93,
   "metadata": {},
   "outputs": [
    {
     "name": "stdout",
     "output_type": "stream",
     "text": [
      "        Age(Year)\n",
      "count  131.000000\n",
      "mean    46.664122\n",
      "std     17.963044\n",
      "min     19.000000\n",
      "25%     29.500000\n",
      "50%     49.000000\n",
      "75%     63.000000\n",
      "max     77.000000\n",
      "       Age(Year)\n",
      "count  66.000000\n",
      "mean   52.560606\n",
      "std    17.375605\n",
      "min     4.000000\n",
      "25%    47.250000\n",
      "50%    55.000000\n",
      "75%    63.000000\n",
      "max    81.000000\n"
     ]
    }
   ],
   "source": [
    "df_visits['VisitDateTimeTS'] = pd.to_datetime((df_visits['VisitDateTime']))\n",
    "df_visits['DateFirstKnownTS'] = pd.to_datetime((df_visits['DateFirstKnown']))\n",
    "df_visits.index = df_visits['VisitDateTimeTS']\n",
    "#df_visits = df_visits.iloc[::-1]\n",
    "del df_visits['DateFirstKnown']\n",
    "del df_visits['VisitDateTime']\n",
    "\n",
    "df_visits = df_visits[df_visits['LocationAbbreviation'] != 'TEST']\n",
    "arbor_general_visits = df_visits[df_visits['VisitType'] == 'ARBOR GENERAL VISIT']\n",
    "pfc_general_visits = df_visits[df_visits['VisitType'] == 'PFC NEW PATIENT VISIT']\n",
    "\n",
    "print arbor_general_visits.describe()\n",
    "print pfc_general_visits.describe()"
   ]
  },
  {
   "cell_type": "code",
   "execution_count": 94,
   "metadata": {},
   "outputs": [
    {
     "data": {
      "text/html": [
       "<div>\n",
       "<style scoped>\n",
       "    .dataframe tbody tr th:only-of-type {\n",
       "        vertical-align: middle;\n",
       "    }\n",
       "\n",
       "    .dataframe tbody tr th {\n",
       "        vertical-align: top;\n",
       "    }\n",
       "\n",
       "    .dataframe thead th {\n",
       "        text-align: right;\n",
       "    }\n",
       "</style>\n",
       "<table border=\"1\" class=\"dataframe\">\n",
       "  <thead>\n",
       "    <tr style=\"text-align: right;\">\n",
       "      <th></th>\n",
       "      <th>LocationAbbreviation</th>\n",
       "      <th>PatientNumber</th>\n",
       "      <th>Age(Year)</th>\n",
       "      <th>VisitType</th>\n",
       "      <th>Sex</th>\n",
       "      <th>VisitDateTimeTS</th>\n",
       "      <th>DateFirstKnownTS</th>\n",
       "    </tr>\n",
       "    <tr>\n",
       "      <th>VisitDateTimeTS</th>\n",
       "      <th></th>\n",
       "      <th></th>\n",
       "      <th></th>\n",
       "      <th></th>\n",
       "      <th></th>\n",
       "      <th></th>\n",
       "      <th></th>\n",
       "    </tr>\n",
       "  </thead>\n",
       "  <tbody>\n",
       "    <tr>\n",
       "      <th>2018-06-03 09:45:00</th>\n",
       "      <td>AFC</td>\n",
       "      <td>N0067522</td>\n",
       "      <td>25</td>\n",
       "      <td>ARBOR GENERAL VISIT</td>\n",
       "      <td>F</td>\n",
       "      <td>2018-06-03 09:45:00</td>\n",
       "      <td>2018-06-03 09:04:32</td>\n",
       "    </tr>\n",
       "    <tr>\n",
       "      <th>2018-06-03 09:45:00</th>\n",
       "      <td>AFC</td>\n",
       "      <td>N0067508</td>\n",
       "      <td>19</td>\n",
       "      <td>ARBOR GENERAL VISIT</td>\n",
       "      <td>F</td>\n",
       "      <td>2018-06-03 09:45:00</td>\n",
       "      <td>2018-06-03 08:44:35</td>\n",
       "    </tr>\n",
       "    <tr>\n",
       "      <th>2018-06-03 09:45:00</th>\n",
       "      <td>AFC</td>\n",
       "      <td>N0067515</td>\n",
       "      <td>19</td>\n",
       "      <td>ARBOR GENERAL VISIT</td>\n",
       "      <td>F</td>\n",
       "      <td>2018-06-03 09:45:00</td>\n",
       "      <td>2018-06-03 08:46:56</td>\n",
       "    </tr>\n",
       "    <tr>\n",
       "      <th>2018-06-03 09:45:00</th>\n",
       "      <td>AFC</td>\n",
       "      <td>N0051120</td>\n",
       "      <td>66</td>\n",
       "      <td>ARBOR GENERAL VISIT</td>\n",
       "      <td>M</td>\n",
       "      <td>2018-06-03 09:45:00</td>\n",
       "      <td>2015-09-27 10:08:41</td>\n",
       "    </tr>\n",
       "    <tr>\n",
       "      <th>2018-06-03 10:00:00</th>\n",
       "      <td>AFC</td>\n",
       "      <td>N0067110</td>\n",
       "      <td>56</td>\n",
       "      <td>ARBOR GENERAL VISIT</td>\n",
       "      <td>F</td>\n",
       "      <td>2018-06-03 10:00:00</td>\n",
       "      <td>2018-05-20 08:51:31</td>\n",
       "    </tr>\n",
       "  </tbody>\n",
       "</table>\n",
       "</div>"
      ],
      "text/plain": [
       "                    LocationAbbreviation PatientNumber  Age(Year)  \\\n",
       "VisitDateTimeTS                                                     \n",
       "2018-06-03 09:45:00                  AFC      N0067522         25   \n",
       "2018-06-03 09:45:00                  AFC      N0067508         19   \n",
       "2018-06-03 09:45:00                  AFC      N0067515         19   \n",
       "2018-06-03 09:45:00                  AFC      N0051120         66   \n",
       "2018-06-03 10:00:00                  AFC      N0067110         56   \n",
       "\n",
       "                               VisitType Sex     VisitDateTimeTS  \\\n",
       "VisitDateTimeTS                                                    \n",
       "2018-06-03 09:45:00  ARBOR GENERAL VISIT   F 2018-06-03 09:45:00   \n",
       "2018-06-03 09:45:00  ARBOR GENERAL VISIT   F 2018-06-03 09:45:00   \n",
       "2018-06-03 09:45:00  ARBOR GENERAL VISIT   F 2018-06-03 09:45:00   \n",
       "2018-06-03 09:45:00  ARBOR GENERAL VISIT   M 2018-06-03 09:45:00   \n",
       "2018-06-03 10:00:00  ARBOR GENERAL VISIT   F 2018-06-03 10:00:00   \n",
       "\n",
       "                       DateFirstKnownTS  \n",
       "VisitDateTimeTS                          \n",
       "2018-06-03 09:45:00 2018-06-03 09:04:32  \n",
       "2018-06-03 09:45:00 2018-06-03 08:44:35  \n",
       "2018-06-03 09:45:00 2018-06-03 08:46:56  \n",
       "2018-06-03 09:45:00 2015-09-27 10:08:41  \n",
       "2018-06-03 10:00:00 2018-05-20 08:51:31  "
      ]
     },
     "execution_count": 94,
     "metadata": {},
     "output_type": "execute_result"
    }
   ],
   "source": [
    "arbor_general_visits.head(5)"
   ]
  },
  {
   "cell_type": "markdown",
   "metadata": {},
   "source": [
    "Let's take a look and make sure we're looking at the right stuff"
   ]
  },
  {
   "cell_type": "code",
   "execution_count": 95,
   "metadata": {},
   "outputs": [],
   "source": [
    "def temporal_distribution(df, ts_name = 'ts'):\n",
    "    '''\n",
    "\n",
    "    '''\n",
    "    time_gb = df.groupby(df[ts_name].dt.month)\n",
    "    plt.figure()\n",
    "    time_gb.plot()\n",
    "    plt.show()\n"
   ]
  },
  {
   "cell_type": "code",
   "execution_count": 96,
   "metadata": {},
   "outputs": [
    {
     "data": {
      "text/plain": [
       "F    0.519084\n",
       "M    0.389313\n",
       "U    0.091603\n",
       "Name: Sex, dtype: float64"
      ]
     },
     "execution_count": 96,
     "metadata": {},
     "output_type": "execute_result"
    }
   ],
   "source": [
    "arbor_general_visits['Sex'].value_counts(normalize=True)"
   ]
  },
  {
   "cell_type": "code",
   "execution_count": 97,
   "metadata": {},
   "outputs": [
    {
     "data": {
      "text/plain": [
       "F    0.515152\n",
       "M    0.333333\n",
       "U    0.151515\n",
       "Name: Sex, dtype: float64"
      ]
     },
     "execution_count": 97,
     "metadata": {},
     "output_type": "execute_result"
    }
   ],
   "source": [
    "pfc_general_visits['Sex'].value_counts(normalize=True)"
   ]
  },
  {
   "cell_type": "code",
   "execution_count": 98,
   "metadata": {},
   "outputs": [
    {
     "data": {
      "text/plain": [
       "(59.6, 65.4]      21\n",
       "(18.941, 24.8]    21\n",
       "(65.4, 71.2]      16\n",
       "(30.6, 36.4]      15\n",
       "(24.8, 30.6]      14\n",
       "(48.0, 53.8]      11\n",
       "(53.8, 59.6]      10\n",
       "(71.2, 77.0]       9\n",
       "(42.2, 48.0]       8\n",
       "(36.4, 42.2]       6\n",
       "Name: Age(Year), dtype: int64"
      ]
     },
     "execution_count": 98,
     "metadata": {},
     "output_type": "execute_result"
    }
   ],
   "source": [
    "arbor_general_visits['Age(Year)'].value_counts(bins=10)"
   ]
  },
  {
   "cell_type": "code",
   "execution_count": 99,
   "metadata": {},
   "outputs": [
    {
     "data": {
      "text/plain": [
       "(57.9, 65.6]     19\n",
       "(50.2, 57.9]     14\n",
       "(42.5, 50.2]      7\n",
       "(19.4, 27.1]      7\n",
       "(73.3, 81.0]      6\n",
       "(65.6, 73.3]      5\n",
       "(27.1, 34.8]      5\n",
       "(34.8, 42.5]      1\n",
       "(11.7, 19.4]      1\n",
       "(3.922, 11.7]     1\n",
       "Name: Age(Year), dtype: int64"
      ]
     },
     "execution_count": 99,
     "metadata": {},
     "output_type": "execute_result"
    }
   ],
   "source": [
    "pfc_general_visits['Age(Year)'].value_counts(bins=10)"
   ]
  },
  {
   "cell_type": "code",
   "execution_count": 100,
   "metadata": {},
   "outputs": [
    {
     "data": {
      "text/html": [
       "<div>\n",
       "<style scoped>\n",
       "    .dataframe tbody tr th:only-of-type {\n",
       "        vertical-align: middle;\n",
       "    }\n",
       "\n",
       "    .dataframe tbody tr th {\n",
       "        vertical-align: top;\n",
       "    }\n",
       "\n",
       "    .dataframe thead th {\n",
       "        text-align: right;\n",
       "    }\n",
       "</style>\n",
       "<table border=\"1\" class=\"dataframe\">\n",
       "  <thead>\n",
       "    <tr style=\"text-align: right;\">\n",
       "      <th></th>\n",
       "      <th>LocationAbbreviation</th>\n",
       "      <th>PatientNumber</th>\n",
       "      <th>Age(Year)</th>\n",
       "      <th>VisitType</th>\n",
       "      <th>Sex</th>\n",
       "      <th>VisitDateTimeTS</th>\n",
       "      <th>DateFirstKnownTS</th>\n",
       "    </tr>\n",
       "    <tr>\n",
       "      <th>VisitDateTimeTS</th>\n",
       "      <th></th>\n",
       "      <th></th>\n",
       "      <th></th>\n",
       "      <th></th>\n",
       "      <th></th>\n",
       "      <th></th>\n",
       "      <th></th>\n",
       "    </tr>\n",
       "  </thead>\n",
       "  <tbody>\n",
       "    <tr>\n",
       "      <th>2018-07-05 10:00:00</th>\n",
       "      <td>PFC</td>\n",
       "      <td>N0041335</td>\n",
       "      <td>4</td>\n",
       "      <td>PFC NEW PATIENT VISIT</td>\n",
       "      <td>F</td>\n",
       "      <td>2018-07-05 10:00:00</td>\n",
       "      <td>2014-08-24 19:51:32</td>\n",
       "    </tr>\n",
       "  </tbody>\n",
       "</table>\n",
       "</div>"
      ],
      "text/plain": [
       "                    LocationAbbreviation PatientNumber  Age(Year)  \\\n",
       "VisitDateTimeTS                                                     \n",
       "2018-07-05 10:00:00                  PFC      N0041335          4   \n",
       "\n",
       "                                 VisitType Sex     VisitDateTimeTS  \\\n",
       "VisitDateTimeTS                                                      \n",
       "2018-07-05 10:00:00  PFC NEW PATIENT VISIT   F 2018-07-05 10:00:00   \n",
       "\n",
       "                       DateFirstKnownTS  \n",
       "VisitDateTimeTS                          \n",
       "2018-07-05 10:00:00 2014-08-24 19:51:32  "
      ]
     },
     "execution_count": 100,
     "metadata": {},
     "output_type": "execute_result"
    }
   ],
   "source": [
    "pfc_general_visits[pfc_general_visits['Age(Year)'] < 18]"
   ]
  },
  {
   "cell_type": "code",
   "execution_count": 101,
   "metadata": {},
   "outputs": [],
   "source": [
    "arbor_visits_clean = arbor_general_visits[arbor_general_visits['Age(Year)'] > 18]\n",
    "pfc_visits_clean = pfc_general_visits[pfc_general_visits['Age(Year)'] > 18]"
   ]
  },
  {
   "cell_type": "code",
   "execution_count": 102,
   "metadata": {},
   "outputs": [
    {
     "data": {
      "text/plain": [
       "F    68\n",
       "M    51\n",
       "U    12\n",
       "Name: Sex, dtype: int64"
      ]
     },
     "execution_count": 102,
     "metadata": {},
     "output_type": "execute_result"
    }
   ],
   "source": [
    "arbor_visits_clean['Sex'].value_counts()"
   ]
  },
  {
   "cell_type": "code",
   "execution_count": 103,
   "metadata": {},
   "outputs": [
    {
     "data": {
      "text/plain": [
       "F    33\n",
       "M    22\n",
       "U    10\n",
       "Name: Sex, dtype: int64"
      ]
     },
     "execution_count": 103,
     "metadata": {},
     "output_type": "execute_result"
    }
   ],
   "source": [
    "pfc_visits_clean['Sex'].value_counts()"
   ]
  },
  {
   "cell_type": "code",
   "execution_count": 104,
   "metadata": {},
   "outputs": [
    {
     "data": {
      "text/plain": [
       "(18.941, 24.8]    21\n",
       "(24.8, 30.6]      14\n",
       "(30.6, 36.4]      15\n",
       "(36.4, 42.2]       6\n",
       "(42.2, 48.0]       8\n",
       "(48.0, 53.8]      11\n",
       "(53.8, 59.6]      10\n",
       "(59.6, 65.4]      21\n",
       "(65.4, 71.2]      16\n",
       "(71.2, 77.0]       9\n",
       "Name: Age(Year), dtype: int64"
      ]
     },
     "execution_count": 104,
     "metadata": {},
     "output_type": "execute_result"
    }
   ],
   "source": [
    "arbor_visits_clean['Age(Year)'].value_counts(sort=False,bins=10)"
   ]
  },
  {
   "cell_type": "code",
   "execution_count": 105,
   "metadata": {},
   "outputs": [
    {
     "data": {
      "text/plain": [
       "<matplotlib.axes._subplots.AxesSubplot at 0x1a1984a190>"
      ]
     },
     "execution_count": 105,
     "metadata": {},
     "output_type": "execute_result"
    },
    {
     "data": {
      "image/png": "[encoded data removed]",
      "text/plain": [
       "<Figure size 432x288 with 1 Axes>"
      ]
     },
     "metadata": {},
     "output_type": "display_data"
    }
   ],
   "source": [
    "arbor_visits_clean['Age(Year)'].value_counts(sort=False,bins=10).plot(kind='bar', title='Arbor Patient Age')"
   ]
  },
  {
   "cell_type": "code",
   "execution_count": 106,
   "metadata": {},
   "outputs": [
    {
     "data": {
      "text/plain": [
       "(18.936999999999998, 25.2]     6\n",
       "(25.2, 31.4]                   5\n",
       "(31.4, 37.6]                   2\n",
       "(37.6, 43.8]                   2\n",
       "(43.8, 50.0]                   6\n",
       "(50.0, 56.2]                  13\n",
       "(56.2, 62.4]                  10\n",
       "(62.4, 68.6]                  11\n",
       "(68.6, 74.8]                   4\n",
       "(74.8, 81.0]                   6\n",
       "Name: Age(Year), dtype: int64"
      ]
     },
     "execution_count": 106,
     "metadata": {},
     "output_type": "execute_result"
    }
   ],
   "source": [
    "pfc_visits_clean['Age(Year)'].value_counts(sort=False,bins=10)"
   ]
  },
  {
   "cell_type": "code",
   "execution_count": 107,
   "metadata": {},
   "outputs": [
    {
     "data": {
      "text/plain": [
       "<matplotlib.axes._subplots.AxesSubplot at 0x1a19bf44d0>"
      ]
     },
     "execution_count": 107,
     "metadata": {},
     "output_type": "execute_result"
    },
    {
     "data": {
      "image/png": "[encoded data removed]",
      "text/plain": [
       "<Figure size 432x288 with 1 Axes>"
      ]
     },
     "metadata": {},
     "output_type": "display_data"
    }
   ],
   "source": [
    "pfc_visits_clean['Age(Year)'].value_counts(sort=False,bins=10).plot(kind='bar', title='PFC Patient Age')"
   ]
  },
  {
   "cell_type": "code",
   "execution_count": 108,
   "metadata": {},
   "outputs": [
    {
     "data": {
      "text/plain": [
       "count    131.000000\n",
       "mean      46.664122\n",
       "std       17.963044\n",
       "min       19.000000\n",
       "25%       29.500000\n",
       "50%       49.000000\n",
       "75%       63.000000\n",
       "max       77.000000\n",
       "Name: Age(Year), dtype: float64"
      ]
     },
     "execution_count": 108,
     "metadata": {},
     "output_type": "execute_result"
    }
   ],
   "source": [
    "arbor_visits_clean['Age(Year)'].describe()"
   ]
  },
  {
   "cell_type": "code",
   "execution_count": 109,
   "metadata": {},
   "outputs": [
    {
     "data": {
      "text/plain": [
       "count    65.000000\n",
       "mean     53.307692\n",
       "std      16.407814\n",
       "min      19.000000\n",
       "25%      48.000000\n",
       "50%      55.000000\n",
       "75%      63.000000\n",
       "max      81.000000\n",
       "Name: Age(Year), dtype: float64"
      ]
     },
     "execution_count": 109,
     "metadata": {},
     "output_type": "execute_result"
    }
   ],
   "source": [
    "pfc_visits_clean['Age(Year)'].describe()"
   ]
  },
  {
   "cell_type": "code",
   "execution_count": 110,
   "metadata": {},
   "outputs": [
    {
     "data": {
      "text/plain": [
       "count          131\n",
       "unique         119\n",
       "top       N0068357\n",
       "freq             2\n",
       "Name: PatientNumber, dtype: object"
      ]
     },
     "execution_count": 110,
     "metadata": {},
     "output_type": "execute_result"
    }
   ],
   "source": [
    "arbor_visits_clean['PatientNumber'].describe()"
   ]
  },
  {
   "cell_type": "code",
   "execution_count": 111,
   "metadata": {},
   "outputs": [
    {
     "data": {
      "text/plain": [
       "count           65\n",
       "unique          63\n",
       "top       N0067878\n",
       "freq             2\n",
       "Name: PatientNumber, dtype: object"
      ]
     },
     "execution_count": 111,
     "metadata": {},
     "output_type": "execute_result"
    }
   ],
   "source": [
    "pfc_visits_clean['PatientNumber'].describe()"
   ]
  },
  {
   "cell_type": "code",
   "execution_count": 112,
   "metadata": {},
   "outputs": [
    {
     "data": {
      "text/plain": [
       "count    119.00000\n",
       "mean       1.10084\n",
       "std        0.30239\n",
       "min        1.00000\n",
       "25%        1.00000\n",
       "50%        1.00000\n",
       "75%        1.00000\n",
       "max        2.00000\n",
       "dtype: float64"
      ]
     },
     "execution_count": 112,
     "metadata": {},
     "output_type": "execute_result"
    }
   ],
   "source": [
    "arbor_visits_clean.groupby(arbor_visits_clean['PatientNumber']).size().describe()"
   ]
  },
  {
   "cell_type": "code",
   "execution_count": 113,
   "metadata": {},
   "outputs": [
    {
     "data": {
      "text/plain": [
       "count    63.000000\n",
       "mean      1.031746\n",
       "std       0.176731\n",
       "min       1.000000\n",
       "25%       1.000000\n",
       "50%       1.000000\n",
       "75%       1.000000\n",
       "max       2.000000\n",
       "dtype: float64"
      ]
     },
     "execution_count": 113,
     "metadata": {},
     "output_type": "execute_result"
    }
   ],
   "source": [
    "pfc_visits_clean.groupby(pfc_visits_clean['PatientNumber']).size().describe()"
   ]
  },
  {
   "cell_type": "code",
   "execution_count": 114,
   "metadata": {},
   "outputs": [],
   "source": [
    "def get_grouped_data(df, column, group_keys=None, summed=True):\n",
    "    grouped = df.groupby(df[column])\n",
    "    visits_per_group = [] if group_keys is None else np.zeros(len(group_keys))\n",
    "    if group_keys is not None:\n",
    "        for c, group in enumerate(group_keys):\n",
    "            if group in grouped.groups:\n",
    "                visits_per_group[c] = len(grouped.groups[group])\n",
    "    else:\n",
    "        for group in grouped.groups:\n",
    "            visits_per_group.append(len(grouped.groups[group]))\n",
    "        \n",
    "    if summed:\n",
    "        return np.sum(visits_per_group)\n",
    "    else:\n",
    "        return visits_per_group"
   ]
  },
  {
   "cell_type": "code",
   "execution_count": 115,
   "metadata": {},
   "outputs": [],
   "source": [
    "def visits_periodic(df, period='mom', group_keys=None):\n",
    "    \n",
    "    periodic_visits = []\n",
    "    time_points = []\n",
    "    spec_usage_mom = []\n",
    "    \n",
    "    if period == 'mom':\n",
    "        months = [val for val in range(1, 13)]\n",
    "        years = [2017, 2018]\n",
    "        for year in years:\n",
    "            for begin_month in months:\n",
    "                tp1 = (year, begin_month, 1)\n",
    "                tp2 = ()\n",
    "                if begin_month == 12:\n",
    "                    tp2 = (year+1, 1, 1)\n",
    "                else:\n",
    "                    tp2 = (year, begin_month+1, 1)\n",
    "                    \n",
    "                filtered = time_filter(tp1,tp2, df)\n",
    "                \n",
    "                if filtered.values.shape[0] == 0:\n",
    "                    continue\n",
    "                else:\n",
    "                    periodic_visits.append(get_grouped_data(filtered, 'PatientNumber'))\n",
    "                    spec_usage_mom.append(get_grouped_data(filtered, 'VisitType', group_keys = group_keys, summed=False))\n",
    "                    time_points.append(str(begin_month) + '/' + str(year))\n",
    "                    \n",
    "\n",
    "    return (periodic_visits, np.array(spec_usage_mom), time_points)"
   ]
  },
  {
   "cell_type": "code",
   "execution_count": 116,
   "metadata": {},
   "outputs": [
    {
     "name": "stdout",
     "output_type": "stream",
     "text": [
      "131\n",
      "[[ 0.  0.  0. 34.  0.  0.  0.  0.  0.  0.]\n",
      " [ 0.  0.  0. 56.  0.  0.  0.  0.  0.  0.]\n",
      " [ 0.  0.  0. 41.  0.  0.  0.  0.  0.  0.]]\n",
      "['6/2018', '7/2018', '8/2018']\n"
     ]
    },
    {
     "data": {
      "text/html": [
       "<div>\n",
       "<style scoped>\n",
       "    .dataframe tbody tr th:only-of-type {\n",
       "        vertical-align: middle;\n",
       "    }\n",
       "\n",
       "    .dataframe tbody tr th {\n",
       "        vertical-align: top;\n",
       "    }\n",
       "\n",
       "    .dataframe thead th {\n",
       "        text-align: right;\n",
       "    }\n",
       "</style>\n",
       "<table border=\"1\" class=\"dataframe\">\n",
       "  <thead>\n",
       "    <tr style=\"text-align: right;\">\n",
       "      <th></th>\n",
       "      <th>ARBOR CARDIOLOGY</th>\n",
       "      <th>ARBOR DERMATOLOGY</th>\n",
       "      <th>ARBOR FOLLOW-UP VISIT</th>\n",
       "      <th>ARBOR GENERAL VISIT</th>\n",
       "      <th>ARBOR MENTAL HEALTH</th>\n",
       "      <th>ARBOR MSK</th>\n",
       "      <th>ARBOR NEUROLOGY</th>\n",
       "      <th>ARBOR OPHTHALMOLOGY</th>\n",
       "      <th>ARBOR WOMEN'S HEALTH</th>\n",
       "      <th>LAB FOLLOW-UP NOTE</th>\n",
       "    </tr>\n",
       "  </thead>\n",
       "  <tbody>\n",
       "    <tr>\n",
       "      <th>6/2018</th>\n",
       "      <td>0.0</td>\n",
       "      <td>0.0</td>\n",
       "      <td>0.0</td>\n",
       "      <td>34.0</td>\n",
       "      <td>0.0</td>\n",
       "      <td>0.0</td>\n",
       "      <td>0.0</td>\n",
       "      <td>0.0</td>\n",
       "      <td>0.0</td>\n",
       "      <td>0.0</td>\n",
       "    </tr>\n",
       "    <tr>\n",
       "      <th>7/2018</th>\n",
       "      <td>0.0</td>\n",
       "      <td>0.0</td>\n",
       "      <td>0.0</td>\n",
       "      <td>56.0</td>\n",
       "      <td>0.0</td>\n",
       "      <td>0.0</td>\n",
       "      <td>0.0</td>\n",
       "      <td>0.0</td>\n",
       "      <td>0.0</td>\n",
       "      <td>0.0</td>\n",
       "    </tr>\n",
       "    <tr>\n",
       "      <th>8/2018</th>\n",
       "      <td>0.0</td>\n",
       "      <td>0.0</td>\n",
       "      <td>0.0</td>\n",
       "      <td>41.0</td>\n",
       "      <td>0.0</td>\n",
       "      <td>0.0</td>\n",
       "      <td>0.0</td>\n",
       "      <td>0.0</td>\n",
       "      <td>0.0</td>\n",
       "      <td>0.0</td>\n",
       "    </tr>\n",
       "  </tbody>\n",
       "</table>\n",
       "</div>"
      ],
      "text/plain": [
       "        ARBOR CARDIOLOGY  ARBOR DERMATOLOGY  ARBOR FOLLOW-UP VISIT  \\\n",
       "6/2018               0.0                0.0                    0.0   \n",
       "7/2018               0.0                0.0                    0.0   \n",
       "8/2018               0.0                0.0                    0.0   \n",
       "\n",
       "        ARBOR GENERAL VISIT  ARBOR MENTAL HEALTH  ARBOR MSK  ARBOR NEUROLOGY  \\\n",
       "6/2018                 34.0                  0.0        0.0              0.0   \n",
       "7/2018                 56.0                  0.0        0.0              0.0   \n",
       "8/2018                 41.0                  0.0        0.0              0.0   \n",
       "\n",
       "        ARBOR OPHTHALMOLOGY  ARBOR WOMEN'S HEALTH  LAB FOLLOW-UP NOTE  \n",
       "6/2018                  0.0                   0.0                 0.0  \n",
       "7/2018                  0.0                   0.0                 0.0  \n",
       "8/2018                  0.0                   0.0                 0.0  "
      ]
     },
     "execution_count": 116,
     "metadata": {},
     "output_type": "execute_result"
    }
   ],
   "source": [
    "arbor_spec_clinics = [\n",
    "    'ARBOR CARDIOLOGY',\n",
    "    'ARBOR DERMATOLOGY',\n",
    "    'ARBOR FOLLOW-UP VISIT',\n",
    "    'ARBOR GENERAL VISIT',\n",
    "    'ARBOR MENTAL HEALTH',\n",
    "    'ARBOR MSK',\n",
    "    'ARBOR NEUROLOGY',\n",
    "    'ARBOR OPHTHALMOLOGY',\n",
    "    \"ARBOR WOMEN'S HEALTH\",\n",
    "    'LAB FOLLOW-UP NOTE'\n",
    "    ]\n",
    "\n",
    "\n",
    "periodic_visits, spec_usage_mom, time_points = visits_periodic(arbor_visits_clean, \n",
    "                                                               group_keys=arbor_spec_clinics)\n",
    "print np.sum(periodic_visits)\n",
    "print spec_usage_mom\n",
    "print time_points\n",
    "\n",
    "arbor_specialty_clinics_df = pd.DataFrame({clinic:spec_usage_mom[:,col_idx] \n",
    "                                     for clinic, col_idx in zip(arbor_spec_clinics, range(spec_usage_mom.shape[1]))\n",
    "                                    }, \n",
    "                                    index = time_points)\n",
    "\n",
    "arbor_specialty_clinics_df.head(12)\n"
   ]
  },
  {
   "cell_type": "code",
   "execution_count": 117,
   "metadata": {},
   "outputs": [
    {
     "ename": "NameError",
     "evalue": "name 'ARBOR_SPEC_CLINICS' is not defined",
     "output_type": "error",
     "traceback": [
      "\u001b[0;31m---------------------------------------------------------------------------\u001b[0m",
      "\u001b[0;31mNameError\u001b[0m                                 Traceback (most recent call last)",
      "\u001b[0;32m<ipython-input-117-32dbb5b1e944>\u001b[0m in \u001b[0;36m<module>\u001b[0;34m()\u001b[0m\n\u001b[1;32m      1\u001b[0m \u001b[0;34m\u001b[0m\u001b[0m\n\u001b[0;32m----> 2\u001b[0;31m \u001b[0;32mfor\u001b[0m \u001b[0mclinic\u001b[0m\u001b[0;34m,\u001b[0m \u001b[0mcol_idx\u001b[0m \u001b[0;32min\u001b[0m \u001b[0mzip\u001b[0m\u001b[0;34m(\u001b[0m\u001b[0mARBOR_SPEC_CLINICS\u001b[0m\u001b[0;34m,\u001b[0m \u001b[0mrange\u001b[0m\u001b[0;34m(\u001b[0m\u001b[0mspec_usage_mom\u001b[0m\u001b[0;34m.\u001b[0m\u001b[0mshape\u001b[0m\u001b[0;34m[\u001b[0m\u001b[0;36m0\u001b[0m\u001b[0;34m]\u001b[0m\u001b[0;34m)\u001b[0m\u001b[0;34m)\u001b[0m\u001b[0;34m:\u001b[0m\u001b[0;34m\u001b[0m\u001b[0m\n\u001b[0m\u001b[1;32m      3\u001b[0m     \u001b[0;32mprint\u001b[0m \u001b[0mclinic\u001b[0m\u001b[0;34m,\u001b[0m \u001b[0mcol_idx\u001b[0m\u001b[0;34m\u001b[0m\u001b[0m\n\u001b[1;32m      4\u001b[0m \u001b[0;34m\u001b[0m\u001b[0m\n",
      "\u001b[0;31mNameError\u001b[0m: name 'ARBOR_SPEC_CLINICS' is not defined"
     ]
    }
   ],
   "source": [
    "\n",
    "for clinic, col_idx in zip(ARBOR_SPEC_CLINICS, range(spec_usage_mom.shape[0])):\n",
    "    print clinic, col_idx\n",
    "\n"
   ]
  },
  {
   "cell_type": "code",
   "execution_count": null,
   "metadata": {},
   "outputs": [],
   "source": []
  },
  {
   "cell_type": "code",
   "execution_count": null,
   "metadata": {},
   "outputs": [],
   "source": []
  },
  {
   "cell_type": "code",
   "execution_count": 118,
   "metadata": {},
   "outputs": [
    {
     "data": {
      "text/html": [
       "<div>\n",
       "<style scoped>\n",
       "    .dataframe tbody tr th:only-of-type {\n",
       "        vertical-align: middle;\n",
       "    }\n",
       "\n",
       "    .dataframe tbody tr th {\n",
       "        vertical-align: top;\n",
       "    }\n",
       "\n",
       "    .dataframe thead th {\n",
       "        text-align: right;\n",
       "    }\n",
       "</style>\n",
       "<table border=\"1\" class=\"dataframe\">\n",
       "  <thead>\n",
       "    <tr style=\"text-align: right;\">\n",
       "      <th></th>\n",
       "      <th>LocationAbbreviation</th>\n",
       "      <th>PatientNumber</th>\n",
       "      <th>Age(Year)</th>\n",
       "      <th>VisitType</th>\n",
       "      <th>Sex</th>\n",
       "      <th>VisitDateTimeTS</th>\n",
       "      <th>DateFirstKnownTS</th>\n",
       "    </tr>\n",
       "    <tr>\n",
       "      <th>VisitDateTimeTS</th>\n",
       "      <th></th>\n",
       "      <th></th>\n",
       "      <th></th>\n",
       "      <th></th>\n",
       "      <th></th>\n",
       "      <th></th>\n",
       "      <th></th>\n",
       "    </tr>\n",
       "  </thead>\n",
       "  <tbody>\n",
       "    <tr>\n",
       "      <th>2018-06-03 09:45:00</th>\n",
       "      <td>AFC</td>\n",
       "      <td>N0067522</td>\n",
       "      <td>25</td>\n",
       "      <td>ARBOR GENERAL VISIT</td>\n",
       "      <td>F</td>\n",
       "      <td>2018-06-03 09:45:00</td>\n",
       "      <td>2018-06-03 09:04:32</td>\n",
       "    </tr>\n",
       "    <tr>\n",
       "      <th>2018-06-03 09:45:00</th>\n",
       "      <td>AFC</td>\n",
       "      <td>N0067508</td>\n",
       "      <td>19</td>\n",
       "      <td>ARBOR GENERAL VISIT</td>\n",
       "      <td>F</td>\n",
       "      <td>2018-06-03 09:45:00</td>\n",
       "      <td>2018-06-03 08:44:35</td>\n",
       "    </tr>\n",
       "    <tr>\n",
       "      <th>2018-06-03 09:45:00</th>\n",
       "      <td>AFC</td>\n",
       "      <td>N0067515</td>\n",
       "      <td>19</td>\n",
       "      <td>ARBOR GENERAL VISIT</td>\n",
       "      <td>F</td>\n",
       "      <td>2018-06-03 09:45:00</td>\n",
       "      <td>2018-06-03 08:46:56</td>\n",
       "    </tr>\n",
       "  </tbody>\n",
       "</table>\n",
       "</div>"
      ],
      "text/plain": [
       "                    LocationAbbreviation PatientNumber  Age(Year)  \\\n",
       "VisitDateTimeTS                                                     \n",
       "2018-06-03 09:45:00                  AFC      N0067522         25   \n",
       "2018-06-03 09:45:00                  AFC      N0067508         19   \n",
       "2018-06-03 09:45:00                  AFC      N0067515         19   \n",
       "\n",
       "                               VisitType Sex     VisitDateTimeTS  \\\n",
       "VisitDateTimeTS                                                    \n",
       "2018-06-03 09:45:00  ARBOR GENERAL VISIT   F 2018-06-03 09:45:00   \n",
       "2018-06-03 09:45:00  ARBOR GENERAL VISIT   F 2018-06-03 09:45:00   \n",
       "2018-06-03 09:45:00  ARBOR GENERAL VISIT   F 2018-06-03 09:45:00   \n",
       "\n",
       "                       DateFirstKnownTS  \n",
       "VisitDateTimeTS                          \n",
       "2018-06-03 09:45:00 2018-06-03 09:04:32  \n",
       "2018-06-03 09:45:00 2018-06-03 08:44:35  \n",
       "2018-06-03 09:45:00 2018-06-03 08:46:56  "
      ]
     },
     "execution_count": 118,
     "metadata": {},
     "output_type": "execute_result"
    }
   ],
   "source": [
    "arbor_visits_clean.head(3)"
   ]
  },
  {
   "cell_type": "code",
   "execution_count": 119,
   "metadata": {},
   "outputs": [
    {
     "data": {
      "text/plain": [
       "<matplotlib.axes._subplots.AxesSubplot at 0x1a19ada510>"
      ]
     },
     "execution_count": 119,
     "metadata": {},
     "output_type": "execute_result"
    },
    {
     "data": {
      "image/png": "[encoded data removed]",
      "text/plain": [
       "<Figure size 432x288 with 1 Axes>"
      ]
     },
     "metadata": {},
     "output_type": "display_data"
    }
   ],
   "source": [
    "arbor_visits_clean['VisitDateTimeTS'].value_counts(sort=False,bins=11).plot(kind='bar', title='Arbor Visits By Date')"
   ]
  },
  {
   "cell_type": "code",
   "execution_count": 120,
   "metadata": {
    "scrolled": true
   },
   "outputs": [
    {
     "data": {
      "text/plain": [
       "(2018-06-03 07:43:52.499999999, 2018-06-10 09:58:45]     9\n",
       "(2018-06-10 09:58:45, 2018-06-17 10:12:30]              16\n",
       "(2018-06-17 10:12:30, 2018-06-24 10:26:15]               7\n",
       "(2018-06-24 10:26:15, 2018-07-01 10:40:00]               9\n",
       "(2018-07-01 10:40:00, 2018-07-08 10:53:45]               8\n",
       "(2018-07-08 10:53:45, 2018-07-15 11:07:30]               8\n",
       "(2018-07-15 11:07:30, 2018-07-22 11:21:15]              15\n",
       "(2018-07-22 11:21:15, 2018-07-29 11:35:00]              18\n",
       "(2018-07-29 11:35:00, 2018-08-05 11:48:45]               9\n",
       "(2018-08-05 11:48:45, 2018-08-12 12:02:30]              12\n",
       "(2018-08-12 12:02:30, 2018-08-19 12:16:15]              12\n",
       "(2018-08-19 12:16:15, 2018-08-26 12:30:00]               8\n",
       "Name: VisitDateTimeTS, dtype: int64"
      ]
     },
     "execution_count": 120,
     "metadata": {},
     "output_type": "execute_result"
    }
   ],
   "source": [
    "arbor_visits_clean['VisitDateTimeTS'].value_counts(sort=False,bins=12)"
   ]
  },
  {
   "cell_type": "code",
   "execution_count": 121,
   "metadata": {},
   "outputs": [
    {
     "data": {
      "text/plain": [
       "(2018-06-02 07:19:02.399999999, 2018-06-08 19:16:40]    6\n",
       "(2018-06-08 19:16:40, 2018-06-15 05:23:20]              4\n",
       "(2018-06-15 05:23:20, 2018-06-21 15:30:00]              4\n",
       "(2018-06-21 15:30:00, 2018-06-28 01:36:40]              7\n",
       "(2018-06-28 01:36:40, 2018-07-04 11:43:20]              4\n",
       "(2018-07-04 11:43:20, 2018-07-10 21:50:00]              6\n",
       "(2018-07-10 21:50:00, 2018-07-17 07:56:40]              3\n",
       "(2018-07-17 07:56:40, 2018-07-23 18:03:20]              2\n",
       "(2018-07-23 18:03:20, 2018-07-30 04:10:00]              6\n",
       "(2018-07-30 04:10:00, 2018-08-05 14:16:40]              9\n",
       "(2018-08-05 14:16:40, 2018-08-12 00:23:20]              9\n",
       "(2018-08-12 00:23:20, 2018-08-18 10:30:00]              5\n",
       "Name: VisitDateTimeTS, dtype: int64"
      ]
     },
     "execution_count": 121,
     "metadata": {},
     "output_type": "execute_result"
    }
   ],
   "source": [
    "pfc_visits_clean['VisitDateTimeTS'].value_counts(sort=False,bins=12)"
   ]
  },
  {
   "cell_type": "code",
   "execution_count": 122,
   "metadata": {
    "scrolled": true
   },
   "outputs": [
    {
     "name": "stdout",
     "output_type": "stream",
     "text": [
      "PFC NEW PATIENT VISIT\n",
      "65\n"
     ]
    }
   ],
   "source": [
    "grouped = pfc_visits_clean.groupby('VisitType')\n",
    "for g in grouped.groups:\n",
    "    print g\n",
    "    print len(grouped.groups[g])"
   ]
  },
  {
   "cell_type": "code",
   "execution_count": 123,
   "metadata": {},
   "outputs": [
    {
     "data": {
      "text/plain": [
       "VisitType\n",
       "ARBOR GENERAL VISIT    131\n",
       "dtype: int64"
      ]
     },
     "execution_count": 123,
     "metadata": {},
     "output_type": "execute_result"
    }
   ],
   "source": [
    "arbor_visits_clean.groupby('VisitType').size()"
   ]
  },
  {
   "cell_type": "code",
   "execution_count": 157,
   "metadata": {},
   "outputs": [
    {
     "name": "stderr",
     "output_type": "stream",
     "text": [
      "/Users/alex/miniconda2/lib/python2.7/site-packages/ipykernel_launcher.py:11: SettingWithCopyWarning: \n",
      "A value is trying to be set on a copy of a slice from a DataFrame\n",
      "\n",
      "See the caveats in the documentation: http://pandas.pydata.org/pandas-docs/stable/indexing.html#indexing-view-versus-copy\n",
      "  # This is added back by InteractiveShellApp.init_path()\n"
     ]
    }
   ],
   "source": [
    "df_visits = pd.read_csv(path_visits, error_bad_lines=False, header=0)\n",
    "df_visits['VisitDateTimeTS'] = pd.to_datetime((df_visits['VisitDateTime']))\n",
    "df_visits['DateFirstKnownTS'] = pd.to_datetime((df_visits['DateFirstKnown']))\n",
    "df_visits.index = df_visits['VisitDateTimeTS']\n",
    "#df_visits = df_visits.iloc[::-1]\n",
    "del df_visits['DateFirstKnown']\n",
    "del df_visits['VisitDateTime']\n",
    "\n",
    "df_visits = df_visits[df_visits['LocationAbbreviation'] != 'TEST']\n",
    "df_visits_clean = df_visits[df_visits['Age(Year)']> 18]\n",
    "df_visits_clean.sort_values('VisitDateTimeTS', inplace=True)"
   ]
  },
  {
   "cell_type": "code",
   "execution_count": 158,
   "metadata": {},
   "outputs": [
    {
     "data": {
      "text/plain": [
       "VisitType\n",
       "ADMIN CHART REVIEW NOTE       6\n",
       "ARBOR DERMATOLOGY             5\n",
       "ARBOR FAST TRACK TB           1\n",
       "ARBOR FOLLOW-UP VISIT         7\n",
       "ARBOR GENERAL VISIT         131\n",
       "ARBOR MENTAL HEALTH           3\n",
       "ARBOR MSK                     3\n",
       "ARBOR NEUROLOGY               1\n",
       "ARBOR OPHTHALMOLOGY           5\n",
       "ARBOR WOMEN'S HEALTH          1\n",
       "BRIDGE TO CARE NOTE           5\n",
       "HEALTH EDUCATOR NOTE         47\n",
       "LAB FOLLOW-UP NOTE           85\n",
       "MISC NOTE                    57\n",
       "PATIENT NAVIGATOR NOTE       23\n",
       "PFC DERMATOLOGY VISIT         7\n",
       "PFC FAST TRACK                6\n",
       "PFC FAST TRACK VACCINE        4\n",
       "PFC FOLLOW UP VISIT          96\n",
       "PFC NEW PATIENT VISIT        65\n",
       "PFC OPHTHALMOLOGY VISIT      14\n",
       "PFC WOMEN'S CLINIC VISIT     12\n",
       "PHONE                         2\n",
       "dtype: int64"
      ]
     },
     "execution_count": 158,
     "metadata": {},
     "output_type": "execute_result"
    }
   ],
   "source": [
    "df_visits_clean.groupby('VisitType').size()"
   ]
  },
  {
   "cell_type": "code",
   "execution_count": 160,
   "metadata": {},
   "outputs": [
    {
     "name": "stdout",
     "output_type": "stream",
     "text": [
      "586\n",
      "[[ 0.  0.  7. 34.  0.  0.  0.  0.  0.  4. 34.  0.  0. 25.  3.  5.  0.]\n",
      " [ 0.  5.  0. 56.  0.  3.  1.  0.  1.  0. 36.  0.  0. 17.  9.  6.  4.]\n",
      " [ 0.  0.  0. 41.  3.  0.  0.  5.  0.  3. 26.  0.  0. 23.  2.  1.  0.]]\n",
      "['6/2018', '7/2018', '8/2018']\n"
     ]
    },
    {
     "data": {
      "text/html": [
       "<div>\n",
       "<style scoped>\n",
       "    .dataframe tbody tr th:only-of-type {\n",
       "        vertical-align: middle;\n",
       "    }\n",
       "\n",
       "    .dataframe tbody tr th {\n",
       "        vertical-align: top;\n",
       "    }\n",
       "\n",
       "    .dataframe thead th {\n",
       "        text-align: right;\n",
       "    }\n",
       "</style>\n",
       "<table border=\"1\" class=\"dataframe\">\n",
       "  <thead>\n",
       "    <tr style=\"text-align: right;\">\n",
       "      <th></th>\n",
       "      <th>ARBOR CARDIOLOGY</th>\n",
       "      <th>ARBOR DERMATOLOGY</th>\n",
       "      <th>ARBOR FOLLOW-UP VISIT</th>\n",
       "      <th>ARBOR GENERAL VISIT</th>\n",
       "      <th>ARBOR MENTAL HEALTH</th>\n",
       "      <th>ARBOR MSK</th>\n",
       "      <th>ARBOR NEUROLOGY</th>\n",
       "      <th>ARBOR OPHTHALMOLOGY</th>\n",
       "      <th>ARBOR WOMEN'S HEALTH</th>\n",
       "      <th>PFC DERMATOLOGY VISIT</th>\n",
       "      <th>PFC FAST TRACK VACCINE</th>\n",
       "      <th>PFC FOLLOW UP VISIT</th>\n",
       "      <th>PFC HEP CLINIC VISIT</th>\n",
       "      <th>PFC MENTAL HEALTH VISIT</th>\n",
       "      <th>PFC NEW PATIENT VISIT</th>\n",
       "      <th>PFC OPHTHALMOLOGY VISIT</th>\n",
       "      <th>PFC WOMEN'S CLINIC VISIT</th>\n",
       "    </tr>\n",
       "  </thead>\n",
       "  <tbody>\n",
       "    <tr>\n",
       "      <th>6/2018</th>\n",
       "      <td>0.0</td>\n",
       "      <td>0.0</td>\n",
       "      <td>7.0</td>\n",
       "      <td>34.0</td>\n",
       "      <td>0.0</td>\n",
       "      <td>0.0</td>\n",
       "      <td>0.0</td>\n",
       "      <td>0.0</td>\n",
       "      <td>0.0</td>\n",
       "      <td>4.0</td>\n",
       "      <td>0.0</td>\n",
       "      <td>34.0</td>\n",
       "      <td>0.0</td>\n",
       "      <td>0.0</td>\n",
       "      <td>25.0</td>\n",
       "      <td>3.0</td>\n",
       "      <td>5.0</td>\n",
       "    </tr>\n",
       "    <tr>\n",
       "      <th>7/2018</th>\n",
       "      <td>0.0</td>\n",
       "      <td>5.0</td>\n",
       "      <td>0.0</td>\n",
       "      <td>56.0</td>\n",
       "      <td>0.0</td>\n",
       "      <td>3.0</td>\n",
       "      <td>1.0</td>\n",
       "      <td>0.0</td>\n",
       "      <td>1.0</td>\n",
       "      <td>0.0</td>\n",
       "      <td>4.0</td>\n",
       "      <td>36.0</td>\n",
       "      <td>0.0</td>\n",
       "      <td>0.0</td>\n",
       "      <td>17.0</td>\n",
       "      <td>9.0</td>\n",
       "      <td>6.0</td>\n",
       "    </tr>\n",
       "    <tr>\n",
       "      <th>8/2018</th>\n",
       "      <td>0.0</td>\n",
       "      <td>0.0</td>\n",
       "      <td>0.0</td>\n",
       "      <td>41.0</td>\n",
       "      <td>3.0</td>\n",
       "      <td>0.0</td>\n",
       "      <td>0.0</td>\n",
       "      <td>5.0</td>\n",
       "      <td>0.0</td>\n",
       "      <td>3.0</td>\n",
       "      <td>0.0</td>\n",
       "      <td>26.0</td>\n",
       "      <td>0.0</td>\n",
       "      <td>0.0</td>\n",
       "      <td>23.0</td>\n",
       "      <td>2.0</td>\n",
       "      <td>1.0</td>\n",
       "    </tr>\n",
       "  </tbody>\n",
       "</table>\n",
       "</div>"
      ],
      "text/plain": [
       "        ARBOR CARDIOLOGY  ARBOR DERMATOLOGY  ARBOR FOLLOW-UP VISIT  \\\n",
       "6/2018               0.0                0.0                    7.0   \n",
       "7/2018               0.0                5.0                    0.0   \n",
       "8/2018               0.0                0.0                    0.0   \n",
       "\n",
       "        ARBOR GENERAL VISIT  ARBOR MENTAL HEALTH  ARBOR MSK  ARBOR NEUROLOGY  \\\n",
       "6/2018                 34.0                  0.0        0.0              0.0   \n",
       "7/2018                 56.0                  0.0        3.0              1.0   \n",
       "8/2018                 41.0                  3.0        0.0              0.0   \n",
       "\n",
       "        ARBOR OPHTHALMOLOGY  ARBOR WOMEN'S HEALTH  PFC DERMATOLOGY VISIT  \\\n",
       "6/2018                  0.0                   0.0                    4.0   \n",
       "7/2018                  0.0                   1.0                    0.0   \n",
       "8/2018                  5.0                   0.0                    3.0   \n",
       "\n",
       "        PFC FAST TRACK VACCINE  PFC FOLLOW UP VISIT  PFC HEP CLINIC VISIT  \\\n",
       "6/2018                     0.0                 34.0                   0.0   \n",
       "7/2018                     4.0                 36.0                   0.0   \n",
       "8/2018                     0.0                 26.0                   0.0   \n",
       "\n",
       "        PFC MENTAL HEALTH VISIT  PFC NEW PATIENT VISIT  \\\n",
       "6/2018                      0.0                   25.0   \n",
       "7/2018                      0.0                   17.0   \n",
       "8/2018                      0.0                   23.0   \n",
       "\n",
       "        PFC OPHTHALMOLOGY VISIT  PFC WOMEN'S CLINIC VISIT  \n",
       "6/2018                      3.0                       5.0  \n",
       "7/2018                      9.0                       6.0  \n",
       "8/2018                      2.0                       1.0  "
      ]
     },
     "execution_count": 160,
     "metadata": {},
     "output_type": "execute_result"
    }
   ],
   "source": [
    "ALL_SPEC_KEYS = [\n",
    "    'ARBOR CARDIOLOGY',\n",
    "    'ARBOR DERMATOLOGY',\n",
    "    'ARBOR FOLLOW-UP VISIT',\n",
    "    'ARBOR GENERAL VISIT',\n",
    "    'ARBOR MENTAL HEALTH',\n",
    "    'ARBOR MSK',\n",
    "    'ARBOR NEUROLOGY',\n",
    "    'ARBOR OPHTHALMOLOGY',\n",
    "    \"ARBOR WOMEN'S HEALTH\",\n",
    "    'PFC DERMATOLOGY VISIT',\n",
    "    'PFC FOLLOW UP VISIT',\n",
    "    'PFC HEP CLINIC VISIT',\n",
    "    'PFC MENTAL HEALTH VISIT',\n",
    "    'PFC NEW PATIENT VISIT',\n",
    "    'PFC OPHTHALMOLOGY VISIT',\n",
    "    \"PFC WOMEN'S CLINIC VISIT\",\n",
    "    'PFC FAST TRACK VACCINE'\n",
    "]\n",
    "\n",
    "\n",
    "periodic_visits, spec_usage_mom, time_points = visits_periodic(df_visits_clean, \n",
    "                                                               group_keys=ALL_SPEC_KEYS)\n",
    "print np.sum(periodic_visits)\n",
    "print spec_usage_mom\n",
    "print time_points\n",
    "\n",
    "joint_spec_df = pd.DataFrame({clinic:spec_usage_mom[:,col_idx] \n",
    "                                     for clinic, col_idx in zip(ALL_SPEC_KEYS, range(spec_usage_mom.shape[1]))\n",
    "                                    }, \n",
    "                                    index = time_points)\n",
    "\n",
    "joint_spec_df.head(12)\n"
   ]
  },
  {
   "cell_type": "code",
   "execution_count": 161,
   "metadata": {},
   "outputs": [],
   "source": [
    "joint_spec_df.to_csv('joint_spec_clinics.csv')"
   ]
  },
  {
   "cell_type": "code",
   "execution_count": null,
   "metadata": {},
   "outputs": [],
   "source": []
  }
 ],
 "metadata": {
  "kernelspec": {
   "display_name": "Python 2",
   "language": "python",
   "name": "python2"
  },
  "language_info": {
   "codemirror_mode": {
    "name": "ipython",
    "version": 2
   },
   "file_extension": ".py",
   "mimetype": "text/x-python",
   "name": "python",
   "nbconvert_exporter": "python",
   "pygments_lexer": "ipython2",
   "version": "2.7.14"
  }
 },
 "nbformat": 4,
 "nbformat_minor": 2
}
