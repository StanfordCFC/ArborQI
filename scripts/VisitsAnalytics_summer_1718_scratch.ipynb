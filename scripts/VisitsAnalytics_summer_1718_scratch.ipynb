{
 "cells": [
  {
   "cell_type": "markdown",
   "metadata": {},
   "source": [
    "# Playing with the visits table "
   ]
  },
  {
   "cell_type": "markdown",
   "metadata": {},
   "source": [
    "### Alex Lu | Summer Q 17-18  \n",
    "---\n",
    "\n",
    "September 2018"
   ]
  },
  {
   "cell_type": "markdown",
   "metadata": {},
   "source": [
    "**OBJECTIVE**\n",
    "\n",
    "---\n",
    "\n",
    "I have been tasked with getting distributions of age, sex, for Arbor and PFC patients over the last year. This notebook examines the age and sex distributions from a visits paradigm (and not a unique'd patients paradigm). "
   ]
  },
  {
   "cell_type": "markdown",
   "metadata": {},
   "source": [
    "First, let's import all of the stuff that we'll need"
   ]
  },
  {
   "cell_type": "code",
   "execution_count": 1,
   "metadata": {},
   "outputs": [],
   "source": [
    "import numpy as np\n",
    "import pandas as pd\n",
    "import matplotlib.pyplot as plt\n",
    "import csv\n",
    "import seaborn as sns\n",
    "from utils.indicator import *\n",
    "from utils.file_ops import *\n",
    "from datetime import datetime\n",
    "%matplotlib inline"
   ]
  },
  {
   "cell_type": "markdown",
   "metadata": {},
   "source": [
    "We want to filter on the time of visit for longitudinal visualization. First, we should do a conversion on the format of the time string to make it more workable. Then, we're going to make this new 'ts' column the index, and drop the string form VisitDate series. "
   ]
  },
  {
   "cell_type": "code",
   "execution_count": 2,
   "metadata": {},
   "outputs": [],
   "source": [
    "def time_filter(t1, t2, df):\n",
    "    # accepts numerical tuples of form (year, mon, day)\n",
    "    bound1 = datetime(*t1)\n",
    "    bound2 = datetime(*t2)\n",
    "    return df[bound1:bound2]"
   ]
  },
  {
   "cell_type": "code",
   "execution_count": 3,
   "metadata": {
    "scrolled": true
   },
   "outputs": [
    {
     "data": {
      "text/html": [
       "<div>\n",
       "<style scoped>\n",
       "    .dataframe tbody tr th:only-of-type {\n",
       "        vertical-align: middle;\n",
       "    }\n",
       "\n",
       "    .dataframe tbody tr th {\n",
       "        vertical-align: top;\n",
       "    }\n",
       "\n",
       "    .dataframe thead th {\n",
       "        text-align: right;\n",
       "    }\n",
       "</style>\n",
       "<table border=\"1\" class=\"dataframe\">\n",
       "  <thead>\n",
       "    <tr style=\"text-align: right;\">\n",
       "      <th></th>\n",
       "      <th>LocationAbbreviation</th>\n",
       "      <th>PatientNumber</th>\n",
       "      <th>Age(Year)</th>\n",
       "      <th>VisitType</th>\n",
       "      <th>DateFirstKnown</th>\n",
       "      <th>VisitDateTime</th>\n",
       "      <th>Sex</th>\n",
       "    </tr>\n",
       "  </thead>\n",
       "  <tbody>\n",
       "    <tr>\n",
       "      <th>0</th>\n",
       "      <td>AFC</td>\n",
       "      <td>N0057186</td>\n",
       "      <td>64</td>\n",
       "      <td>ARBOR FOLLOW-UP VISIT</td>\n",
       "      <td>8/21/2016 8:36:23 AM</td>\n",
       "      <td>6/3/2018 9:00:00 AM</td>\n",
       "      <td>M</td>\n",
       "    </tr>\n",
       "    <tr>\n",
       "      <th>1</th>\n",
       "      <td>AFC</td>\n",
       "      <td>N0067320</td>\n",
       "      <td>20</td>\n",
       "      <td>LAB FOLLOW-UP NOTE</td>\n",
       "      <td>5/27/2018 8:47:12 AM</td>\n",
       "      <td>6/3/2018 9:20:52 AM</td>\n",
       "      <td>M</td>\n",
       "    </tr>\n",
       "    <tr>\n",
       "      <th>2</th>\n",
       "      <td>AFC</td>\n",
       "      <td>N0067376</td>\n",
       "      <td>20</td>\n",
       "      <td>LAB FOLLOW-UP NOTE</td>\n",
       "      <td>5/27/2018 10:10:26 AM</td>\n",
       "      <td>6/3/2018 9:33:07 AM</td>\n",
       "      <td>F</td>\n",
       "    </tr>\n",
       "    <tr>\n",
       "      <th>3</th>\n",
       "      <td>AFC</td>\n",
       "      <td>N0067344</td>\n",
       "      <td>20</td>\n",
       "      <td>LAB FOLLOW-UP NOTE</td>\n",
       "      <td>5/27/2018 9:59:43 AM</td>\n",
       "      <td>6/3/2018 9:35:50 AM</td>\n",
       "      <td>F</td>\n",
       "    </tr>\n",
       "    <tr>\n",
       "      <th>4</th>\n",
       "      <td>AFC</td>\n",
       "      <td>N0067508</td>\n",
       "      <td>20</td>\n",
       "      <td>ARBOR GENERAL VISIT</td>\n",
       "      <td>6/3/2018 8:44:35 AM</td>\n",
       "      <td>6/3/2018 9:45:00 AM</td>\n",
       "      <td>F</td>\n",
       "    </tr>\n",
       "  </tbody>\n",
       "</table>\n",
       "</div>"
      ],
      "text/plain": [
       "  LocationAbbreviation PatientNumber  Age(Year)              VisitType  \\\n",
       "0                  AFC      N0057186         64  ARBOR FOLLOW-UP VISIT   \n",
       "1                  AFC      N0067320         20     LAB FOLLOW-UP NOTE   \n",
       "2                  AFC      N0067376         20     LAB FOLLOW-UP NOTE   \n",
       "3                  AFC      N0067344         20     LAB FOLLOW-UP NOTE   \n",
       "4                  AFC      N0067508         20    ARBOR GENERAL VISIT   \n",
       "\n",
       "          DateFirstKnown        VisitDateTime Sex  \n",
       "0   8/21/2016 8:36:23 AM  6/3/2018 9:00:00 AM   M  \n",
       "1   5/27/2018 8:47:12 AM  6/3/2018 9:20:52 AM   M  \n",
       "2  5/27/2018 10:10:26 AM  6/3/2018 9:33:07 AM   F  \n",
       "3   5/27/2018 9:59:43 AM  6/3/2018 9:35:50 AM   F  \n",
       "4    6/3/2018 8:44:35 AM  6/3/2018 9:45:00 AM   F  "
      ]
     },
     "execution_count": 3,
     "metadata": {},
     "output_type": "execute_result"
    }
   ],
   "source": [
    "path_visits = \"visits_data/both_clinics_2018_q4.csv\"\n",
    "df_visits = pd.read_csv(path_visits, error_bad_lines=False, header=0)\n",
    "df_visits.head()"
   ]
  },
  {
   "cell_type": "code",
   "execution_count": 4,
   "metadata": {},
   "outputs": [
    {
     "name": "stdout",
     "output_type": "stream",
     "text": [
      "        Age(Year)\n",
      "count  277.000000\n",
      "mean    48.007220\n",
      "std     17.093518\n",
      "min     18.000000\n",
      "25%     32.000000\n",
      "50%     49.000000\n",
      "75%     63.000000\n",
      "max     81.000000\n",
      "        Age(Year)\n",
      "count  175.000000\n",
      "mean    48.348571\n",
      "std     18.745381\n",
      "min      4.000000\n",
      "25%     29.000000\n",
      "50%     52.000000\n",
      "75%     63.000000\n",
      "max     95.000000\n"
     ]
    }
   ],
   "source": [
    "df_visits['VisitDateTimeTS'] = pd.to_datetime((df_visits['VisitDateTime']))\n",
    "df_visits['DateFirstKnownTS'] = pd.to_datetime((df_visits['DateFirstKnown']))\n",
    "df_visits.index = df_visits['VisitDateTimeTS']\n",
    "#df_visits = df_visits.iloc[::-1]\n",
    "del df_visits['DateFirstKnown']\n",
    "del df_visits['VisitDateTime']\n",
    "\n",
    "df_visits = df_visits[df_visits['LocationAbbreviation'] != 'TEST']\n",
    "arbor_general_visits = df_visits[df_visits['VisitType'] == 'ARBOR GENERAL VISIT']\n",
    "pfc_general_visits = df_visits[df_visits['VisitType'] == 'PFC NEW PATIENT VISIT']\n",
    "\n",
    "print arbor_general_visits.describe()\n",
    "print pfc_general_visits.describe()"
   ]
  },
  {
   "cell_type": "code",
   "execution_count": 5,
   "metadata": {},
   "outputs": [
    {
     "data": {
      "text/html": [
       "<div>\n",
       "<style scoped>\n",
       "    .dataframe tbody tr th:only-of-type {\n",
       "        vertical-align: middle;\n",
       "    }\n",
       "\n",
       "    .dataframe tbody tr th {\n",
       "        vertical-align: top;\n",
       "    }\n",
       "\n",
       "    .dataframe thead th {\n",
       "        text-align: right;\n",
       "    }\n",
       "</style>\n",
       "<table border=\"1\" class=\"dataframe\">\n",
       "  <thead>\n",
       "    <tr style=\"text-align: right;\">\n",
       "      <th></th>\n",
       "      <th>LocationAbbreviation</th>\n",
       "      <th>PatientNumber</th>\n",
       "      <th>Age(Year)</th>\n",
       "      <th>VisitType</th>\n",
       "      <th>Sex</th>\n",
       "      <th>VisitDateTimeTS</th>\n",
       "      <th>DateFirstKnownTS</th>\n",
       "    </tr>\n",
       "    <tr>\n",
       "      <th>VisitDateTimeTS</th>\n",
       "      <th></th>\n",
       "      <th></th>\n",
       "      <th></th>\n",
       "      <th></th>\n",
       "      <th></th>\n",
       "      <th></th>\n",
       "      <th></th>\n",
       "    </tr>\n",
       "  </thead>\n",
       "  <tbody>\n",
       "    <tr>\n",
       "      <th>2018-06-03 09:45:00</th>\n",
       "      <td>AFC</td>\n",
       "      <td>N0067508</td>\n",
       "      <td>20</td>\n",
       "      <td>ARBOR GENERAL VISIT</td>\n",
       "      <td>F</td>\n",
       "      <td>2018-06-03 09:45:00</td>\n",
       "      <td>2018-06-03 08:44:35</td>\n",
       "    </tr>\n",
       "    <tr>\n",
       "      <th>2018-06-03 09:45:00</th>\n",
       "      <td>AFC</td>\n",
       "      <td>N0067515</td>\n",
       "      <td>20</td>\n",
       "      <td>ARBOR GENERAL VISIT</td>\n",
       "      <td>F</td>\n",
       "      <td>2018-06-03 09:45:00</td>\n",
       "      <td>2018-06-03 08:46:56</td>\n",
       "    </tr>\n",
       "    <tr>\n",
       "      <th>2018-06-03 09:45:00</th>\n",
       "      <td>AFC</td>\n",
       "      <td>N0067522</td>\n",
       "      <td>25</td>\n",
       "      <td>ARBOR GENERAL VISIT</td>\n",
       "      <td>F</td>\n",
       "      <td>2018-06-03 09:45:00</td>\n",
       "      <td>2018-06-03 09:04:32</td>\n",
       "    </tr>\n",
       "    <tr>\n",
       "      <th>2018-06-03 09:45:00</th>\n",
       "      <td>AFC</td>\n",
       "      <td>N0051120</td>\n",
       "      <td>67</td>\n",
       "      <td>ARBOR GENERAL VISIT</td>\n",
       "      <td>M</td>\n",
       "      <td>2018-06-03 09:45:00</td>\n",
       "      <td>2015-09-27 10:08:41</td>\n",
       "    </tr>\n",
       "    <tr>\n",
       "      <th>2018-06-03 10:00:00</th>\n",
       "      <td>AFC</td>\n",
       "      <td>N0067110</td>\n",
       "      <td>56</td>\n",
       "      <td>ARBOR GENERAL VISIT</td>\n",
       "      <td>F</td>\n",
       "      <td>2018-06-03 10:00:00</td>\n",
       "      <td>2018-05-20 08:51:31</td>\n",
       "    </tr>\n",
       "  </tbody>\n",
       "</table>\n",
       "</div>"
      ],
      "text/plain": [
       "                    LocationAbbreviation PatientNumber  Age(Year)  \\\n",
       "VisitDateTimeTS                                                     \n",
       "2018-06-03 09:45:00                  AFC      N0067508         20   \n",
       "2018-06-03 09:45:00                  AFC      N0067515         20   \n",
       "2018-06-03 09:45:00                  AFC      N0067522         25   \n",
       "2018-06-03 09:45:00                  AFC      N0051120         67   \n",
       "2018-06-03 10:00:00                  AFC      N0067110         56   \n",
       "\n",
       "                               VisitType Sex     VisitDateTimeTS  \\\n",
       "VisitDateTimeTS                                                    \n",
       "2018-06-03 09:45:00  ARBOR GENERAL VISIT   F 2018-06-03 09:45:00   \n",
       "2018-06-03 09:45:00  ARBOR GENERAL VISIT   F 2018-06-03 09:45:00   \n",
       "2018-06-03 09:45:00  ARBOR GENERAL VISIT   F 2018-06-03 09:45:00   \n",
       "2018-06-03 09:45:00  ARBOR GENERAL VISIT   M 2018-06-03 09:45:00   \n",
       "2018-06-03 10:00:00  ARBOR GENERAL VISIT   F 2018-06-03 10:00:00   \n",
       "\n",
       "                       DateFirstKnownTS  \n",
       "VisitDateTimeTS                          \n",
       "2018-06-03 09:45:00 2018-06-03 08:44:35  \n",
       "2018-06-03 09:45:00 2018-06-03 08:46:56  \n",
       "2018-06-03 09:45:00 2018-06-03 09:04:32  \n",
       "2018-06-03 09:45:00 2015-09-27 10:08:41  \n",
       "2018-06-03 10:00:00 2018-05-20 08:51:31  "
      ]
     },
     "execution_count": 5,
     "metadata": {},
     "output_type": "execute_result"
    }
   ],
   "source": [
    "arbor_general_visits.head(5)"
   ]
  },
  {
   "cell_type": "markdown",
   "metadata": {},
   "source": [
    "Let's take a look and make sure we're looking at the right stuff"
   ]
  },
  {
   "cell_type": "code",
   "execution_count": 6,
   "metadata": {},
   "outputs": [],
   "source": [
    "def temporal_distribution(df, ts_name = 'ts'):\n",
    "    '''\n",
    "\n",
    "    '''\n",
    "    time_gb = df.groupby(df[ts_name].dt.month)\n",
    "    plt.figure()\n",
    "    time_gb.plot()\n",
    "    plt.show()\n"
   ]
  },
  {
   "cell_type": "code",
   "execution_count": 7,
   "metadata": {},
   "outputs": [
    {
     "data": {
      "text/plain": [
       "F    0.440433\n",
       "M    0.429603\n",
       "U    0.129964\n",
       "Name: Sex, dtype: float64"
      ]
     },
     "execution_count": 7,
     "metadata": {},
     "output_type": "execute_result"
    }
   ],
   "source": [
    "arbor_general_visits['Sex'].value_counts(normalize=True)"
   ]
  },
  {
   "cell_type": "code",
   "execution_count": 8,
   "metadata": {},
   "outputs": [
    {
     "data": {
      "text/plain": [
       "F    0.582857\n",
       "M    0.360000\n",
       "U    0.057143\n",
       "Name: Sex, dtype: float64"
      ]
     },
     "execution_count": 8,
     "metadata": {},
     "output_type": "execute_result"
    }
   ],
   "source": [
    "pfc_general_visits['Sex'].value_counts(normalize=True)"
   ]
  },
  {
   "cell_type": "code",
   "execution_count": 9,
   "metadata": {},
   "outputs": [
    {
     "data": {
      "text/plain": [
       "(62.1, 68.4]      42\n",
       "(55.8, 62.1]      36\n",
       "(30.6, 36.9]      34\n",
       "(17.936, 24.3]    31\n",
       "(36.9, 43.2]      29\n",
       "(49.5, 55.8]      27\n",
       "(43.2, 49.5]      26\n",
       "(24.3, 30.6]      22\n",
       "(68.4, 74.7]      18\n",
       "(74.7, 81.0]      12\n",
       "Name: Age(Year), dtype: int64"
      ]
     },
     "execution_count": 9,
     "metadata": {},
     "output_type": "execute_result"
    }
   ],
   "source": [
    "arbor_general_visits['Age(Year)'].value_counts(bins=10)"
   ]
  },
  {
   "cell_type": "code",
   "execution_count": 10,
   "metadata": {},
   "outputs": [
    {
     "data": {
      "text/plain": [
       "(22.2, 31.3]     42\n",
       "(58.6, 67.7]     38\n",
       "(49.5, 58.6]     28\n",
       "(31.3, 40.4]     17\n",
       "(40.4, 49.5]     16\n",
       "(67.7, 76.8]     15\n",
       "(76.8, 85.9]      9\n",
       "(13.1, 22.2]      7\n",
       "(85.9, 95.0]      2\n",
       "(3.908, 13.1]     1\n",
       "Name: Age(Year), dtype: int64"
      ]
     },
     "execution_count": 10,
     "metadata": {},
     "output_type": "execute_result"
    }
   ],
   "source": [
    "pfc_general_visits['Age(Year)'].value_counts(bins=10)"
   ]
  },
  {
   "cell_type": "code",
   "execution_count": 11,
   "metadata": {},
   "outputs": [
    {
     "data": {
      "text/html": [
       "<div>\n",
       "<style scoped>\n",
       "    .dataframe tbody tr th:only-of-type {\n",
       "        vertical-align: middle;\n",
       "    }\n",
       "\n",
       "    .dataframe tbody tr th {\n",
       "        vertical-align: top;\n",
       "    }\n",
       "\n",
       "    .dataframe thead th {\n",
       "        text-align: right;\n",
       "    }\n",
       "</style>\n",
       "<table border=\"1\" class=\"dataframe\">\n",
       "  <thead>\n",
       "    <tr style=\"text-align: right;\">\n",
       "      <th></th>\n",
       "      <th>LocationAbbreviation</th>\n",
       "      <th>PatientNumber</th>\n",
       "      <th>Age(Year)</th>\n",
       "      <th>VisitType</th>\n",
       "      <th>Sex</th>\n",
       "      <th>VisitDateTimeTS</th>\n",
       "      <th>DateFirstKnownTS</th>\n",
       "    </tr>\n",
       "    <tr>\n",
       "      <th>VisitDateTimeTS</th>\n",
       "      <th></th>\n",
       "      <th></th>\n",
       "      <th></th>\n",
       "      <th></th>\n",
       "      <th></th>\n",
       "      <th></th>\n",
       "      <th></th>\n",
       "    </tr>\n",
       "  </thead>\n",
       "  <tbody>\n",
       "    <tr>\n",
       "      <th>2018-07-05 10:00:00</th>\n",
       "      <td>PFC</td>\n",
       "      <td>N0041335</td>\n",
       "      <td>4</td>\n",
       "      <td>PFC NEW PATIENT VISIT</td>\n",
       "      <td>F</td>\n",
       "      <td>2018-07-05 10:00:00</td>\n",
       "      <td>2014-08-24 19:51:32</td>\n",
       "    </tr>\n",
       "  </tbody>\n",
       "</table>\n",
       "</div>"
      ],
      "text/plain": [
       "                    LocationAbbreviation PatientNumber  Age(Year)  \\\n",
       "VisitDateTimeTS                                                     \n",
       "2018-07-05 10:00:00                  PFC      N0041335          4   \n",
       "\n",
       "                                 VisitType Sex     VisitDateTimeTS  \\\n",
       "VisitDateTimeTS                                                      \n",
       "2018-07-05 10:00:00  PFC NEW PATIENT VISIT   F 2018-07-05 10:00:00   \n",
       "\n",
       "                       DateFirstKnownTS  \n",
       "VisitDateTimeTS                          \n",
       "2018-07-05 10:00:00 2014-08-24 19:51:32  "
      ]
     },
     "execution_count": 11,
     "metadata": {},
     "output_type": "execute_result"
    }
   ],
   "source": [
    "pfc_general_visits[pfc_general_visits['Age(Year)'] < 18]"
   ]
  },
  {
   "cell_type": "code",
   "execution_count": 12,
   "metadata": {},
   "outputs": [],
   "source": [
    "arbor_visits_clean = arbor_general_visits[arbor_general_visits['Age(Year)'] > 18]\n",
    "pfc_visits_clean = pfc_general_visits[pfc_general_visits['Age(Year)'] > 18]"
   ]
  },
  {
   "cell_type": "code",
   "execution_count": 13,
   "metadata": {},
   "outputs": [
    {
     "data": {
      "text/plain": [
       "F    121\n",
       "M    118\n",
       "U     36\n",
       "Name: Sex, dtype: int64"
      ]
     },
     "execution_count": 13,
     "metadata": {},
     "output_type": "execute_result"
    }
   ],
   "source": [
    "arbor_visits_clean['Sex'].value_counts()"
   ]
  },
  {
   "cell_type": "code",
   "execution_count": 14,
   "metadata": {},
   "outputs": [
    {
     "data": {
      "text/plain": [
       "F    101\n",
       "M     62\n",
       "U     10\n",
       "Name: Sex, dtype: int64"
      ]
     },
     "execution_count": 14,
     "metadata": {},
     "output_type": "execute_result"
    }
   ],
   "source": [
    "pfc_visits_clean['Sex'].value_counts()"
   ]
  },
  {
   "cell_type": "code",
   "execution_count": 15,
   "metadata": {},
   "outputs": [
    {
     "data": {
      "text/plain": [
       "(18.936999999999998, 25.2]    35\n",
       "(25.2, 31.4]                  26\n",
       "(31.4, 37.6]                  27\n",
       "(37.6, 43.8]                  26\n",
       "(43.8, 50.0]                  34\n",
       "(50.0, 56.2]                  23\n",
       "(56.2, 62.4]                  32\n",
       "(62.4, 68.6]                  42\n",
       "(68.6, 74.8]                  18\n",
       "(74.8, 81.0]                  12\n",
       "Name: Age(Year), dtype: int64"
      ]
     },
     "execution_count": 15,
     "metadata": {},
     "output_type": "execute_result"
    }
   ],
   "source": [
    "arbor_visits_clean['Age(Year)'].value_counts(sort=False,bins=10)"
   ]
  },
  {
   "cell_type": "code",
   "execution_count": 16,
   "metadata": {},
   "outputs": [
    {
     "data": {
      "text/plain": [
       "<matplotlib.axes._subplots.AxesSubplot at 0x1a21604250>"
      ]
     },
     "execution_count": 16,
     "metadata": {},
     "output_type": "execute_result"
    },
    {
     "data": {
      "image/png": "[encoded data removed]",
      "text/plain": [
       "<Figure size 432x288 with 1 Axes>"
      ]
     },
     "metadata": {},
     "output_type": "display_data"
    }
   ],
   "source": [
    "arbor_visits_clean['Age(Year)'].value_counts(sort=False,bins=10).plot(kind='bar', title='Arbor Patient Age')"
   ]
  },
  {
   "cell_type": "code",
   "execution_count": 17,
   "metadata": {},
   "outputs": [
    {
     "data": {
      "text/plain": [
       "(18.923, 26.6]    32\n",
       "(26.6, 34.2]      23\n",
       "(34.2, 41.8]      10\n",
       "(41.8, 49.4]      16\n",
       "(49.4, 57.0]      26\n",
       "(57.0, 64.6]      31\n",
       "(64.6, 72.2]      18\n",
       "(72.2, 79.8]      10\n",
       "(79.8, 87.4]       5\n",
       "(87.4, 95.0]       2\n",
       "Name: Age(Year), dtype: int64"
      ]
     },
     "execution_count": 17,
     "metadata": {},
     "output_type": "execute_result"
    }
   ],
   "source": [
    "pfc_visits_clean['Age(Year)'].value_counts(sort=False,bins=10)"
   ]
  },
  {
   "cell_type": "code",
   "execution_count": 18,
   "metadata": {},
   "outputs": [
    {
     "data": {
      "text/plain": [
       "<matplotlib.axes._subplots.AxesSubplot at 0x1a217a4150>"
      ]
     },
     "execution_count": 18,
     "metadata": {},
     "output_type": "execute_result"
    },
    {
     "data": {
      "image/png": "[encoded data removed]",
      "text/plain": [
       "<Figure size 432x288 with 1 Axes>"
      ]
     },
     "metadata": {},
     "output_type": "display_data"
    }
   ],
   "source": [
    "pfc_visits_clean['Age(Year)'].value_counts(sort=False,bins=10).plot(kind='bar', title='PFC Patient Age')"
   ]
  },
  {
   "cell_type": "code",
   "execution_count": 19,
   "metadata": {},
   "outputs": [
    {
     "data": {
      "text/plain": [
       "count    275.000000\n",
       "mean      48.225455\n",
       "std       16.961745\n",
       "min       19.000000\n",
       "25%       33.000000\n",
       "50%       49.000000\n",
       "75%       63.000000\n",
       "max       81.000000\n",
       "Name: Age(Year), dtype: float64"
      ]
     },
     "execution_count": 19,
     "metadata": {},
     "output_type": "execute_result"
    }
   ],
   "source": [
    "arbor_visits_clean['Age(Year)'].describe()"
   ]
  },
  {
   "cell_type": "code",
   "execution_count": 20,
   "metadata": {},
   "outputs": [
    {
     "data": {
      "text/plain": [
       "count    173.000000\n",
       "mean      48.780347\n",
       "std       18.398315\n",
       "min       19.000000\n",
       "25%       29.000000\n",
       "50%       52.000000\n",
       "75%       63.000000\n",
       "max       95.000000\n",
       "Name: Age(Year), dtype: float64"
      ]
     },
     "execution_count": 20,
     "metadata": {},
     "output_type": "execute_result"
    }
   ],
   "source": [
    "pfc_visits_clean['Age(Year)'].describe()"
   ]
  },
  {
   "cell_type": "code",
   "execution_count": 21,
   "metadata": {},
   "outputs": [
    {
     "data": {
      "text/plain": [
       "count          275\n",
       "unique         243\n",
       "top       N0068026\n",
       "freq             4\n",
       "Name: PatientNumber, dtype: object"
      ]
     },
     "execution_count": 21,
     "metadata": {},
     "output_type": "execute_result"
    }
   ],
   "source": [
    "arbor_visits_clean['PatientNumber'].describe()"
   ]
  },
  {
   "cell_type": "code",
   "execution_count": 22,
   "metadata": {},
   "outputs": [
    {
     "data": {
      "text/plain": [
       "count          173\n",
       "unique         169\n",
       "top       N0062660\n",
       "freq             2\n",
       "Name: PatientNumber, dtype: object"
      ]
     },
     "execution_count": 22,
     "metadata": {},
     "output_type": "execute_result"
    }
   ],
   "source": [
    "pfc_visits_clean['PatientNumber'].describe()"
   ]
  },
  {
   "cell_type": "code",
   "execution_count": 23,
   "metadata": {},
   "outputs": [
    {
     "data": {
      "text/plain": [
       "count    243.000000\n",
       "mean       1.131687\n",
       "std        0.395146\n",
       "min        1.000000\n",
       "25%        1.000000\n",
       "50%        1.000000\n",
       "75%        1.000000\n",
       "max        4.000000\n",
       "dtype: float64"
      ]
     },
     "execution_count": 23,
     "metadata": {},
     "output_type": "execute_result"
    }
   ],
   "source": [
    "arbor_visits_clean.groupby(arbor_visits_clean['PatientNumber']).size().describe()"
   ]
  },
  {
   "cell_type": "code",
   "execution_count": 24,
   "metadata": {},
   "outputs": [
    {
     "data": {
      "text/plain": [
       "count    169.000000\n",
       "mean       1.023669\n",
       "std        0.152466\n",
       "min        1.000000\n",
       "25%        1.000000\n",
       "50%        1.000000\n",
       "75%        1.000000\n",
       "max        2.000000\n",
       "dtype: float64"
      ]
     },
     "execution_count": 24,
     "metadata": {},
     "output_type": "execute_result"
    }
   ],
   "source": [
    "pfc_visits_clean.groupby(pfc_visits_clean['PatientNumber']).size().describe()"
   ]
  },
  {
   "cell_type": "code",
   "execution_count": 25,
   "metadata": {},
   "outputs": [],
   "source": [
    "def get_grouped_data(df, column, group_keys=None, summed=True):\n",
    "    grouped = df.groupby(df[column])\n",
    "    visits_per_group = [] if group_keys is None else np.zeros(len(group_keys))\n",
    "    if group_keys is not None:\n",
    "        for c, group in enumerate(group_keys):\n",
    "            if group in grouped.groups:\n",
    "                visits_per_group[c] = len(grouped.groups[group])\n",
    "    else:\n",
    "        for group in grouped.groups:\n",
    "            visits_per_group.append(len(grouped.groups[group]))\n",
    "        \n",
    "    if summed:\n",
    "        return np.sum(visits_per_group)\n",
    "    else:\n",
    "        return visits_per_group"
   ]
  },
  {
   "cell_type": "code",
   "execution_count": 26,
   "metadata": {},
   "outputs": [],
   "source": [
    "def visits_periodic(df, period='mom', group_keys=None):\n",
    "    \n",
    "    periodic_visits = []\n",
    "    time_points = []\n",
    "    spec_usage_mom = []\n",
    "    \n",
    "    if period == 'mom':\n",
    "        months = [val for val in range(1, 13)]\n",
    "        years = [2017, 2018]\n",
    "        for year in years:\n",
    "            for begin_month in months:\n",
    "                tp1 = (year, begin_month, 1)\n",
    "                tp2 = ()\n",
    "                if begin_month == 12:\n",
    "                    tp2 = (year+1, 1, 1)\n",
    "                else:\n",
    "                    tp2 = (year, begin_month+1, 1)\n",
    "                    \n",
    "                filtered = time_filter(tp1,tp2, df)\n",
    "                \n",
    "                if filtered.values.shape[0] == 0:\n",
    "                    continue\n",
    "                else:\n",
    "                    periodic_visits.append(get_grouped_data(filtered, 'PatientNumber'))\n",
    "                    spec_usage_mom.append(get_grouped_data(filtered, 'VisitType', group_keys = group_keys, summed=False))\n",
    "                    time_points.append(str(begin_month) + '/' + str(year))\n",
    "                    \n",
    "\n",
    "    return (periodic_visits, np.array(spec_usage_mom), time_points)"
   ]
  },
  {
   "cell_type": "code",
   "execution_count": 27,
   "metadata": {},
   "outputs": [
    {
     "ename": "KeyError",
     "evalue": "1483228800000000000",
     "output_type": "error",
     "traceback": [
      "\u001b[0;31m---------------------------------------------------------------------------\u001b[0m",
      "\u001b[0;31mKeyError\u001b[0m                                  Traceback (most recent call last)",
      "\u001b[0;32m<ipython-input-27-bd5469b04464>\u001b[0m in \u001b[0;36m<module>\u001b[0;34m()\u001b[0m\n\u001b[1;32m     14\u001b[0m \u001b[0;34m\u001b[0m\u001b[0m\n\u001b[1;32m     15\u001b[0m periodic_visits, spec_usage_mom, time_points = visits_periodic(arbor_visits_clean, \n\u001b[0;32m---> 16\u001b[0;31m                                                                group_keys=arbor_spec_clinics)\n\u001b[0m\u001b[1;32m     17\u001b[0m \u001b[0;32mprint\u001b[0m \u001b[0mnp\u001b[0m\u001b[0;34m.\u001b[0m\u001b[0msum\u001b[0m\u001b[0;34m(\u001b[0m\u001b[0mperiodic_visits\u001b[0m\u001b[0;34m)\u001b[0m\u001b[0;34m\u001b[0m\u001b[0m\n\u001b[1;32m     18\u001b[0m \u001b[0;32mprint\u001b[0m \u001b[0mspec_usage_mom\u001b[0m\u001b[0;34m\u001b[0m\u001b[0m\n",
      "\u001b[0;32m<ipython-input-26-e4a4091d893c>\u001b[0m in \u001b[0;36mvisits_periodic\u001b[0;34m(df, period, group_keys)\u001b[0m\n\u001b[1;32m     17\u001b[0m                     \u001b[0mtp2\u001b[0m \u001b[0;34m=\u001b[0m \u001b[0;34m(\u001b[0m\u001b[0myear\u001b[0m\u001b[0;34m,\u001b[0m \u001b[0mbegin_month\u001b[0m\u001b[0;34m+\u001b[0m\u001b[0;36m1\u001b[0m\u001b[0;34m,\u001b[0m \u001b[0;36m1\u001b[0m\u001b[0;34m)\u001b[0m\u001b[0;34m\u001b[0m\u001b[0m\n\u001b[1;32m     18\u001b[0m \u001b[0;34m\u001b[0m\u001b[0m\n\u001b[0;32m---> 19\u001b[0;31m                 \u001b[0mfiltered\u001b[0m \u001b[0;34m=\u001b[0m \u001b[0mtime_filter\u001b[0m\u001b[0;34m(\u001b[0m\u001b[0mtp1\u001b[0m\u001b[0;34m,\u001b[0m\u001b[0mtp2\u001b[0m\u001b[0;34m,\u001b[0m \u001b[0mdf\u001b[0m\u001b[0;34m)\u001b[0m\u001b[0;34m\u001b[0m\u001b[0m\n\u001b[0m\u001b[1;32m     20\u001b[0m \u001b[0;34m\u001b[0m\u001b[0m\n\u001b[1;32m     21\u001b[0m                 \u001b[0;32mif\u001b[0m \u001b[0mfiltered\u001b[0m\u001b[0;34m.\u001b[0m\u001b[0mvalues\u001b[0m\u001b[0;34m.\u001b[0m\u001b[0mshape\u001b[0m\u001b[0;34m[\u001b[0m\u001b[0;36m0\u001b[0m\u001b[0;34m]\u001b[0m \u001b[0;34m==\u001b[0m \u001b[0;36m0\u001b[0m\u001b[0;34m:\u001b[0m\u001b[0;34m\u001b[0m\u001b[0m\n",
      "\u001b[0;32m<ipython-input-2-24fe91d877e5>\u001b[0m in \u001b[0;36mtime_filter\u001b[0;34m(t1, t2, df)\u001b[0m\n\u001b[1;32m      3\u001b[0m     \u001b[0mbound1\u001b[0m \u001b[0;34m=\u001b[0m \u001b[0mdatetime\u001b[0m\u001b[0;34m(\u001b[0m\u001b[0;34m*\u001b[0m\u001b[0mt1\u001b[0m\u001b[0;34m)\u001b[0m\u001b[0;34m\u001b[0m\u001b[0m\n\u001b[1;32m      4\u001b[0m     \u001b[0mbound2\u001b[0m \u001b[0;34m=\u001b[0m \u001b[0mdatetime\u001b[0m\u001b[0;34m(\u001b[0m\u001b[0;34m*\u001b[0m\u001b[0mt2\u001b[0m\u001b[0;34m)\u001b[0m\u001b[0;34m\u001b[0m\u001b[0m\n\u001b[0;32m----> 5\u001b[0;31m     \u001b[0;32mreturn\u001b[0m \u001b[0mdf\u001b[0m\u001b[0;34m[\u001b[0m\u001b[0mbound1\u001b[0m\u001b[0;34m:\u001b[0m\u001b[0mbound2\u001b[0m\u001b[0;34m]\u001b[0m\u001b[0;34m\u001b[0m\u001b[0m\n\u001b[0m",
      "\u001b[0;32m/Users/alex/miniconda2/lib/python2.7/site-packages/pandas/core/frame.pyc\u001b[0m in \u001b[0;36m__getitem__\u001b[0;34m(self, key)\u001b[0m\n\u001b[1;32m   2125\u001b[0m \u001b[0;34m\u001b[0m\u001b[0m\n\u001b[1;32m   2126\u001b[0m         \u001b[0;31m# see if we can slice the rows\u001b[0m\u001b[0;34m\u001b[0m\u001b[0;34m\u001b[0m\u001b[0m\n\u001b[0;32m-> 2127\u001b[0;31m         \u001b[0mindexer\u001b[0m \u001b[0;34m=\u001b[0m \u001b[0mconvert_to_index_sliceable\u001b[0m\u001b[0;34m(\u001b[0m\u001b[0mself\u001b[0m\u001b[0;34m,\u001b[0m \u001b[0mkey\u001b[0m\u001b[0;34m)\u001b[0m\u001b[0;34m\u001b[0m\u001b[0m\n\u001b[0m\u001b[1;32m   2128\u001b[0m         \u001b[0;32mif\u001b[0m \u001b[0mindexer\u001b[0m \u001b[0;32mis\u001b[0m \u001b[0;32mnot\u001b[0m \u001b[0mNone\u001b[0m\u001b[0;34m:\u001b[0m\u001b[0;34m\u001b[0m\u001b[0m\n\u001b[1;32m   2129\u001b[0m             \u001b[0;32mreturn\u001b[0m \u001b[0mself\u001b[0m\u001b[0;34m.\u001b[0m\u001b[0m_getitem_slice\u001b[0m\u001b[0;34m(\u001b[0m\u001b[0mindexer\u001b[0m\u001b[0;34m)\u001b[0m\u001b[0;34m\u001b[0m\u001b[0m\n",
      "\u001b[0;32m/Users/alex/miniconda2/lib/python2.7/site-packages/pandas/core/indexing.pyc\u001b[0m in \u001b[0;36mconvert_to_index_sliceable\u001b[0;34m(obj, key)\u001b[0m\n\u001b[1;32m   1978\u001b[0m     \u001b[0midx\u001b[0m \u001b[0;34m=\u001b[0m \u001b[0mobj\u001b[0m\u001b[0;34m.\u001b[0m\u001b[0mindex\u001b[0m\u001b[0;34m\u001b[0m\u001b[0m\n\u001b[1;32m   1979\u001b[0m     \u001b[0;32mif\u001b[0m \u001b[0misinstance\u001b[0m\u001b[0;34m(\u001b[0m\u001b[0mkey\u001b[0m\u001b[0;34m,\u001b[0m \u001b[0mslice\u001b[0m\u001b[0;34m)\u001b[0m\u001b[0;34m:\u001b[0m\u001b[0;34m\u001b[0m\u001b[0m\n\u001b[0;32m-> 1980\u001b[0;31m         \u001b[0;32mreturn\u001b[0m \u001b[0midx\u001b[0m\u001b[0;34m.\u001b[0m\u001b[0m_convert_slice_indexer\u001b[0m\u001b[0;34m(\u001b[0m\u001b[0mkey\u001b[0m\u001b[0;34m,\u001b[0m \u001b[0mkind\u001b[0m\u001b[0;34m=\u001b[0m\u001b[0;34m'getitem'\u001b[0m\u001b[0;34m)\u001b[0m\u001b[0;34m\u001b[0m\u001b[0m\n\u001b[0m\u001b[1;32m   1981\u001b[0m \u001b[0;34m\u001b[0m\u001b[0m\n\u001b[1;32m   1982\u001b[0m     \u001b[0;32melif\u001b[0m \u001b[0misinstance\u001b[0m\u001b[0;34m(\u001b[0m\u001b[0mkey\u001b[0m\u001b[0;34m,\u001b[0m \u001b[0mcompat\u001b[0m\u001b[0;34m.\u001b[0m\u001b[0mstring_types\u001b[0m\u001b[0;34m)\u001b[0m\u001b[0;34m:\u001b[0m\u001b[0;34m\u001b[0m\u001b[0m\n",
      "\u001b[0;32m/Users/alex/miniconda2/lib/python2.7/site-packages/pandas/core/indexes/base.pyc\u001b[0m in \u001b[0;36m_convert_slice_indexer\u001b[0;34m(self, key, kind)\u001b[0m\n\u001b[1;32m   1462\u001b[0m         \u001b[0;32melse\u001b[0m\u001b[0;34m:\u001b[0m\u001b[0;34m\u001b[0m\u001b[0m\n\u001b[1;32m   1463\u001b[0m             \u001b[0;32mtry\u001b[0m\u001b[0;34m:\u001b[0m\u001b[0;34m\u001b[0m\u001b[0m\n\u001b[0;32m-> 1464\u001b[0;31m                 \u001b[0mindexer\u001b[0m \u001b[0;34m=\u001b[0m \u001b[0mself\u001b[0m\u001b[0;34m.\u001b[0m\u001b[0mslice_indexer\u001b[0m\u001b[0;34m(\u001b[0m\u001b[0mstart\u001b[0m\u001b[0;34m,\u001b[0m \u001b[0mstop\u001b[0m\u001b[0;34m,\u001b[0m \u001b[0mstep\u001b[0m\u001b[0;34m,\u001b[0m \u001b[0mkind\u001b[0m\u001b[0;34m=\u001b[0m\u001b[0mkind\u001b[0m\u001b[0;34m)\u001b[0m\u001b[0;34m\u001b[0m\u001b[0m\n\u001b[0m\u001b[1;32m   1465\u001b[0m             \u001b[0;32mexcept\u001b[0m \u001b[0mException\u001b[0m\u001b[0;34m:\u001b[0m\u001b[0;34m\u001b[0m\u001b[0m\n\u001b[1;32m   1466\u001b[0m                 \u001b[0;32mif\u001b[0m \u001b[0mis_index_slice\u001b[0m\u001b[0;34m:\u001b[0m\u001b[0;34m\u001b[0m\u001b[0m\n",
      "\u001b[0;32m/Users/alex/miniconda2/lib/python2.7/site-packages/pandas/core/indexes/datetimes.pyc\u001b[0m in \u001b[0;36mslice_indexer\u001b[0;34m(self, start, end, step, kind)\u001b[0m\n\u001b[1;32m   1526\u001b[0m \u001b[0;34m\u001b[0m\u001b[0m\n\u001b[1;32m   1527\u001b[0m         \u001b[0;32mtry\u001b[0m\u001b[0;34m:\u001b[0m\u001b[0;34m\u001b[0m\u001b[0m\n\u001b[0;32m-> 1528\u001b[0;31m             \u001b[0;32mreturn\u001b[0m \u001b[0mIndex\u001b[0m\u001b[0;34m.\u001b[0m\u001b[0mslice_indexer\u001b[0m\u001b[0;34m(\u001b[0m\u001b[0mself\u001b[0m\u001b[0;34m,\u001b[0m \u001b[0mstart\u001b[0m\u001b[0;34m,\u001b[0m \u001b[0mend\u001b[0m\u001b[0;34m,\u001b[0m \u001b[0mstep\u001b[0m\u001b[0;34m,\u001b[0m \u001b[0mkind\u001b[0m\u001b[0;34m=\u001b[0m\u001b[0mkind\u001b[0m\u001b[0;34m)\u001b[0m\u001b[0;34m\u001b[0m\u001b[0m\n\u001b[0m\u001b[1;32m   1529\u001b[0m         \u001b[0;32mexcept\u001b[0m \u001b[0mKeyError\u001b[0m\u001b[0;34m:\u001b[0m\u001b[0;34m\u001b[0m\u001b[0m\n\u001b[1;32m   1530\u001b[0m             \u001b[0;31m# For historical reasons DatetimeIndex by default supports\u001b[0m\u001b[0;34m\u001b[0m\u001b[0;34m\u001b[0m\u001b[0m\n",
      "\u001b[0;32m/Users/alex/miniconda2/lib/python2.7/site-packages/pandas/core/indexes/base.pyc\u001b[0m in \u001b[0;36mslice_indexer\u001b[0;34m(self, start, end, step, kind)\u001b[0m\n\u001b[1;32m   3455\u001b[0m         \"\"\"\n\u001b[1;32m   3456\u001b[0m         start_slice, end_slice = self.slice_locs(start, end, step=step,\n\u001b[0;32m-> 3457\u001b[0;31m                                                  kind=kind)\n\u001b[0m\u001b[1;32m   3458\u001b[0m \u001b[0;34m\u001b[0m\u001b[0m\n\u001b[1;32m   3459\u001b[0m         \u001b[0;31m# return a slice\u001b[0m\u001b[0;34m\u001b[0m\u001b[0;34m\u001b[0m\u001b[0m\n",
      "\u001b[0;32m/Users/alex/miniconda2/lib/python2.7/site-packages/pandas/core/indexes/base.pyc\u001b[0m in \u001b[0;36mslice_locs\u001b[0;34m(self, start, end, step, kind)\u001b[0m\n\u001b[1;32m   3656\u001b[0m         \u001b[0mstart_slice\u001b[0m \u001b[0;34m=\u001b[0m \u001b[0mNone\u001b[0m\u001b[0;34m\u001b[0m\u001b[0m\n\u001b[1;32m   3657\u001b[0m         \u001b[0;32mif\u001b[0m \u001b[0mstart\u001b[0m \u001b[0;32mis\u001b[0m \u001b[0;32mnot\u001b[0m \u001b[0mNone\u001b[0m\u001b[0;34m:\u001b[0m\u001b[0;34m\u001b[0m\u001b[0m\n\u001b[0;32m-> 3658\u001b[0;31m             \u001b[0mstart_slice\u001b[0m \u001b[0;34m=\u001b[0m \u001b[0mself\u001b[0m\u001b[0;34m.\u001b[0m\u001b[0mget_slice_bound\u001b[0m\u001b[0;34m(\u001b[0m\u001b[0mstart\u001b[0m\u001b[0;34m,\u001b[0m \u001b[0;34m'left'\u001b[0m\u001b[0;34m,\u001b[0m \u001b[0mkind\u001b[0m\u001b[0;34m)\u001b[0m\u001b[0;34m\u001b[0m\u001b[0m\n\u001b[0m\u001b[1;32m   3659\u001b[0m         \u001b[0;32mif\u001b[0m \u001b[0mstart_slice\u001b[0m \u001b[0;32mis\u001b[0m \u001b[0mNone\u001b[0m\u001b[0;34m:\u001b[0m\u001b[0;34m\u001b[0m\u001b[0m\n\u001b[1;32m   3660\u001b[0m             \u001b[0mstart_slice\u001b[0m \u001b[0;34m=\u001b[0m \u001b[0;36m0\u001b[0m\u001b[0;34m\u001b[0m\u001b[0m\n",
      "\u001b[0;32m/Users/alex/miniconda2/lib/python2.7/site-packages/pandas/core/indexes/base.pyc\u001b[0m in \u001b[0;36mget_slice_bound\u001b[0;34m(self, label, side, kind)\u001b[0m\n\u001b[1;32m   3592\u001b[0m             \u001b[0;32mexcept\u001b[0m \u001b[0mValueError\u001b[0m\u001b[0;34m:\u001b[0m\u001b[0;34m\u001b[0m\u001b[0m\n\u001b[1;32m   3593\u001b[0m                 \u001b[0;31m# raise the original KeyError\u001b[0m\u001b[0;34m\u001b[0m\u001b[0;34m\u001b[0m\u001b[0m\n\u001b[0;32m-> 3594\u001b[0;31m                 \u001b[0;32mraise\u001b[0m \u001b[0merr\u001b[0m\u001b[0;34m\u001b[0m\u001b[0m\n\u001b[0m\u001b[1;32m   3595\u001b[0m \u001b[0;34m\u001b[0m\u001b[0m\n\u001b[1;32m   3596\u001b[0m         \u001b[0;32mif\u001b[0m \u001b[0misinstance\u001b[0m\u001b[0;34m(\u001b[0m\u001b[0mslc\u001b[0m\u001b[0;34m,\u001b[0m \u001b[0mnp\u001b[0m\u001b[0;34m.\u001b[0m\u001b[0mndarray\u001b[0m\u001b[0;34m)\u001b[0m\u001b[0;34m:\u001b[0m\u001b[0;34m\u001b[0m\u001b[0m\n",
      "\u001b[0;31mKeyError\u001b[0m: 1483228800000000000"
     ]
    }
   ],
   "source": [
    "arbor_spec_clinics = [\n",
    "    'ARBOR CARDIOLOGY',\n",
    "    'ARBOR DERMATOLOGY',\n",
    "    'ARBOR FOLLOW-UP VISIT',\n",
    "    'ARBOR GENERAL VISIT',\n",
    "    'ARBOR MENTAL HEALTH',\n",
    "    'ARBOR MSK',\n",
    "    'ARBOR NEUROLOGY',\n",
    "    'ARBOR OPHTHALMOLOGY',\n",
    "    \"ARBOR WOMEN'S HEALTH\",\n",
    "    'LAB FOLLOW-UP NOTE'\n",
    "    ]\n",
    "\n",
    "\n",
    "periodic_visits, spec_usage_mom, time_points = visits_periodic(arbor_visits_clean, \n",
    "                                                               group_keys=arbor_spec_clinics)\n",
    "print np.sum(periodic_visits)\n",
    "print spec_usage_mom\n",
    "print time_points\n",
    "\n",
    "arbor_specialty_clinics_df = pd.DataFrame({clinic:spec_usage_mom[:,col_idx] \n",
    "                                     for clinic, col_idx in zip(arbor_spec_clinics, range(spec_usage_mom.shape[1]))\n",
    "                                    }, \n",
    "                                    index = time_points)\n",
    "\n",
    "arbor_specialty_clinics_df.head(12)\n"
   ]
  },
  {
   "cell_type": "code",
   "execution_count": null,
   "metadata": {},
   "outputs": [],
   "source": []
  },
  {
   "cell_type": "code",
   "execution_count": null,
   "metadata": {},
   "outputs": [],
   "source": [
    "arbor_date_grouped = arbor_visits_clean.groupby(pd.Grouper(key='VisitDateTimeTS', freq='W-SUN'))\n",
    "fig, ax = plt.subplots(figsize=(20,10))\n",
    "plt.plot(arbor_date_grouped['PatientNumber'].count().index.strftime('%Y-%m-%d'), arbor_date_grouped['PatientNumber'].count().values)\n",
    "plt.xticks(rotation=90)\n",
    "ax.grid(True)\n",
    "plt.title('Number of Arbor General Visits, Week over Week')\n",
    "plt.xlabel('Clinic Date')\n",
    "plt.ylabel('Number of Patients')\n",
    "plt.ylim([0, 18])"
   ]
  },
  {
   "cell_type": "code",
   "execution_count": null,
   "metadata": {},
   "outputs": [],
   "source": [
    "pfc_date_grouped = pfc_visits_clean.groupby(pd.Grouper(key='VisitDateTimeTS', freq='W-SUN'))\n",
    "fig, ax = plt.subplots(figsize=(20,10))\n",
    "plt.plot(pfc_date_grouped['PatientNumber'].count().index.strftime('%Y-%m-%d'), pfc_date_grouped['PatientNumber'].count().values)\n",
    "plt.xticks(rotation=90)\n",
    "ax.grid(True)\n",
    "plt.title('Number of PFC New Patient Visits, Week over Week')\n",
    "plt.xlabel('Clinic Date')\n",
    "plt.ylabel('Number of Patients')\n",
    "plt.ylim([0, 18])"
   ]
  },
  {
   "cell_type": "code",
   "execution_count": null,
   "metadata": {},
   "outputs": [],
   "source": [
    "sns.set_style(\"white\")\n",
    "fig, ax = plt.subplots(figsize=(10,10))\n",
    "sns.lineplot(data=arbor_date_grouped['PatientNumber'].count(), ax=ax)\n",
    "ax.set_xticks(arbor_date_grouped['PatientNumber'].count().index.strftime('%Y-%m-%d'))"
   ]
  },
  {
   "cell_type": "code",
   "execution_count": null,
   "metadata": {
    "scrolled": true
   },
   "outputs": [],
   "source": [
    "arbor_visits_clean['VisitDateTimeTS'].value_counts(sort=False,bins=12)"
   ]
  },
  {
   "cell_type": "code",
   "execution_count": null,
   "metadata": {},
   "outputs": [],
   "source": [
    "pfc_visits_clean['VisitDateTimeTS'].value_counts(sort=False,bins=12)"
   ]
  },
  {
   "cell_type": "code",
   "execution_count": null,
   "metadata": {
    "scrolled": true
   },
   "outputs": [],
   "source": [
    "grouped = pfc_visits_clean.groupby('VisitType')\n",
    "for g in grouped.groups:\n",
    "    print g\n",
    "    print len(grouped.groups[g])"
   ]
  },
  {
   "cell_type": "code",
   "execution_count": null,
   "metadata": {},
   "outputs": [],
   "source": [
    "arbor_visits_clean.groupby('VisitType').size()"
   ]
  },
  {
   "cell_type": "code",
   "execution_count": null,
   "metadata": {},
   "outputs": [],
   "source": [
    "df_visits = pd.read_csv(path_visits, error_bad_lines=False, header=0)\n",
    "df_visits['VisitDateTimeTS'] = pd.to_datetime((df_visits['VisitDateTime']))\n",
    "df_visits['DateFirstKnownTS'] = pd.to_datetime((df_visits['DateFirstKnown']))\n",
    "df_visits.index = df_visits['VisitDateTimeTS']\n",
    "#df_visits = df_visits.iloc[::-1]\n",
    "del df_visits['DateFirstKnown']\n",
    "del df_visits['VisitDateTime']\n",
    "\n",
    "df_visits = df_visits[df_visits['LocationAbbreviation'] != 'TEST']\n",
    "df_visits_clean = df_visits[df_visits['Age(Year)']> 18]\n",
    "df_visits_clean.sort_values('VisitDateTimeTS', inplace=True)"
   ]
  },
  {
   "cell_type": "code",
   "execution_count": null,
   "metadata": {},
   "outputs": [],
   "source": [
    "df_visits_clean.groupby('VisitType').size()"
   ]
  },
  {
   "cell_type": "code",
   "execution_count": null,
   "metadata": {},
   "outputs": [],
   "source": [
    "ALL_SPEC_KEYS = [\n",
    "    'ARBOR CARDIOLOGY',\n",
    "    'ARBOR DERMATOLOGY',\n",
    "    'ARBOR FOLLOW-UP VISIT',\n",
    "    'ARBOR GENERAL VISIT',\n",
    "    'ARBOR MENTAL HEALTH',\n",
    "    'ARBOR MSK',\n",
    "    'ARBOR NEUROLOGY',\n",
    "    'ARBOR OPHTHALMOLOGY',\n",
    "    \"ARBOR WOMEN'S HEALTH\",\n",
    "    'PFC DERMATOLOGY VISIT',\n",
    "    'PFC FOLLOW UP VISIT',\n",
    "    'PFC HEP CLINIC VISIT',\n",
    "    'PFC MENTAL HEALTH VISIT',\n",
    "    'PFC NEW PATIENT VISIT',\n",
    "    'PFC OPHTHALMOLOGY VISIT',\n",
    "    \"PFC WOMEN'S CLINIC VISIT\",\n",
    "    'PFC FAST TRACK VACCINE'\n",
    "]\n",
    "\n",
    "\n",
    "periodic_visits, spec_usage_mom, time_points = visits_periodic(df_visits_clean, \n",
    "                                                               group_keys=ALL_SPEC_KEYS)\n",
    "print np.sum(periodic_visits)\n",
    "print spec_usage_mom\n",
    "print time_points\n",
    "\n",
    "joint_spec_df = pd.DataFrame({clinic:spec_usage_mom[:,col_idx] \n",
    "                                     for clinic, col_idx in zip(ALL_SPEC_KEYS, range(spec_usage_mom.shape[1]))\n",
    "                                    }, \n",
    "                                    index = time_points)\n",
    "\n",
    "joint_spec_df.head(20)\n"
   ]
  },
  {
   "cell_type": "code",
   "execution_count": null,
   "metadata": {},
   "outputs": [],
   "source": [
    "joint_spec_df.to_csv('joint_spec_clinics.csv')"
   ]
  },
  {
   "cell_type": "code",
   "execution_count": null,
   "metadata": {},
   "outputs": [],
   "source": []
  }
 ],
 "metadata": {
  "kernelspec": {
   "display_name": "Python 2",
   "language": "python",
   "name": "python2"
  },
  "language_info": {
   "codemirror_mode": {
    "name": "ipython",
    "version": 2
   },
   "file_extension": ".py",
   "mimetype": "text/x-python",
   "name": "python",
   "nbconvert_exporter": "python",
   "pygments_lexer": "ipython2",
   "version": "2.7.14"
  }
 },
 "nbformat": 4,
 "nbformat_minor": 2
}
