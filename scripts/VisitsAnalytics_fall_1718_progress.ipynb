{
 "cells": [
  {
   "cell_type": "markdown",
   "metadata": {},
   "source": [
    "# Playing with the visits table "
   ]
  },
  {
   "cell_type": "markdown",
   "metadata": {},
   "source": [
    "### Alex Lu | Autumn Q 17-18  \n",
    "---\n",
    "\n",
    "October 22, 2018"
   ]
  },
  {
   "cell_type": "markdown",
   "metadata": {},
   "source": [
    "**OBJECTIVE**\n",
    "\n",
    "---\n",
    "\n",
    "I have been tasked with getting distributions of age, sex, for Arbor and PFC patients over the last year. This notebook examines the age and sex distributions from a visits paradigm (and not a unique'd patients paradigm). "
   ]
  },
  {
   "cell_type": "markdown",
   "metadata": {},
   "source": [
    "First, let's import all of the stuff that we'll need"
   ]
  },
  {
   "cell_type": "code",
   "execution_count": 1,
   "metadata": {},
   "outputs": [],
   "source": [
    "import numpy as np\n",
    "import pandas as pd\n",
    "import matplotlib.pyplot as plt\n",
    "import csv\n",
    "import seaborn as sns\n",
    "from utils.indicator import *\n",
    "from utils.file_ops import *\n",
    "from datetime import datetime\n",
    "%matplotlib inline"
   ]
  },
  {
   "cell_type": "markdown",
   "metadata": {},
   "source": [
    "We want to filter on the time of visit for longitudinal visualization. First, we should do a conversion on the format of the time string to make it more workable. Then, we're going to make this new 'ts' column the index, and drop the string form VisitDate series. "
   ]
  },
  {
   "cell_type": "code",
   "execution_count": 2,
   "metadata": {},
   "outputs": [],
   "source": [
    "def time_filter(t1, t2, df):\n",
    "    # accepts numerical tuples of form (year, mon, day)\n",
    "    bound1 = datetime(*t1)\n",
    "    bound2 = datetime(*t2)\n",
    "    return df[bound1:bound2]"
   ]
  },
  {
   "cell_type": "code",
   "execution_count": 3,
   "metadata": {
    "scrolled": true
   },
   "outputs": [
    {
     "data": {
      "text/plain": [
       "count    729.000000\n",
       "mean       2.548697\n",
       "std        1.866610\n",
       "min        1.000000\n",
       "25%        1.000000\n",
       "50%        2.000000\n",
       "75%        3.000000\n",
       "max       16.000000\n",
       "dtype: float64"
      ]
     },
     "execution_count": 3,
     "metadata": {},
     "output_type": "execute_result"
    }
   ],
   "source": [
    "path_visits = \"visits_data/both_clinics_2018_to_date.csv\"\n",
    "df_visits = pd.read_csv(path_visits, error_bad_lines=False, header=0)\n",
    "df_visits.groupby(df_visits['PatientNumber']).size().describe()"
   ]
  },
  {
   "cell_type": "code",
   "execution_count": 4,
   "metadata": {},
   "outputs": [
    {
     "data": {
      "text/plain": [
       "count         1858\n",
       "unique         729\n",
       "top       N0067052\n",
       "freq            16\n",
       "Name: PatientNumber, dtype: object"
      ]
     },
     "execution_count": 4,
     "metadata": {},
     "output_type": "execute_result"
    }
   ],
   "source": [
    "df_visits['PatientNumber'].describe()"
   ]
  },
  {
   "cell_type": "code",
   "execution_count": 5,
   "metadata": {},
   "outputs": [
    {
     "name": "stdout",
     "output_type": "stream",
     "text": [
      "        Age(Year)\n",
      "count  407.000000\n",
      "mean    47.592138\n",
      "std     17.355618\n",
      "min     18.000000\n",
      "25%     31.000000\n",
      "50%     49.000000\n",
      "75%     63.000000\n",
      "max     81.000000\n",
      "        Age(Year)\n",
      "count  289.000000\n",
      "mean    50.089965\n",
      "std     17.855288\n",
      "min      4.000000\n",
      "25%     35.000000\n",
      "50%     54.000000\n",
      "75%     63.000000\n",
      "max     95.000000\n"
     ]
    }
   ],
   "source": [
    "df_visits['VisitDateTimeTS'] = pd.to_datetime((df_visits['VisitDateTime']))\n",
    "df_visits['DateFirstKnownTS'] = pd.to_datetime((df_visits['DateFirstKnown']))\n",
    "df_visits.index = df_visits['VisitDateTimeTS']\n",
    "#df_visits = df_visits.iloc[::-1]\n",
    "del df_visits['DateFirstKnown']\n",
    "del df_visits['VisitDateTime']\n",
    "\n",
    "df_visits = df_visits[df_visits['LocationAbbreviation'] != 'TEST']\n",
    "arbor_general_visits = df_visits[df_visits['VisitType'] == 'ARBOR GENERAL VISIT']\n",
    "pfc_general_visits = df_visits[df_visits['VisitType'] == 'PFC NEW PATIENT VISIT']\n",
    "\n",
    "print arbor_general_visits.describe()\n",
    "print pfc_general_visits.describe()"
   ]
  },
  {
   "cell_type": "code",
   "execution_count": 6,
   "metadata": {},
   "outputs": [
    {
     "data": {
      "text/html": [
       "<div>\n",
       "<style scoped>\n",
       "    .dataframe tbody tr th:only-of-type {\n",
       "        vertical-align: middle;\n",
       "    }\n",
       "\n",
       "    .dataframe tbody tr th {\n",
       "        vertical-align: top;\n",
       "    }\n",
       "\n",
       "    .dataframe thead th {\n",
       "        text-align: right;\n",
       "    }\n",
       "</style>\n",
       "<table border=\"1\" class=\"dataframe\">\n",
       "  <thead>\n",
       "    <tr style=\"text-align: right;\">\n",
       "      <th></th>\n",
       "      <th>LocationAbbreviation</th>\n",
       "      <th>PatientNumber</th>\n",
       "      <th>Age(Year)</th>\n",
       "      <th>VisitType</th>\n",
       "      <th>Sex</th>\n",
       "      <th>VisitDateTimeTS</th>\n",
       "      <th>DateFirstKnownTS</th>\n",
       "    </tr>\n",
       "    <tr>\n",
       "      <th>VisitDateTimeTS</th>\n",
       "      <th></th>\n",
       "      <th></th>\n",
       "      <th></th>\n",
       "      <th></th>\n",
       "      <th></th>\n",
       "      <th></th>\n",
       "      <th></th>\n",
       "    </tr>\n",
       "  </thead>\n",
       "  <tbody>\n",
       "    <tr>\n",
       "      <th>2018-01-21 09:15:00</th>\n",
       "      <td>AFC</td>\n",
       "      <td>N0064750</td>\n",
       "      <td>66</td>\n",
       "      <td>ARBOR GENERAL VISIT</td>\n",
       "      <td>F</td>\n",
       "      <td>2018-01-21 09:15:00</td>\n",
       "      <td>2018-01-21 09:00:45</td>\n",
       "    </tr>\n",
       "    <tr>\n",
       "      <th>2018-01-21 09:30:00</th>\n",
       "      <td>AFC</td>\n",
       "      <td>N0058384</td>\n",
       "      <td>51</td>\n",
       "      <td>ARBOR GENERAL VISIT</td>\n",
       "      <td>M</td>\n",
       "      <td>2018-01-21 09:30:00</td>\n",
       "      <td>2016-11-06 09:14:12</td>\n",
       "    </tr>\n",
       "    <tr>\n",
       "      <th>2018-01-21 10:00:00</th>\n",
       "      <td>AFC</td>\n",
       "      <td>N0064743</td>\n",
       "      <td>19</td>\n",
       "      <td>ARBOR GENERAL VISIT</td>\n",
       "      <td>F</td>\n",
       "      <td>2018-01-21 10:00:00</td>\n",
       "      <td>2018-01-21 08:59:30</td>\n",
       "    </tr>\n",
       "    <tr>\n",
       "      <th>2018-01-21 10:30:00</th>\n",
       "      <td>AFC</td>\n",
       "      <td>N0014256</td>\n",
       "      <td>67</td>\n",
       "      <td>ARBOR GENERAL VISIT</td>\n",
       "      <td>F</td>\n",
       "      <td>2018-01-21 10:30:00</td>\n",
       "      <td>2012-05-27 09:42:32</td>\n",
       "    </tr>\n",
       "    <tr>\n",
       "      <th>2018-01-21 10:45:00</th>\n",
       "      <td>AFC</td>\n",
       "      <td>N0064775</td>\n",
       "      <td>64</td>\n",
       "      <td>ARBOR GENERAL VISIT</td>\n",
       "      <td>F</td>\n",
       "      <td>2018-01-21 10:45:00</td>\n",
       "      <td>2018-01-21 09:25:35</td>\n",
       "    </tr>\n",
       "  </tbody>\n",
       "</table>\n",
       "</div>"
      ],
      "text/plain": [
       "                    LocationAbbreviation PatientNumber  Age(Year)  \\\n",
       "VisitDateTimeTS                                                     \n",
       "2018-01-21 09:15:00                  AFC      N0064750         66   \n",
       "2018-01-21 09:30:00                  AFC      N0058384         51   \n",
       "2018-01-21 10:00:00                  AFC      N0064743         19   \n",
       "2018-01-21 10:30:00                  AFC      N0014256         67   \n",
       "2018-01-21 10:45:00                  AFC      N0064775         64   \n",
       "\n",
       "                               VisitType Sex     VisitDateTimeTS  \\\n",
       "VisitDateTimeTS                                                    \n",
       "2018-01-21 09:15:00  ARBOR GENERAL VISIT   F 2018-01-21 09:15:00   \n",
       "2018-01-21 09:30:00  ARBOR GENERAL VISIT   M 2018-01-21 09:30:00   \n",
       "2018-01-21 10:00:00  ARBOR GENERAL VISIT   F 2018-01-21 10:00:00   \n",
       "2018-01-21 10:30:00  ARBOR GENERAL VISIT   F 2018-01-21 10:30:00   \n",
       "2018-01-21 10:45:00  ARBOR GENERAL VISIT   F 2018-01-21 10:45:00   \n",
       "\n",
       "                       DateFirstKnownTS  \n",
       "VisitDateTimeTS                          \n",
       "2018-01-21 09:15:00 2018-01-21 09:00:45  \n",
       "2018-01-21 09:30:00 2016-11-06 09:14:12  \n",
       "2018-01-21 10:00:00 2018-01-21 08:59:30  \n",
       "2018-01-21 10:30:00 2012-05-27 09:42:32  \n",
       "2018-01-21 10:45:00 2018-01-21 09:25:35  "
      ]
     },
     "execution_count": 6,
     "metadata": {},
     "output_type": "execute_result"
    }
   ],
   "source": [
    "arbor_general_visits.head(5)"
   ]
  },
  {
   "cell_type": "markdown",
   "metadata": {},
   "source": [
    "Let's take a look and make sure we're looking at the right stuff"
   ]
  },
  {
   "cell_type": "code",
   "execution_count": 7,
   "metadata": {},
   "outputs": [],
   "source": [
    "def temporal_distribution(df, ts_name = 'ts'):\n",
    "    '''\n",
    "\n",
    "    '''\n",
    "    time_gb = df.groupby(df[ts_name].dt.month)\n",
    "    plt.figure()\n",
    "    time_gb.plot()\n",
    "    plt.show()\n"
   ]
  },
  {
   "cell_type": "code",
   "execution_count": 8,
   "metadata": {},
   "outputs": [
    {
     "data": {
      "text/plain": [
       "F    0.479115\n",
       "M    0.407862\n",
       "U    0.113022\n",
       "Name: Sex, dtype: float64"
      ]
     },
     "execution_count": 8,
     "metadata": {},
     "output_type": "execute_result"
    }
   ],
   "source": [
    "arbor_general_visits['Sex'].value_counts(normalize=True)"
   ]
  },
  {
   "cell_type": "code",
   "execution_count": 9,
   "metadata": {},
   "outputs": [
    {
     "data": {
      "text/plain": [
       "F    0.529412\n",
       "M    0.401384\n",
       "U    0.069204\n",
       "Name: Sex, dtype: float64"
      ]
     },
     "execution_count": 9,
     "metadata": {},
     "output_type": "execute_result"
    }
   ],
   "source": [
    "pfc_general_visits['Sex'].value_counts(normalize=True)"
   ]
  },
  {
   "cell_type": "code",
   "execution_count": 10,
   "metadata": {},
   "outputs": [
    {
     "data": {
      "text/plain": [
       "(62.1, 68.4]      66\n",
       "(55.8, 62.1]      56\n",
       "(17.936, 24.3]    49\n",
       "(30.6, 36.9]      46\n",
       "(24.3, 30.6]      42\n",
       "(43.2, 49.5]      36\n",
       "(36.9, 43.2]      36\n",
       "(49.5, 55.8]      33\n",
       "(68.4, 74.7]      30\n",
       "(74.7, 81.0]      13\n",
       "Name: Age(Year), dtype: int64"
      ]
     },
     "execution_count": 10,
     "metadata": {},
     "output_type": "execute_result"
    }
   ],
   "source": [
    "arbor_general_visits['Age(Year)'].value_counts(bins=10)"
   ]
  },
  {
   "cell_type": "code",
   "execution_count": 11,
   "metadata": {},
   "outputs": [
    {
     "data": {
      "text/plain": [
       "(58.6, 67.7]     67\n",
       "(49.5, 58.6]     57\n",
       "(22.2, 31.3]     50\n",
       "(40.4, 49.5]     31\n",
       "(67.7, 76.8]     29\n",
       "(31.3, 40.4]     27\n",
       "(13.1, 22.2]     12\n",
       "(76.8, 85.9]     11\n",
       "(85.9, 95.0]      3\n",
       "(3.908, 13.1]     2\n",
       "Name: Age(Year), dtype: int64"
      ]
     },
     "execution_count": 11,
     "metadata": {},
     "output_type": "execute_result"
    }
   ],
   "source": [
    "pfc_general_visits['Age(Year)'].value_counts(bins=10)"
   ]
  },
  {
   "cell_type": "code",
   "execution_count": 12,
   "metadata": {},
   "outputs": [
    {
     "data": {
      "text/html": [
       "<div>\n",
       "<style scoped>\n",
       "    .dataframe tbody tr th:only-of-type {\n",
       "        vertical-align: middle;\n",
       "    }\n",
       "\n",
       "    .dataframe tbody tr th {\n",
       "        vertical-align: top;\n",
       "    }\n",
       "\n",
       "    .dataframe thead th {\n",
       "        text-align: right;\n",
       "    }\n",
       "</style>\n",
       "<table border=\"1\" class=\"dataframe\">\n",
       "  <thead>\n",
       "    <tr style=\"text-align: right;\">\n",
       "      <th></th>\n",
       "      <th>LocationAbbreviation</th>\n",
       "      <th>PatientNumber</th>\n",
       "      <th>Age(Year)</th>\n",
       "      <th>VisitType</th>\n",
       "      <th>Sex</th>\n",
       "      <th>VisitDateTimeTS</th>\n",
       "      <th>DateFirstKnownTS</th>\n",
       "    </tr>\n",
       "    <tr>\n",
       "      <th>VisitDateTimeTS</th>\n",
       "      <th></th>\n",
       "      <th></th>\n",
       "      <th></th>\n",
       "      <th></th>\n",
       "      <th></th>\n",
       "      <th></th>\n",
       "      <th></th>\n",
       "    </tr>\n",
       "  </thead>\n",
       "  <tbody>\n",
       "    <tr>\n",
       "      <th>2018-05-23 09:30:00</th>\n",
       "      <td>PFC</td>\n",
       "      <td>N0039583</td>\n",
       "      <td>4</td>\n",
       "      <td>PFC NEW PATIENT VISIT</td>\n",
       "      <td>U</td>\n",
       "      <td>2018-05-23 09:30:00</td>\n",
       "      <td>2014-06-29 11:51:57</td>\n",
       "    </tr>\n",
       "    <tr>\n",
       "      <th>2018-07-05 10:00:00</th>\n",
       "      <td>PFC</td>\n",
       "      <td>N0041335</td>\n",
       "      <td>4</td>\n",
       "      <td>PFC NEW PATIENT VISIT</td>\n",
       "      <td>F</td>\n",
       "      <td>2018-07-05 10:00:00</td>\n",
       "      <td>2014-08-24 19:51:32</td>\n",
       "    </tr>\n",
       "  </tbody>\n",
       "</table>\n",
       "</div>"
      ],
      "text/plain": [
       "                    LocationAbbreviation PatientNumber  Age(Year)  \\\n",
       "VisitDateTimeTS                                                     \n",
       "2018-05-23 09:30:00                  PFC      N0039583          4   \n",
       "2018-07-05 10:00:00                  PFC      N0041335          4   \n",
       "\n",
       "                                 VisitType Sex     VisitDateTimeTS  \\\n",
       "VisitDateTimeTS                                                      \n",
       "2018-05-23 09:30:00  PFC NEW PATIENT VISIT   U 2018-05-23 09:30:00   \n",
       "2018-07-05 10:00:00  PFC NEW PATIENT VISIT   F 2018-07-05 10:00:00   \n",
       "\n",
       "                       DateFirstKnownTS  \n",
       "VisitDateTimeTS                          \n",
       "2018-05-23 09:30:00 2014-06-29 11:51:57  \n",
       "2018-07-05 10:00:00 2014-08-24 19:51:32  "
      ]
     },
     "execution_count": 12,
     "metadata": {},
     "output_type": "execute_result"
    }
   ],
   "source": [
    "pfc_general_visits[pfc_general_visits['Age(Year)'] < 18]"
   ]
  },
  {
   "cell_type": "code",
   "execution_count": 13,
   "metadata": {},
   "outputs": [],
   "source": [
    "arbor_visits_clean = arbor_general_visits[arbor_general_visits['Age(Year)'] > 18]\n",
    "pfc_visits_clean = pfc_general_visits[pfc_general_visits['Age(Year)'] > 18]"
   ]
  },
  {
   "cell_type": "code",
   "execution_count": 14,
   "metadata": {},
   "outputs": [
    {
     "data": {
      "text/plain": [
       "F    195\n",
       "M    165\n",
       "U     46\n",
       "Name: Sex, dtype: int64"
      ]
     },
     "execution_count": 14,
     "metadata": {},
     "output_type": "execute_result"
    }
   ],
   "source": [
    "arbor_visits_clean['Sex'].value_counts()"
   ]
  },
  {
   "cell_type": "code",
   "execution_count": 15,
   "metadata": {},
   "outputs": [
    {
     "data": {
      "text/plain": [
       "F    152\n",
       "M    116\n",
       "U     19\n",
       "Name: Sex, dtype: int64"
      ]
     },
     "execution_count": 15,
     "metadata": {},
     "output_type": "execute_result"
    }
   ],
   "source": [
    "pfc_visits_clean['Sex'].value_counts()"
   ]
  },
  {
   "cell_type": "code",
   "execution_count": 16,
   "metadata": {},
   "outputs": [
    {
     "data": {
      "text/plain": [
       "(18.936999999999998, 25.2]    58\n",
       "(25.2, 31.4]                  44\n",
       "(31.4, 37.6]                  37\n",
       "(37.6, 43.8]                  33\n",
       "(43.8, 50.0]                  42\n",
       "(50.0, 56.2]                  36\n",
       "(56.2, 62.4]                  47\n",
       "(62.4, 68.6]                  66\n",
       "(68.6, 74.8]                  30\n",
       "(74.8, 81.0]                  13\n",
       "Name: Age(Year), dtype: int64"
      ]
     },
     "execution_count": 16,
     "metadata": {},
     "output_type": "execute_result"
    }
   ],
   "source": [
    "arbor_visits_clean['Age(Year)'].value_counts(sort=False,bins=10)"
   ]
  },
  {
   "cell_type": "code",
   "execution_count": 17,
   "metadata": {},
   "outputs": [
    {
     "data": {
      "text/plain": [
       "<matplotlib.axes._subplots.AxesSubplot at 0x1a18c41250>"
      ]
     },
     "execution_count": 17,
     "metadata": {},
     "output_type": "execute_result"
    },
    {
     "data": {
      "image/png": "[encoded data removed]",
      "text/plain": [
       "<Figure size 432x288 with 1 Axes>"
      ]
     },
     "metadata": {},
     "output_type": "display_data"
    }
   ],
   "source": [
    "arbor_visits_clean['Age(Year)'].value_counts(sort=False,bins=10).plot(kind='bar', title='Arbor Patient Age')"
   ]
  },
  {
   "cell_type": "code",
   "execution_count": 18,
   "metadata": {},
   "outputs": [
    {
     "data": {
      "text/plain": [
       "(18.923, 26.6]    44\n",
       "(26.6, 34.2]      26\n",
       "(34.2, 41.8]      22\n",
       "(41.8, 49.4]      28\n",
       "(49.4, 57.0]      50\n",
       "(57.0, 64.6]      57\n",
       "(64.6, 72.2]      33\n",
       "(72.2, 79.8]      18\n",
       "(79.8, 87.4]       7\n",
       "(87.4, 95.0]       2\n",
       "Name: Age(Year), dtype: int64"
      ]
     },
     "execution_count": 18,
     "metadata": {},
     "output_type": "execute_result"
    }
   ],
   "source": [
    "pfc_visits_clean['Age(Year)'].value_counts(sort=False,bins=10)"
   ]
  },
  {
   "cell_type": "code",
   "execution_count": 19,
   "metadata": {},
   "outputs": [
    {
     "data": {
      "text/plain": [
       "<matplotlib.axes._subplots.AxesSubplot at 0x1a18da65d0>"
      ]
     },
     "execution_count": 19,
     "metadata": {},
     "output_type": "execute_result"
    },
    {
     "data": {
      "image/png": "[encoded data removed]",
      "text/plain": [
       "<Figure size 432x288 with 1 Axes>"
      ]
     },
     "metadata": {},
     "output_type": "display_data"
    }
   ],
   "source": [
    "pfc_visits_clean['Age(Year)'].value_counts(sort=False,bins=10).plot(kind='bar', title='PFC Patient Age')"
   ]
  },
  {
   "cell_type": "code",
   "execution_count": 20,
   "metadata": {},
   "outputs": [
    {
     "data": {
      "text/plain": [
       "count    406.000000\n",
       "mean      47.665025\n",
       "std       17.314551\n",
       "min       19.000000\n",
       "25%       31.250000\n",
       "50%       49.000000\n",
       "75%       63.000000\n",
       "max       81.000000\n",
       "Name: Age(Year), dtype: float64"
      ]
     },
     "execution_count": 20,
     "metadata": {},
     "output_type": "execute_result"
    }
   ],
   "source": [
    "arbor_visits_clean['Age(Year)'].describe()"
   ]
  },
  {
   "cell_type": "code",
   "execution_count": 21,
   "metadata": {},
   "outputs": [
    {
     "data": {
      "text/plain": [
       "count    287.000000\n",
       "mean      50.411150\n",
       "std       17.495203\n",
       "min       19.000000\n",
       "25%       35.000000\n",
       "50%       54.000000\n",
       "75%       63.000000\n",
       "max       95.000000\n",
       "Name: Age(Year), dtype: float64"
      ]
     },
     "execution_count": 21,
     "metadata": {},
     "output_type": "execute_result"
    }
   ],
   "source": [
    "pfc_visits_clean['Age(Year)'].describe()"
   ]
  },
  {
   "cell_type": "code",
   "execution_count": 22,
   "metadata": {},
   "outputs": [
    {
     "data": {
      "text/plain": [
       "count          406\n",
       "unique         351\n",
       "top       N0059372\n",
       "freq             5\n",
       "Name: PatientNumber, dtype: object"
      ]
     },
     "execution_count": 22,
     "metadata": {},
     "output_type": "execute_result"
    }
   ],
   "source": [
    "arbor_visits_clean['PatientNumber'].describe()"
   ]
  },
  {
   "cell_type": "code",
   "execution_count": 23,
   "metadata": {},
   "outputs": [
    {
     "data": {
      "text/plain": [
       "count          287\n",
       "unique         281\n",
       "top       N0067878\n",
       "freq             2\n",
       "Name: PatientNumber, dtype: object"
      ]
     },
     "execution_count": 23,
     "metadata": {},
     "output_type": "execute_result"
    }
   ],
   "source": [
    "pfc_visits_clean['PatientNumber'].describe()"
   ]
  },
  {
   "cell_type": "code",
   "execution_count": 24,
   "metadata": {},
   "outputs": [
    {
     "data": {
      "text/plain": [
       "count    351.000000\n",
       "mean       1.156695\n",
       "std        0.448431\n",
       "min        1.000000\n",
       "25%        1.000000\n",
       "50%        1.000000\n",
       "75%        1.000000\n",
       "max        5.000000\n",
       "dtype: float64"
      ]
     },
     "execution_count": 24,
     "metadata": {},
     "output_type": "execute_result"
    }
   ],
   "source": [
    "arbor_visits_clean.groupby(arbor_visits_clean['PatientNumber']).size().describe()"
   ]
  },
  {
   "cell_type": "code",
   "execution_count": 25,
   "metadata": {},
   "outputs": [
    {
     "data": {
      "text/plain": [
       "count    281.000000\n",
       "mean       1.021352\n",
       "std        0.144814\n",
       "min        1.000000\n",
       "25%        1.000000\n",
       "50%        1.000000\n",
       "75%        1.000000\n",
       "max        2.000000\n",
       "dtype: float64"
      ]
     },
     "execution_count": 25,
     "metadata": {},
     "output_type": "execute_result"
    }
   ],
   "source": [
    "pfc_visits_clean.groupby(pfc_visits_clean['PatientNumber']).size().describe()"
   ]
  },
  {
   "cell_type": "code",
   "execution_count": 26,
   "metadata": {},
   "outputs": [],
   "source": [
    "def get_grouped_data(df, column, group_keys=None, summed=True):\n",
    "    grouped = df.groupby(df[column])\n",
    "    visits_per_group = [] if group_keys is None else np.zeros(len(group_keys))\n",
    "    if group_keys is not None:\n",
    "        for c, group in enumerate(group_keys):\n",
    "            if group in grouped.groups:\n",
    "                visits_per_group[c] = len(grouped.groups[group])\n",
    "    else:\n",
    "        for group in grouped.groups:\n",
    "            visits_per_group.append(len(grouped.groups[group]))\n",
    "        \n",
    "    if summed:\n",
    "        return np.sum(visits_per_group)\n",
    "    else:\n",
    "        return visits_per_group"
   ]
  },
  {
   "cell_type": "code",
   "execution_count": 27,
   "metadata": {},
   "outputs": [],
   "source": [
    "def visits_periodic(df, period='mom', group_keys=None):\n",
    "    \n",
    "    periodic_visits = []\n",
    "    time_points = []\n",
    "    spec_usage_mom = []\n",
    "    \n",
    "    if period == 'mom':\n",
    "        months = [val for val in range(1, 13)]\n",
    "        years = [2017, 2018]\n",
    "        for year in years:\n",
    "            for begin_month in months:\n",
    "                tp1 = (year, begin_month, 1)\n",
    "                tp2 = ()\n",
    "                if begin_month == 12:\n",
    "                    tp2 = (year+1, 1, 1)\n",
    "                else:\n",
    "                    tp2 = (year, begin_month+1, 1)\n",
    "                    \n",
    "                filtered = time_filter(tp1,tp2, df)\n",
    "                \n",
    "                if filtered.values.shape[0] == 0:\n",
    "                    continue\n",
    "                else:\n",
    "                    periodic_visits.append(get_grouped_data(filtered, 'PatientNumber'))\n",
    "                    spec_usage_mom.append(get_grouped_data(filtered, 'VisitType', group_keys = group_keys, summed=False))\n",
    "                    time_points.append(str(begin_month) + '/' + str(year))\n",
    "                    \n",
    "\n",
    "    return (periodic_visits, np.array(spec_usage_mom), time_points)"
   ]
  },
  {
   "cell_type": "code",
   "execution_count": 28,
   "metadata": {},
   "outputs": [
    {
     "name": "stdout",
     "output_type": "stream",
     "text": [
      "406\n",
      "[[ 0.  0.  0. 22.  0.  0.  0.  0.  0.  0.]\n",
      " [ 0.  0.  0. 36.  0.  0.  0.  0.  0.  0.]\n",
      " [ 0.  0.  0. 29.  0.  0.  0.  0.  0.  0.]\n",
      " [ 0.  0.  0. 42.  0.  0.  0.  0.  0.  0.]\n",
      " [ 0.  0.  0. 51.  0.  0.  0.  0.  0.  0.]\n",
      " [ 0.  0.  0. 34.  0.  0.  0.  0.  0.  0.]\n",
      " [ 0.  0.  0. 56.  0.  0.  0.  0.  0.  0.]\n",
      " [ 0.  0.  0. 41.  0.  0.  0.  0.  0.  0.]\n",
      " [ 0.  0.  0. 55.  0.  0.  0.  0.  0.  0.]\n",
      " [ 0.  0.  0. 40.  0.  0.  0.  0.  0.  0.]]\n",
      "['1/2018', '2/2018', '3/2018', '4/2018', '5/2018', '6/2018', '7/2018', '8/2018', '9/2018', '10/2018']\n"
     ]
    },
    {
     "data": {
      "text/html": [
       "<div>\n",
       "<style scoped>\n",
       "    .dataframe tbody tr th:only-of-type {\n",
       "        vertical-align: middle;\n",
       "    }\n",
       "\n",
       "    .dataframe tbody tr th {\n",
       "        vertical-align: top;\n",
       "    }\n",
       "\n",
       "    .dataframe thead th {\n",
       "        text-align: right;\n",
       "    }\n",
       "</style>\n",
       "<table border=\"1\" class=\"dataframe\">\n",
       "  <thead>\n",
       "    <tr style=\"text-align: right;\">\n",
       "      <th></th>\n",
       "      <th>ARBOR CARDIOLOGY</th>\n",
       "      <th>ARBOR DERMATOLOGY</th>\n",
       "      <th>ARBOR FOLLOW-UP VISIT</th>\n",
       "      <th>ARBOR GENERAL VISIT</th>\n",
       "      <th>ARBOR MENTAL HEALTH</th>\n",
       "      <th>ARBOR MSK</th>\n",
       "      <th>ARBOR NEUROLOGY</th>\n",
       "      <th>ARBOR OPHTHALMOLOGY</th>\n",
       "      <th>ARBOR WOMEN'S HEALTH</th>\n",
       "      <th>LAB FOLLOW-UP NOTE</th>\n",
       "    </tr>\n",
       "  </thead>\n",
       "  <tbody>\n",
       "    <tr>\n",
       "      <th>1/2018</th>\n",
       "      <td>0.0</td>\n",
       "      <td>0.0</td>\n",
       "      <td>0.0</td>\n",
       "      <td>22.0</td>\n",
       "      <td>0.0</td>\n",
       "      <td>0.0</td>\n",
       "      <td>0.0</td>\n",
       "      <td>0.0</td>\n",
       "      <td>0.0</td>\n",
       "      <td>0.0</td>\n",
       "    </tr>\n",
       "    <tr>\n",
       "      <th>2/2018</th>\n",
       "      <td>0.0</td>\n",
       "      <td>0.0</td>\n",
       "      <td>0.0</td>\n",
       "      <td>36.0</td>\n",
       "      <td>0.0</td>\n",
       "      <td>0.0</td>\n",
       "      <td>0.0</td>\n",
       "      <td>0.0</td>\n",
       "      <td>0.0</td>\n",
       "      <td>0.0</td>\n",
       "    </tr>\n",
       "    <tr>\n",
       "      <th>3/2018</th>\n",
       "      <td>0.0</td>\n",
       "      <td>0.0</td>\n",
       "      <td>0.0</td>\n",
       "      <td>29.0</td>\n",
       "      <td>0.0</td>\n",
       "      <td>0.0</td>\n",
       "      <td>0.0</td>\n",
       "      <td>0.0</td>\n",
       "      <td>0.0</td>\n",
       "      <td>0.0</td>\n",
       "    </tr>\n",
       "    <tr>\n",
       "      <th>4/2018</th>\n",
       "      <td>0.0</td>\n",
       "      <td>0.0</td>\n",
       "      <td>0.0</td>\n",
       "      <td>42.0</td>\n",
       "      <td>0.0</td>\n",
       "      <td>0.0</td>\n",
       "      <td>0.0</td>\n",
       "      <td>0.0</td>\n",
       "      <td>0.0</td>\n",
       "      <td>0.0</td>\n",
       "    </tr>\n",
       "    <tr>\n",
       "      <th>5/2018</th>\n",
       "      <td>0.0</td>\n",
       "      <td>0.0</td>\n",
       "      <td>0.0</td>\n",
       "      <td>51.0</td>\n",
       "      <td>0.0</td>\n",
       "      <td>0.0</td>\n",
       "      <td>0.0</td>\n",
       "      <td>0.0</td>\n",
       "      <td>0.0</td>\n",
       "      <td>0.0</td>\n",
       "    </tr>\n",
       "    <tr>\n",
       "      <th>6/2018</th>\n",
       "      <td>0.0</td>\n",
       "      <td>0.0</td>\n",
       "      <td>0.0</td>\n",
       "      <td>34.0</td>\n",
       "      <td>0.0</td>\n",
       "      <td>0.0</td>\n",
       "      <td>0.0</td>\n",
       "      <td>0.0</td>\n",
       "      <td>0.0</td>\n",
       "      <td>0.0</td>\n",
       "    </tr>\n",
       "    <tr>\n",
       "      <th>7/2018</th>\n",
       "      <td>0.0</td>\n",
       "      <td>0.0</td>\n",
       "      <td>0.0</td>\n",
       "      <td>56.0</td>\n",
       "      <td>0.0</td>\n",
       "      <td>0.0</td>\n",
       "      <td>0.0</td>\n",
       "      <td>0.0</td>\n",
       "      <td>0.0</td>\n",
       "      <td>0.0</td>\n",
       "    </tr>\n",
       "    <tr>\n",
       "      <th>8/2018</th>\n",
       "      <td>0.0</td>\n",
       "      <td>0.0</td>\n",
       "      <td>0.0</td>\n",
       "      <td>41.0</td>\n",
       "      <td>0.0</td>\n",
       "      <td>0.0</td>\n",
       "      <td>0.0</td>\n",
       "      <td>0.0</td>\n",
       "      <td>0.0</td>\n",
       "      <td>0.0</td>\n",
       "    </tr>\n",
       "    <tr>\n",
       "      <th>9/2018</th>\n",
       "      <td>0.0</td>\n",
       "      <td>0.0</td>\n",
       "      <td>0.0</td>\n",
       "      <td>55.0</td>\n",
       "      <td>0.0</td>\n",
       "      <td>0.0</td>\n",
       "      <td>0.0</td>\n",
       "      <td>0.0</td>\n",
       "      <td>0.0</td>\n",
       "      <td>0.0</td>\n",
       "    </tr>\n",
       "    <tr>\n",
       "      <th>10/2018</th>\n",
       "      <td>0.0</td>\n",
       "      <td>0.0</td>\n",
       "      <td>0.0</td>\n",
       "      <td>40.0</td>\n",
       "      <td>0.0</td>\n",
       "      <td>0.0</td>\n",
       "      <td>0.0</td>\n",
       "      <td>0.0</td>\n",
       "      <td>0.0</td>\n",
       "      <td>0.0</td>\n",
       "    </tr>\n",
       "  </tbody>\n",
       "</table>\n",
       "</div>"
      ],
      "text/plain": [
       "         ARBOR CARDIOLOGY  ARBOR DERMATOLOGY  ARBOR FOLLOW-UP VISIT  \\\n",
       "1/2018                0.0                0.0                    0.0   \n",
       "2/2018                0.0                0.0                    0.0   \n",
       "3/2018                0.0                0.0                    0.0   \n",
       "4/2018                0.0                0.0                    0.0   \n",
       "5/2018                0.0                0.0                    0.0   \n",
       "6/2018                0.0                0.0                    0.0   \n",
       "7/2018                0.0                0.0                    0.0   \n",
       "8/2018                0.0                0.0                    0.0   \n",
       "9/2018                0.0                0.0                    0.0   \n",
       "10/2018               0.0                0.0                    0.0   \n",
       "\n",
       "         ARBOR GENERAL VISIT  ARBOR MENTAL HEALTH  ARBOR MSK  ARBOR NEUROLOGY  \\\n",
       "1/2018                  22.0                  0.0        0.0              0.0   \n",
       "2/2018                  36.0                  0.0        0.0              0.0   \n",
       "3/2018                  29.0                  0.0        0.0              0.0   \n",
       "4/2018                  42.0                  0.0        0.0              0.0   \n",
       "5/2018                  51.0                  0.0        0.0              0.0   \n",
       "6/2018                  34.0                  0.0        0.0              0.0   \n",
       "7/2018                  56.0                  0.0        0.0              0.0   \n",
       "8/2018                  41.0                  0.0        0.0              0.0   \n",
       "9/2018                  55.0                  0.0        0.0              0.0   \n",
       "10/2018                 40.0                  0.0        0.0              0.0   \n",
       "\n",
       "         ARBOR OPHTHALMOLOGY  ARBOR WOMEN'S HEALTH  LAB FOLLOW-UP NOTE  \n",
       "1/2018                   0.0                   0.0                 0.0  \n",
       "2/2018                   0.0                   0.0                 0.0  \n",
       "3/2018                   0.0                   0.0                 0.0  \n",
       "4/2018                   0.0                   0.0                 0.0  \n",
       "5/2018                   0.0                   0.0                 0.0  \n",
       "6/2018                   0.0                   0.0                 0.0  \n",
       "7/2018                   0.0                   0.0                 0.0  \n",
       "8/2018                   0.0                   0.0                 0.0  \n",
       "9/2018                   0.0                   0.0                 0.0  \n",
       "10/2018                  0.0                   0.0                 0.0  "
      ]
     },
     "execution_count": 28,
     "metadata": {},
     "output_type": "execute_result"
    }
   ],
   "source": [
    "arbor_spec_clinics = [\n",
    "    'ARBOR CARDIOLOGY',\n",
    "    'ARBOR DERMATOLOGY',\n",
    "    'ARBOR FOLLOW-UP VISIT',\n",
    "    'ARBOR GENERAL VISIT',\n",
    "    'ARBOR MENTAL HEALTH',\n",
    "    'ARBOR MSK',\n",
    "    'ARBOR NEUROLOGY',\n",
    "    'ARBOR OPHTHALMOLOGY',\n",
    "    \"ARBOR WOMEN'S HEALTH\",\n",
    "    'LAB FOLLOW-UP NOTE'\n",
    "    ]\n",
    "\n",
    "\n",
    "periodic_visits, spec_usage_mom, time_points = visits_periodic(arbor_visits_clean, \n",
    "                                                               group_keys=arbor_spec_clinics)\n",
    "print np.sum(periodic_visits)\n",
    "print spec_usage_mom\n",
    "print time_points\n",
    "\n",
    "arbor_specialty_clinics_df = pd.DataFrame({clinic:spec_usage_mom[:,col_idx] \n",
    "                                     for clinic, col_idx in zip(arbor_spec_clinics, range(spec_usage_mom.shape[1]))\n",
    "                                    }, \n",
    "                                    index = time_points)\n",
    "\n",
    "arbor_specialty_clinics_df.head(12)\n"
   ]
  },
  {
   "cell_type": "code",
   "execution_count": null,
   "metadata": {},
   "outputs": [],
   "source": []
  },
  {
   "cell_type": "code",
   "execution_count": 29,
   "metadata": {},
   "outputs": [
    {
     "data": {
      "text/plain": [
       "(0, 18)"
      ]
     },
     "execution_count": 29,
     "metadata": {},
     "output_type": "execute_result"
    },
    {
     "data": {
      "image/png": "[encoded data removed]",
      "text/plain": [
       "<Figure size 1440x720 with 1 Axes>"
      ]
     },
     "metadata": {},
     "output_type": "display_data"
    }
   ],
   "source": [
    "arbor_date_grouped = arbor_visits_clean.groupby(pd.Grouper(key='VisitDateTimeTS', freq='W-SUN'))\n",
    "fig, ax = plt.subplots(figsize=(20,10))\n",
    "plt.plot(arbor_date_grouped['PatientNumber'].count().index.strftime('%Y-%m-%d'), arbor_date_grouped['PatientNumber'].count().values)\n",
    "plt.xticks(rotation=90)\n",
    "ax.grid(True)\n",
    "plt.title('Number of Arbor General Visits, Week over Week')\n",
    "plt.xlabel('Clinic Date')\n",
    "plt.ylabel('Number of Patients')\n",
    "plt.ylim([0, 18])"
   ]
  },
  {
   "cell_type": "code",
   "execution_count": 30,
   "metadata": {},
   "outputs": [
    {
     "data": {
      "text/plain": [
       "(0, 18)"
      ]
     },
     "execution_count": 30,
     "metadata": {},
     "output_type": "execute_result"
    },
    {
     "data": {
      "image/png": "[encoded data removed]",
      "text/plain": [
       "<Figure size 1440x720 with 1 Axes>"
      ]
     },
     "metadata": {},
     "output_type": "display_data"
    }
   ],
   "source": [
    "pfc_date_grouped = pfc_visits_clean.groupby(pd.Grouper(key='VisitDateTimeTS', freq='W-SUN'))\n",
    "fig, ax = plt.subplots(figsize=(20,10))\n",
    "plt.plot(pfc_date_grouped['PatientNumber'].count().index.strftime('%Y-%m-%d'), pfc_date_grouped['PatientNumber'].count().values)\n",
    "plt.xticks(rotation=90)\n",
    "ax.grid(True)\n",
    "plt.title('Number of PFC New Patient Visits, Week over Week')\n",
    "plt.xlabel('Clinic Date')\n",
    "plt.ylabel('Number of Patients')\n",
    "plt.ylim([0, 18])"
   ]
  },
  {
   "cell_type": "code",
   "execution_count": 31,
   "metadata": {},
   "outputs": [
    {
     "data": {
      "text/plain": [
       "[<matplotlib.axis.XTick at 0x1a19d4c290>,\n",
       " <matplotlib.axis.XTick at 0x1a18da6e50>,\n",
       " <matplotlib.axis.XTick at 0x1a19de1c10>,\n",
       " <matplotlib.axis.XTick at 0x1a1a0e8690>,\n",
       " <matplotlib.axis.XTick at 0x1a1a0e8bd0>,\n",
       " <matplotlib.axis.XTick at 0x1a1a0e8710>,\n",
       " <matplotlib.axis.XTick at 0x1a19dd1dd0>,\n",
       " <matplotlib.axis.XTick at 0x1a1a0ef290>,\n",
       " <matplotlib.axis.XTick at 0x1a1a0ef7d0>,\n",
       " <matplotlib.axis.XTick at 0x1a1a0efd10>,\n",
       " <matplotlib.axis.XTick at 0x1a1a0f7290>,\n",
       " <matplotlib.axis.XTick at 0x1a1a0f77d0>,\n",
       " <matplotlib.axis.XTick at 0x1a1a0f7d10>,\n",
       " <matplotlib.axis.XTick at 0x1a1a101290>,\n",
       " <matplotlib.axis.XTick at 0x1a1a1017d0>,\n",
       " <matplotlib.axis.XTick at 0x1a1a0f7990>,\n",
       " <matplotlib.axis.XTick at 0x1a1a0ef490>,\n",
       " <matplotlib.axis.XTick at 0x1a1a101b90>,\n",
       " <matplotlib.axis.XTick at 0x1a1a101f50>,\n",
       " <matplotlib.axis.XTick at 0x1a1a10e4d0>,\n",
       " <matplotlib.axis.XTick at 0x1a1a10ea10>,\n",
       " <matplotlib.axis.XTick at 0x1a1a10ef50>,\n",
       " <matplotlib.axis.XTick at 0x1a1a1314d0>,\n",
       " <matplotlib.axis.XTick at 0x1a1a131a10>,\n",
       " <matplotlib.axis.XTick at 0x1a1a131f50>,\n",
       " <matplotlib.axis.XTick at 0x1a1a1310d0>,\n",
       " <matplotlib.axis.XTick at 0x1a1a101fd0>,\n",
       " <matplotlib.axis.XTick at 0x1a1a13a1d0>,\n",
       " <matplotlib.axis.XTick at 0x1a1a13a710>,\n",
       " <matplotlib.axis.XTick at 0x1a1a13ac50>,\n",
       " <matplotlib.axis.XTick at 0x1a1a1481d0>,\n",
       " <matplotlib.axis.XTick at 0x1a1a148710>,\n",
       " <matplotlib.axis.XTick at 0x1a1a148c50>,\n",
       " <matplotlib.axis.XTick at 0x1a1a1511d0>,\n",
       " <matplotlib.axis.XTick at 0x1a1a151710>,\n",
       " <matplotlib.axis.XTick at 0x1a1a13ae90>,\n",
       " <matplotlib.axis.XTick at 0x1a1a101c50>,\n",
       " <matplotlib.axis.XTick at 0x1a1a1518d0>,\n",
       " <matplotlib.axis.XTick at 0x1a1a151e10>,\n",
       " <matplotlib.axis.XTick at 0x1a1a15c390>]"
      ]
     },
     "execution_count": 31,
     "metadata": {},
     "output_type": "execute_result"
    },
    {
     "data": {
      "image/png": "[encoded data removed]",
      "text/plain": [
       "<Figure size 720x720 with 1 Axes>"
      ]
     },
     "metadata": {},
     "output_type": "display_data"
    }
   ],
   "source": [
    "sns.set_style(\"white\")\n",
    "fig, ax = plt.subplots(figsize=(10,10))\n",
    "sns.lineplot(data=arbor_date_grouped['PatientNumber'].count(), ax=ax)\n",
    "ax.set_xticks(arbor_date_grouped['PatientNumber'].count().index.strftime('%Y-%m-%d'))"
   ]
  },
  {
   "cell_type": "code",
   "execution_count": 32,
   "metadata": {
    "scrolled": true
   },
   "outputs": [
    {
     "data": {
      "text/plain": [
       "(2018-01-21 02:41:37.499999999, 2018-02-13 03:36:15]    44\n",
       "(2018-02-13 03:36:15, 2018-03-07 21:57:30]              23\n",
       "(2018-03-07 21:57:30, 2018-03-30 16:18:45]              20\n",
       "(2018-03-30 16:18:45, 2018-04-22 10:40:00]              30\n",
       "(2018-04-22 10:40:00, 2018-05-15 05:01:15]              33\n",
       "(2018-05-15 05:01:15, 2018-06-06 23:22:30]              39\n",
       "(2018-06-06 23:22:30, 2018-06-29 17:43:45]              25\n",
       "(2018-06-29 17:43:45, 2018-07-22 12:05:00]              39\n",
       "(2018-07-22 12:05:00, 2018-08-14 06:26:15]              38\n",
       "(2018-08-14 06:26:15, 2018-09-06 00:47:30]              25\n",
       "(2018-09-06 00:47:30, 2018-09-28 19:08:45]              40\n",
       "(2018-09-28 19:08:45, 2018-10-21 13:30:00]              50\n",
       "Name: VisitDateTimeTS, dtype: int64"
      ]
     },
     "execution_count": 32,
     "metadata": {},
     "output_type": "execute_result"
    }
   ],
   "source": [
    "arbor_visits_clean['VisitDateTimeTS'].value_counts(sort=False,bins=12)"
   ]
  },
  {
   "cell_type": "code",
   "execution_count": 33,
   "metadata": {},
   "outputs": [
    {
     "data": {
      "text/plain": [
       "(2018-01-06 01:56:40.799999999, 2018-01-30 06:53:20]    36\n",
       "(2018-01-30 06:53:20, 2018-02-23 04:56:40]              13\n",
       "(2018-02-23 04:56:40, 2018-03-19 03:00:00]              27\n",
       "(2018-03-19 03:00:00, 2018-04-12 01:03:20]              15\n",
       "(2018-04-12 01:03:20, 2018-05-05 23:06:40]              37\n",
       "(2018-05-05 23:06:40, 2018-05-29 21:10:00]              23\n",
       "(2018-05-29 21:10:00, 2018-06-22 19:13:20]              14\n",
       "(2018-06-22 19:13:20, 2018-07-16 17:16:40]              20\n",
       "(2018-07-16 17:16:40, 2018-08-09 15:20:00]              17\n",
       "(2018-08-09 15:20:00, 2018-09-02 13:23:20]              24\n",
       "(2018-09-02 13:23:20, 2018-09-26 11:26:40]              37\n",
       "(2018-09-26 11:26:40, 2018-10-20 09:30:00]              24\n",
       "Name: VisitDateTimeTS, dtype: int64"
      ]
     },
     "execution_count": 33,
     "metadata": {},
     "output_type": "execute_result"
    }
   ],
   "source": [
    "pfc_visits_clean['VisitDateTimeTS'].value_counts(sort=False,bins=12)"
   ]
  },
  {
   "cell_type": "code",
   "execution_count": 34,
   "metadata": {
    "scrolled": true
   },
   "outputs": [
    {
     "name": "stdout",
     "output_type": "stream",
     "text": [
      "PFC NEW PATIENT VISIT\n",
      "287\n"
     ]
    }
   ],
   "source": [
    "grouped = pfc_visits_clean.groupby('VisitType')\n",
    "for g in grouped.groups:\n",
    "    print g\n",
    "    print len(grouped.groups[g])"
   ]
  },
  {
   "cell_type": "code",
   "execution_count": 35,
   "metadata": {},
   "outputs": [
    {
     "data": {
      "text/plain": [
       "VisitType\n",
       "ARBOR GENERAL VISIT    406\n",
       "dtype: int64"
      ]
     },
     "execution_count": 35,
     "metadata": {},
     "output_type": "execute_result"
    }
   ],
   "source": [
    "arbor_visits_clean.groupby('VisitType').size()"
   ]
  },
  {
   "cell_type": "code",
   "execution_count": 36,
   "metadata": {},
   "outputs": [
    {
     "name": "stderr",
     "output_type": "stream",
     "text": [
      "/Users/alex/miniconda2/lib/python2.7/site-packages/ipykernel_launcher.py:11: SettingWithCopyWarning: \n",
      "A value is trying to be set on a copy of a slice from a DataFrame\n",
      "\n",
      "See the caveats in the documentation: http://pandas.pydata.org/pandas-docs/stable/indexing.html#indexing-view-versus-copy\n",
      "  # This is added back by InteractiveShellApp.init_path()\n"
     ]
    }
   ],
   "source": [
    "df_visits = pd.read_csv(path_visits, error_bad_lines=False, header=0)\n",
    "df_visits['VisitDateTimeTS'] = pd.to_datetime((df_visits['VisitDateTime']))\n",
    "df_visits['DateFirstKnownTS'] = pd.to_datetime((df_visits['DateFirstKnown']))\n",
    "df_visits.index = df_visits['VisitDateTimeTS']\n",
    "#df_visits = df_visits.iloc[::-1]\n",
    "del df_visits['DateFirstKnown']\n",
    "del df_visits['VisitDateTime']\n",
    "\n",
    "df_visits = df_visits[df_visits['LocationAbbreviation'] != 'TEST']\n",
    "df_visits_clean = df_visits[df_visits['Age(Year)']> 18]\n",
    "df_visits_clean.sort_values('VisitDateTimeTS', inplace=True)"
   ]
  },
  {
   "cell_type": "code",
   "execution_count": 37,
   "metadata": {},
   "outputs": [
    {
     "data": {
      "text/plain": [
       "VisitType\n",
       "ADMIN CHART REVIEW NOTE             13\n",
       "ARBOR CARDIOLOGY                     7\n",
       "ARBOR DERMATOLOGY                   15\n",
       "ARBOR FAST TRACK TB                  1\n",
       "ARBOR FAST TRACK VACCINE             1\n",
       "ARBOR FOLLOW-UP VISIT               13\n",
       "ARBOR GENERAL VISIT                406\n",
       "ARBOR MENTAL HEALTH                 18\n",
       "ARBOR MSK                           13\n",
       "ARBOR NEUROLOGY                      4\n",
       "ARBOR OPHTHALMOLOGY                 15\n",
       "ARBOR WOMEN'S HEALTH                 6\n",
       "BRIDGE TO CARE NOTE                  6\n",
       "HEALTH EDUCATOR NOTE               108\n",
       "LAB FOLLOW-UP NOTE                 210\n",
       "MISC NOTE                          199\n",
       "PATIENT NAVIGATOR NOTE              89\n",
       "PFC DERMATOLOGY VISIT               23\n",
       "PFC FAST TRACK                      19\n",
       "PFC FAST TRACK VACCINE              12\n",
       "PFC FOLLOW UP VISIT                273\n",
       "PFC HEP CLINIC VISIT                18\n",
       "PFC HEPATITIS VACCINE SCREENING      1\n",
       "PFC MENTAL HEALTH VISIT              8\n",
       "PFC NEW PATIENT VISIT              287\n",
       "PFC OPHTHALMOLOGY VISIT             37\n",
       "PFC WOMEN'S CLINIC VISIT            39\n",
       "PHONE                                5\n",
       "dtype: int64"
      ]
     },
     "execution_count": 37,
     "metadata": {},
     "output_type": "execute_result"
    }
   ],
   "source": [
    "df_visits_clean.groupby('VisitType').size()"
   ]
  },
  {
   "cell_type": "code",
   "execution_count": 38,
   "metadata": {},
   "outputs": [
    {
     "name": "stdout",
     "output_type": "stream",
     "text": [
      "1846\n",
      "[[ 0.  0.  0. 22.  5.  0.  0.  0.  0.  0. 22.  5.  0. 36.  7.  5.  0.]\n",
      " [ 3.  0.  0. 36.  0.  0.  0.  0.  0.  6. 28.  0.  3. 16.  0.  5.  2.]\n",
      " [ 0.  2.  0. 29.  2.  0.  0.  0.  3.  0. 25.  4.  0. 37.  5.  0.  1.]\n",
      " [ 0.  0.  1. 42.  3.  3.  2.  0.  2.  5. 25.  0.  0. 29.  6.  1.  0.]\n",
      " [ 4.  1.  2. 51.  0.  3.  0.  5.  0.  0. 35.  3.  3. 33.  0.  4.  1.]\n",
      " [ 0.  0.  7. 34.  0.  0.  0.  0.  0.  4. 34.  0.  0. 25.  3.  5.  0.]\n",
      " [ 0.  5.  0. 56.  0.  3.  1.  0.  1.  0. 36.  0.  0. 17.  9.  6.  4.]\n",
      " [ 0.  0.  0. 41.  3.  0.  0.  5.  0.  3. 26.  0.  0. 23.  2.  1.  0.]\n",
      " [ 0.  7.  3. 55.  4.  4.  1.  0.  0.  0. 21.  0.  2. 55.  0.  6.  0.]\n",
      " [ 0.  0.  0. 40.  1.  0.  0.  5.  0.  5. 21.  6.  0. 16.  5.  6.  4.]]\n",
      "['1/2018', '2/2018', '3/2018', '4/2018', '5/2018', '6/2018', '7/2018', '8/2018', '9/2018', '10/2018']\n"
     ]
    },
    {
     "data": {
      "text/html": [
       "<div>\n",
       "<style scoped>\n",
       "    .dataframe tbody tr th:only-of-type {\n",
       "        vertical-align: middle;\n",
       "    }\n",
       "\n",
       "    .dataframe tbody tr th {\n",
       "        vertical-align: top;\n",
       "    }\n",
       "\n",
       "    .dataframe thead th {\n",
       "        text-align: right;\n",
       "    }\n",
       "</style>\n",
       "<table border=\"1\" class=\"dataframe\">\n",
       "  <thead>\n",
       "    <tr style=\"text-align: right;\">\n",
       "      <th></th>\n",
       "      <th>ARBOR CARDIOLOGY</th>\n",
       "      <th>ARBOR DERMATOLOGY</th>\n",
       "      <th>ARBOR FOLLOW-UP VISIT</th>\n",
       "      <th>ARBOR GENERAL VISIT</th>\n",
       "      <th>ARBOR MENTAL HEALTH</th>\n",
       "      <th>ARBOR MSK</th>\n",
       "      <th>ARBOR NEUROLOGY</th>\n",
       "      <th>ARBOR OPHTHALMOLOGY</th>\n",
       "      <th>ARBOR WOMEN'S HEALTH</th>\n",
       "      <th>PFC DERMATOLOGY VISIT</th>\n",
       "      <th>PFC FAST TRACK VACCINE</th>\n",
       "      <th>PFC FOLLOW UP VISIT</th>\n",
       "      <th>PFC HEP CLINIC VISIT</th>\n",
       "      <th>PFC MENTAL HEALTH VISIT</th>\n",
       "      <th>PFC NEW PATIENT VISIT</th>\n",
       "      <th>PFC OPHTHALMOLOGY VISIT</th>\n",
       "      <th>PFC WOMEN'S CLINIC VISIT</th>\n",
       "    </tr>\n",
       "  </thead>\n",
       "  <tbody>\n",
       "    <tr>\n",
       "      <th>1/2018</th>\n",
       "      <td>0.0</td>\n",
       "      <td>0.0</td>\n",
       "      <td>0.0</td>\n",
       "      <td>22.0</td>\n",
       "      <td>5.0</td>\n",
       "      <td>0.0</td>\n",
       "      <td>0.0</td>\n",
       "      <td>0.0</td>\n",
       "      <td>0.0</td>\n",
       "      <td>0.0</td>\n",
       "      <td>0.0</td>\n",
       "      <td>22.0</td>\n",
       "      <td>5.0</td>\n",
       "      <td>0.0</td>\n",
       "      <td>36.0</td>\n",
       "      <td>7.0</td>\n",
       "      <td>5.0</td>\n",
       "    </tr>\n",
       "    <tr>\n",
       "      <th>2/2018</th>\n",
       "      <td>3.0</td>\n",
       "      <td>0.0</td>\n",
       "      <td>0.0</td>\n",
       "      <td>36.0</td>\n",
       "      <td>0.0</td>\n",
       "      <td>0.0</td>\n",
       "      <td>0.0</td>\n",
       "      <td>0.0</td>\n",
       "      <td>0.0</td>\n",
       "      <td>6.0</td>\n",
       "      <td>2.0</td>\n",
       "      <td>28.0</td>\n",
       "      <td>0.0</td>\n",
       "      <td>3.0</td>\n",
       "      <td>16.0</td>\n",
       "      <td>0.0</td>\n",
       "      <td>5.0</td>\n",
       "    </tr>\n",
       "    <tr>\n",
       "      <th>3/2018</th>\n",
       "      <td>0.0</td>\n",
       "      <td>2.0</td>\n",
       "      <td>0.0</td>\n",
       "      <td>29.0</td>\n",
       "      <td>2.0</td>\n",
       "      <td>0.0</td>\n",
       "      <td>0.0</td>\n",
       "      <td>0.0</td>\n",
       "      <td>3.0</td>\n",
       "      <td>0.0</td>\n",
       "      <td>1.0</td>\n",
       "      <td>25.0</td>\n",
       "      <td>4.0</td>\n",
       "      <td>0.0</td>\n",
       "      <td>37.0</td>\n",
       "      <td>5.0</td>\n",
       "      <td>0.0</td>\n",
       "    </tr>\n",
       "    <tr>\n",
       "      <th>4/2018</th>\n",
       "      <td>0.0</td>\n",
       "      <td>0.0</td>\n",
       "      <td>1.0</td>\n",
       "      <td>42.0</td>\n",
       "      <td>3.0</td>\n",
       "      <td>3.0</td>\n",
       "      <td>2.0</td>\n",
       "      <td>0.0</td>\n",
       "      <td>2.0</td>\n",
       "      <td>5.0</td>\n",
       "      <td>0.0</td>\n",
       "      <td>25.0</td>\n",
       "      <td>0.0</td>\n",
       "      <td>0.0</td>\n",
       "      <td>29.0</td>\n",
       "      <td>6.0</td>\n",
       "      <td>1.0</td>\n",
       "    </tr>\n",
       "    <tr>\n",
       "      <th>5/2018</th>\n",
       "      <td>4.0</td>\n",
       "      <td>1.0</td>\n",
       "      <td>2.0</td>\n",
       "      <td>51.0</td>\n",
       "      <td>0.0</td>\n",
       "      <td>3.0</td>\n",
       "      <td>0.0</td>\n",
       "      <td>5.0</td>\n",
       "      <td>0.0</td>\n",
       "      <td>0.0</td>\n",
       "      <td>1.0</td>\n",
       "      <td>35.0</td>\n",
       "      <td>3.0</td>\n",
       "      <td>3.0</td>\n",
       "      <td>33.0</td>\n",
       "      <td>0.0</td>\n",
       "      <td>4.0</td>\n",
       "    </tr>\n",
       "    <tr>\n",
       "      <th>6/2018</th>\n",
       "      <td>0.0</td>\n",
       "      <td>0.0</td>\n",
       "      <td>7.0</td>\n",
       "      <td>34.0</td>\n",
       "      <td>0.0</td>\n",
       "      <td>0.0</td>\n",
       "      <td>0.0</td>\n",
       "      <td>0.0</td>\n",
       "      <td>0.0</td>\n",
       "      <td>4.0</td>\n",
       "      <td>0.0</td>\n",
       "      <td>34.0</td>\n",
       "      <td>0.0</td>\n",
       "      <td>0.0</td>\n",
       "      <td>25.0</td>\n",
       "      <td>3.0</td>\n",
       "      <td>5.0</td>\n",
       "    </tr>\n",
       "    <tr>\n",
       "      <th>7/2018</th>\n",
       "      <td>0.0</td>\n",
       "      <td>5.0</td>\n",
       "      <td>0.0</td>\n",
       "      <td>56.0</td>\n",
       "      <td>0.0</td>\n",
       "      <td>3.0</td>\n",
       "      <td>1.0</td>\n",
       "      <td>0.0</td>\n",
       "      <td>1.0</td>\n",
       "      <td>0.0</td>\n",
       "      <td>4.0</td>\n",
       "      <td>36.0</td>\n",
       "      <td>0.0</td>\n",
       "      <td>0.0</td>\n",
       "      <td>17.0</td>\n",
       "      <td>9.0</td>\n",
       "      <td>6.0</td>\n",
       "    </tr>\n",
       "    <tr>\n",
       "      <th>8/2018</th>\n",
       "      <td>0.0</td>\n",
       "      <td>0.0</td>\n",
       "      <td>0.0</td>\n",
       "      <td>41.0</td>\n",
       "      <td>3.0</td>\n",
       "      <td>0.0</td>\n",
       "      <td>0.0</td>\n",
       "      <td>5.0</td>\n",
       "      <td>0.0</td>\n",
       "      <td>3.0</td>\n",
       "      <td>0.0</td>\n",
       "      <td>26.0</td>\n",
       "      <td>0.0</td>\n",
       "      <td>0.0</td>\n",
       "      <td>23.0</td>\n",
       "      <td>2.0</td>\n",
       "      <td>1.0</td>\n",
       "    </tr>\n",
       "    <tr>\n",
       "      <th>9/2018</th>\n",
       "      <td>0.0</td>\n",
       "      <td>7.0</td>\n",
       "      <td>3.0</td>\n",
       "      <td>55.0</td>\n",
       "      <td>4.0</td>\n",
       "      <td>4.0</td>\n",
       "      <td>1.0</td>\n",
       "      <td>0.0</td>\n",
       "      <td>0.0</td>\n",
       "      <td>0.0</td>\n",
       "      <td>0.0</td>\n",
       "      <td>21.0</td>\n",
       "      <td>0.0</td>\n",
       "      <td>2.0</td>\n",
       "      <td>55.0</td>\n",
       "      <td>0.0</td>\n",
       "      <td>6.0</td>\n",
       "    </tr>\n",
       "    <tr>\n",
       "      <th>10/2018</th>\n",
       "      <td>0.0</td>\n",
       "      <td>0.0</td>\n",
       "      <td>0.0</td>\n",
       "      <td>40.0</td>\n",
       "      <td>1.0</td>\n",
       "      <td>0.0</td>\n",
       "      <td>0.0</td>\n",
       "      <td>5.0</td>\n",
       "      <td>0.0</td>\n",
       "      <td>5.0</td>\n",
       "      <td>4.0</td>\n",
       "      <td>21.0</td>\n",
       "      <td>6.0</td>\n",
       "      <td>0.0</td>\n",
       "      <td>16.0</td>\n",
       "      <td>5.0</td>\n",
       "      <td>6.0</td>\n",
       "    </tr>\n",
       "  </tbody>\n",
       "</table>\n",
       "</div>"
      ],
      "text/plain": [
       "         ARBOR CARDIOLOGY  ARBOR DERMATOLOGY  ARBOR FOLLOW-UP VISIT  \\\n",
       "1/2018                0.0                0.0                    0.0   \n",
       "2/2018                3.0                0.0                    0.0   \n",
       "3/2018                0.0                2.0                    0.0   \n",
       "4/2018                0.0                0.0                    1.0   \n",
       "5/2018                4.0                1.0                    2.0   \n",
       "6/2018                0.0                0.0                    7.0   \n",
       "7/2018                0.0                5.0                    0.0   \n",
       "8/2018                0.0                0.0                    0.0   \n",
       "9/2018                0.0                7.0                    3.0   \n",
       "10/2018               0.0                0.0                    0.0   \n",
       "\n",
       "         ARBOR GENERAL VISIT  ARBOR MENTAL HEALTH  ARBOR MSK  ARBOR NEUROLOGY  \\\n",
       "1/2018                  22.0                  5.0        0.0              0.0   \n",
       "2/2018                  36.0                  0.0        0.0              0.0   \n",
       "3/2018                  29.0                  2.0        0.0              0.0   \n",
       "4/2018                  42.0                  3.0        3.0              2.0   \n",
       "5/2018                  51.0                  0.0        3.0              0.0   \n",
       "6/2018                  34.0                  0.0        0.0              0.0   \n",
       "7/2018                  56.0                  0.0        3.0              1.0   \n",
       "8/2018                  41.0                  3.0        0.0              0.0   \n",
       "9/2018                  55.0                  4.0        4.0              1.0   \n",
       "10/2018                 40.0                  1.0        0.0              0.0   \n",
       "\n",
       "         ARBOR OPHTHALMOLOGY  ARBOR WOMEN'S HEALTH  PFC DERMATOLOGY VISIT  \\\n",
       "1/2018                   0.0                   0.0                    0.0   \n",
       "2/2018                   0.0                   0.0                    6.0   \n",
       "3/2018                   0.0                   3.0                    0.0   \n",
       "4/2018                   0.0                   2.0                    5.0   \n",
       "5/2018                   5.0                   0.0                    0.0   \n",
       "6/2018                   0.0                   0.0                    4.0   \n",
       "7/2018                   0.0                   1.0                    0.0   \n",
       "8/2018                   5.0                   0.0                    3.0   \n",
       "9/2018                   0.0                   0.0                    0.0   \n",
       "10/2018                  5.0                   0.0                    5.0   \n",
       "\n",
       "         PFC FAST TRACK VACCINE  PFC FOLLOW UP VISIT  PFC HEP CLINIC VISIT  \\\n",
       "1/2018                      0.0                 22.0                   5.0   \n",
       "2/2018                      2.0                 28.0                   0.0   \n",
       "3/2018                      1.0                 25.0                   4.0   \n",
       "4/2018                      0.0                 25.0                   0.0   \n",
       "5/2018                      1.0                 35.0                   3.0   \n",
       "6/2018                      0.0                 34.0                   0.0   \n",
       "7/2018                      4.0                 36.0                   0.0   \n",
       "8/2018                      0.0                 26.0                   0.0   \n",
       "9/2018                      0.0                 21.0                   0.0   \n",
       "10/2018                     4.0                 21.0                   6.0   \n",
       "\n",
       "         PFC MENTAL HEALTH VISIT  PFC NEW PATIENT VISIT  \\\n",
       "1/2018                       0.0                   36.0   \n",
       "2/2018                       3.0                   16.0   \n",
       "3/2018                       0.0                   37.0   \n",
       "4/2018                       0.0                   29.0   \n",
       "5/2018                       3.0                   33.0   \n",
       "6/2018                       0.0                   25.0   \n",
       "7/2018                       0.0                   17.0   \n",
       "8/2018                       0.0                   23.0   \n",
       "9/2018                       2.0                   55.0   \n",
       "10/2018                      0.0                   16.0   \n",
       "\n",
       "         PFC OPHTHALMOLOGY VISIT  PFC WOMEN'S CLINIC VISIT  \n",
       "1/2018                       7.0                       5.0  \n",
       "2/2018                       0.0                       5.0  \n",
       "3/2018                       5.0                       0.0  \n",
       "4/2018                       6.0                       1.0  \n",
       "5/2018                       0.0                       4.0  \n",
       "6/2018                       3.0                       5.0  \n",
       "7/2018                       9.0                       6.0  \n",
       "8/2018                       2.0                       1.0  \n",
       "9/2018                       0.0                       6.0  \n",
       "10/2018                      5.0                       6.0  "
      ]
     },
     "execution_count": 38,
     "metadata": {},
     "output_type": "execute_result"
    }
   ],
   "source": [
    "ALL_SPEC_KEYS = [\n",
    "    'ARBOR CARDIOLOGY',\n",
    "    'ARBOR DERMATOLOGY',\n",
    "    'ARBOR FOLLOW-UP VISIT',\n",
    "    'ARBOR GENERAL VISIT',\n",
    "    'ARBOR MENTAL HEALTH',\n",
    "    'ARBOR MSK',\n",
    "    'ARBOR NEUROLOGY',\n",
    "    'ARBOR OPHTHALMOLOGY',\n",
    "    \"ARBOR WOMEN'S HEALTH\",\n",
    "    'PFC DERMATOLOGY VISIT',\n",
    "    'PFC FOLLOW UP VISIT',\n",
    "    'PFC HEP CLINIC VISIT',\n",
    "    'PFC MENTAL HEALTH VISIT',\n",
    "    'PFC NEW PATIENT VISIT',\n",
    "    'PFC OPHTHALMOLOGY VISIT',\n",
    "    \"PFC WOMEN'S CLINIC VISIT\",\n",
    "    'PFC FAST TRACK VACCINE'\n",
    "]\n",
    "\n",
    "\n",
    "periodic_visits, spec_usage_mom, time_points = visits_periodic(df_visits_clean, \n",
    "                                                               group_keys=ALL_SPEC_KEYS)\n",
    "print np.sum(periodic_visits)\n",
    "print spec_usage_mom\n",
    "print time_points\n",
    "\n",
    "joint_spec_df = pd.DataFrame({clinic:spec_usage_mom[:,col_idx] \n",
    "                                     for clinic, col_idx in zip(ALL_SPEC_KEYS, range(spec_usage_mom.shape[1]))\n",
    "                                    }, \n",
    "                                    index = time_points)\n",
    "\n",
    "joint_spec_df.head(20)\n"
   ]
  },
  {
   "cell_type": "code",
   "execution_count": 39,
   "metadata": {},
   "outputs": [],
   "source": [
    "joint_spec_df.to_csv('joint_spec_clinics.csv')"
   ]
  },
  {
   "cell_type": "code",
   "execution_count": null,
   "metadata": {},
   "outputs": [],
   "source": []
  }
 ],
 "metadata": {
  "kernelspec": {
   "display_name": "Python 2",
   "language": "python",
   "name": "python2"
  },
  "language_info": {
   "codemirror_mode": {
    "name": "ipython",
    "version": 2
   },
   "file_extension": ".py",
   "mimetype": "text/x-python",
   "name": "python",
   "nbconvert_exporter": "python",
   "pygments_lexer": "ipython2",
   "version": "2.7.14"
  }
 },
 "nbformat": 4,
 "nbformat_minor": 2
}
