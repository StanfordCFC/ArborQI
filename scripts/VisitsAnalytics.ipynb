{
 "cells": [
  {
   "cell_type": "markdown",
   "metadata": {},
   "source": [
    "# Playing with the visits table "
   ]
  },
  {
   "cell_type": "markdown",
   "metadata": {},
   "source": [
    "### Alex Lu | Spring Q 17-18  \n",
    "---\n",
    "\n",
    "5/30/2018"
   ]
  },
  {
   "cell_type": "markdown",
   "metadata": {},
   "source": [
    "**OBJECTIVE**\n",
    "\n",
    "---\n",
    "\n",
    "I have been tasked with getting distributions of age, sex, for Arbor and PFC patients over the last year. This notebook examines the age and sex distributions from a visits paradigm (and not a unique'd patients paradigm). "
   ]
  },
  {
   "cell_type": "markdown",
   "metadata": {},
   "source": [
    "First, let's import all of the stuff that we'll need"
   ]
  },
  {
   "cell_type": "code",
   "execution_count": 1,
   "metadata": {},
   "outputs": [],
   "source": [
    "import numpy\n",
    "import pandas as pd\n",
    "import matplotlib.pyplot as plt\n",
    "import csv\n",
    "import seaborn as sns\n",
    "from utils.indicator import *\n",
    "from utils.file_ops import *\n",
    "from datetime import datetime\n",
    "%matplotlib inline"
   ]
  },
  {
   "cell_type": "markdown",
   "metadata": {},
   "source": [
    "We want to filter on the time of visit for longitudinal visualization. First, we should do a conversion on the format of the time string to make it more workable. Then, we're going to make this new 'ts' column the index, and drop the string form VisitDate series. "
   ]
  },
  {
   "cell_type": "code",
   "execution_count": 11,
   "metadata": {},
   "outputs": [],
   "source": [
    "def time_filter(t1, t2, df):\n",
    "    # accepts numerical tuples of form (year, mon, day)\n",
    "    print df.head(3)\n",
    "    bound1 = datetime(*t1)\n",
    "    bound2 = datetime(*t2)\n",
    "    print bound1, bound2\n",
    "    return df[bound1:bound2]"
   ]
  },
  {
   "cell_type": "code",
   "execution_count": 84,
   "metadata": {},
   "outputs": [
    {
     "data": {
      "text/html": [
       "<div>\n",
       "<style scoped>\n",
       "    .dataframe tbody tr th:only-of-type {\n",
       "        vertical-align: middle;\n",
       "    }\n",
       "\n",
       "    .dataframe tbody tr th {\n",
       "        vertical-align: top;\n",
       "    }\n",
       "\n",
       "    .dataframe thead th {\n",
       "        text-align: right;\n",
       "    }\n",
       "</style>\n",
       "<table border=\"1\" class=\"dataframe\">\n",
       "  <thead>\n",
       "    <tr style=\"text-align: right;\">\n",
       "      <th></th>\n",
       "      <th>VisitId</th>\n",
       "      <th>LocationAbbreviation</th>\n",
       "      <th>PatientId</th>\n",
       "      <th>MRN</th>\n",
       "      <th>Age(Year)</th>\n",
       "      <th>VisitType</th>\n",
       "      <th>DateFirstKnown</th>\n",
       "      <th>VisitDateTime</th>\n",
       "      <th>Sex</th>\n",
       "    </tr>\n",
       "  </thead>\n",
       "  <tbody>\n",
       "    <tr>\n",
       "      <th>0</th>\n",
       "      <td>16605</td>\n",
       "      <td>PFC</td>\n",
       "      <td>5244</td>\n",
       "      <td>NaN</td>\n",
       "      <td>52</td>\n",
       "      <td>PFC FAST TRACK</td>\n",
       "      <td>3/12/2016 10:53:40 AM</td>\n",
       "      <td>6/3/2017 9:00:00 AM</td>\n",
       "      <td>U</td>\n",
       "    </tr>\n",
       "    <tr>\n",
       "      <th>1</th>\n",
       "      <td>16604</td>\n",
       "      <td>PFC</td>\n",
       "      <td>5619</td>\n",
       "      <td>NaN</td>\n",
       "      <td>37</td>\n",
       "      <td>PFC MENTAL HEALTH VISIT</td>\n",
       "      <td>9/10/2016 11:31:38 AM</td>\n",
       "      <td>6/3/2017 9:30:00 AM</td>\n",
       "      <td>F</td>\n",
       "    </tr>\n",
       "    <tr>\n",
       "      <th>2</th>\n",
       "      <td>16610</td>\n",
       "      <td>PFC</td>\n",
       "      <td>5982</td>\n",
       "      <td>NaN</td>\n",
       "      <td>54</td>\n",
       "      <td>PFC NEW PATIENT VISIT</td>\n",
       "      <td>6/3/2017 8:08:00 AM</td>\n",
       "      <td>6/3/2017 9:30:00 AM</td>\n",
       "      <td>F</td>\n",
       "    </tr>\n",
       "    <tr>\n",
       "      <th>3</th>\n",
       "      <td>16606</td>\n",
       "      <td>PFC</td>\n",
       "      <td>5983</td>\n",
       "      <td>NaN</td>\n",
       "      <td>66</td>\n",
       "      <td>PFC NEW PATIENT VISIT</td>\n",
       "      <td>6/3/2017 8:10:03 AM</td>\n",
       "      <td>6/3/2017 9:50:00 AM</td>\n",
       "      <td>F</td>\n",
       "    </tr>\n",
       "    <tr>\n",
       "      <th>4</th>\n",
       "      <td>16607</td>\n",
       "      <td>PFC</td>\n",
       "      <td>5984</td>\n",
       "      <td>NaN</td>\n",
       "      <td>48</td>\n",
       "      <td>PFC NEW PATIENT VISIT</td>\n",
       "      <td>6/3/2017 8:10:46 AM</td>\n",
       "      <td>6/3/2017 10:10:00 AM</td>\n",
       "      <td>F</td>\n",
       "    </tr>\n",
       "  </tbody>\n",
       "</table>\n",
       "</div>"
      ],
      "text/plain": [
       "   VisitId LocationAbbreviation  PatientId  MRN  Age(Year)  \\\n",
       "0    16605                  PFC       5244  NaN         52   \n",
       "1    16604                  PFC       5619  NaN         37   \n",
       "2    16610                  PFC       5982  NaN         54   \n",
       "3    16606                  PFC       5983  NaN         66   \n",
       "4    16607                  PFC       5984  NaN         48   \n",
       "\n",
       "                 VisitType         DateFirstKnown         VisitDateTime Sex  \n",
       "0           PFC FAST TRACK  3/12/2016 10:53:40 AM   6/3/2017 9:00:00 AM   U  \n",
       "1  PFC MENTAL HEALTH VISIT  9/10/2016 11:31:38 AM   6/3/2017 9:30:00 AM   F  \n",
       "2    PFC NEW PATIENT VISIT    6/3/2017 8:08:00 AM   6/3/2017 9:30:00 AM   F  \n",
       "3    PFC NEW PATIENT VISIT    6/3/2017 8:10:03 AM   6/3/2017 9:50:00 AM   F  \n",
       "4    PFC NEW PATIENT VISIT    6/3/2017 8:10:46 AM  6/3/2017 10:10:00 AM   F  "
      ]
     },
     "execution_count": 84,
     "metadata": {},
     "output_type": "execute_result"
    }
   ],
   "source": [
    "path_visits = \"data/visits_with_gender.csv\"\n",
    "df_visits = pd.read_csv(path_visits, error_bad_lines=False, header=0)\n",
    "df_visits.head()"
   ]
  },
  {
   "cell_type": "code",
   "execution_count": 85,
   "metadata": {},
   "outputs": [],
   "source": [
    "df_visits['VisitDateTimeTS'] = pd.to_datetime((df_visits['VisitDateTime']))\n",
    "df_visits['DateFirstKnownTS'] = pd.to_datetime((df_visits['DateFirstKnown']))\n",
    "df_visits.index = df_visits['VisitDateTimeTS']\n",
    "#df_visits = df_visits.iloc[::-1]\n",
    "del df_visits['DateFirstKnown']\n",
    "del df_visits['VisitDateTime']\n",
    "del df_visits['MRN']\n",
    "\n",
    "df_visits = df_visits[df_visits['LocationAbbreviation'] != 'TEST']\n",
    "arbor_visits = df_visits[df_visits['LocationAbbreviation'] == 'AFC']\n",
    "pfc_visits = df_visits[df_visits['LocationAbbreviation'] != 'AFC']\n",
    "\n"
   ]
  },
  {
   "cell_type": "markdown",
   "metadata": {},
   "source": [
    "Let's take a look and make sure we're looking at the right stuff"
   ]
  },
  {
   "cell_type": "code",
   "execution_count": 86,
   "metadata": {},
   "outputs": [
    {
     "data": {
      "text/html": [
       "<div>\n",
       "<style scoped>\n",
       "    .dataframe tbody tr th:only-of-type {\n",
       "        vertical-align: middle;\n",
       "    }\n",
       "\n",
       "    .dataframe tbody tr th {\n",
       "        vertical-align: top;\n",
       "    }\n",
       "\n",
       "    .dataframe thead th {\n",
       "        text-align: right;\n",
       "    }\n",
       "</style>\n",
       "<table border=\"1\" class=\"dataframe\">\n",
       "  <thead>\n",
       "    <tr style=\"text-align: right;\">\n",
       "      <th></th>\n",
       "      <th>VisitId</th>\n",
       "      <th>LocationAbbreviation</th>\n",
       "      <th>PatientId</th>\n",
       "      <th>Age(Year)</th>\n",
       "      <th>VisitType</th>\n",
       "      <th>Sex</th>\n",
       "      <th>VisitDateTimeTS</th>\n",
       "      <th>DateFirstKnownTS</th>\n",
       "    </tr>\n",
       "    <tr>\n",
       "      <th>VisitDateTimeTS</th>\n",
       "      <th></th>\n",
       "      <th></th>\n",
       "      <th></th>\n",
       "      <th></th>\n",
       "      <th></th>\n",
       "      <th></th>\n",
       "      <th></th>\n",
       "      <th></th>\n",
       "    </tr>\n",
       "  </thead>\n",
       "  <tbody>\n",
       "    <tr>\n",
       "      <th>2017-07-01 08:50:00</th>\n",
       "      <td>16773</td>\n",
       "      <td>PFC</td>\n",
       "      <td>6035</td>\n",
       "      <td>77</td>\n",
       "      <td>PFC NEW PATIENT VISIT</td>\n",
       "      <td>F</td>\n",
       "      <td>2017-07-01 08:50:00</td>\n",
       "      <td>2017-07-01 08:19:47</td>\n",
       "    </tr>\n",
       "    <tr>\n",
       "      <th>2017-07-01 09:10:00</th>\n",
       "      <td>16772</td>\n",
       "      <td>PFC</td>\n",
       "      <td>6036</td>\n",
       "      <td>77</td>\n",
       "      <td>PFC NEW PATIENT VISIT</td>\n",
       "      <td>M</td>\n",
       "      <td>2017-07-01 09:10:00</td>\n",
       "      <td>2017-07-01 08:21:12</td>\n",
       "    </tr>\n",
       "    <tr>\n",
       "      <th>2017-07-01 09:10:00</th>\n",
       "      <td>16775</td>\n",
       "      <td>PFC</td>\n",
       "      <td>4329</td>\n",
       "      <td>57</td>\n",
       "      <td>PFC FOLLOW UP VISIT</td>\n",
       "      <td>F</td>\n",
       "      <td>2017-07-01 09:10:00</td>\n",
       "      <td>2014-12-20 08:09:08</td>\n",
       "    </tr>\n",
       "    <tr>\n",
       "      <th>2017-07-01 09:30:00</th>\n",
       "      <td>16774</td>\n",
       "      <td>PFC</td>\n",
       "      <td>5393</td>\n",
       "      <td>68</td>\n",
       "      <td>PFC NEW PATIENT VISIT</td>\n",
       "      <td>F</td>\n",
       "      <td>2017-07-01 09:30:00</td>\n",
       "      <td>2016-05-21 09:35:21</td>\n",
       "    </tr>\n",
       "    <tr>\n",
       "      <th>2017-07-01 09:50:00</th>\n",
       "      <td>16776</td>\n",
       "      <td>PFC</td>\n",
       "      <td>3570</td>\n",
       "      <td>44</td>\n",
       "      <td>PFC NEW PATIENT VISIT</td>\n",
       "      <td>M</td>\n",
       "      <td>2017-07-01 09:50:00</td>\n",
       "      <td>2014-03-15 08:00:10</td>\n",
       "    </tr>\n",
       "  </tbody>\n",
       "</table>\n",
       "</div>"
      ],
      "text/plain": [
       "                     VisitId LocationAbbreviation  PatientId  Age(Year)  \\\n",
       "VisitDateTimeTS                                                           \n",
       "2017-07-01 08:50:00    16773                  PFC       6035         77   \n",
       "2017-07-01 09:10:00    16772                  PFC       6036         77   \n",
       "2017-07-01 09:10:00    16775                  PFC       4329         57   \n",
       "2017-07-01 09:30:00    16774                  PFC       5393         68   \n",
       "2017-07-01 09:50:00    16776                  PFC       3570         44   \n",
       "\n",
       "                                 VisitType Sex     VisitDateTimeTS  \\\n",
       "VisitDateTimeTS                                                      \n",
       "2017-07-01 08:50:00  PFC NEW PATIENT VISIT   F 2017-07-01 08:50:00   \n",
       "2017-07-01 09:10:00  PFC NEW PATIENT VISIT   M 2017-07-01 09:10:00   \n",
       "2017-07-01 09:10:00    PFC FOLLOW UP VISIT   F 2017-07-01 09:10:00   \n",
       "2017-07-01 09:30:00  PFC NEW PATIENT VISIT   F 2017-07-01 09:30:00   \n",
       "2017-07-01 09:50:00  PFC NEW PATIENT VISIT   M 2017-07-01 09:50:00   \n",
       "\n",
       "                       DateFirstKnownTS  \n",
       "VisitDateTimeTS                          \n",
       "2017-07-01 08:50:00 2017-07-01 08:19:47  \n",
       "2017-07-01 09:10:00 2017-07-01 08:21:12  \n",
       "2017-07-01 09:10:00 2014-12-20 08:09:08  \n",
       "2017-07-01 09:30:00 2016-05-21 09:35:21  \n",
       "2017-07-01 09:50:00 2014-03-15 08:00:10  "
      ]
     },
     "execution_count": 86,
     "metadata": {},
     "output_type": "execute_result"
    }
   ],
   "source": [
    "df_visits['2017-7'].head(5)"
   ]
  },
  {
   "cell_type": "code",
   "execution_count": 87,
   "metadata": {},
   "outputs": [
    {
     "data": {
      "text/html": [
       "<div>\n",
       "<style scoped>\n",
       "    .dataframe tbody tr th:only-of-type {\n",
       "        vertical-align: middle;\n",
       "    }\n",
       "\n",
       "    .dataframe tbody tr th {\n",
       "        vertical-align: top;\n",
       "    }\n",
       "\n",
       "    .dataframe thead th {\n",
       "        text-align: right;\n",
       "    }\n",
       "</style>\n",
       "<table border=\"1\" class=\"dataframe\">\n",
       "  <thead>\n",
       "    <tr style=\"text-align: right;\">\n",
       "      <th></th>\n",
       "      <th>VisitId</th>\n",
       "      <th>LocationAbbreviation</th>\n",
       "      <th>PatientId</th>\n",
       "      <th>Age(Year)</th>\n",
       "      <th>VisitType</th>\n",
       "      <th>Sex</th>\n",
       "      <th>VisitDateTimeTS</th>\n",
       "      <th>DateFirstKnownTS</th>\n",
       "    </tr>\n",
       "    <tr>\n",
       "      <th>VisitDateTimeTS</th>\n",
       "      <th></th>\n",
       "      <th></th>\n",
       "      <th></th>\n",
       "      <th></th>\n",
       "      <th></th>\n",
       "      <th></th>\n",
       "      <th></th>\n",
       "      <th></th>\n",
       "    </tr>\n",
       "  </thead>\n",
       "  <tbody>\n",
       "    <tr>\n",
       "      <th>2017-06-04 09:30:00</th>\n",
       "      <td>16624</td>\n",
       "      <td>AFC</td>\n",
       "      <td>5988</td>\n",
       "      <td>78</td>\n",
       "      <td>ARBOR GENERAL VISIT</td>\n",
       "      <td>M</td>\n",
       "      <td>2017-06-04 09:30:00</td>\n",
       "      <td>2017-06-04 08:33:26</td>\n",
       "    </tr>\n",
       "    <tr>\n",
       "      <th>2017-06-04 09:45:00</th>\n",
       "      <td>16626</td>\n",
       "      <td>AFC</td>\n",
       "      <td>5989</td>\n",
       "      <td>75</td>\n",
       "      <td>ARBOR GENERAL VISIT</td>\n",
       "      <td>M</td>\n",
       "      <td>2017-06-04 09:45:00</td>\n",
       "      <td>2017-06-04 08:46:12</td>\n",
       "    </tr>\n",
       "    <tr>\n",
       "      <th>2017-06-04 10:00:00</th>\n",
       "      <td>16635</td>\n",
       "      <td>AFC</td>\n",
       "      <td>5990</td>\n",
       "      <td>30</td>\n",
       "      <td>ARBOR GENERAL VISIT</td>\n",
       "      <td>F</td>\n",
       "      <td>2017-06-04 10:00:00</td>\n",
       "      <td>2017-06-04 09:44:53</td>\n",
       "    </tr>\n",
       "    <tr>\n",
       "      <th>2017-06-04 10:11:34</th>\n",
       "      <td>16623</td>\n",
       "      <td>AFC</td>\n",
       "      <td>5145</td>\n",
       "      <td>58</td>\n",
       "      <td>MISC NOTE</td>\n",
       "      <td>F</td>\n",
       "      <td>2017-06-04 10:11:34</td>\n",
       "      <td>2016-01-17 08:41:10</td>\n",
       "    </tr>\n",
       "    <tr>\n",
       "      <th>2017-06-04 10:15:00</th>\n",
       "      <td>16640</td>\n",
       "      <td>AFC</td>\n",
       "      <td>5992</td>\n",
       "      <td>41</td>\n",
       "      <td>ARBOR GENERAL VISIT</td>\n",
       "      <td>F</td>\n",
       "      <td>2017-06-04 10:15:00</td>\n",
       "      <td>2017-06-04 11:10:08</td>\n",
       "    </tr>\n",
       "  </tbody>\n",
       "</table>\n",
       "</div>"
      ],
      "text/plain": [
       "                     VisitId LocationAbbreviation  PatientId  Age(Year)  \\\n",
       "VisitDateTimeTS                                                           \n",
       "2017-06-04 09:30:00    16624                  AFC       5988         78   \n",
       "2017-06-04 09:45:00    16626                  AFC       5989         75   \n",
       "2017-06-04 10:00:00    16635                  AFC       5990         30   \n",
       "2017-06-04 10:11:34    16623                  AFC       5145         58   \n",
       "2017-06-04 10:15:00    16640                  AFC       5992         41   \n",
       "\n",
       "                               VisitType Sex     VisitDateTimeTS  \\\n",
       "VisitDateTimeTS                                                    \n",
       "2017-06-04 09:30:00  ARBOR GENERAL VISIT   M 2017-06-04 09:30:00   \n",
       "2017-06-04 09:45:00  ARBOR GENERAL VISIT   M 2017-06-04 09:45:00   \n",
       "2017-06-04 10:00:00  ARBOR GENERAL VISIT   F 2017-06-04 10:00:00   \n",
       "2017-06-04 10:11:34            MISC NOTE   F 2017-06-04 10:11:34   \n",
       "2017-06-04 10:15:00  ARBOR GENERAL VISIT   F 2017-06-04 10:15:00   \n",
       "\n",
       "                       DateFirstKnownTS  \n",
       "VisitDateTimeTS                          \n",
       "2017-06-04 09:30:00 2017-06-04 08:33:26  \n",
       "2017-06-04 09:45:00 2017-06-04 08:46:12  \n",
       "2017-06-04 10:00:00 2017-06-04 09:44:53  \n",
       "2017-06-04 10:11:34 2016-01-17 08:41:10  \n",
       "2017-06-04 10:15:00 2017-06-04 11:10:08  "
      ]
     },
     "execution_count": 87,
     "metadata": {},
     "output_type": "execute_result"
    }
   ],
   "source": [
    "arbor_visits.head(5)\n"
   ]
  },
  {
   "cell_type": "code",
   "execution_count": 88,
   "metadata": {},
   "outputs": [
    {
     "data": {
      "text/html": [
       "<div>\n",
       "<style scoped>\n",
       "    .dataframe tbody tr th:only-of-type {\n",
       "        vertical-align: middle;\n",
       "    }\n",
       "\n",
       "    .dataframe tbody tr th {\n",
       "        vertical-align: top;\n",
       "    }\n",
       "\n",
       "    .dataframe thead th {\n",
       "        text-align: right;\n",
       "    }\n",
       "</style>\n",
       "<table border=\"1\" class=\"dataframe\">\n",
       "  <thead>\n",
       "    <tr style=\"text-align: right;\">\n",
       "      <th></th>\n",
       "      <th>VisitId</th>\n",
       "      <th>LocationAbbreviation</th>\n",
       "      <th>PatientId</th>\n",
       "      <th>Age(Year)</th>\n",
       "      <th>VisitType</th>\n",
       "      <th>Sex</th>\n",
       "      <th>VisitDateTimeTS</th>\n",
       "      <th>DateFirstKnownTS</th>\n",
       "    </tr>\n",
       "    <tr>\n",
       "      <th>VisitDateTimeTS</th>\n",
       "      <th></th>\n",
       "      <th></th>\n",
       "      <th></th>\n",
       "      <th></th>\n",
       "      <th></th>\n",
       "      <th></th>\n",
       "      <th></th>\n",
       "      <th></th>\n",
       "    </tr>\n",
       "  </thead>\n",
       "  <tbody>\n",
       "    <tr>\n",
       "      <th>2017-06-03 09:00:00</th>\n",
       "      <td>16605</td>\n",
       "      <td>PFC</td>\n",
       "      <td>5244</td>\n",
       "      <td>52</td>\n",
       "      <td>PFC FAST TRACK</td>\n",
       "      <td>U</td>\n",
       "      <td>2017-06-03 09:00:00</td>\n",
       "      <td>2016-03-12 10:53:40</td>\n",
       "    </tr>\n",
       "    <tr>\n",
       "      <th>2017-06-03 09:30:00</th>\n",
       "      <td>16604</td>\n",
       "      <td>PFC</td>\n",
       "      <td>5619</td>\n",
       "      <td>37</td>\n",
       "      <td>PFC MENTAL HEALTH VISIT</td>\n",
       "      <td>F</td>\n",
       "      <td>2017-06-03 09:30:00</td>\n",
       "      <td>2016-09-10 11:31:38</td>\n",
       "    </tr>\n",
       "    <tr>\n",
       "      <th>2017-06-03 09:30:00</th>\n",
       "      <td>16610</td>\n",
       "      <td>PFC</td>\n",
       "      <td>5982</td>\n",
       "      <td>54</td>\n",
       "      <td>PFC NEW PATIENT VISIT</td>\n",
       "      <td>F</td>\n",
       "      <td>2017-06-03 09:30:00</td>\n",
       "      <td>2017-06-03 08:08:00</td>\n",
       "    </tr>\n",
       "    <tr>\n",
       "      <th>2017-06-03 09:50:00</th>\n",
       "      <td>16606</td>\n",
       "      <td>PFC</td>\n",
       "      <td>5983</td>\n",
       "      <td>66</td>\n",
       "      <td>PFC NEW PATIENT VISIT</td>\n",
       "      <td>F</td>\n",
       "      <td>2017-06-03 09:50:00</td>\n",
       "      <td>2017-06-03 08:10:03</td>\n",
       "    </tr>\n",
       "    <tr>\n",
       "      <th>2017-06-03 10:10:00</th>\n",
       "      <td>16607</td>\n",
       "      <td>PFC</td>\n",
       "      <td>5984</td>\n",
       "      <td>48</td>\n",
       "      <td>PFC NEW PATIENT VISIT</td>\n",
       "      <td>F</td>\n",
       "      <td>2017-06-03 10:10:00</td>\n",
       "      <td>2017-06-03 08:10:46</td>\n",
       "    </tr>\n",
       "  </tbody>\n",
       "</table>\n",
       "</div>"
      ],
      "text/plain": [
       "                     VisitId LocationAbbreviation  PatientId  Age(Year)  \\\n",
       "VisitDateTimeTS                                                           \n",
       "2017-06-03 09:00:00    16605                  PFC       5244         52   \n",
       "2017-06-03 09:30:00    16604                  PFC       5619         37   \n",
       "2017-06-03 09:30:00    16610                  PFC       5982         54   \n",
       "2017-06-03 09:50:00    16606                  PFC       5983         66   \n",
       "2017-06-03 10:10:00    16607                  PFC       5984         48   \n",
       "\n",
       "                                   VisitType Sex     VisitDateTimeTS  \\\n",
       "VisitDateTimeTS                                                        \n",
       "2017-06-03 09:00:00           PFC FAST TRACK   U 2017-06-03 09:00:00   \n",
       "2017-06-03 09:30:00  PFC MENTAL HEALTH VISIT   F 2017-06-03 09:30:00   \n",
       "2017-06-03 09:30:00    PFC NEW PATIENT VISIT   F 2017-06-03 09:30:00   \n",
       "2017-06-03 09:50:00    PFC NEW PATIENT VISIT   F 2017-06-03 09:50:00   \n",
       "2017-06-03 10:10:00    PFC NEW PATIENT VISIT   F 2017-06-03 10:10:00   \n",
       "\n",
       "                       DateFirstKnownTS  \n",
       "VisitDateTimeTS                          \n",
       "2017-06-03 09:00:00 2016-03-12 10:53:40  \n",
       "2017-06-03 09:30:00 2016-09-10 11:31:38  \n",
       "2017-06-03 09:30:00 2017-06-03 08:08:00  \n",
       "2017-06-03 09:50:00 2017-06-03 08:10:03  \n",
       "2017-06-03 10:10:00 2017-06-03 08:10:46  "
      ]
     },
     "execution_count": 88,
     "metadata": {},
     "output_type": "execute_result"
    }
   ],
   "source": [
    "pfc_visits.head(5)"
   ]
  },
  {
   "cell_type": "code",
   "execution_count": 89,
   "metadata": {},
   "outputs": [],
   "source": [
    "def temporal_distribution(df, ts_name = 'ts'):\n",
    "    '''\n",
    "\n",
    "    '''\n",
    "    time_gb = df.groupby(df[ts_name].dt.month)\n",
    "    plt.figure()\n",
    "    time_gb.plot()\n",
    "    plt.show()\n"
   ]
  },
  {
   "cell_type": "code",
   "execution_count": 90,
   "metadata": {},
   "outputs": [
    {
     "data": {
      "text/plain": [
       "F    0.504323\n",
       "M    0.387128\n",
       "U    0.108549\n",
       "Name: Sex, dtype: float64"
      ]
     },
     "execution_count": 90,
     "metadata": {},
     "output_type": "execute_result"
    }
   ],
   "source": [
    "arbor_visits['Sex'].value_counts(normalize=True)"
   ]
  },
  {
   "cell_type": "code",
   "execution_count": 91,
   "metadata": {},
   "outputs": [
    {
     "data": {
      "text/plain": [
       "F    0.544834\n",
       "M    0.408382\n",
       "U    0.046784\n",
       "Name: Sex, dtype: float64"
      ]
     },
     "execution_count": 91,
     "metadata": {},
     "output_type": "execute_result"
    }
   ],
   "source": [
    "pfc_visits['Sex'].value_counts(normalize=True)"
   ]
  },
  {
   "cell_type": "code",
   "execution_count": 92,
   "metadata": {},
   "outputs": [
    {
     "data": {
      "text/plain": [
       "(60.2, 68.8]     204\n",
       "(51.6, 60.2]     159\n",
       "(34.4, 43.0]     157\n",
       "(25.8, 34.4]     134\n",
       "(43.0, 51.6]     127\n",
       "(68.8, 77.4]     112\n",
       "(17.2, 25.8]     108\n",
       "(77.4, 86.0]      35\n",
       "(-0.087, 8.6]      5\n",
       "(8.6, 17.2]        0\n",
       "Name: Age(Year), dtype: int64"
      ]
     },
     "execution_count": 92,
     "metadata": {},
     "output_type": "execute_result"
    }
   ],
   "source": [
    "arbor_visits['Age(Year)'].value_counts(bins=10)"
   ]
  },
  {
   "cell_type": "code",
   "execution_count": 93,
   "metadata": {},
   "outputs": [
    {
     "data": {
      "text/plain": [
       "(62.5, 71.0]     199\n",
       "(54.0, 62.5]     196\n",
       "(45.5, 54.0]     196\n",
       "(37.0, 45.5]     114\n",
       "(28.5, 37.0]     111\n",
       "(20.0, 28.5]      87\n",
       "(71.0, 79.5]      59\n",
       "(79.5, 88.0]      46\n",
       "(11.5, 20.0]      14\n",
       "(2.914, 11.5]      4\n",
       "Name: Age(Year), dtype: int64"
      ]
     },
     "execution_count": 93,
     "metadata": {},
     "output_type": "execute_result"
    }
   ],
   "source": [
    "pfc_visits['Age(Year)'].value_counts(bins=10)"
   ]
  },
  {
   "cell_type": "code",
   "execution_count": 94,
   "metadata": {},
   "outputs": [
    {
     "data": {
      "text/html": [
       "<div>\n",
       "<style scoped>\n",
       "    .dataframe tbody tr th:only-of-type {\n",
       "        vertical-align: middle;\n",
       "    }\n",
       "\n",
       "    .dataframe tbody tr th {\n",
       "        vertical-align: top;\n",
       "    }\n",
       "\n",
       "    .dataframe thead th {\n",
       "        text-align: right;\n",
       "    }\n",
       "</style>\n",
       "<table border=\"1\" class=\"dataframe\">\n",
       "  <thead>\n",
       "    <tr style=\"text-align: right;\">\n",
       "      <th></th>\n",
       "      <th>VisitId</th>\n",
       "      <th>LocationAbbreviation</th>\n",
       "      <th>PatientId</th>\n",
       "      <th>Age(Year)</th>\n",
       "      <th>VisitType</th>\n",
       "      <th>Sex</th>\n",
       "      <th>VisitDateTimeTS</th>\n",
       "      <th>DateFirstKnownTS</th>\n",
       "    </tr>\n",
       "    <tr>\n",
       "      <th>VisitDateTimeTS</th>\n",
       "      <th></th>\n",
       "      <th></th>\n",
       "      <th></th>\n",
       "      <th></th>\n",
       "      <th></th>\n",
       "      <th></th>\n",
       "      <th></th>\n",
       "      <th></th>\n",
       "    </tr>\n",
       "  </thead>\n",
       "  <tbody>\n",
       "    <tr>\n",
       "      <th>2017-07-25 22:32:50</th>\n",
       "      <td>16977</td>\n",
       "      <td>REMOTE-PFC</td>\n",
       "      <td>3824</td>\n",
       "      <td>3</td>\n",
       "      <td>BRIDGE TO CARE NOTE</td>\n",
       "      <td>U</td>\n",
       "      <td>2017-07-25 22:32:50</td>\n",
       "      <td>2014-06-29 11:51:57</td>\n",
       "    </tr>\n",
       "    <tr>\n",
       "      <th>2017-08-19 09:33:20</th>\n",
       "      <td>17119</td>\n",
       "      <td>PFC</td>\n",
       "      <td>3999</td>\n",
       "      <td>3</td>\n",
       "      <td>MISC NOTE</td>\n",
       "      <td>F</td>\n",
       "      <td>2017-08-19 09:33:20</td>\n",
       "      <td>2014-08-24 19:51:32</td>\n",
       "    </tr>\n",
       "    <tr>\n",
       "      <th>2018-05-19 12:31:44</th>\n",
       "      <td>18659</td>\n",
       "      <td>REMOTE-PFC</td>\n",
       "      <td>3824</td>\n",
       "      <td>3</td>\n",
       "      <td>PFC FAST TRACK VACCINE</td>\n",
       "      <td>U</td>\n",
       "      <td>2018-05-19 12:31:44</td>\n",
       "      <td>2014-06-29 11:51:57</td>\n",
       "    </tr>\n",
       "    <tr>\n",
       "      <th>2018-05-23 09:30:00</th>\n",
       "      <td>18692</td>\n",
       "      <td>PFC</td>\n",
       "      <td>3824</td>\n",
       "      <td>3</td>\n",
       "      <td>PFC NEW PATIENT VISIT</td>\n",
       "      <td>U</td>\n",
       "      <td>2018-05-23 09:30:00</td>\n",
       "      <td>2014-06-29 11:51:57</td>\n",
       "    </tr>\n",
       "  </tbody>\n",
       "</table>\n",
       "</div>"
      ],
      "text/plain": [
       "                     VisitId LocationAbbreviation  PatientId  Age(Year)  \\\n",
       "VisitDateTimeTS                                                           \n",
       "2017-07-25 22:32:50    16977           REMOTE-PFC       3824          3   \n",
       "2017-08-19 09:33:20    17119                  PFC       3999          3   \n",
       "2018-05-19 12:31:44    18659           REMOTE-PFC       3824          3   \n",
       "2018-05-23 09:30:00    18692                  PFC       3824          3   \n",
       "\n",
       "                                  VisitType Sex     VisitDateTimeTS  \\\n",
       "VisitDateTimeTS                                                       \n",
       "2017-07-25 22:32:50     BRIDGE TO CARE NOTE   U 2017-07-25 22:32:50   \n",
       "2017-08-19 09:33:20               MISC NOTE   F 2017-08-19 09:33:20   \n",
       "2018-05-19 12:31:44  PFC FAST TRACK VACCINE   U 2018-05-19 12:31:44   \n",
       "2018-05-23 09:30:00   PFC NEW PATIENT VISIT   U 2018-05-23 09:30:00   \n",
       "\n",
       "                       DateFirstKnownTS  \n",
       "VisitDateTimeTS                          \n",
       "2017-07-25 22:32:50 2014-06-29 11:51:57  \n",
       "2017-08-19 09:33:20 2014-08-24 19:51:32  \n",
       "2018-05-19 12:31:44 2014-06-29 11:51:57  \n",
       "2018-05-23 09:30:00 2014-06-29 11:51:57  "
      ]
     },
     "execution_count": 94,
     "metadata": {},
     "output_type": "execute_result"
    }
   ],
   "source": [
    "pfc_visits[pfc_visits['Age(Year)'] < 18]"
   ]
  },
  {
   "cell_type": "code",
   "execution_count": 95,
   "metadata": {},
   "outputs": [],
   "source": [
    "arbor_visits_clean = arbor_visits[arbor_visits['Age(Year)'] > 18]\n",
    "pfc_visits_clean = pfc_visits[pfc_visits['Age(Year)'] > 18]"
   ]
  },
  {
   "cell_type": "code",
   "execution_count": 96,
   "metadata": {},
   "outputs": [
    {
     "data": {
      "text/plain": [
       "F    0.500000\n",
       "M    0.391262\n",
       "U    0.108738\n",
       "Name: Sex, dtype: float64"
      ]
     },
     "execution_count": 96,
     "metadata": {},
     "output_type": "execute_result"
    }
   ],
   "source": [
    "arbor_visits_clean['Sex'].value_counts(normalize=True)"
   ]
  },
  {
   "cell_type": "code",
   "execution_count": 97,
   "metadata": {},
   "outputs": [
    {
     "data": {
      "text/plain": [
       "F    0.545544\n",
       "M    0.410382\n",
       "U    0.044074\n",
       "Name: Sex, dtype: float64"
      ]
     },
     "execution_count": 97,
     "metadata": {},
     "output_type": "execute_result"
    }
   ],
   "source": [
    "pfc_visits_clean['Sex'].value_counts(normalize=True)"
   ]
  },
  {
   "cell_type": "code",
   "execution_count": 107,
   "metadata": {},
   "outputs": [
    {
     "data": {
      "text/plain": [
       "(18.932, 25.7]    102\n",
       "(25.7, 32.4]      110\n",
       "(32.4, 39.1]      118\n",
       "(39.1, 45.8]       90\n",
       "(45.8, 52.5]      112\n",
       "(52.5, 59.2]      125\n",
       "(59.2, 65.9]      153\n",
       "(65.9, 72.6]      128\n",
       "(72.6, 79.3]       76\n",
       "(79.3, 86.0]       16\n",
       "Name: Age(Year), dtype: int64"
      ]
     },
     "execution_count": 107,
     "metadata": {},
     "output_type": "execute_result"
    }
   ],
   "source": [
    "arbor_visits_clean['Age(Year)'].value_counts(sort=False,bins=10)"
   ]
  },
  {
   "cell_type": "code",
   "execution_count": 108,
   "metadata": {},
   "outputs": [
    {
     "data": {
      "text/plain": [
       "(18.93, 25.9]     61\n",
       "(25.9, 32.8]      89\n",
       "(32.8, 39.7]      81\n",
       "(39.7, 46.6]     110\n",
       "(46.6, 53.5]     128\n",
       "(53.5, 60.4]     185\n",
       "(60.4, 67.3]     206\n",
       "(67.3, 74.2]      79\n",
       "(74.2, 81.1]      47\n",
       "(81.1, 88.0]      35\n",
       "Name: Age(Year), dtype: int64"
      ]
     },
     "execution_count": 108,
     "metadata": {},
     "output_type": "execute_result"
    }
   ],
   "source": [
    "pfc_visits_clean['Age(Year)'].value_counts(sort=False,bins=10)"
   ]
  },
  {
   "cell_type": "code",
   "execution_count": 98,
   "metadata": {},
   "outputs": [
    {
     "data": {
      "text/html": [
       "<div>\n",
       "<style scoped>\n",
       "    .dataframe tbody tr th:only-of-type {\n",
       "        vertical-align: middle;\n",
       "    }\n",
       "\n",
       "    .dataframe tbody tr th {\n",
       "        vertical-align: top;\n",
       "    }\n",
       "\n",
       "    .dataframe thead th {\n",
       "        text-align: right;\n",
       "    }\n",
       "</style>\n",
       "<table border=\"1\" class=\"dataframe\">\n",
       "  <thead>\n",
       "    <tr style=\"text-align: right;\">\n",
       "      <th></th>\n",
       "      <th>VisitId</th>\n",
       "      <th>PatientId</th>\n",
       "      <th>Age(Year)</th>\n",
       "    </tr>\n",
       "  </thead>\n",
       "  <tbody>\n",
       "    <tr>\n",
       "      <th>count</th>\n",
       "      <td>1030.000000</td>\n",
       "      <td>1030.000000</td>\n",
       "      <td>1030.000000</td>\n",
       "    </tr>\n",
       "    <tr>\n",
       "      <th>mean</th>\n",
       "      <td>17697.190291</td>\n",
       "      <td>5815.876699</td>\n",
       "      <td>50.040777</td>\n",
       "    </tr>\n",
       "    <tr>\n",
       "      <th>std</th>\n",
       "      <td>640.074547</td>\n",
       "      <td>1159.517135</td>\n",
       "      <td>17.046278</td>\n",
       "    </tr>\n",
       "    <tr>\n",
       "      <th>min</th>\n",
       "      <td>16623.000000</td>\n",
       "      <td>259.000000</td>\n",
       "      <td>19.000000</td>\n",
       "    </tr>\n",
       "    <tr>\n",
       "      <th>25%</th>\n",
       "      <td>17145.250000</td>\n",
       "      <td>5990.000000</td>\n",
       "      <td>36.000000</td>\n",
       "    </tr>\n",
       "    <tr>\n",
       "      <th>50%</th>\n",
       "      <td>17711.500000</td>\n",
       "      <td>6161.000000</td>\n",
       "      <td>51.000000</td>\n",
       "    </tr>\n",
       "    <tr>\n",
       "      <th>75%</th>\n",
       "      <td>18251.750000</td>\n",
       "      <td>6373.000000</td>\n",
       "      <td>65.000000</td>\n",
       "    </tr>\n",
       "    <tr>\n",
       "      <th>max</th>\n",
       "      <td>18760.000000</td>\n",
       "      <td>6603.000000</td>\n",
       "      <td>86.000000</td>\n",
       "    </tr>\n",
       "  </tbody>\n",
       "</table>\n",
       "</div>"
      ],
      "text/plain": [
       "            VisitId    PatientId    Age(Year)\n",
       "count   1030.000000  1030.000000  1030.000000\n",
       "mean   17697.190291  5815.876699    50.040777\n",
       "std      640.074547  1159.517135    17.046278\n",
       "min    16623.000000   259.000000    19.000000\n",
       "25%    17145.250000  5990.000000    36.000000\n",
       "50%    17711.500000  6161.000000    51.000000\n",
       "75%    18251.750000  6373.000000    65.000000\n",
       "max    18760.000000  6603.000000    86.000000"
      ]
     },
     "execution_count": 98,
     "metadata": {},
     "output_type": "execute_result"
    }
   ],
   "source": [
    "arbor_visits_clean.describe()"
   ]
  },
  {
   "cell_type": "code",
   "execution_count": 99,
   "metadata": {},
   "outputs": [
    {
     "data": {
      "text/html": [
       "<div>\n",
       "<style scoped>\n",
       "    .dataframe tbody tr th:only-of-type {\n",
       "        vertical-align: middle;\n",
       "    }\n",
       "\n",
       "    .dataframe tbody tr th {\n",
       "        vertical-align: top;\n",
       "    }\n",
       "\n",
       "    .dataframe thead th {\n",
       "        text-align: right;\n",
       "    }\n",
       "</style>\n",
       "<table border=\"1\" class=\"dataframe\">\n",
       "  <thead>\n",
       "    <tr style=\"text-align: right;\">\n",
       "      <th></th>\n",
       "      <th>VisitId</th>\n",
       "      <th>PatientId</th>\n",
       "      <th>Age(Year)</th>\n",
       "    </tr>\n",
       "  </thead>\n",
       "  <tbody>\n",
       "    <tr>\n",
       "      <th>count</th>\n",
       "      <td>1021.000000</td>\n",
       "      <td>1021.000000</td>\n",
       "      <td>1021.000000</td>\n",
       "    </tr>\n",
       "    <tr>\n",
       "      <th>mean</th>\n",
       "      <td>17661.382958</td>\n",
       "      <td>5746.238002</td>\n",
       "      <td>52.674829</td>\n",
       "    </tr>\n",
       "    <tr>\n",
       "      <th>std</th>\n",
       "      <td>613.387081</td>\n",
       "      <td>1262.416677</td>\n",
       "      <td>16.036113</td>\n",
       "    </tr>\n",
       "    <tr>\n",
       "      <th>min</th>\n",
       "      <td>16603.000000</td>\n",
       "      <td>102.000000</td>\n",
       "      <td>19.000000</td>\n",
       "    </tr>\n",
       "    <tr>\n",
       "      <th>25%</th>\n",
       "      <td>17130.000000</td>\n",
       "      <td>5976.000000</td>\n",
       "      <td>41.000000</td>\n",
       "    </tr>\n",
       "    <tr>\n",
       "      <th>50%</th>\n",
       "      <td>17649.000000</td>\n",
       "      <td>6158.000000</td>\n",
       "      <td>54.000000</td>\n",
       "    </tr>\n",
       "    <tr>\n",
       "      <th>75%</th>\n",
       "      <td>18193.000000</td>\n",
       "      <td>6348.000000</td>\n",
       "      <td>64.000000</td>\n",
       "    </tr>\n",
       "    <tr>\n",
       "      <th>max</th>\n",
       "      <td>18719.000000</td>\n",
       "      <td>6592.000000</td>\n",
       "      <td>88.000000</td>\n",
       "    </tr>\n",
       "  </tbody>\n",
       "</table>\n",
       "</div>"
      ],
      "text/plain": [
       "            VisitId    PatientId    Age(Year)\n",
       "count   1021.000000  1021.000000  1021.000000\n",
       "mean   17661.382958  5746.238002    52.674829\n",
       "std      613.387081  1262.416677    16.036113\n",
       "min    16603.000000   102.000000    19.000000\n",
       "25%    17130.000000  5976.000000    41.000000\n",
       "50%    17649.000000  6158.000000    54.000000\n",
       "75%    18193.000000  6348.000000    64.000000\n",
       "max    18719.000000  6592.000000    88.000000"
      ]
     },
     "execution_count": 99,
     "metadata": {},
     "output_type": "execute_result"
    }
   ],
   "source": [
    "pfc_visits_clean.describe()"
   ]
  },
  {
   "cell_type": "code",
   "execution_count": 119,
   "metadata": {},
   "outputs": [
    {
     "data": {
      "text/plain": [
       "<matplotlib.axes._subplots.AxesSubplot at 0x1a11ac2610>"
      ]
     },
     "execution_count": 119,
     "metadata": {},
     "output_type": "execute_result"
    },
    {
     "data": {
      "image/png": "[encoded data removed]",
      "text/plain": [
       "<Figure size 432x288 with 1 Axes>"
      ]
     },
     "metadata": {},
     "output_type": "display_data"
    }
   ],
   "source": [
    "arbor_visits_clean.groupby(arbor_visits_clean['PatientId']).size().plot()"
   ]
  },
  {
   "cell_type": "code",
   "execution_count": 120,
   "metadata": {},
   "outputs": [
    {
     "data": {
      "text/plain": [
       "<matplotlib.axes._subplots.AxesSubplot at 0x1a11a95590>"
      ]
     },
     "execution_count": 120,
     "metadata": {},
     "output_type": "execute_result"
    },
    {
     "data": {
      "image/png": "[encoded data removed]",
      "text/plain": [
       "<Figure size 432x288 with 1 Axes>"
      ]
     },
     "metadata": {},
     "output_type": "display_data"
    }
   ],
   "source": [
    "pfc_visits_clean.groupby(pfc_visits_clean['PatientId']).size().plot()"
   ]
  },
  {
   "cell_type": "code",
   "execution_count": null,
   "metadata": {},
   "outputs": [],
   "source": []
  }
 ],
 "metadata": {
  "kernelspec": {
   "display_name": "Python 2",
   "language": "python",
   "name": "python2"
  },
  "language_info": {
   "codemirror_mode": {
    "name": "ipython",
    "version": 2
   },
   "file_extension": ".py",
   "mimetype": "text/x-python",
   "name": "python",
   "nbconvert_exporter": "python",
   "pygments_lexer": "ipython2",
   "version": "2.7.14"
  }
 },
 "nbformat": 4,
 "nbformat_minor": 2
}
